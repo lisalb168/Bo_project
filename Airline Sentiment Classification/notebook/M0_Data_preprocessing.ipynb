{
 "cells": [
  {
   "cell_type": "markdown",
   "metadata": {},
   "source": [
    "# Table of Contents\n",
    "* [Import and clean data](#Import-and-clean-data)\n",
    "    * [Step 1: Remove hashtags and mentions etc. from the texts](#Step-1:-Remove-hashtags-and-mentions-etc.-from-the-texts)\n",
    "    * [Step 2: Substitute http(s) by blank string](#Step-2:-Substitute-http(s)-by-blank-string)\n",
    "    * [Step 3: Expanding Contractions](#Step-3:-Expanding-Contractions)\n",
    "    * [Step 4: Substitute ASCII and punctuations by blank string](#Step-4:-Substitute-ASCII-and-punctuations-by-blank-string)\n",
    "    * [Step 5: Remove non English words](#Step-5:-Remove-non-English-words)\n",
    "    * [Step 6: Remove stop words and lemmatize](#Step-6:-Remove-stop-words-and-lemmatize)\n",
    "    * [Step 7: Add features other than texts](#Step-7:-Add-features-other-than-texts)\n",
    "* [Data Visualizations](#Data-Visualizations)\n",
    "* [Data Preparation](#Data-Preparation)\n",
    "    * [One-hot encoding](#One-hot-encoding)\n",
    "    * [Drop NaN's](#Drop-NaN's)\n",
    "    * [Drop rows with blank texts](#Drop-rows-with-blank-texts)\n",
    "    * [Train test split](#Train-test-split)\n",
    "    * [Create 5-Fold Validation Indices](#Create-5-Fold-Validation-Indices)"
   ]
  },
  {
   "cell_type": "code",
   "execution_count": 1,
   "metadata": {},
   "outputs": [
    {
     "name": "stdout",
     "output_type": "stream",
     "text": [
      "['.DS_Store', 'data_all.csv']\n"
     ]
    }
   ],
   "source": [
    "import pandas as pd\n",
    "import numpy as np\n",
    "import re\n",
    "import matplotlib.pyplot as plt\n",
    "%matplotlib inline\n",
    "import seaborn as sns\n",
    "# Input data files are available in the \"../data/\" directory.\n",
    "# Running this will list the files in the input directory\n",
    "import os\n",
    "print(os.listdir(\"../data\"))\n",
    "pd.options.display.max_colwidth = 200"
   ]
  },
  {
   "cell_type": "markdown",
   "metadata": {},
   "source": [
    "## Import and clean data"
   ]
  },
  {
   "cell_type": "code",
   "execution_count": 2,
   "metadata": {},
   "outputs": [
    {
     "name": "stdout",
     "output_type": "stream",
     "text": [
      "Full dataset shape:  (14853, 20)\n",
      "Reduced dataset shape:  (14853, 4)\n"
     ]
    },
    {
     "data": {
      "text/html": [
       "<div>\n",
       "<style scoped>\n",
       "    .dataframe tbody tr th:only-of-type {\n",
       "        vertical-align: middle;\n",
       "    }\n",
       "\n",
       "    .dataframe tbody tr th {\n",
       "        vertical-align: top;\n",
       "    }\n",
       "\n",
       "    .dataframe thead th {\n",
       "        text-align: right;\n",
       "    }\n",
       "</style>\n",
       "<table border=\"1\" class=\"dataframe\">\n",
       "  <thead>\n",
       "    <tr style=\"text-align: right;\">\n",
       "      <th></th>\n",
       "      <th>airline_sentiment</th>\n",
       "      <th>retweet_count</th>\n",
       "      <th>text</th>\n",
       "      <th>airline</th>\n",
       "    </tr>\n",
       "  </thead>\n",
       "  <tbody>\n",
       "    <tr>\n",
       "      <th>0</th>\n",
       "      <td>neutral</td>\n",
       "      <td>0.0</td>\n",
       "      <td>@VirginAmerica What @dhepburn said.</td>\n",
       "      <td>Virgin America</td>\n",
       "    </tr>\n",
       "    <tr>\n",
       "      <th>1</th>\n",
       "      <td>positive</td>\n",
       "      <td>0.0</td>\n",
       "      <td>@VirginAmerica plus you've added commercials to the experience... tacky.</td>\n",
       "      <td>Virgin America</td>\n",
       "    </tr>\n",
       "    <tr>\n",
       "      <th>2</th>\n",
       "      <td>neutral</td>\n",
       "      <td>0.0</td>\n",
       "      <td>@VirginAmerica I didn't today... Must mean I need to take another trip!</td>\n",
       "      <td>Virgin America</td>\n",
       "    </tr>\n",
       "    <tr>\n",
       "      <th>3</th>\n",
       "      <td>negative</td>\n",
       "      <td>0.0</td>\n",
       "      <td>@VirginAmerica it's really aggressive to blast obnoxious \"entertainment\" in your guests' faces &amp;amp; they have little recourse</td>\n",
       "      <td>Virgin America</td>\n",
       "    </tr>\n",
       "    <tr>\n",
       "      <th>4</th>\n",
       "      <td>negative</td>\n",
       "      <td>0.0</td>\n",
       "      <td>@VirginAmerica and it's a really big bad thing about it</td>\n",
       "      <td>Virgin America</td>\n",
       "    </tr>\n",
       "    <tr>\n",
       "      <th>5</th>\n",
       "      <td>negative</td>\n",
       "      <td>0.0</td>\n",
       "      <td>@VirginAmerica seriously would pay $30 a flight for seats that didn't have this playing.</td>\n",
       "      <td>Virgin America</td>\n",
       "    </tr>\n",
       "    <tr>\n",
       "      <th>6</th>\n",
       "      <td>NaN</td>\n",
       "      <td>NaN</td>\n",
       "      <td>it's really the only bad thing about flying VA</td>\n",
       "      <td>NaN</td>\n",
       "    </tr>\n",
       "    <tr>\n",
       "      <th>7</th>\n",
       "      <td>positive</td>\n",
       "      <td>0.0</td>\n",
       "      <td>@VirginAmerica yes, nearly every time I fly VX this ‰ЫПear worm‰Ыќ won‰ЫЄt go away :)</td>\n",
       "      <td>Virgin America</td>\n",
       "    </tr>\n",
       "    <tr>\n",
       "      <th>8</th>\n",
       "      <td>neutral</td>\n",
       "      <td>0.0</td>\n",
       "      <td>@VirginAmerica Really missed a prime opportunity for Men Without Hats parody, there. https://t.co/mWpG7grEZP</td>\n",
       "      <td>Virgin America</td>\n",
       "    </tr>\n",
       "    <tr>\n",
       "      <th>9</th>\n",
       "      <td>positive</td>\n",
       "      <td>0.0</td>\n",
       "      <td>@virginamerica Well, I didn't‰Ы_but NOW I DO! :-D</td>\n",
       "      <td>Virgin America</td>\n",
       "    </tr>\n",
       "  </tbody>\n",
       "</table>\n",
       "</div>"
      ],
      "text/plain": [
       "  airline_sentiment  retweet_count  \\\n",
       "0           neutral            0.0   \n",
       "1          positive            0.0   \n",
       "2           neutral            0.0   \n",
       "3          negative            0.0   \n",
       "4          negative            0.0   \n",
       "5          negative            0.0   \n",
       "6               NaN            NaN   \n",
       "7          positive            0.0   \n",
       "8           neutral            0.0   \n",
       "9          positive            0.0   \n",
       "\n",
       "                                                                                                                             text  \\\n",
       "0                                                                                             @VirginAmerica What @dhepburn said.   \n",
       "1                                                        @VirginAmerica plus you've added commercials to the experience... tacky.   \n",
       "2                                                         @VirginAmerica I didn't today... Must mean I need to take another trip!   \n",
       "3  @VirginAmerica it's really aggressive to blast obnoxious \"entertainment\" in your guests' faces &amp; they have little recourse   \n",
       "4                                                                         @VirginAmerica and it's a really big bad thing about it   \n",
       "5                                        @VirginAmerica seriously would pay $30 a flight for seats that didn't have this playing.   \n",
       "6                                                                                  it's really the only bad thing about flying VA   \n",
       "7                                           @VirginAmerica yes, nearly every time I fly VX this ‰ЫПear worm‰Ыќ won‰ЫЄt go away :)   \n",
       "8                    @VirginAmerica Really missed a prime opportunity for Men Without Hats parody, there. https://t.co/mWpG7grEZP   \n",
       "9                                                                               @virginamerica Well, I didn't‰Ы_but NOW I DO! :-D   \n",
       "\n",
       "          airline  \n",
       "0  Virgin America  \n",
       "1  Virgin America  \n",
       "2  Virgin America  \n",
       "3  Virgin America  \n",
       "4  Virgin America  \n",
       "5  Virgin America  \n",
       "6             NaN  \n",
       "7  Virgin America  \n",
       "8  Virgin America  \n",
       "9  Virgin America  "
      ]
     },
     "execution_count": 2,
     "metadata": {},
     "output_type": "execute_result"
    }
   ],
   "source": [
    "airline_data = pd.read_csv(\"../data/data_all.csv\", encoding = 'utf-8')\n",
    "print(\"Full dataset shape: \", airline_data.shape)\n",
    "\n",
    "# Only keep the following features\n",
    "airline_data = airline_data[['airline_sentiment','retweet_count','text','airline']]\n",
    "print(\"Reduced dataset shape: \", airline_data.shape)\n",
    "\n",
    "# print some reviews\n",
    "airline_data.head(10)"
   ]
  },
  {
   "cell_type": "code",
   "execution_count": 3,
   "metadata": {},
   "outputs": [],
   "source": [
    "# Extract labels and text columns\n",
    "labels, texts = airline_data.loc[:,'airline_sentiment'], airline_data.loc[:,'text']"
   ]
  },
  {
   "cell_type": "code",
   "execution_count": 4,
   "metadata": {},
   "outputs": [],
   "source": [
    "# Ignore warning messages\n",
    "import sys\n",
    "\n",
    "if not sys.warnoptions:\n",
    "    import warnings\n",
    "    warnings.simplefilter(\"ignore\")\n",
    "    \n",
    "import warnings\n",
    "warnings.filterwarnings(\"ignore\")\n",
    "\n",
    "# Remove nan text values\n",
    "for i in range(len(texts)):\n",
    "    if type(texts[i])==float:\n",
    "        texts[i] = str(texts[i])\n",
    "\n",
    "for i in range(len(texts)):\n",
    "    if texts[i] == 'nan':\n",
    "        texts[i] = ''"
   ]
  },
  {
   "cell_type": "markdown",
   "metadata": {},
   "source": [
    "### Step 1: Remove hashtags and mentions etc. from the texts"
   ]
  },
  {
   "cell_type": "code",
   "execution_count": 5,
   "metadata": {},
   "outputs": [
    {
     "data": {
      "text/plain": [
       "[' What  said.',\n",
       " \" plus you've added commercials to the experience... tacky.\",\n",
       " \" I didn't today... Must mean I need to take another trip!\",\n",
       " ' it\\'s really aggressive to blast obnoxious \"entertainment\" in your guests\\' faces ; they have little recourse',\n",
       " \" and it's a really big bad thing about it\",\n",
       " \" seriously would pay $30 a flight for seats that didn't have this playing.\",\n",
       " \"it's really the only bad thing about flying VA\",\n",
       " ' yes, nearly every time I fly VX this ‰ЫПear worm‰Ыќ won‰ЫЄt go away :)',\n",
       " ' Really missed a prime opportunity for Men Without Hats parody, there. https://t.co/mWpG7grEZP',\n",
       " \" Well, I didn't‰Ы_but NOW I DO! :-D\"]"
      ]
     },
     "metadata": {},
     "output_type": "display_data"
    }
   ],
   "source": [
    "from nltk.tokenize import regexp_tokenize\n",
    "from nltk.tokenize import TweetTokenizer\n",
    "t_nohash = []\n",
    "pattern2 = r\"([#@&]\\w+)\"\n",
    "for i in range(len(texts)):\n",
    "    t_nohash.append(re.sub(pattern2, '', texts[i]))\n",
    "display(t_nohash[:10])"
   ]
  },
  {
   "cell_type": "markdown",
   "metadata": {},
   "source": [
    "### Step 2: Substitute http(s) by blank string"
   ]
  },
  {
   "cell_type": "code",
   "execution_count": 6,
   "metadata": {},
   "outputs": [
    {
     "data": {
      "text/plain": [
       "[' What  said.',\n",
       " \" plus you've added commercials to the experience... tacky.\",\n",
       " \" I didn't today... Must mean I need to take another trip!\",\n",
       " ' it\\'s really aggressive to blast obnoxious \"entertainment\" in your guests\\' faces ; they have little recourse',\n",
       " \" and it's a really big bad thing about it\"]"
      ]
     },
     "metadata": {},
     "output_type": "display_data"
    },
    {
     "data": {
      "text/plain": [
       "[' What  said.',\n",
       " \" plus you've added commercials to the experience... tacky.\",\n",
       " \" I didn't today... Must mean I need to take another trip!\",\n",
       " ' it\\'s really aggressive to blast obnoxious \"entertainment\" in your guests\\' faces ; they have little recourse',\n",
       " \" and it's a really big bad thing about it\",\n",
       " \" seriously would pay $30 a flight for seats that didn't have this playing.\",\n",
       " \"it's really the only bad thing about flying VA\",\n",
       " ' yes, nearly every time I fly VX this ‰ЫПear worm‰Ыќ won‰ЫЄt go away :)',\n",
       " ' Really missed a prime opportunity for Men Without Hats parody, there. ',\n",
       " \" Well, I didn't‰Ы_but NOW I DO! :-D\"]"
      ]
     },
     "metadata": {},
     "output_type": "display_data"
    }
   ],
   "source": [
    "t_nohttp = []\n",
    "pattern2 = r\"http:\\/\\/.*\"\n",
    "for i in range(len(t_nohash)):\n",
    "    t_nohttp.append(re.sub(pattern2, '', t_nohash[i]))\n",
    "display(t_nohttp[:5])\n",
    "\n",
    "t_nohttps = []\n",
    "pattern2 = r\"https:\\/\\/.*\"\n",
    "for i in range(len(t_nohttp)):\n",
    "    t_nohttps.append(re.sub(pattern2, '', t_nohttp[i]))\n",
    "display(t_nohttps[:10])"
   ]
  },
  {
   "cell_type": "markdown",
   "metadata": {},
   "source": [
    "### Step 3: Expanding Contractions"
   ]
  },
  {
   "cell_type": "code",
   "execution_count": 7,
   "metadata": {},
   "outputs": [],
   "source": [
    "# define common contractions - taken from the following URL\n",
    "# https://github.com/dipanjanS/practical-machine-learning-with-python/blob/master/bonus%20content/nlp%20proven%20approach/contractions.py\n",
    "\n",
    "CONTRACTION_MAP = {\n",
    "\"ain't\": \"is not\",\n",
    "\"aren't\": \"are not\",\n",
    "\"can't\": \"cannot\",\n",
    "\"can't've\": \"cannot have\",\n",
    "\"'cause\": \"because\",\n",
    "\"could've\": \"could have\",\n",
    "\"couldn't\": \"could not\",\n",
    "\"couldn't've\": \"could not have\",\n",
    "\"didn't\": \"did not\",\n",
    "\"doesn't\": \"does not\",\n",
    "\"don't\": \"do not\",\n",
    "\"hadn't\": \"had not\",\n",
    "\"hadn't've\": \"had not have\",\n",
    "\"hasn't\": \"has not\",\n",
    "\"haven't\": \"have not\",\n",
    "\"he'd\": \"he would\",\n",
    "\"he'd've\": \"he would have\",\n",
    "\"he'll\": \"he will\",\n",
    "\"he'll've\": \"he he will have\",\n",
    "\"he's\": \"he is\",\n",
    "\"how'd\": \"how did\",\n",
    "\"how'd'y\": \"how do you\",\n",
    "\"how'll\": \"how will\",\n",
    "\"how's\": \"how is\",\n",
    "\"I'd\": \"I would\",\n",
    "\"I'd've\": \"I would have\",\n",
    "\"I'll\": \"I will\",\n",
    "\"I'll've\": \"I will have\",\n",
    "\"I'm\": \"I am\",\n",
    "\"I've\": \"I have\",\n",
    "\"i'd\": \"i would\",\n",
    "\"i'd've\": \"i would have\",\n",
    "\"i'll\": \"i will\",\n",
    "\"i'll've\": \"i will have\",\n",
    "\"i'm\": \"i am\",\n",
    "\"i've\": \"i have\",\n",
    "\"isn't\": \"is not\",\n",
    "\"it'd\": \"it would\",\n",
    "\"it'd've\": \"it would have\",\n",
    "\"it'll\": \"it will\",\n",
    "\"it'll've\": \"it will have\",\n",
    "\"it's\": \"it is\",\n",
    "\"let's\": \"let us\",\n",
    "\"ma'am\": \"madam\",\n",
    "\"mayn't\": \"may not\",\n",
    "\"might've\": \"might have\",\n",
    "\"mightn't\": \"might not\",\n",
    "\"mightn't've\": \"might not have\",\n",
    "\"must've\": \"must have\",\n",
    "\"mustn't\": \"must not\",\n",
    "\"mustn't've\": \"must not have\",\n",
    "\"needn't\": \"need not\",\n",
    "\"needn't've\": \"need not have\",\n",
    "\"o'clock\": \"of the clock\",\n",
    "\"oughtn't\": \"ought not\",\n",
    "\"oughtn't've\": \"ought not have\",\n",
    "\"shan't\": \"shall not\",\n",
    "\"sha'n't\": \"shall not\",\n",
    "\"shan't've\": \"shall not have\",\n",
    "\"she'd\": \"she would\",\n",
    "\"she'd've\": \"she would have\",\n",
    "\"she'll\": \"she will\",\n",
    "\"she'll've\": \"she will have\",\n",
    "\"she's\": \"she is\",\n",
    "\"should've\": \"should have\",\n",
    "\"shouldn't\": \"should not\",\n",
    "\"shouldn't've\": \"should not have\",\n",
    "\"so've\": \"so have\",\n",
    "\"so's\": \"so as\",\n",
    "\"that'd\": \"that would\",\n",
    "\"that'd've\": \"that would have\",\n",
    "\"that's\": \"that is\",\n",
    "\"there'd\": \"there would\",\n",
    "\"there'd've\": \"there would have\",\n",
    "\"there's\": \"there is\",\n",
    "\"they'd\": \"they would\",\n",
    "\"they'd've\": \"they would have\",\n",
    "\"they'll\": \"they will\",\n",
    "\"they'll've\": \"they will have\",\n",
    "\"they're\": \"they are\",\n",
    "\"they've\": \"they have\",\n",
    "\"to've\": \"to have\",\n",
    "\"wasn't\": \"was not\",\n",
    "\"we'd\": \"we would\",\n",
    "\"we'd've\": \"we would have\",\n",
    "\"we'll\": \"we will\",\n",
    "\"we'll've\": \"we will have\",\n",
    "\"we're\": \"we are\",\n",
    "\"we've\": \"we have\",\n",
    "\"weren't\": \"were not\",\n",
    "\"what'll\": \"what will\",\n",
    "\"what'll've\": \"what will have\",\n",
    "\"what're\": \"what are\",\n",
    "\"what's\": \"what is\",\n",
    "\"what've\": \"what have\",\n",
    "\"when's\": \"when is\",\n",
    "\"when've\": \"when have\",\n",
    "\"where'd\": \"where did\",\n",
    "\"where's\": \"where is\",\n",
    "\"where've\": \"where have\",\n",
    "\"who'll\": \"who will\",\n",
    "\"who'll've\": \"who will have\",\n",
    "\"who's\": \"who is\",\n",
    "\"who've\": \"who have\",\n",
    "\"why's\": \"why is\",\n",
    "\"why've\": \"why have\",\n",
    "\"will've\": \"will have\",\n",
    "\"won't\": \"will not\",\n",
    "\"won't've\": \"will not have\",\n",
    "\"would've\": \"would have\",\n",
    "\"wouldn't\": \"would not\",\n",
    "\"wouldn't've\": \"would not have\",\n",
    "\"y'all\": \"you all\",\n",
    "\"y'all'd\": \"you all would\",\n",
    "\"y'all'd've\": \"you all would have\",\n",
    "\"y'all're\": \"you all are\",\n",
    "\"y'all've\": \"you all have\",\n",
    "\"you'd\": \"you would\",\n",
    "\"you'd've\": \"you would have\",\n",
    "\"you'll\": \"you will\",\n",
    "\"you'll've\": \"you will have\",\n",
    "\"you're\": \"you are\",\n",
    "\"you've\": \"you have\"\n",
    "}"
   ]
  },
  {
   "cell_type": "code",
   "execution_count": 8,
   "metadata": {},
   "outputs": [],
   "source": [
    "def expand_contractions(text, contraction_mapping=CONTRACTION_MAP):\n",
    "    \n",
    "    contractions_pattern = re.compile('({})'.format('|'.join(contraction_mapping.keys())), \n",
    "                                      flags=re.IGNORECASE|re.DOTALL)\n",
    "    def expand_match(contraction):\n",
    "        match = contraction.group(0)\n",
    "        first_char = match[0]\n",
    "        expanded_contraction = contraction_mapping.get(match)\\\n",
    "                                if contraction_mapping.get(match)\\\n",
    "                                else contraction_mapping.get(match.lower())                       \n",
    "        expanded_contraction = first_char+expanded_contraction[1:]\n",
    "        return expanded_contraction\n",
    "        \n",
    "    expanded_text = contractions_pattern.sub(expand_match, text)\n",
    "    expanded_text = re.sub(\"'\", \"\", expanded_text)\n",
    "    return expanded_text"
   ]
  },
  {
   "cell_type": "code",
   "execution_count": 9,
   "metadata": {},
   "outputs": [
    {
     "data": {
      "text/plain": [
       "[' What  said.',\n",
       " ' plus you have added commercials to the experience... tacky.',\n",
       " ' I did not today... Must mean I need to take another trip!',\n",
       " ' it is really aggressive to blast obnoxious \"entertainment\" in your guests faces ; they have little recourse',\n",
       " ' and it is a really big bad thing about it',\n",
       " ' seriously would pay $30 a flight for seats that did not have this playing.',\n",
       " 'it is really the only bad thing about flying VA',\n",
       " ' yes, nearly every time I fly VX this ‰ЫПear worm‰Ыќ won‰ЫЄt go away :)',\n",
       " ' Really missed a prime opportunity for Men Without Hats parody, there. ',\n",
       " ' Well, I did not‰Ы_but NOW I DO! :-D']"
      ]
     },
     "metadata": {},
     "output_type": "display_data"
    }
   ],
   "source": [
    "for i in range(len(t_nohttps)):\n",
    "    t_nohttps[i] = expand_contractions(t_nohttps[i])\n",
    "display(t_nohttps[:10])"
   ]
  },
  {
   "cell_type": "markdown",
   "metadata": {},
   "source": [
    "### Step 4: Substitute ASCII and punctuations by blank string"
   ]
  },
  {
   "cell_type": "code",
   "execution_count": 10,
   "metadata": {},
   "outputs": [
    {
     "data": {
      "text/plain": [
       "[' what  said ',\n",
       " ' plus you have added commercials to the experience    tacky ',\n",
       " ' i did not today    must mean i need to take another trip ',\n",
       " ' it is really aggressive to blast obnoxious  entertainment  in your guests faces   they have little recourse',\n",
       " ' and it is a really big bad thing about it',\n",
       " ' seriously would pay   0 a flight for seats that did not have this playing ',\n",
       " 'it is really the only bad thing about flying va',\n",
       " ' yes  nearly every time i fly vx this    ear worm    won   t go away   ',\n",
       " ' really missed a prime opportunity for men without hats parody  there  ',\n",
       " ' well  i did not   but now i do    d']"
      ]
     },
     "metadata": {},
     "output_type": "display_data"
    }
   ],
   "source": [
    "NON_ALPHANUM = re.compile(r'[\\W]')\n",
    "NON_ASCII = re.compile(r'[^a-z0-1\\s]')\n",
    "def normalize_texts(texts):\n",
    "    normalized_texts = []\n",
    "    for text in texts:\n",
    "        lower = text.lower()\n",
    "        no_punctuation = NON_ALPHANUM.sub(r' ', lower)\n",
    "        no_non_ascii = NON_ASCII.sub(r' ', no_punctuation)\n",
    "        normalized_texts.append(no_non_ascii)\n",
    "    return normalized_texts\n",
    "        \n",
    "texts_norm = normalize_texts(t_nohttps)\n",
    "display(texts_norm[:10])"
   ]
  },
  {
   "cell_type": "markdown",
   "metadata": {},
   "source": [
    "### Step 5: Remove non English words"
   ]
  },
  {
   "cell_type": "markdown",
   "metadata": {},
   "source": [
    "After this step, trailing and leading blanks are removed"
   ]
  },
  {
   "cell_type": "code",
   "execution_count": 11,
   "metadata": {},
   "outputs": [
    {
     "data": {
      "text/plain": [
       "['what said',\n",
       " 'plus you have added commercials to the experience tacky',\n",
       " 'i did not today must mean i need to take another trip',\n",
       " 'it is really aggressive to blast obnoxious entertainment in your guests faces they have little recourse',\n",
       " 'and it is a really big bad thing about it',\n",
       " 'seriously would pay a flight for seats that did not have this playing',\n",
       " 'it is really the only bad thing about flying va',\n",
       " 'yes nearly every time i fly vx this ear worm won t go away',\n",
       " 'really missed a prime opportunity for men without hats parody there',\n",
       " 'well i did not but now i do d']"
      ]
     },
     "metadata": {},
     "output_type": "display_data"
    }
   ],
   "source": [
    "#import nltk\n",
    "#nltk.download('words')\n",
    "import nltk\n",
    "words = set(nltk.corpus.words.words())\n",
    "\n",
    "new_text = []\n",
    "for t in texts_norm:\n",
    "    new_text.append(\" \".join(w for w in nltk.wordpunct_tokenize(t) if w.lower() in words or w.isalpha()))\n",
    "display(new_text[:10])"
   ]
  },
  {
   "cell_type": "markdown",
   "metadata": {},
   "source": [
    "### Step 6: Remove stop words and lemmatize"
   ]
  },
  {
   "cell_type": "code",
   "execution_count": 12,
   "metadata": {},
   "outputs": [],
   "source": [
    "import spacy\n",
    "nlp = spacy.load('en_core_web_lg')\n",
    "\n",
    "#import nltk\n",
    "#nltk.download('stopwords')\n",
    "\n",
    "import nltk\n",
    "from nltk.corpus import stopwords\n",
    "eng_stop = set(stopwords.words('english'))"
   ]
  },
  {
   "cell_type": "code",
   "execution_count": 13,
   "metadata": {},
   "outputs": [
    {
     "name": "stdout",
     "output_type": "stream",
     "text": [
      "completed in 291.660772 s\n"
     ]
    }
   ],
   "source": [
    "import time\n",
    "start = time.process_time()\n",
    "\n",
    "no_stops_all = []\n",
    "for t in new_text:  \n",
    "    doc = nlp(t)\n",
    "    token_list = ''\n",
    "    for token in doc:\n",
    "        token = token.lemma_\n",
    "        token_list = token_list + ' ' + token\n",
    "    token_list = token_list.split(' ')  \n",
    "    no_stops = [st for st in token_list if st not in eng_stop and st not in '-PRON-']   \n",
    "    no_stops = ' '.join(no_stops)\n",
    "    no_stops_all.append(no_stops)\n",
    "\n",
    "print('completed in {} s'.format(time.process_time() - start))"
   ]
  },
  {
   "cell_type": "code",
   "execution_count": 14,
   "metadata": {},
   "outputs": [
    {
     "data": {
      "text/plain": [
       "['say',\n",
       " 'plus add commercial experience tacky',\n",
       " 'today must mean need take another trip',\n",
       " 'really aggressive blast obnoxious entertainment guest face little recourse',\n",
       " 'really big bad thing',\n",
       " 'seriously would pay flight seat playing',\n",
       " 'really bad thing fly va',\n",
       " 'yes nearly every time fly vx ear worm win go away',\n",
       " 'really miss prime opportunity man without hat parody',\n",
       " 'well']"
      ]
     },
     "metadata": {},
     "output_type": "display_data"
    }
   ],
   "source": [
    "display(no_stops_all[:10])"
   ]
  },
  {
   "cell_type": "markdown",
   "metadata": {},
   "source": [
    "### Step 7: Add features other than texts "
   ]
  },
  {
   "cell_type": "code",
   "execution_count": 15,
   "metadata": {},
   "outputs": [
    {
     "data": {
      "text/html": [
       "<div>\n",
       "<style scoped>\n",
       "    .dataframe tbody tr th:only-of-type {\n",
       "        vertical-align: middle;\n",
       "    }\n",
       "\n",
       "    .dataframe tbody tr th {\n",
       "        vertical-align: top;\n",
       "    }\n",
       "\n",
       "    .dataframe thead th {\n",
       "        text-align: right;\n",
       "    }\n",
       "</style>\n",
       "<table border=\"1\" class=\"dataframe\">\n",
       "  <thead>\n",
       "    <tr style=\"text-align: right;\">\n",
       "      <th></th>\n",
       "      <th>text</th>\n",
       "    </tr>\n",
       "  </thead>\n",
       "  <tbody>\n",
       "    <tr>\n",
       "      <th>0</th>\n",
       "      <td>say</td>\n",
       "    </tr>\n",
       "    <tr>\n",
       "      <th>1</th>\n",
       "      <td>plus add commercial experience tacky</td>\n",
       "    </tr>\n",
       "    <tr>\n",
       "      <th>2</th>\n",
       "      <td>today must mean need take another trip</td>\n",
       "    </tr>\n",
       "    <tr>\n",
       "      <th>3</th>\n",
       "      <td>really aggressive blast obnoxious entertainment guest face little recourse</td>\n",
       "    </tr>\n",
       "    <tr>\n",
       "      <th>4</th>\n",
       "      <td>really big bad thing</td>\n",
       "    </tr>\n",
       "    <tr>\n",
       "      <th>5</th>\n",
       "      <td>seriously would pay flight seat playing</td>\n",
       "    </tr>\n",
       "    <tr>\n",
       "      <th>6</th>\n",
       "      <td>really bad thing fly va</td>\n",
       "    </tr>\n",
       "    <tr>\n",
       "      <th>7</th>\n",
       "      <td>yes nearly every time fly vx ear worm win go away</td>\n",
       "    </tr>\n",
       "    <tr>\n",
       "      <th>8</th>\n",
       "      <td>really miss prime opportunity man without hat parody</td>\n",
       "    </tr>\n",
       "    <tr>\n",
       "      <th>9</th>\n",
       "      <td>well</td>\n",
       "    </tr>\n",
       "  </tbody>\n",
       "</table>\n",
       "</div>"
      ],
      "text/plain": [
       "                                                                         text\n",
       "0                                                                         say\n",
       "1                                        plus add commercial experience tacky\n",
       "2                                      today must mean need take another trip\n",
       "3  really aggressive blast obnoxious entertainment guest face little recourse\n",
       "4                                                        really big bad thing\n",
       "5                                     seriously would pay flight seat playing\n",
       "6                                                     really bad thing fly va\n",
       "7                           yes nearly every time fly vx ear worm win go away\n",
       "8                        really miss prime opportunity man without hat parody\n",
       "9                                                                        well"
      ]
     },
     "metadata": {},
     "output_type": "display_data"
    },
    {
     "name": "stdout",
     "output_type": "stream",
     "text": [
      "Dataset shape:  (14853, 4)\n"
     ]
    }
   ],
   "source": [
    "bow_df = pd.DataFrame(no_stops_all)\n",
    "bow_df.columns = ['text']\n",
    "display(bow_df.head(10))\n",
    "\n",
    "# add other columns as features\n",
    "bow_df['airline_sentiment'] = airline_data['airline_sentiment']\n",
    "bow_df['retweet_count'] = airline_data['retweet_count']\n",
    "bow_df['airline_company'] = airline_data['airline']\n",
    "print(\"Dataset shape: \", bow_df.shape)"
   ]
  },
  {
   "cell_type": "markdown",
   "metadata": {},
   "source": [
    "## Data Visualizations"
   ]
  },
  {
   "cell_type": "code",
   "execution_count": 16,
   "metadata": {},
   "outputs": [
    {
     "data": {
      "image/png": "[encoded data removed]",
      "text/plain": [
       "<Figure size 1008x432 with 2 Axes>"
      ]
     },
     "metadata": {
      "needs_background": "light"
     },
     "output_type": "display_data"
    }
   ],
   "source": [
    "plt.figure(figsize=(14,6))\n",
    "plt.suptitle('Airline Sentiment and Airline Company Counts', fontsize=14)\n",
    "\n",
    "plt.subplot(121)\n",
    "g1 = sns.countplot(x='airline_sentiment', data=bow_df, hue='airline_company')\n",
    "\n",
    "plt.subplot(122)\n",
    "g2 = sns.countplot(x='airline_company', data=bow_df, hue='airline_sentiment')\n",
    "plt.legend(title='airline sentiment', labels=['Neutral', 'Positive','Negative'])\n",
    "\n",
    "plt.show()"
   ]
  },
  {
   "cell_type": "code",
   "execution_count": 17,
   "metadata": {},
   "outputs": [
    {
     "data": {
      "text/html": [
       "<div>\n",
       "<style scoped>\n",
       "    .dataframe tbody tr th:only-of-type {\n",
       "        vertical-align: middle;\n",
       "    }\n",
       "\n",
       "    .dataframe tbody tr th {\n",
       "        vertical-align: top;\n",
       "    }\n",
       "\n",
       "    .dataframe thead th {\n",
       "        text-align: right;\n",
       "    }\n",
       "</style>\n",
       "<table border=\"1\" class=\"dataframe\">\n",
       "  <thead>\n",
       "    <tr style=\"text-align: right;\">\n",
       "      <th></th>\n",
       "      <th>airline_sentiment</th>\n",
       "      <th>retweet_count</th>\n",
       "    </tr>\n",
       "  </thead>\n",
       "  <tbody>\n",
       "    <tr>\n",
       "      <th>0</th>\n",
       "      <td>negative</td>\n",
       "      <td>857.0</td>\n",
       "    </tr>\n",
       "    <tr>\n",
       "      <th>1</th>\n",
       "      <td>neutral</td>\n",
       "      <td>189.0</td>\n",
       "    </tr>\n",
       "    <tr>\n",
       "      <th>2</th>\n",
       "      <td>positive</td>\n",
       "      <td>164.0</td>\n",
       "    </tr>\n",
       "  </tbody>\n",
       "</table>\n",
       "</div>"
      ],
      "text/plain": [
       "  airline_sentiment  retweet_count\n",
       "0          negative          857.0\n",
       "1           neutral          189.0\n",
       "2          positive          164.0"
      ]
     },
     "metadata": {},
     "output_type": "display_data"
    }
   ],
   "source": [
    "rc = bow_df.groupby(['airline_sentiment'])['retweet_count'].sum().to_frame().reset_index()\n",
    "display(rc)"
   ]
  },
  {
   "cell_type": "code",
   "execution_count": 18,
   "metadata": {},
   "outputs": [
    {
     "data": {
      "image/png": "[encoded data removed]",
      "text/plain": [
       "<Figure size 432x288 with 1 Axes>"
      ]
     },
     "metadata": {
      "needs_background": "light"
     },
     "output_type": "display_data"
    }
   ],
   "source": [
    "g = sns.barplot(x=\"airline_sentiment\", y=\"retweet_count\", data=rc)\n",
    "g.set_title('Retweet Count by Sentiment', fontsize=12)\n",
    "plt.show()"
   ]
  },
  {
   "cell_type": "markdown",
   "metadata": {},
   "source": [
    "## Data Preparation"
   ]
  },
  {
   "cell_type": "markdown",
   "metadata": {},
   "source": [
    "### One-hot encoding"
   ]
  },
  {
   "cell_type": "code",
   "execution_count": 19,
   "metadata": {},
   "outputs": [
    {
     "name": "stdout",
     "output_type": "stream",
     "text": [
      "Dataset shape after one-hot encoding:  (14853, 9)\n"
     ]
    }
   ],
   "source": [
    "# Code the three target classes as 0,1,2\n",
    "ind = airline_data['airline_sentiment'] == 'neutral'\n",
    "bow_df.loc[ind,'airline_sentiment'] = 0\n",
    "\n",
    "ind = airline_data['airline_sentiment'] == 'positive'\n",
    "bow_df.loc[ind,'airline_sentiment'] = 1\n",
    "\n",
    "ind = airline_data['airline_sentiment'] == 'negative'\n",
    "bow_df.loc[ind,'airline_sentiment'] = 2\n",
    "\n",
    "# one hot encoding to convert airline company to 1/0's\n",
    "bow_df = pd.get_dummies(bow_df, columns=['airline_company'])\n",
    "print(\"Dataset shape after one-hot encoding: \", bow_df.shape)\n",
    "#display(bow_df.head(10)) # There are NaN values in row 6, ..."
   ]
  },
  {
   "cell_type": "markdown",
   "metadata": {},
   "source": [
    "### Assign ID to each row"
   ]
  },
  {
   "cell_type": "markdown",
   "metadata": {},
   "source": [
    "To help merge dataframes later on"
   ]
  },
  {
   "cell_type": "code",
   "execution_count": 20,
   "metadata": {},
   "outputs": [],
   "source": [
    "bow_df['ID'] = bow_df.index.to_list()"
   ]
  },
  {
   "cell_type": "markdown",
   "metadata": {},
   "source": [
    "### Drop NaN's"
   ]
  },
  {
   "cell_type": "code",
   "execution_count": 21,
   "metadata": {},
   "outputs": [
    {
     "name": "stdout",
     "output_type": "stream",
     "text": [
      "Dataset shape after dropping NaN's:  (14640, 10)\n"
     ]
    }
   ],
   "source": [
    "# drop nan values\n",
    "bow_df = bow_df.dropna()\n",
    "print(\"Dataset shape after dropping NaN's: \", bow_df.shape)\n",
    "#display(bow_df.head(10))"
   ]
  },
  {
   "cell_type": "markdown",
   "metadata": {},
   "source": [
    "### Drop rows with blank texts"
   ]
  },
  {
   "cell_type": "code",
   "execution_count": 22,
   "metadata": {},
   "outputs": [
    {
     "name": "stdout",
     "output_type": "stream",
     "text": [
      "Number of blank text rows:  89\n",
      "Row Indices that have blank texts:  [340, 351, 460, 669, 781, 855, 910, 988, 1140, 1639, 1644, 1783, 1916, 2520, 2603, 2985, 3004, 3196, 3438, 3509, 3658, 3987, 4072, 4402, 4612, 4739, 4762, 4904, 4955, 5014, 5460, 5463, 5536, 5565, 5658, 5832, 6159, 6295, 6665, 6897, 6947, 7095, 7582, 7623, 8077, 8855, 8862, 8904, 9255, 9585, 10697, 10735, 10863, 10904, 11063, 11210, 11257, 11261, 11286, 11375, 11447, 11493, 11501, 11608, 11771, 11834, 11905, 11946, 11967, 12066, 12107, 12128, 12189, 12220, 12257, 12275, 12287, 12527, 12535, 12947, 13157, 13213, 13346, 14066, 14361, 14384, 14408, 14468, 14600]\n"
     ]
    }
   ],
   "source": [
    "c = 0 # count how many rows have blank texts\n",
    "ind = [] # list to keep row indices that have blank texts. \n",
    "# Note that the indices are different from the actual number of row, because we dropped some rows above already\n",
    "# maximum index ends at bow_df.index.max() = 14852, but len(bow_df) = 14640\n",
    "for i in range(len(bow_df)):\n",
    "    if len(bow_df.text.values[i])==0:\n",
    "        c = c + 1\n",
    "        ind.append(i)  #bow_df.index[i]\n",
    "print(\"Number of blank text rows: \", c)\n",
    "print(\"Row Indices that have blank texts: \", ind)"
   ]
  },
  {
   "cell_type": "code",
   "execution_count": 23,
   "metadata": {},
   "outputs": [
    {
     "name": "stdout",
     "output_type": "stream",
     "text": [
      "Dataframe after dropping rows of blank texts (14551, 10)\n"
     ]
    }
   ],
   "source": [
    "bad_list = list(bow_df.ID.values[ind])\n",
    "bow_df = bow_df.loc[~bow_df.ID.isin(bad_list),:]\n",
    "print(\"Dataframe after dropping rows of blank texts\", bow_df.shape)"
   ]
  },
  {
   "cell_type": "markdown",
   "metadata": {},
   "source": [
    "### Train test split"
   ]
  },
  {
   "cell_type": "code",
   "execution_count": 24,
   "metadata": {},
   "outputs": [],
   "source": [
    "from sklearn.model_selection import train_test_split\n",
    "\n",
    "X = bow_df.drop(['airline_sentiment'], axis=1)\n",
    "y = bow_df['airline_sentiment']\n",
    "# The following format may be needed in modeling, otherwise errors may occur. Keep it as reference\n",
    "#y = np.asarray(bow_df['airline_sentiment'], dtype=\"|S6\") \n",
    "\n",
    "# train test split using test_size = 0.2 \n",
    "X_train, X_test, y_train, y_test= train_test_split(X, y, test_size=0.2, random_state=123)"
   ]
  },
  {
   "cell_type": "markdown",
   "metadata": {},
   "source": [
    "Save X_train_new_x, y_train_new, X_test and y_test for future model evaluations"
   ]
  },
  {
   "cell_type": "code",
   "execution_count": 25,
   "metadata": {},
   "outputs": [],
   "source": [
    "X_train.to_csv(\"X_train.csv\", index=False)\n",
    "y_train.to_csv(\"y_train.csv\", index=False)\n",
    "X_test.to_csv(\"X_test.csv\", index=False)\n",
    "y_test.to_csv(\"y_test.csv\", index=False)"
   ]
  },
  {
   "cell_type": "code",
   "execution_count": 26,
   "metadata": {},
   "outputs": [
    {
     "name": "stdout",
     "output_type": "stream",
     "text": [
      "X_train shape:  (11640, 9)\n",
      "y_train shape:  (11640,)\n",
      "X_test shape:  (2911, 9)\n",
      "y_test shape:  (2911,)\n"
     ]
    }
   ],
   "source": [
    "print(\"X_train shape: \", X_train.shape)\n",
    "print(\"y_train shape: \", y_train.shape)\n",
    "print(\"X_test shape: \", X_test.shape)\n",
    "print(\"y_test shape: \", y_test.shape)"
   ]
  },
  {
   "cell_type": "markdown",
   "metadata": {},
   "source": [
    "### Create 5-Fold Validation Indices"
   ]
  },
  {
   "cell_type": "code",
   "execution_count": 27,
   "metadata": {},
   "outputs": [
    {
     "data": {
      "text/plain": [
       "5"
      ]
     },
     "execution_count": 27,
     "metadata": {},
     "output_type": "execute_result"
    }
   ],
   "source": [
    "from sklearn.model_selection import KFold\n",
    "kf = KFold(n_splits=5, random_state=123, shuffle=True)\n",
    "kf.get_n_splits(X_train)"
   ]
  },
  {
   "cell_type": "code",
   "execution_count": 28,
   "metadata": {},
   "outputs": [
    {
     "name": "stdout",
     "output_type": "stream",
     "text": [
      "Fold 1:  Train: [    0     1     2 ... 11636 11638 11639] Validation: [    3     6     7 ... 11619 11620 11637]\n",
      "Fold 2:  Train: [    1     3     5 ... 11637 11638 11639] Validation: [    0     2     4 ... 11591 11624 11629]\n",
      "Fold 3:  Train: [    0     1     2 ... 11637 11638 11639] Validation: [    8    33    35 ... 11631 11635 11636]\n",
      "Fold 4:  Train: [    0     2     3 ... 11636 11637 11638] Validation: [    1     5    18 ... 11632 11634 11639]\n",
      "Fold 5:  Train: [    0     1     2 ... 11636 11637 11639] Validation: [   13    16    17 ... 11628 11633 11638]\n"
     ]
    }
   ],
   "source": [
    "i = 1\n",
    "for train_index, val_index in kf.split(X_train):\n",
    "    print(f\"Fold {i}: \", \"Train:\", train_index, \"Validation:\", val_index)\n",
    "    i = i + 1"
   ]
  }
 ],
 "metadata": {
  "kernelspec": {
   "display_name": "Python 3",
   "language": "python",
   "name": "python3"
  },
  "language_info": {
   "codemirror_mode": {
    "name": "ipython",
    "version": 3
   },
   "file_extension": ".py",
   "mimetype": "text/x-python",
   "name": "python",
   "nbconvert_exporter": "python",
   "pygments_lexer": "ipython3",
   "version": "3.7.3"
  }
 },
 "nbformat": 4,
 "nbformat_minor": 2
}
