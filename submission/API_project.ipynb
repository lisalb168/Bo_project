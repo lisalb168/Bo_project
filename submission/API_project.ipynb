{
 "cells": [
  {
   "cell_type": "markdown",
   "metadata": {},
   "source": [
    "These are your tasks for this mini project:\n",
    "\n",
    "1. Collect data from the Franfurt Stock Exchange, for the ticker AFX_X, for the whole year 2017 (keep in mind that the date format is YYYY-MM-DD).\n",
    "2. Convert the returned JSON object into a Python dictionary.\n",
    "3. Calculate what the highest and lowest opening prices were for the stock in this period.\n",
    "4. What was the largest change in any one day (based on High and Low price)?\n",
    "5. What was the largest change between any two days (based on Closing Price)?\n",
    "6. What was the average daily trading volume during this year?\n",
    "7. (Optional) What was the median trading volume during this year. (Note: you may need to implement your own function for calculating the median.)"
   ]
  },
  {
   "cell_type": "markdown",
   "metadata": {},
   "source": [
    "## 1. Collect data"
   ]
  },
  {
   "cell_type": "code",
   "execution_count": 1,
   "metadata": {},
   "outputs": [],
   "source": [
    "# First, import the relevant modules\n",
    "import requests"
   ]
  },
  {
   "cell_type": "code",
   "execution_count": 2,
   "metadata": {},
   "outputs": [
    {
     "name": "stdout",
     "output_type": "stream",
     "text": [
      "<Response [200]>\n",
      "{'dataset': {'id': 10095370, 'dataset_code': 'AFX_X', 'database_code': 'FSE', 'name': 'Carl Zeiss Meditec (AFX_X)', 'description': 'Stock Prices for Carl Zeiss Meditec (2019-10-04) from the Frankfurt Stock Exchange.<br><br>Trading System: Xetra<br><br>ISIN: DE0005313704', 'refreshed_at': '2019-10-18T22:20:39.482Z', 'newest_available_date': '2019-10-18', 'oldest_available_date': '2000-06-07', 'column_names': ['Date', 'Open', 'High', 'Low', 'Close', 'Change', 'Traded Volume', 'Turnover', 'Last Price of the Day', 'Daily Traded Units', 'Daily Turnover'], 'frequency': 'daily', 'type': 'Time Series', 'premium': False, 'limit': None, 'transform': None, 'column_index': None, 'start_date': '2017-01-01', 'end_date': '2017-01-02', 'data': [['2017-01-02', 34.99, 35.94, 34.99, 35.8, None, 44700.0, 1590561.0, None, None, None]], 'collapse': None, 'order': None, 'database_id': 6129}}\n",
      "<Response [200]>\n"
     ]
    }
   ],
   "source": [
    "# Now, call the Quandl API and pull out a small sample of the data (only one day) to get a glimpse\n",
    "# into the JSON structure that will be returned\n",
    "r_oneday = requests.get(\"https://www.quandl.com/api/v3/datasets/FSE/AFX_X.json?api_key=z-rC7_posuzpusMBjAP5&start_date=2017-01-01&end_date=2017-01-02\")\n",
    "print(r_oneday)  # <200> meaning success\n",
    "print(r_oneday.json())\n",
    "\n",
    "# Now request the entire year of 2017\n",
    "r = requests.get(\"https://www.quandl.com/api/v3/datasets/FSE/AFX_X.json?api_key=z-rC7_posuzpusMBjAP5&start_date=2017-01-01&end_date=2017-12-31\")\n",
    "print(r) # <200> meaning success"
   ]
  },
  {
   "cell_type": "markdown",
   "metadata": {},
   "source": [
    "## 2. Convert the JSON object into dictionary"
   ]
  },
  {
   "cell_type": "code",
   "execution_count": null,
   "metadata": {},
   "outputs": [],
   "source": [
    "# Look at the data structures\n",
    "r.json()"
   ]
  },
  {
   "cell_type": "code",
   "execution_count": 3,
   "metadata": {},
   "outputs": [
    {
     "data": {
      "text/plain": [
       "dict"
      ]
     },
     "execution_count": 3,
     "metadata": {},
     "output_type": "execute_result"
    }
   ],
   "source": [
    "rjson = r.json() # rjson is a dict object\n",
    "type(rjson)"
   ]
  },
  {
   "cell_type": "code",
   "execution_count": 4,
   "metadata": {},
   "outputs": [
    {
     "data": {
      "text/plain": [
       "['Date',\n",
       " 'Open',\n",
       " 'High',\n",
       " 'Low',\n",
       " 'Close',\n",
       " 'Change',\n",
       " 'Traded Volume',\n",
       " 'Turnover',\n",
       " 'Last Price of the Day',\n",
       " 'Daily Traded Units',\n",
       " 'Daily Turnover']"
      ]
     },
     "execution_count": 4,
     "metadata": {},
     "output_type": "execute_result"
    }
   ],
   "source": [
    "# Understand the meaning of each column\n",
    "rjson['dataset']['column_names']"
   ]
  },
  {
   "cell_type": "markdown",
   "metadata": {},
   "source": [
    "## 3. Calculate what the highest and lowest opening prices were for the stock in this period."
   ]
  },
  {
   "cell_type": "code",
   "execution_count": 5,
   "metadata": {},
   "outputs": [
    {
     "name": "stdout",
     "output_type": "stream",
     "text": [
      "Open Prices from year end 2017 to year beginning 2017 are: [51.76, 51.65, 51.45, 51.05, 51.16, 51.88, 52.73, 52.37, 52.7, 53.11, 52.64, 52.29, 52.28, 51.5, 50.89, 50.8, 51.21, 49.5, 49.52, 48.64, 49.64, 49.09, 49.13, 49.11, 48.8, 48.4, 47.25, 46.57, 47.03, 47.09, 47.98, 48.4, 48.38, 47.3, 47.65, 46.42, 46.16, 45.81, 45.0, 45.88, 46.29, 46.53, 45.48, 45.2, 45.01, 45.16, 44.9, 45.08, 45.72, 46.01, 45.8, 45.61, 45.5, 45.58, 45.97, 45.64, 46.2, 46.19, 46.01, 45.36, 44.51, 43.58, 42.0, 42.35, 42.3, 42.3, 41.48, 42.29, 42.54, 42.65, 42.5, 42.29, 42.35, 42.49, 43.21, 42.81, 42.7, 43.0, 42.66, 43.0, 42.38, 42.16, 42.0, 42.0, 41.71, 42.11, 42.64, 42.72, 42.82, 42.46, 42.42, 42.28, 41.88, 42.4, 42.53, 42.12, 41.3, 41.73, 43.5, 44.9, 45.85, 45.13, 45.34, 45.25, 45.24, 44.94, 45.26, 45.16, 44.91, 44.7, 45.31, 45.57, 45.74, 45.06, 45.5, 45.6, 45.07, 44.67, 44.29, 44.94, 44.64, 44.79, 45.5, 44.67, 45.83, 45.29, 45.01, 45.73, 46.68, 47.23, 46.95, 47.29, 47.03, 47.46, 46.48, 46.9, 45.66, 46.34, 46.52, 46.5, 47.31, 46.77, 47.8, 47.01, 47.12, 46.8, 46.12, 45.22, 45.05, 45.61, 44.8, 44.8, 43.92, 43.67, 44.16, 43.74, 44.0, 45.06, 45.15, 45.09, 45.18, 43.4, 43.5, 41.83, 43.0, 42.52, 41.86, 42.2, 41.89, None, 42.17, 41.51, 41.88, 41.93, 42.01, 41.97, 42.5, 41.94, 42.24, None, None, 42.06, 42.02, 41.62, 41.46, 40.9, 40.96, 41.1, 39.5, 40.15, 39.77, 40.02, 39.39, 38.95, 38.73, 38.94, 39.01, 38.25, 41.8, 41.26, 41.47, 41.4, 41.4, 41.2, 41.4, 41.53, 41.61, 41.13, 41.5, 41.25, 41.12, 41.38, 41.19, 40.38, 39.75, 39.77, 39.72, 39.6, 38.85, 39.25, 38.8, 38.8, 38.5, 38.81, 37.37, 36.65, 36.2, 35.98, 35.56, 36.06, 36.02, 35.95, 34.75, 35.24, 35.38, 34.83, 35.07, 34.42, 34.0, 34.04, 34.54, 35.04, 35.04, 35.06, 34.85, 34.98, 35.38, 34.95, 34.8, 35.29, 34.91, 35.02, 35.48, 35.9, 34.99]\n",
      "Highest Open Price in 2017 is: 53.11\n",
      "Lowest Open Price in 2017 is: 34.0\n"
     ]
    }
   ],
   "source": [
    "# Only 2017 stock records\n",
    "data_2017 = rjson['dataset']['data']\n",
    "\n",
    "# Convert the list into a dictionary\n",
    "d = {}\n",
    "for element in data_2017:\n",
    "    d[element[0]] = element[1:]\n",
    "\n",
    "# Extract open prices into a list. Note: The 0th entry in the values of dictionary d represent open prices. Notice\n",
    "# that there are missing values.\n",
    "keep_open_prices=[]\n",
    "for i in list(d.values()):\n",
    "    keep_open_prices.append(i[0])\n",
    "print('Open Prices from year end 2017 to year beginning 2017 are:', keep_open_prices)\n",
    "\n",
    "# Deal with missing values using numpy when calculating the max and min\n",
    "import numpy as np\n",
    "for i in range(len(keep_open_prices)):\n",
    "    if keep_open_prices[i] == None:\n",
    "        keep_open_prices[i] = np.NaN\n",
    "\n",
    "# Then use the following np function to get the max and min ignoring the missing values:\n",
    "highest_open_price = np.nanmax(keep_open_prices)\n",
    "lowest_open_price = np.nanmin(keep_open_prices)\n",
    "\n",
    "print('Highest Open Price in 2017 is:', highest_open_price)\n",
    "print('Lowest Open Price in 2017 is:', lowest_open_price)"
   ]
  },
  {
   "cell_type": "markdown",
   "metadata": {},
   "source": [
    "## 4. What was the largest change in any one day (based on High and Low price)?"
   ]
  },
  {
   "cell_type": "code",
   "execution_count": 6,
   "metadata": {},
   "outputs": [
    {
     "name": "stdout",
     "output_type": "stream",
     "text": [
      "Largest price change in one day is: 2.81\n"
     ]
    }
   ],
   "source": [
    "# Save the highest and lowest daily prices into lists and visually check if there are any None values:\n",
    "keep_highest_daily_price = []\n",
    "for i in list(d.values()):\n",
    "    keep_highest_daily_price.append(i[1])\n",
    "# No missing values detected\n",
    "#print('Highest Daily Price from year end 2017 to year beginning 2017 are:', keep_highest_daily_price)\n",
    "    \n",
    "keep_lowest_daily_price = []\n",
    "for i in list(d.values()):\n",
    "    keep_lowest_daily_price.append(i[2])\n",
    "# No missing values detected\n",
    "#print('Lowest Daily Price from year end 2017 to year beginning 2017 are:', keep_lowest_daily_price)\n",
    "    \n",
    "# Save the difference between highest and lowest daily prices into a list:\n",
    "keep_daily_price_change = []\n",
    "for i in list(d.values()):\n",
    "    keep_daily_price_change.append(i[1]-i[2])\n",
    "\n",
    "# Print the daily price changes \n",
    "#for k in range(len(keep_daily_price_change)):\n",
    "    #print('Daily Price Change:', \"%.2f\" % keep_daily_price_change[k])\n",
    "\n",
    "largest_change_in_oneday = max(keep_daily_price_change)\n",
    "print('Largest price change in one day is:', \"%.2f\" % largest_change_in_oneday)"
   ]
  },
  {
   "cell_type": "markdown",
   "metadata": {},
   "source": [
    "## 5. What was the largest change between any two days (based on Closing Price)?"
   ]
  },
  {
   "cell_type": "code",
   "execution_count": 7,
   "metadata": {},
   "outputs": [
    {
     "name": "stdout",
     "output_type": "stream",
     "text": [
      "Largest price change in two days is: 1.72\n"
     ]
    }
   ],
   "source": [
    "# Sort the keys of dictionary d from year beginning to year end\n",
    "# The 3rd position is the daily closing price\n",
    "sort_by_date = sorted(d.keys())\n",
    "daily_closing_price = []\n",
    "for key in sort_by_date:\n",
    "    daily_closing_price.append(d[key][3])\n",
    "#print('Daily Closing Prices from 2017 year beginning to 2017 year end are:', daily_closing_price)\n",
    "\n",
    "# Calculate the differences in closing prices between 2 consecutive days\n",
    "change = []\n",
    "for i in range(len(daily_closing_price)-1):\n",
    "        change.append(daily_closing_price[i+1] - daily_closing_price[i])\n",
    "#print('Daily Closing Price Changes:', change)\n",
    "    \n",
    "largest_change_in_2day = max(change)\n",
    "print('Largest price change in two days is:', \"%.2f\" % largest_change_in_2day)"
   ]
  },
  {
   "cell_type": "markdown",
   "metadata": {},
   "source": [
    "## 6. What was the average daily trading volume during this year?"
   ]
  },
  {
   "cell_type": "code",
   "execution_count": 8,
   "metadata": {},
   "outputs": [
    {
     "name": "stdout",
     "output_type": "stream",
     "text": [
      "Average Daily Trading Volume in 2017 is: 3853589\n"
     ]
    }
   ],
   "source": [
    "keep_daily_volume = []\n",
    "for i in list(d.values()):\n",
    "    keep_daily_volume.append(i[6])\n",
    "# No missing values detected\n",
    "#print('Daily Trading Volume from year end 2017 to year beginning 2017 are:', keep_daily_volume)\n",
    "    \n",
    "# Calculate average trading volume in year of 2017\n",
    "avg_daily_volume = np.mean(keep_daily_volume)\n",
    "print('Average Daily Trading Volume in 2017 is:', \"%2d\" % avg_daily_volume)"
   ]
  },
  {
   "cell_type": "markdown",
   "metadata": {},
   "source": [
    "## 7. (Optional) What was the median trading volume during this year. (Note: you may need to implement your own function for calculating the median.)"
   ]
  },
  {
   "cell_type": "code",
   "execution_count": 9,
   "metadata": {},
   "outputs": [
    {
     "name": "stdout",
     "output_type": "stream",
     "text": [
      "Median Daily Trading Volume in 2017 is: 3292223\n"
     ]
    }
   ],
   "source": [
    "# Calculate median trading volume in year of 2017 using numpy median function\n",
    "median_daily_volume = np.median(keep_daily_volume)\n",
    "print('Median Daily Trading Volume in 2017 is:', \"%2d\" % median_daily_volume)"
   ]
  },
  {
   "cell_type": "code",
   "execution_count": 10,
   "metadata": {},
   "outputs": [
    {
     "name": "stdout",
     "output_type": "stream",
     "text": [
      "Median Daily Trading Volume in 2017 is: 3292223\n"
     ]
    }
   ],
   "source": [
    "# Use my own defined median function. Same results as numpy median function\n",
    "def medianfunc(mylist):\n",
    "    if len(mylist)%2 == 0:\n",
    "        mymedian = (mylist[len(mylist)//2-1]+mylist[len(mylist)//2])/2\n",
    "    else:\n",
    "        mymedian = mylist[len(mylist)//2]\n",
    "    return mymedian\n",
    "\n",
    "keep_daily_volume.sort()\n",
    "median_daily_volume = medianfunc(keep_daily_volume)\n",
    "print('Median Daily Trading Volume in 2017 is:', \"%2d\" % median_daily_volume)"
   ]
  },
  {
   "cell_type": "code",
   "execution_count": null,
   "metadata": {},
   "outputs": [],
   "source": []
  }
 ],
 "metadata": {
  "kernelspec": {
   "display_name": "Python 3",
   "language": "python",
   "name": "python3"
  },
  "language_info": {
   "codemirror_mode": {
    "name": "ipython",
    "version": 3
   },
   "file_extension": ".py",
   "mimetype": "text/x-python",
   "name": "python",
   "nbconvert_exporter": "python",
   "pygments_lexer": "ipython3",
   "version": "3.7.3"
  }
 },
 "nbformat": 4,
 "nbformat_minor": 2
}
