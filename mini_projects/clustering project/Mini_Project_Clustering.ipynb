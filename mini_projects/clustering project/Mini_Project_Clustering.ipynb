{
 "cells": [
  {
   "cell_type": "markdown",
   "metadata": {},
   "source": [
    "# Customer Segmentation using Clustering\n",
    "***\n",
    "This mini-project is based on [this blog post](http://blog.yhat.com/posts/customer-segmentation-using-python.html) by yhat. Please feel free to refer to the post for additional information, and solutions."
   ]
  },
  {
   "cell_type": "code",
   "execution_count": 1,
   "metadata": {},
   "outputs": [],
   "source": [
    "%matplotlib inline\n",
    "import pandas as pd\n",
    "import sklearn\n",
    "import matplotlib.pyplot as plt\n",
    "import seaborn as sns\n",
    "\n",
    "# Setup Seaborn\n",
    "sns.set_style(\"whitegrid\")\n",
    "sns.set_context(\"poster\")"
   ]
  },
  {
   "cell_type": "markdown",
   "metadata": {},
   "source": [
    "## Data\n",
    "\n",
    "The dataset contains information on marketing newsletters/e-mail campaigns (e-mail offers sent to customers) and transaction level data from customers. The transactional data shows which offer customers responded to, and what the customer ended up buying. The data is presented as an Excel workbook containing two worksheets. Each worksheet contains a different dataset."
   ]
  },
  {
   "cell_type": "code",
   "execution_count": 2,
   "metadata": {},
   "outputs": [
    {
     "data": {
      "text/html": [
       "<div>\n",
       "<style scoped>\n",
       "    .dataframe tbody tr th:only-of-type {\n",
       "        vertical-align: middle;\n",
       "    }\n",
       "\n",
       "    .dataframe tbody tr th {\n",
       "        vertical-align: top;\n",
       "    }\n",
       "\n",
       "    .dataframe thead th {\n",
       "        text-align: right;\n",
       "    }\n",
       "</style>\n",
       "<table border=\"1\" class=\"dataframe\">\n",
       "  <thead>\n",
       "    <tr style=\"text-align: right;\">\n",
       "      <th></th>\n",
       "      <th>offer_id</th>\n",
       "      <th>campaign</th>\n",
       "      <th>varietal</th>\n",
       "      <th>min_qty</th>\n",
       "      <th>discount</th>\n",
       "      <th>origin</th>\n",
       "      <th>past_peak</th>\n",
       "    </tr>\n",
       "  </thead>\n",
       "  <tbody>\n",
       "    <tr>\n",
       "      <th>0</th>\n",
       "      <td>1</td>\n",
       "      <td>January</td>\n",
       "      <td>Malbec</td>\n",
       "      <td>72</td>\n",
       "      <td>56</td>\n",
       "      <td>France</td>\n",
       "      <td>False</td>\n",
       "    </tr>\n",
       "    <tr>\n",
       "      <th>1</th>\n",
       "      <td>2</td>\n",
       "      <td>January</td>\n",
       "      <td>Pinot Noir</td>\n",
       "      <td>72</td>\n",
       "      <td>17</td>\n",
       "      <td>France</td>\n",
       "      <td>False</td>\n",
       "    </tr>\n",
       "    <tr>\n",
       "      <th>2</th>\n",
       "      <td>3</td>\n",
       "      <td>February</td>\n",
       "      <td>Espumante</td>\n",
       "      <td>144</td>\n",
       "      <td>32</td>\n",
       "      <td>Oregon</td>\n",
       "      <td>True</td>\n",
       "    </tr>\n",
       "    <tr>\n",
       "      <th>3</th>\n",
       "      <td>4</td>\n",
       "      <td>February</td>\n",
       "      <td>Champagne</td>\n",
       "      <td>72</td>\n",
       "      <td>48</td>\n",
       "      <td>France</td>\n",
       "      <td>True</td>\n",
       "    </tr>\n",
       "    <tr>\n",
       "      <th>4</th>\n",
       "      <td>5</td>\n",
       "      <td>February</td>\n",
       "      <td>Cabernet Sauvignon</td>\n",
       "      <td>144</td>\n",
       "      <td>44</td>\n",
       "      <td>New Zealand</td>\n",
       "      <td>True</td>\n",
       "    </tr>\n",
       "  </tbody>\n",
       "</table>\n",
       "</div>"
      ],
      "text/plain": [
       "   offer_id  campaign            varietal  min_qty  discount       origin  \\\n",
       "0         1   January              Malbec       72        56       France   \n",
       "1         2   January          Pinot Noir       72        17       France   \n",
       "2         3  February           Espumante      144        32       Oregon   \n",
       "3         4  February           Champagne       72        48       France   \n",
       "4         5  February  Cabernet Sauvignon      144        44  New Zealand   \n",
       "\n",
       "   past_peak  \n",
       "0      False  \n",
       "1      False  \n",
       "2       True  \n",
       "3       True  \n",
       "4       True  "
      ]
     },
     "execution_count": 2,
     "metadata": {},
     "output_type": "execute_result"
    }
   ],
   "source": [
    "df_offers = pd.read_excel(\"./WineKMC.xlsx\", sheet_name=0)\n",
    "df_offers.columns = [\"offer_id\", \"campaign\", \"varietal\", \"min_qty\", \"discount\", \"origin\", \"past_peak\"]\n",
    "df_offers.head()"
   ]
  },
  {
   "cell_type": "markdown",
   "metadata": {},
   "source": [
    "We see that the first dataset contains information about each offer such as the month it is in effect and several attributes about the wine that the offer refers to: the variety, minimum quantity, discount, country of origin and whether or not it is past peak. The second dataset in the second worksheet contains transactional data -- which offer each customer responded to."
   ]
  },
  {
   "cell_type": "code",
   "execution_count": 3,
   "metadata": {},
   "outputs": [
    {
     "data": {
      "text/html": [
       "<div>\n",
       "<style scoped>\n",
       "    .dataframe tbody tr th:only-of-type {\n",
       "        vertical-align: middle;\n",
       "    }\n",
       "\n",
       "    .dataframe tbody tr th {\n",
       "        vertical-align: top;\n",
       "    }\n",
       "\n",
       "    .dataframe thead th {\n",
       "        text-align: right;\n",
       "    }\n",
       "</style>\n",
       "<table border=\"1\" class=\"dataframe\">\n",
       "  <thead>\n",
       "    <tr style=\"text-align: right;\">\n",
       "      <th></th>\n",
       "      <th>customer_name</th>\n",
       "      <th>offer_id</th>\n",
       "      <th>n</th>\n",
       "    </tr>\n",
       "  </thead>\n",
       "  <tbody>\n",
       "    <tr>\n",
       "      <th>0</th>\n",
       "      <td>Smith</td>\n",
       "      <td>2</td>\n",
       "      <td>1</td>\n",
       "    </tr>\n",
       "    <tr>\n",
       "      <th>1</th>\n",
       "      <td>Smith</td>\n",
       "      <td>24</td>\n",
       "      <td>1</td>\n",
       "    </tr>\n",
       "    <tr>\n",
       "      <th>2</th>\n",
       "      <td>Johnson</td>\n",
       "      <td>17</td>\n",
       "      <td>1</td>\n",
       "    </tr>\n",
       "    <tr>\n",
       "      <th>3</th>\n",
       "      <td>Johnson</td>\n",
       "      <td>24</td>\n",
       "      <td>1</td>\n",
       "    </tr>\n",
       "    <tr>\n",
       "      <th>4</th>\n",
       "      <td>Johnson</td>\n",
       "      <td>26</td>\n",
       "      <td>1</td>\n",
       "    </tr>\n",
       "  </tbody>\n",
       "</table>\n",
       "</div>"
      ],
      "text/plain": [
       "  customer_name  offer_id  n\n",
       "0         Smith         2  1\n",
       "1         Smith        24  1\n",
       "2       Johnson        17  1\n",
       "3       Johnson        24  1\n",
       "4       Johnson        26  1"
      ]
     },
     "execution_count": 3,
     "metadata": {},
     "output_type": "execute_result"
    }
   ],
   "source": [
    "df_transactions = pd.read_excel(\"./WineKMC.xlsx\", sheet_name=1)\n",
    "df_transactions.columns = [\"customer_name\", \"offer_id\"]\n",
    "df_transactions['n'] = 1\n",
    "df_transactions.head()"
   ]
  },
  {
   "cell_type": "markdown",
   "metadata": {},
   "source": [
    "## Data wrangling"
   ]
  },
  {
   "cell_type": "markdown",
   "metadata": {},
   "source": [
    "We're trying to learn more about how our customers behave, so we can use their behavior (whether or not they purchased something based on an offer) as a way to group similar minded customers together. We can then study those groups to look for patterns and trends which can help us formulate future offers.\n",
    "\n",
    "The first thing we need is a way to compare customers. To do this, we're going to create a matrix that contains each customer and a 0/1 indicator for whether or not they responded to a given offer. "
   ]
  },
  {
   "cell_type": "markdown",
   "metadata": {},
   "source": [
    "<div class=\"span5 alert alert-info\">\n",
    "<h3>Checkup Exercise Set I</h3>\n",
    "\n",
    "<p><b>Exercise:</b> Create a data frame where each row has the following columns (Use the pandas [`merge`](http://pandas.pydata.org/pandas-docs/stable/generated/pandas.DataFrame.merge.html) and [`pivot_table`](http://pandas.pydata.org/pandas-docs/stable/generated/pandas.pivot_table.html) functions for this purpose):\n",
    "<ul>\n",
    "<li> customer_name\n",
    "<li> One column for each offer, with a 1 if the customer responded to the offer\n",
    "</ul>\n",
    "<p>Make sure you also deal with any weird values such as `NaN`. Read the documentation to develop your solution.</p>\n",
    "</div>"
   ]
  },
  {
   "cell_type": "code",
   "execution_count": 4,
   "metadata": {
    "scrolled": true
   },
   "outputs": [
    {
     "name": "stdout",
     "output_type": "stream",
     "text": [
      "(324, 3)\n",
      "(32, 7)\n"
     ]
    }
   ],
   "source": [
    "#your turn\n",
    "print(df_transactions.shape)\n",
    "print(df_offers.shape)"
   ]
  },
  {
   "cell_type": "code",
   "execution_count": 5,
   "metadata": {},
   "outputs": [
    {
     "data": {
      "text/plain": [
       "array([ 1,  2,  3,  4,  5,  6,  7,  8,  9, 10, 11, 12, 13, 14, 15, 16, 17,\n",
       "       18, 19, 20, 21, 22, 23, 24, 25, 26, 27, 28, 29, 30, 31, 32])"
      ]
     },
     "execution_count": 5,
     "metadata": {},
     "output_type": "execute_result"
    }
   ],
   "source": [
    "df_offers['offer_id'].unique()"
   ]
  },
  {
   "cell_type": "code",
   "execution_count": 6,
   "metadata": {},
   "outputs": [
    {
     "name": "stdout",
     "output_type": "stream",
     "text": [
      "['offer_1', 'offer_2', 'offer_3', 'offer_4', 'offer_5', 'offer_6', 'offer_7', 'offer_8', 'offer_9', 'offer_10', 'offer_11', 'offer_12', 'offer_13', 'offer_14', 'offer_15', 'offer_16', 'offer_17', 'offer_18', 'offer_19', 'offer_20', 'offer_21', 'offer_22', 'offer_23', 'offer_24', 'offer_25', 'offer_26', 'offer_27', 'offer_28', 'offer_29', 'offer_30', 'offer_31', 'offer_32']\n"
     ]
    }
   ],
   "source": [
    "# create one column for each offer. Below code generates column names\n",
    "coln = []\n",
    "for i in range(1,33):\n",
    "    coln.append('offer_' + str(i))\n",
    "print(coln)"
   ]
  },
  {
   "cell_type": "code",
   "execution_count": 7,
   "metadata": {},
   "outputs": [
    {
     "data": {
      "text/html": [
       "<div>\n",
       "<style scoped>\n",
       "    .dataframe tbody tr th:only-of-type {\n",
       "        vertical-align: middle;\n",
       "    }\n",
       "\n",
       "    .dataframe tbody tr th {\n",
       "        vertical-align: top;\n",
       "    }\n",
       "\n",
       "    .dataframe thead th {\n",
       "        text-align: right;\n",
       "    }\n",
       "</style>\n",
       "<table border=\"1\" class=\"dataframe\">\n",
       "  <thead>\n",
       "    <tr style=\"text-align: right;\">\n",
       "      <th></th>\n",
       "      <th>customer_name</th>\n",
       "      <th>offer_1</th>\n",
       "      <th>offer_2</th>\n",
       "      <th>offer_3</th>\n",
       "      <th>offer_4</th>\n",
       "      <th>offer_5</th>\n",
       "      <th>offer_6</th>\n",
       "      <th>offer_7</th>\n",
       "      <th>offer_8</th>\n",
       "      <th>offer_9</th>\n",
       "      <th>...</th>\n",
       "      <th>offer_23</th>\n",
       "      <th>offer_24</th>\n",
       "      <th>offer_25</th>\n",
       "      <th>offer_26</th>\n",
       "      <th>offer_27</th>\n",
       "      <th>offer_28</th>\n",
       "      <th>offer_29</th>\n",
       "      <th>offer_30</th>\n",
       "      <th>offer_31</th>\n",
       "      <th>offer_32</th>\n",
       "    </tr>\n",
       "  </thead>\n",
       "  <tbody>\n",
       "    <tr>\n",
       "      <th>0</th>\n",
       "      <td>Adams</td>\n",
       "      <td>0.0</td>\n",
       "      <td>0.0</td>\n",
       "      <td>0.0</td>\n",
       "      <td>0.0</td>\n",
       "      <td>0.0</td>\n",
       "      <td>0.0</td>\n",
       "      <td>0.0</td>\n",
       "      <td>0.0</td>\n",
       "      <td>0.0</td>\n",
       "      <td>...</td>\n",
       "      <td>0.0</td>\n",
       "      <td>0.0</td>\n",
       "      <td>0.0</td>\n",
       "      <td>0.0</td>\n",
       "      <td>0.0</td>\n",
       "      <td>0.0</td>\n",
       "      <td>1.0</td>\n",
       "      <td>1.0</td>\n",
       "      <td>0.0</td>\n",
       "      <td>0.0</td>\n",
       "    </tr>\n",
       "    <tr>\n",
       "      <th>1</th>\n",
       "      <td>Allen</td>\n",
       "      <td>0.0</td>\n",
       "      <td>0.0</td>\n",
       "      <td>0.0</td>\n",
       "      <td>0.0</td>\n",
       "      <td>0.0</td>\n",
       "      <td>0.0</td>\n",
       "      <td>0.0</td>\n",
       "      <td>0.0</td>\n",
       "      <td>1.0</td>\n",
       "      <td>...</td>\n",
       "      <td>0.0</td>\n",
       "      <td>0.0</td>\n",
       "      <td>0.0</td>\n",
       "      <td>0.0</td>\n",
       "      <td>1.0</td>\n",
       "      <td>0.0</td>\n",
       "      <td>0.0</td>\n",
       "      <td>0.0</td>\n",
       "      <td>0.0</td>\n",
       "      <td>0.0</td>\n",
       "    </tr>\n",
       "    <tr>\n",
       "      <th>2</th>\n",
       "      <td>Anderson</td>\n",
       "      <td>0.0</td>\n",
       "      <td>0.0</td>\n",
       "      <td>0.0</td>\n",
       "      <td>0.0</td>\n",
       "      <td>0.0</td>\n",
       "      <td>0.0</td>\n",
       "      <td>0.0</td>\n",
       "      <td>0.0</td>\n",
       "      <td>0.0</td>\n",
       "      <td>...</td>\n",
       "      <td>0.0</td>\n",
       "      <td>1.0</td>\n",
       "      <td>0.0</td>\n",
       "      <td>1.0</td>\n",
       "      <td>0.0</td>\n",
       "      <td>0.0</td>\n",
       "      <td>0.0</td>\n",
       "      <td>0.0</td>\n",
       "      <td>0.0</td>\n",
       "      <td>0.0</td>\n",
       "    </tr>\n",
       "    <tr>\n",
       "      <th>3</th>\n",
       "      <td>Bailey</td>\n",
       "      <td>0.0</td>\n",
       "      <td>0.0</td>\n",
       "      <td>0.0</td>\n",
       "      <td>0.0</td>\n",
       "      <td>0.0</td>\n",
       "      <td>0.0</td>\n",
       "      <td>1.0</td>\n",
       "      <td>0.0</td>\n",
       "      <td>0.0</td>\n",
       "      <td>...</td>\n",
       "      <td>0.0</td>\n",
       "      <td>0.0</td>\n",
       "      <td>0.0</td>\n",
       "      <td>0.0</td>\n",
       "      <td>0.0</td>\n",
       "      <td>0.0</td>\n",
       "      <td>0.0</td>\n",
       "      <td>1.0</td>\n",
       "      <td>0.0</td>\n",
       "      <td>0.0</td>\n",
       "    </tr>\n",
       "    <tr>\n",
       "      <th>4</th>\n",
       "      <td>Baker</td>\n",
       "      <td>0.0</td>\n",
       "      <td>0.0</td>\n",
       "      <td>0.0</td>\n",
       "      <td>0.0</td>\n",
       "      <td>0.0</td>\n",
       "      <td>0.0</td>\n",
       "      <td>1.0</td>\n",
       "      <td>0.0</td>\n",
       "      <td>0.0</td>\n",
       "      <td>...</td>\n",
       "      <td>0.0</td>\n",
       "      <td>0.0</td>\n",
       "      <td>0.0</td>\n",
       "      <td>0.0</td>\n",
       "      <td>0.0</td>\n",
       "      <td>0.0</td>\n",
       "      <td>0.0</td>\n",
       "      <td>0.0</td>\n",
       "      <td>1.0</td>\n",
       "      <td>0.0</td>\n",
       "    </tr>\n",
       "  </tbody>\n",
       "</table>\n",
       "<p>5 rows × 33 columns</p>\n",
       "</div>"
      ],
      "text/plain": [
       "  customer_name  offer_1  offer_2  offer_3  offer_4  offer_5  offer_6  \\\n",
       "0         Adams      0.0      0.0      0.0      0.0      0.0      0.0   \n",
       "1         Allen      0.0      0.0      0.0      0.0      0.0      0.0   \n",
       "2      Anderson      0.0      0.0      0.0      0.0      0.0      0.0   \n",
       "3        Bailey      0.0      0.0      0.0      0.0      0.0      0.0   \n",
       "4         Baker      0.0      0.0      0.0      0.0      0.0      0.0   \n",
       "\n",
       "   offer_7  offer_8  offer_9  ...  offer_23  offer_24  offer_25  offer_26  \\\n",
       "0      0.0      0.0      0.0  ...       0.0       0.0       0.0       0.0   \n",
       "1      0.0      0.0      1.0  ...       0.0       0.0       0.0       0.0   \n",
       "2      0.0      0.0      0.0  ...       0.0       1.0       0.0       1.0   \n",
       "3      1.0      0.0      0.0  ...       0.0       0.0       0.0       0.0   \n",
       "4      1.0      0.0      0.0  ...       0.0       0.0       0.0       0.0   \n",
       "\n",
       "   offer_27  offer_28  offer_29  offer_30  offer_31  offer_32  \n",
       "0       0.0       0.0       1.0       1.0       0.0       0.0  \n",
       "1       1.0       0.0       0.0       0.0       0.0       0.0  \n",
       "2       0.0       0.0       0.0       0.0       0.0       0.0  \n",
       "3       0.0       0.0       0.0       1.0       0.0       0.0  \n",
       "4       0.0       0.0       0.0       0.0       1.0       0.0  \n",
       "\n",
       "[5 rows x 33 columns]"
      ]
     },
     "metadata": {},
     "output_type": "display_data"
    },
    {
     "name": "stdout",
     "output_type": "stream",
     "text": [
      "(100, 33)\n"
     ]
    }
   ],
   "source": [
    "# make a long table to a wide table using 'pivot'. Fill NaN's by 0. Reset index of the transformed dataframe to \n",
    "# make customer_name a column rather than the index. Must have inplace=True for the reset_index to work on the \n",
    "# original dataframe\n",
    "df_transformed = df_transactions.pivot(index='customer_name', columns='offer_id', values='n')\n",
    "df_transformed.columns = coln\n",
    "df_transformed.fillna(0,inplace=True)\n",
    "df_transformed.reset_index(inplace=True)\n",
    "display(df_transformed.head())\n",
    "print(df_transformed.shape)"
   ]
  },
  {
   "cell_type": "code",
   "execution_count": 8,
   "metadata": {},
   "outputs": [
    {
     "data": {
      "text/html": [
       "<div>\n",
       "<style scoped>\n",
       "    .dataframe tbody tr th:only-of-type {\n",
       "        vertical-align: middle;\n",
       "    }\n",
       "\n",
       "    .dataframe tbody tr th {\n",
       "        vertical-align: top;\n",
       "    }\n",
       "\n",
       "    .dataframe thead th {\n",
       "        text-align: right;\n",
       "    }\n",
       "</style>\n",
       "<table border=\"1\" class=\"dataframe\">\n",
       "  <thead>\n",
       "    <tr style=\"text-align: right;\">\n",
       "      <th></th>\n",
       "      <th>customer_name</th>\n",
       "      <th>offer_1</th>\n",
       "      <th>offer_2</th>\n",
       "      <th>offer_3</th>\n",
       "      <th>offer_4</th>\n",
       "      <th>offer_5</th>\n",
       "      <th>offer_6</th>\n",
       "      <th>offer_7</th>\n",
       "      <th>offer_8</th>\n",
       "      <th>offer_9</th>\n",
       "      <th>...</th>\n",
       "      <th>offer_23</th>\n",
       "      <th>offer_24</th>\n",
       "      <th>offer_25</th>\n",
       "      <th>offer_26</th>\n",
       "      <th>offer_27</th>\n",
       "      <th>offer_28</th>\n",
       "      <th>offer_29</th>\n",
       "      <th>offer_30</th>\n",
       "      <th>offer_31</th>\n",
       "      <th>offer_32</th>\n",
       "    </tr>\n",
       "  </thead>\n",
       "  <tbody>\n",
       "    <tr>\n",
       "      <th>83</th>\n",
       "      <td>Smith</td>\n",
       "      <td>0.0</td>\n",
       "      <td>1.0</td>\n",
       "      <td>0.0</td>\n",
       "      <td>0.0</td>\n",
       "      <td>0.0</td>\n",
       "      <td>0.0</td>\n",
       "      <td>0.0</td>\n",
       "      <td>0.0</td>\n",
       "      <td>0.0</td>\n",
       "      <td>...</td>\n",
       "      <td>0.0</td>\n",
       "      <td>1.0</td>\n",
       "      <td>0.0</td>\n",
       "      <td>0.0</td>\n",
       "      <td>0.0</td>\n",
       "      <td>0.0</td>\n",
       "      <td>0.0</td>\n",
       "      <td>0.0</td>\n",
       "      <td>0.0</td>\n",
       "      <td>0.0</td>\n",
       "    </tr>\n",
       "  </tbody>\n",
       "</table>\n",
       "<p>1 rows × 33 columns</p>\n",
       "</div>"
      ],
      "text/plain": [
       "   customer_name  offer_1  offer_2  offer_3  offer_4  offer_5  offer_6  \\\n",
       "83         Smith      0.0      1.0      0.0      0.0      0.0      0.0   \n",
       "\n",
       "    offer_7  offer_8  offer_9  ...  offer_23  offer_24  offer_25  offer_26  \\\n",
       "83      0.0      0.0      0.0  ...       0.0       1.0       0.0       0.0   \n",
       "\n",
       "    offer_27  offer_28  offer_29  offer_30  offer_31  offer_32  \n",
       "83       0.0       0.0       0.0       0.0       0.0       0.0  \n",
       "\n",
       "[1 rows x 33 columns]"
      ]
     },
     "execution_count": 8,
     "metadata": {},
     "output_type": "execute_result"
    }
   ],
   "source": [
    "# sanity check 1 customer name 'Smith'. The customer responded to offer 2 and 24\n",
    "df_transformed[df_transformed['customer_name']=='Smith']"
   ]
  },
  {
   "cell_type": "code",
   "execution_count": 9,
   "metadata": {},
   "outputs": [],
   "source": [
    "# merge the columns of 2 tables\n",
    "new_df = df_transactions.merge(df_offers, left_on='offer_id', right_on='offer_id')"
   ]
  },
  {
   "cell_type": "code",
   "execution_count": 10,
   "metadata": {},
   "outputs": [
    {
     "data": {
      "text/html": [
       "<div>\n",
       "<style scoped>\n",
       "    .dataframe tbody tr th:only-of-type {\n",
       "        vertical-align: middle;\n",
       "    }\n",
       "\n",
       "    .dataframe tbody tr th {\n",
       "        vertical-align: top;\n",
       "    }\n",
       "\n",
       "    .dataframe thead th {\n",
       "        text-align: right;\n",
       "    }\n",
       "</style>\n",
       "<table border=\"1\" class=\"dataframe\">\n",
       "  <thead>\n",
       "    <tr style=\"text-align: right;\">\n",
       "      <th></th>\n",
       "      <th>customer_name</th>\n",
       "      <th>offer_id</th>\n",
       "      <th>n</th>\n",
       "      <th>campaign</th>\n",
       "      <th>varietal</th>\n",
       "      <th>min_qty</th>\n",
       "      <th>discount</th>\n",
       "      <th>origin</th>\n",
       "      <th>past_peak</th>\n",
       "    </tr>\n",
       "  </thead>\n",
       "  <tbody>\n",
       "    <tr>\n",
       "      <th>0</th>\n",
       "      <td>Smith</td>\n",
       "      <td>2</td>\n",
       "      <td>1</td>\n",
       "      <td>January</td>\n",
       "      <td>Pinot Noir</td>\n",
       "      <td>72</td>\n",
       "      <td>17</td>\n",
       "      <td>France</td>\n",
       "      <td>False</td>\n",
       "    </tr>\n",
       "    <tr>\n",
       "      <th>1</th>\n",
       "      <td>Rodriguez</td>\n",
       "      <td>2</td>\n",
       "      <td>1</td>\n",
       "      <td>January</td>\n",
       "      <td>Pinot Noir</td>\n",
       "      <td>72</td>\n",
       "      <td>17</td>\n",
       "      <td>France</td>\n",
       "      <td>False</td>\n",
       "    </tr>\n",
       "    <tr>\n",
       "      <th>2</th>\n",
       "      <td>Martin</td>\n",
       "      <td>2</td>\n",
       "      <td>1</td>\n",
       "      <td>January</td>\n",
       "      <td>Pinot Noir</td>\n",
       "      <td>72</td>\n",
       "      <td>17</td>\n",
       "      <td>France</td>\n",
       "      <td>False</td>\n",
       "    </tr>\n",
       "    <tr>\n",
       "      <th>3</th>\n",
       "      <td>Jackson</td>\n",
       "      <td>2</td>\n",
       "      <td>1</td>\n",
       "      <td>January</td>\n",
       "      <td>Pinot Noir</td>\n",
       "      <td>72</td>\n",
       "      <td>17</td>\n",
       "      <td>France</td>\n",
       "      <td>False</td>\n",
       "    </tr>\n",
       "    <tr>\n",
       "      <th>4</th>\n",
       "      <td>Campbell</td>\n",
       "      <td>2</td>\n",
       "      <td>1</td>\n",
       "      <td>January</td>\n",
       "      <td>Pinot Noir</td>\n",
       "      <td>72</td>\n",
       "      <td>17</td>\n",
       "      <td>France</td>\n",
       "      <td>False</td>\n",
       "    </tr>\n",
       "  </tbody>\n",
       "</table>\n",
       "</div>"
      ],
      "text/plain": [
       "  customer_name  offer_id  n campaign    varietal  min_qty  discount  origin  \\\n",
       "0         Smith         2  1  January  Pinot Noir       72        17  France   \n",
       "1     Rodriguez         2  1  January  Pinot Noir       72        17  France   \n",
       "2        Martin         2  1  January  Pinot Noir       72        17  France   \n",
       "3       Jackson         2  1  January  Pinot Noir       72        17  France   \n",
       "4      Campbell         2  1  January  Pinot Noir       72        17  France   \n",
       "\n",
       "   past_peak  \n",
       "0      False  \n",
       "1      False  \n",
       "2      False  \n",
       "3      False  \n",
       "4      False  "
      ]
     },
     "metadata": {},
     "output_type": "display_data"
    },
    {
     "name": "stdout",
     "output_type": "stream",
     "text": [
      "(324, 9)\n"
     ]
    }
   ],
   "source": [
    "display(new_df.head())\n",
    "print(new_df.shape)"
   ]
  },
  {
   "cell_type": "code",
   "execution_count": null,
   "metadata": {},
   "outputs": [],
   "source": []
  },
  {
   "cell_type": "code",
   "execution_count": null,
   "metadata": {},
   "outputs": [],
   "source": []
  },
  {
   "cell_type": "markdown",
   "metadata": {},
   "source": [
    "## K-Means Clustering\n",
    "\n",
    "Recall that in K-Means Clustering we want to *maximize* the distance between centroids and *minimize* the distance between data points and the respective centroid for the cluster they are in. True evaluation for unsupervised learning would require labeled data; however, we can use a variety of intuitive metrics to try to pick the number of clusters K. We will introduce two methods: the Elbow method, the Silhouette method and the gap statistic."
   ]
  },
  {
   "cell_type": "markdown",
   "metadata": {},
   "source": [
    "### Choosing K: The Elbow Sum-of-Squares Method\n",
    "\n",
    "The first method looks at the sum-of-squares error in each cluster against $K$. We compute the distance from each data point to the center of the cluster (centroid) to which the data point was assigned. \n",
    "\n",
    "$$SS = \\sum_k \\sum_{x_i \\in C_k} \\sum_{x_j \\in C_k} \\left( x_i - x_j \\right)^2 = \\sum_k \\sum_{x_i \\in C_k} \\left( x_i - \\mu_k \\right)^2$$\n",
    "\n",
    "where $x_i$ is a point, $C_k$ represents cluster $k$ and $\\mu_k$ is the centroid for cluster $k$. We can plot SS vs. $K$ and choose the *elbow point* in the plot as the best value for $K$. The elbow point is the point at which the plot starts descending much more slowly. "
   ]
  },
  {
   "cell_type": "markdown",
   "metadata": {},
   "source": [
    "<div class=\"span5 alert alert-info\">\n",
    "<h3>Checkup Exercise Set II</h3>\n",
    "\n",
    "<p><b>Exercise:</b></p> \n",
    "<ul>\n",
    "<li> What values of $SS$ do you believe represent better clusterings? Why?\n",
    "<li> Create a numpy matrix `x_cols` with only the columns representing the offers (i.e. the 0/1 colums) \n",
    "<li> Write code that applies the [`KMeans`](http://scikit-learn.org/stable/modules/generated/sklearn.cluster.KMeans.html) clustering method from scikit-learn to this matrix. \n",
    "<li> Construct a plot showing $SS$ for each $K$ and pick $K$ using this plot. For simplicity, test $2 \\le K \\le 10$.\n",
    "<li> Make a bar chart showing the number of points in each cluster for k-means under the best $K$.\n",
    "<li> What challenges did you experience using the Elbow method to pick $K$?\n",
    "</ul>\n",
    "</div>"
   ]
  },
  {
   "cell_type": "markdown",
   "metadata": {},
   "source": [
    "## Answers:\n",
    "Smaller SS represent better clusterings. Because smaller SS meaning the points in the same cluster are closer \n",
    "and more concentrated around the centroids of each cluster.\n",
    "Create a numpy matrix `x_cols` with only the columns representing the offers (i.e. the 0/1 colums) "
   ]
  },
  {
   "cell_type": "code",
   "execution_count": 11,
   "metadata": {},
   "outputs": [
    {
     "data": {
      "text/html": [
       "<div>\n",
       "<style scoped>\n",
       "    .dataframe tbody tr th:only-of-type {\n",
       "        vertical-align: middle;\n",
       "    }\n",
       "\n",
       "    .dataframe tbody tr th {\n",
       "        vertical-align: top;\n",
       "    }\n",
       "\n",
       "    .dataframe thead th {\n",
       "        text-align: right;\n",
       "    }\n",
       "</style>\n",
       "<table border=\"1\" class=\"dataframe\">\n",
       "  <thead>\n",
       "    <tr style=\"text-align: right;\">\n",
       "      <th></th>\n",
       "      <th>offer_1</th>\n",
       "      <th>offer_2</th>\n",
       "      <th>offer_3</th>\n",
       "      <th>offer_4</th>\n",
       "      <th>offer_5</th>\n",
       "      <th>offer_6</th>\n",
       "      <th>offer_7</th>\n",
       "      <th>offer_8</th>\n",
       "      <th>offer_9</th>\n",
       "      <th>offer_10</th>\n",
       "      <th>...</th>\n",
       "      <th>offer_23</th>\n",
       "      <th>offer_24</th>\n",
       "      <th>offer_25</th>\n",
       "      <th>offer_26</th>\n",
       "      <th>offer_27</th>\n",
       "      <th>offer_28</th>\n",
       "      <th>offer_29</th>\n",
       "      <th>offer_30</th>\n",
       "      <th>offer_31</th>\n",
       "      <th>offer_32</th>\n",
       "    </tr>\n",
       "  </thead>\n",
       "  <tbody>\n",
       "    <tr>\n",
       "      <th>0</th>\n",
       "      <td>0.0</td>\n",
       "      <td>0.0</td>\n",
       "      <td>0.0</td>\n",
       "      <td>0.0</td>\n",
       "      <td>0.0</td>\n",
       "      <td>0.0</td>\n",
       "      <td>0.0</td>\n",
       "      <td>0.0</td>\n",
       "      <td>0.0</td>\n",
       "      <td>0.0</td>\n",
       "      <td>...</td>\n",
       "      <td>0.0</td>\n",
       "      <td>0.0</td>\n",
       "      <td>0.0</td>\n",
       "      <td>0.0</td>\n",
       "      <td>0.0</td>\n",
       "      <td>0.0</td>\n",
       "      <td>1.0</td>\n",
       "      <td>1.0</td>\n",
       "      <td>0.0</td>\n",
       "      <td>0.0</td>\n",
       "    </tr>\n",
       "    <tr>\n",
       "      <th>1</th>\n",
       "      <td>0.0</td>\n",
       "      <td>0.0</td>\n",
       "      <td>0.0</td>\n",
       "      <td>0.0</td>\n",
       "      <td>0.0</td>\n",
       "      <td>0.0</td>\n",
       "      <td>0.0</td>\n",
       "      <td>0.0</td>\n",
       "      <td>1.0</td>\n",
       "      <td>0.0</td>\n",
       "      <td>...</td>\n",
       "      <td>0.0</td>\n",
       "      <td>0.0</td>\n",
       "      <td>0.0</td>\n",
       "      <td>0.0</td>\n",
       "      <td>1.0</td>\n",
       "      <td>0.0</td>\n",
       "      <td>0.0</td>\n",
       "      <td>0.0</td>\n",
       "      <td>0.0</td>\n",
       "      <td>0.0</td>\n",
       "    </tr>\n",
       "    <tr>\n",
       "      <th>2</th>\n",
       "      <td>0.0</td>\n",
       "      <td>0.0</td>\n",
       "      <td>0.0</td>\n",
       "      <td>0.0</td>\n",
       "      <td>0.0</td>\n",
       "      <td>0.0</td>\n",
       "      <td>0.0</td>\n",
       "      <td>0.0</td>\n",
       "      <td>0.0</td>\n",
       "      <td>0.0</td>\n",
       "      <td>...</td>\n",
       "      <td>0.0</td>\n",
       "      <td>1.0</td>\n",
       "      <td>0.0</td>\n",
       "      <td>1.0</td>\n",
       "      <td>0.0</td>\n",
       "      <td>0.0</td>\n",
       "      <td>0.0</td>\n",
       "      <td>0.0</td>\n",
       "      <td>0.0</td>\n",
       "      <td>0.0</td>\n",
       "    </tr>\n",
       "    <tr>\n",
       "      <th>3</th>\n",
       "      <td>0.0</td>\n",
       "      <td>0.0</td>\n",
       "      <td>0.0</td>\n",
       "      <td>0.0</td>\n",
       "      <td>0.0</td>\n",
       "      <td>0.0</td>\n",
       "      <td>1.0</td>\n",
       "      <td>0.0</td>\n",
       "      <td>0.0</td>\n",
       "      <td>0.0</td>\n",
       "      <td>...</td>\n",
       "      <td>0.0</td>\n",
       "      <td>0.0</td>\n",
       "      <td>0.0</td>\n",
       "      <td>0.0</td>\n",
       "      <td>0.0</td>\n",
       "      <td>0.0</td>\n",
       "      <td>0.0</td>\n",
       "      <td>1.0</td>\n",
       "      <td>0.0</td>\n",
       "      <td>0.0</td>\n",
       "    </tr>\n",
       "    <tr>\n",
       "      <th>4</th>\n",
       "      <td>0.0</td>\n",
       "      <td>0.0</td>\n",
       "      <td>0.0</td>\n",
       "      <td>0.0</td>\n",
       "      <td>0.0</td>\n",
       "      <td>0.0</td>\n",
       "      <td>1.0</td>\n",
       "      <td>0.0</td>\n",
       "      <td>0.0</td>\n",
       "      <td>1.0</td>\n",
       "      <td>...</td>\n",
       "      <td>0.0</td>\n",
       "      <td>0.0</td>\n",
       "      <td>0.0</td>\n",
       "      <td>0.0</td>\n",
       "      <td>0.0</td>\n",
       "      <td>0.0</td>\n",
       "      <td>0.0</td>\n",
       "      <td>0.0</td>\n",
       "      <td>1.0</td>\n",
       "      <td>0.0</td>\n",
       "    </tr>\n",
       "  </tbody>\n",
       "</table>\n",
       "<p>5 rows × 32 columns</p>\n",
       "</div>"
      ],
      "text/plain": [
       "   offer_1  offer_2  offer_3  offer_4  offer_5  offer_6  offer_7  offer_8  \\\n",
       "0      0.0      0.0      0.0      0.0      0.0      0.0      0.0      0.0   \n",
       "1      0.0      0.0      0.0      0.0      0.0      0.0      0.0      0.0   \n",
       "2      0.0      0.0      0.0      0.0      0.0      0.0      0.0      0.0   \n",
       "3      0.0      0.0      0.0      0.0      0.0      0.0      1.0      0.0   \n",
       "4      0.0      0.0      0.0      0.0      0.0      0.0      1.0      0.0   \n",
       "\n",
       "   offer_9  offer_10  ...  offer_23  offer_24  offer_25  offer_26  offer_27  \\\n",
       "0      0.0       0.0  ...       0.0       0.0       0.0       0.0       0.0   \n",
       "1      1.0       0.0  ...       0.0       0.0       0.0       0.0       1.0   \n",
       "2      0.0       0.0  ...       0.0       1.0       0.0       1.0       0.0   \n",
       "3      0.0       0.0  ...       0.0       0.0       0.0       0.0       0.0   \n",
       "4      0.0       1.0  ...       0.0       0.0       0.0       0.0       0.0   \n",
       "\n",
       "   offer_28  offer_29  offer_30  offer_31  offer_32  \n",
       "0       0.0       1.0       1.0       0.0       0.0  \n",
       "1       0.0       0.0       0.0       0.0       0.0  \n",
       "2       0.0       0.0       0.0       0.0       0.0  \n",
       "3       0.0       0.0       1.0       0.0       0.0  \n",
       "4       0.0       0.0       0.0       1.0       0.0  \n",
       "\n",
       "[5 rows x 32 columns]"
      ]
     },
     "metadata": {},
     "output_type": "display_data"
    },
    {
     "name": "stdout",
     "output_type": "stream",
     "text": [
      "[[0. 0. 0. 0. 0. 0. 0. 0. 0. 0. 0. 0. 0. 0. 0. 0. 0. 1. 0. 0. 0. 0. 0. 0.\n",
      "  0. 0. 0. 0. 1. 1. 0. 0.]\n",
      " [0. 0. 0. 0. 0. 0. 0. 0. 1. 0. 0. 0. 0. 0. 0. 0. 0. 0. 0. 0. 0. 0. 0. 0.\n",
      "  0. 0. 1. 0. 0. 0. 0. 0.]]\n"
     ]
    }
   ],
   "source": [
    "# your turn\n",
    "data_need = df_transformed.iloc[:,1:]\n",
    "display(data_need.head())\n",
    "x_cols = data_need.values\n",
    "print(x_cols[:2,])"
   ]
  },
  {
   "cell_type": "code",
   "execution_count": 12,
   "metadata": {
    "scrolled": false
   },
   "outputs": [
    {
     "name": "stdout",
     "output_type": "stream",
     "text": [
      "[[251.76, 227.625, 215.42570806100218, 205.27944664031617, 196.29624542124543, 188.21875346875345, 180.35722116119177, 174.21212121212122, 167.1938596491228], [5, 12, 6, 5, 7, 6, 5, 3, 3]]\n"
     ]
    }
   ],
   "source": [
    "# Write code that applies the [`KMeans`] clustering method from scikit-learn to this matrix. \n",
    "# Construct a plot showing 𝑆𝑆 for each 𝐾 and pick 𝐾 using this plot. For simplicity, test 2≤𝐾≤10. \n",
    "from sklearn import metrics\n",
    "from sklearn.cluster import KMeans\n",
    "from sklearn.decomposition import PCA\n",
    "from sklearn.preprocessing import scale\n",
    "center = []\n",
    "keepinertia = []  # this is SS\n",
    "labs = []\n",
    "total_niter = []\n",
    "for K in range(2,11):\n",
    "    km = sklearn.cluster.KMeans(n_clusters=K, random_state=123)\n",
    "    km.fit(x_cols)\n",
    "    center.append(km.cluster_centers_)\n",
    "    #print(len(center))\n",
    "    labs.append(km.labels_)\n",
    "    keepinertia.append(km.inertia_)\n",
    "    total_niter.append(km.n_iter_)\n",
    "\n",
    "print([keepinertia,total_niter])\n",
    "#print(center)\n",
    "#print(labs)"
   ]
  },
  {
   "cell_type": "code",
   "execution_count": 13,
   "metadata": {},
   "outputs": [
    {
     "data": {
      "text/html": [
       "<div>\n",
       "<style scoped>\n",
       "    .dataframe tbody tr th:only-of-type {\n",
       "        vertical-align: middle;\n",
       "    }\n",
       "\n",
       "    .dataframe tbody tr th {\n",
       "        vertical-align: top;\n",
       "    }\n",
       "\n",
       "    .dataframe thead th {\n",
       "        text-align: right;\n",
       "    }\n",
       "</style>\n",
       "<table border=\"1\" class=\"dataframe\">\n",
       "  <thead>\n",
       "    <tr style=\"text-align: right;\">\n",
       "      <th></th>\n",
       "      <th>SS</th>\n",
       "      <th>K</th>\n",
       "    </tr>\n",
       "  </thead>\n",
       "  <tbody>\n",
       "    <tr>\n",
       "      <th>0</th>\n",
       "      <td>251.760000</td>\n",
       "      <td>2</td>\n",
       "    </tr>\n",
       "    <tr>\n",
       "      <th>1</th>\n",
       "      <td>227.625000</td>\n",
       "      <td>3</td>\n",
       "    </tr>\n",
       "    <tr>\n",
       "      <th>2</th>\n",
       "      <td>215.425708</td>\n",
       "      <td>4</td>\n",
       "    </tr>\n",
       "    <tr>\n",
       "      <th>3</th>\n",
       "      <td>205.279447</td>\n",
       "      <td>5</td>\n",
       "    </tr>\n",
       "    <tr>\n",
       "      <th>4</th>\n",
       "      <td>196.296245</td>\n",
       "      <td>6</td>\n",
       "    </tr>\n",
       "    <tr>\n",
       "      <th>5</th>\n",
       "      <td>188.218753</td>\n",
       "      <td>7</td>\n",
       "    </tr>\n",
       "    <tr>\n",
       "      <th>6</th>\n",
       "      <td>180.357221</td>\n",
       "      <td>8</td>\n",
       "    </tr>\n",
       "    <tr>\n",
       "      <th>7</th>\n",
       "      <td>174.212121</td>\n",
       "      <td>9</td>\n",
       "    </tr>\n",
       "    <tr>\n",
       "      <th>8</th>\n",
       "      <td>167.193860</td>\n",
       "      <td>10</td>\n",
       "    </tr>\n",
       "  </tbody>\n",
       "</table>\n",
       "</div>"
      ],
      "text/plain": [
       "           SS   K\n",
       "0  251.760000   2\n",
       "1  227.625000   3\n",
       "2  215.425708   4\n",
       "3  205.279447   5\n",
       "4  196.296245   6\n",
       "5  188.218753   7\n",
       "6  180.357221   8\n",
       "7  174.212121   9\n",
       "8  167.193860  10"
      ]
     },
     "execution_count": 13,
     "metadata": {},
     "output_type": "execute_result"
    }
   ],
   "source": [
    "ss = pd.DataFrame(keepinertia)\n",
    "ss.rename(columns = {0:'SS'}, inplace = True) \n",
    "ss['K'] = range(2,11)\n",
    "ss"
   ]
  },
  {
   "cell_type": "code",
   "execution_count": 14,
   "metadata": {},
   "outputs": [
    {
     "data": {
      "image/png": "[encoded data removed]",
      "text/plain": [
       "<Figure size 432x288 with 1 Axes>"
      ]
     },
     "metadata": {
      "needs_background": "light"
     },
     "output_type": "display_data"
    }
   ],
   "source": [
    "ax = plt.gca()\n",
    "ss.plot(kind='line', x='K', y='SS',ax=ax, marker='.')\n",
    "plt.title('SS for each cluster size K')\n",
    "plt.show()"
   ]
  },
  {
   "cell_type": "code",
   "execution_count": 15,
   "metadata": {},
   "outputs": [
    {
     "name": "stdout",
     "output_type": "stream",
     "text": [
      "0    48\n",
      "2    36\n",
      "1    16\n",
      "dtype: int64\n"
     ]
    },
    {
     "data": {
      "image/png": "[encoded data removed]",
      "text/plain": [
       "<Figure size 432x288 with 1 Axes>"
      ]
     },
     "metadata": {
      "needs_background": "light"
     },
     "output_type": "display_data"
    }
   ],
   "source": [
    "# Make a bar chart showing the number of points in each cluster for k-means under the best 𝐾. \n",
    "# choose K = 3 as the best cluster size\n",
    "# labs[1] corresponds to the labels when K = 3\n",
    "# cluster 0 has 48 customers, cluster 1 has 16 customers, cluster 2 has 36 customers\n",
    "print(pd.Series(labs[1]).value_counts())\n",
    "import numpy as np\n",
    "pd.Series(labs[1]).hist()\n",
    "plt.xticks(np.arange(0,3), ('1','2','3'))\n",
    "plt.xlabel('Cluster #')\n",
    "plt.ylabel('Count')\n",
    "plt.title('Number of points / customers in each\\n cluster under the best K = 3')\n",
    "plt.show()"
   ]
  },
  {
   "cell_type": "markdown",
   "metadata": {},
   "source": [
    "## What challenges did you experience using the Elbow method to pick 𝐾? \n",
    "## Answer:\n",
    "Challenge is when selecting the best K based on SS values, the drops in SS are quite similar for each increment \n",
    "in K, there's not really an \"Elbow\" point."
   ]
  },
  {
   "cell_type": "code",
   "execution_count": null,
   "metadata": {},
   "outputs": [],
   "source": []
  },
  {
   "cell_type": "markdown",
   "metadata": {},
   "source": [
    "### Choosing K: The Silhouette Method\n",
    "\n",
    "There exists another method that measures how well each datapoint $x_i$ \"fits\" its assigned cluster *and also* how poorly it fits into other clusters. This is a different way of looking at the same objective. Denote $a_{x_i}$ as the *average* distance from $x_i$ to all other points within its own cluster $k$. The lower the value, the better. On the other hand $b_{x_i}$ is the minimum average distance from $x_i$ to points in a different cluster, minimized over clusters. That is, compute separately for each cluster the average distance from $x_i$ to the points within that cluster, and then take the minimum. The silhouette $s(x_i)$ is defined as\n",
    "\n",
    "$$s(x_i) = \\frac{b_{x_i} - a_{x_i}}{\\max{\\left( a_{x_i}, b_{x_i}\\right)}}$$\n",
    "\n",
    "The silhouette score is computed on *every datapoint in every cluster*. The silhouette score ranges from -1 (a poor clustering) to +1 (a very dense clustering) with 0 denoting the situation where clusters overlap. Some criteria for the silhouette coefficient is provided in the table below."
   ]
  },
  {
   "cell_type": "markdown",
   "metadata": {},
   "source": [
    "<pre>\n",
    "\n",
    "| Range       | Interpretation                                |\n",
    "|-------------|-----------------------------------------------|\n",
    "| 0.71 - 1.0  | A strong structure has been found.            |\n",
    "| 0.51 - 0.7  | A reasonable structure has been found.        |\n",
    "| 0.26 - 0.5  | The structure is weak and could be artificial.|\n",
    "| < 0.25      | No substantial structure has been found.      |\n",
    "\n",
    "</pre>\n",
    "Source: http://www.stat.berkeley.edu/~spector/s133/Clus.html"
   ]
  },
  {
   "cell_type": "markdown",
   "metadata": {},
   "source": [
    "Fortunately, scikit-learn provides a function to compute this for us (phew!) called [`sklearn.metrics.silhouette_score`](http://scikit-learn.org/stable/modules/generated/sklearn.metrics.silhouette_score.html). Take a look at [this article](http://scikit-learn.org/stable/auto_examples/cluster/plot_kmeans_silhouette_analysis.html) on picking $K$ in scikit-learn, as it will help you in the next exercise set."
   ]
  },
  {
   "cell_type": "markdown",
   "metadata": {},
   "source": [
    "<div class=\"span5 alert alert-info\">\n",
    "<h3>Checkup Exercise Set III</h3>\n",
    "\n",
    "<p><b>Exercise:</b> Using the documentation for the `silhouette_score` function above, construct a series of silhouette plots like the ones in the article linked above.</p>\n",
    "\n",
    "<p><b>Exercise:</b> Compute the average silhouette score for each $K$ and plot it. What $K$ does the plot suggest we should choose? Does it differ from what we found using the Elbow method?</p>\n",
    "</div>"
   ]
  },
  {
   "cell_type": "code",
   "execution_count": 16,
   "metadata": {},
   "outputs": [],
   "source": [
    "from sklearn.metrics import silhouette_samples, silhouette_score\n",
    "import matplotlib.pyplot as plt\n",
    "import matplotlib.cm as cm\n",
    "import numpy as np"
   ]
  },
  {
   "cell_type": "code",
   "execution_count": 17,
   "metadata": {},
   "outputs": [
    {
     "name": "stdout",
     "output_type": "stream",
     "text": [
      "For n_clusters = 2 The average silhouette_score is : 0.08206113079944462\n",
      "For n_clusters = 3 The average silhouette_score is : 0.12101628521627421\n",
      "For n_clusters = 4 The average silhouette_score is : 0.12416494377606797\n",
      "For n_clusters = 5 The average silhouette_score is : 0.11593800645322037\n",
      "For n_clusters = 6 The average silhouette_score is : 0.1319407030176781\n",
      "For n_clusters = 7 The average silhouette_score is : 0.09894629408384592\n",
      "For n_clusters = 8 The average silhouette_score is : 0.12990584815609205\n",
      "For n_clusters = 9 The average silhouette_score is : 0.11496043578541626\n",
      "For n_clusters = 10 The average silhouette_score is : 0.13507870304456204\n"
     ]
    },
    {
     "data": {
      "image/png": "[encoded data removed]",
      "text/plain": [
       "<Figure size 576x432 with 1 Axes>"
      ]
     },
     "metadata": {
      "needs_background": "light"
     },
     "output_type": "display_data"
    },
    {
     "data": {
      "image/png": "[encoded data removed]",
      "text/plain": [
       "<Figure size 576x432 with 1 Axes>"
      ]
     },
     "metadata": {
      "needs_background": "light"
     },
     "output_type": "display_data"
    },
    {
     "data": {
      "image/png": "[encoded data removed]",
      "text/plain": [
       "<Figure size 576x432 with 1 Axes>"
      ]
     },
     "metadata": {
      "needs_background": "light"
     },
     "output_type": "display_data"
    },
    {
     "data": {
      "image/png": "[encoded data removed]",
      "text/plain": [
       "<Figure size 576x432 with 1 Axes>"
      ]
     },
     "metadata": {
      "needs_background": "light"
     },
     "output_type": "display_data"
    },
    {
     "data": {
      "image/png": "[encoded data removed]",
      "text/plain": [
       "<Figure size 576x432 with 1 Axes>"
      ]
     },
     "metadata": {
      "needs_background": "light"
     },
     "output_type": "display_data"
    },
    {
     "data": {
      "image/png": "[encoded data removed]",
      "text/plain": [
       "<Figure size 576x432 with 1 Axes>"
      ]
     },
     "metadata": {
      "needs_background": "light"
     },
     "output_type": "display_data"
    },
    {
     "data": {
      "image/png": "[encoded data removed]",
      "text/plain": [
       "<Figure size 576x432 with 1 Axes>"
      ]
     },
     "metadata": {
      "needs_background": "light"
     },
     "output_type": "display_data"
    },
    {
     "data": {
      "image/png": "[encoded data removed]",
      "text/plain": [
       "<Figure size 576x432 with 1 Axes>"
      ]
     },
     "metadata": {
      "needs_background": "light"
     },
     "output_type": "display_data"
    },
    {
     "data": {
      "image/png": "[encoded data removed]",
      "text/plain": [
       "<Figure size 576x432 with 1 Axes>"
      ]
     },
     "metadata": {
      "needs_background": "light"
     },
     "output_type": "display_data"
    }
   ],
   "source": [
    "# Your turn.\n",
    "\n",
    "range_n_clusters = [2, 3, 4, 5, 6, 7, 8, 9, 10]\n",
    "\n",
    "for n_clusters in range_n_clusters:\n",
    "    # Create a subplot with 1 row and 2 columns\n",
    "    plt.figure(figsize=(8,6))\n",
    "    ax1 = plt.gca()\n",
    "    \n",
    "    # The 1st subplot is the silhouette plot\n",
    "    # The silhouette coefficient can range from -1, 1 \n",
    "    ax1.set_xlim([-0.2, 0.6])\n",
    "    # The (n_clusters+1)*10 is for inserting blank space between silhouette\n",
    "    # plots of individual clusters, to demarcate them clearly.\n",
    "    ax1.set_ylim([0, len(x_cols) + (n_clusters + 1) * 10])\n",
    "\n",
    "    # Initialize the clusterer with n_clusters value and a random generator\n",
    "    # seed of 10 for reproducibility.\n",
    "    clusterer = KMeans(n_clusters=n_clusters, random_state=123)\n",
    "    cluster_labels = clusterer.fit_predict(x_cols)\n",
    "\n",
    "    # The silhouette_score gives the average value for all the samples.\n",
    "    # This gives a perspective into the density and separation of the formed\n",
    "    # clusters\n",
    "    silhouette_avg = silhouette_score(x_cols, cluster_labels)\n",
    "    print(\"For n_clusters =\", n_clusters,\n",
    "          \"The average silhouette_score is :\", silhouette_avg)\n",
    "\n",
    "    # Compute the silhouette scores for each sample\n",
    "    sample_silhouette_values = silhouette_samples(x_cols, cluster_labels)\n",
    "\n",
    "    y_lower = 10\n",
    "    for i in range(n_clusters):\n",
    "        # Aggregate the silhouette scores for samples belonging to\n",
    "        # cluster i, and sort them\n",
    "        ith_cluster_silhouette_values = \\\n",
    "            sample_silhouette_values[cluster_labels == i]\n",
    "\n",
    "        ith_cluster_silhouette_values.sort()\n",
    "\n",
    "        size_cluster_i = ith_cluster_silhouette_values.shape[0]\n",
    "        y_upper = y_lower + size_cluster_i\n",
    "\n",
    "        color = cm.nipy_spectral(float(i) / n_clusters)\n",
    "        ax1.fill_betweenx(np.arange(y_lower, y_upper),\n",
    "                          0, ith_cluster_silhouette_values,\n",
    "                          facecolor=color, edgecolor=color, alpha=0.7)\n",
    "\n",
    "        # Label the silhouette plots with their cluster numbers at the middle\n",
    "        ax1.text(-0.05, y_lower + 0.5 * size_cluster_i, str(i))\n",
    "\n",
    "        # Compute the new y_lower for next plot\n",
    "        y_lower = y_upper + 10  # 10 for the 0 samples\n",
    "\n",
    "    ax1.set_title(\"The silhouette plot for the various clusters.\")\n",
    "    ax1.set_xlabel(\"The silhouette coefficient values\")\n",
    "    ax1.set_ylabel(\"Cluster label\")\n",
    "\n",
    "    # The vertical line for average silhouette score of all the values\n",
    "    ax1.axvline(x=silhouette_avg, color=\"red\", linestyle=\"--\")\n",
    "\n",
    "    ax1.set_yticks([])  # Clear the yaxis labels / ticks\n",
    "    ax1.set_xticks([-0.2, 0, 0.2, 0.4, 0.6])\n",
    "\n",
    "    plt.suptitle((\"Silhouette analysis for KMeans clustering on sample data \"\n",
    "                  \"with n_clusters = %d\" % n_clusters),\n",
    "                 fontsize=14, fontweight='bold')\n",
    "\n",
    "plt.show()"
   ]
  },
  {
   "cell_type": "markdown",
   "metadata": {},
   "source": [
    "## Compute the average silhouette score for each 𝐾 and plot it. What 𝐾 does the plot suggest we should choose? Does it differ from what we found using the Elbow method?\n",
    "\n",
    "## Answer:\n",
    "Based on the output average silhouette_score, K = 10 seems to be a good choice (highest score and similar thickness for different clusters)"
   ]
  },
  {
   "cell_type": "markdown",
   "metadata": {},
   "source": [
    "### Choosing $K$: The Gap Statistic\n",
    "\n",
    "There is one last method worth covering for picking $K$, the so-called Gap statistic. The computation for the gap statistic builds on the sum-of-squares established in the Elbow method discussion, and compares it to the sum-of-squares of a \"null distribution,\" that is, a random set of points with no clustering. The estimate for the optimal number of clusters $K$ is the value for which $\\log{SS}$ falls the farthest below that of the reference distribution:\n",
    "\n",
    "$$G_k = E_n^*\\{\\log SS_k\\} - \\log SS_k$$\n",
    "\n",
    "In other words a good clustering yields a much larger difference between the reference distribution and the clustered data. The reference distribution is a Monte Carlo (randomization) procedure that constructs $B$ random distributions of points within the bounding box (limits) of the original data and then applies K-means to this synthetic distribution of data points.. $E_n^*\\{\\log SS_k\\}$ is just the average $SS_k$ over all $B$ replicates. We then compute the standard deviation $\\sigma_{SS}$ of the values of $SS_k$ computed from the $B$ replicates of the reference distribution and compute\n",
    "\n",
    "$$s_k = \\sqrt{1+1/B}\\sigma_{SS}$$\n",
    "\n",
    "Finally, we choose $K=k$ such that $G_k \\geq G_{k+1} - s_{k+1}$."
   ]
  },
  {
   "cell_type": "markdown",
   "metadata": {},
   "source": [
    "### Aside: Choosing $K$ when we Have Labels\n",
    "\n",
    "Unsupervised learning expects that we do not have the labels. In some situations, we may wish to cluster data that is labeled. Computing the optimal number of clusters is much easier if we have access to labels. There are several methods available. We will not go into the math or details since it is rare to have access to the labels, but we provide the names and references of these measures.\n",
    "\n",
    "* Adjusted Rand Index\n",
    "* Mutual Information\n",
    "* V-Measure\n",
    "* Fowlkes–Mallows index\n",
    "\n",
    "See [this article](http://scikit-learn.org/stable/modules/clustering.html) for more information about these metrics."
   ]
  },
  {
   "cell_type": "markdown",
   "metadata": {},
   "source": [
    "## Visualizing Clusters using PCA\n",
    "\n",
    "How do we visualize clusters? If we only had two features, we could likely plot the data as is. But we have 100 data points each containing 32 features (dimensions). Principal Component Analysis (PCA) will help us reduce the dimensionality of our data from 32 to something lower. For a visualization on the coordinate plane, we will use 2 dimensions. In this exercise, we're going to use it to transform our multi-dimensional dataset into a 2 dimensional dataset.\n",
    "\n",
    "This is only one use of PCA for dimension reduction. We can also use PCA when we want to perform regression but we have a set of highly correlated variables. PCA untangles these correlations into a smaller number of features/predictors all of which are orthogonal (not correlated). PCA is also used to reduce a large set of variables into a much smaller one."
   ]
  },
  {
   "cell_type": "markdown",
   "metadata": {},
   "source": [
    "<div class=\"span5 alert alert-info\">\n",
    "<h3>Checkup Exercise Set IV</h3>\n",
    "\n",
    "<p><b>Exercise:</b> Use PCA to plot your clusters:</p>\n",
    "\n",
    "<ul>\n",
    "<li> Use scikit-learn's [`PCA`](http://scikit-learn.org/stable/modules/generated/sklearn.decomposition.PCA.html) function to reduce the dimensionality of your clustering data to 2 components\n",
    "<li> Create a data frame with the following fields:\n",
    "  <ul>\n",
    "  <li> customer name\n",
    "  <li> cluster id the customer belongs to\n",
    "  <li> the two PCA components (label them `x` and `y`)\n",
    "  </ul>\n",
    "<li> Plot a scatterplot of the `x` vs `y` columns\n",
    "<li> Color-code points differently based on cluster ID\n",
    "<li> How do the clusters look? \n",
    "<li> Based on what you see, what seems to be the best value for $K$? Moreover, which method of choosing $K$ seems to have produced the optimal result visually?\n",
    "</ul>\n",
    "\n",
    "<p><b>Exercise:</b> Now look at both the original raw data about the offers and transactions and look at the fitted clusters. Tell a story about the clusters in context of the original data. For example, do the clusters correspond to wine variants or something else interesting?</p>\n",
    "</div>"
   ]
  },
  {
   "cell_type": "code",
   "execution_count": 18,
   "metadata": {},
   "outputs": [
    {
     "name": "stdout",
     "output_type": "stream",
     "text": [
      "[0.4096489  0.30753551]\n",
      "[0.14386393 0.10800289]\n",
      "[6.36829969 5.51779083]\n",
      "[[-1.61685077e-01 -1.30215063e-01 -1.84050593e-02 -1.75254977e-01\n",
      "  -6.71199120e-02 -1.53633007e-01  3.43672871e-01  3.32419546e-01\n",
      "  -1.36167969e-01 -5.26447239e-02 -1.61805935e-01 -2.56376321e-02\n",
      "   1.80935307e-01 -1.33907190e-01 -1.14720579e-01 -3.22645660e-02\n",
      "  -6.96938803e-02  2.71425446e-01  1.33030665e-04 -9.33371491e-02\n",
      "  -9.54554593e-03 -2.20113686e-01 -7.94434100e-02 -1.18974084e-01\n",
      "  -5.22674866e-02 -2.22019827e-01 -1.00333136e-01 -3.91817202e-02\n",
      "   3.80350120e-01  4.06842531e-01 -1.51939820e-01 -5.43808433e-02]\n",
      " [-8.24683263e-02  1.93015011e-01 -1.16619233e-01 -1.55288030e-01\n",
      "  -1.76514596e-03 -2.65392065e-01 -1.25240657e-01 -1.16386245e-01\n",
      "  -5.10187902e-02 -8.88374252e-02 -9.23927062e-02  7.06174903e-03\n",
      "  -6.76688926e-03 -8.97986073e-02 -9.48767029e-02  7.28049722e-03\n",
      "   2.75093525e-01 -9.53781102e-03 -1.23051435e-01 -3.72086938e-02\n",
      "  -5.83598747e-02 -4.43740078e-01 -4.30889972e-02  4.45110718e-01\n",
      "  -2.20426351e-02  4.01640935e-01 -9.59064504e-02 -3.82280399e-02\n",
      "   1.50540421e-02 -8.89413204e-02 -3.26205668e-01 -5.21946669e-02]]\n",
      "[0.1  0.1  0.06 0.12 0.04 0.12 0.19 0.2  0.1  0.07 0.13 0.05 0.06 0.09\n",
      " 0.06 0.05 0.07 0.14 0.05 0.06 0.04 0.21 0.05 0.12 0.06 0.15 0.09 0.06\n",
      " 0.17 0.22 0.17 0.04]\n"
     ]
    }
   ],
   "source": [
    "#your turn\n",
    "from sklearn.decomposition import PCA\n",
    "pca = PCA(n_components=2)\n",
    "pca.fit(x_cols)\n",
    "print(pca.explained_variance_)\n",
    "print(pca.explained_variance_ratio_)\n",
    "# The singular values corresponding to each of the selected components. \n",
    "# The singular values are equal to the 2-norms of the n_components variables in the lower-dimensional space.\n",
    "print(pca.singular_values_)\n",
    "# Principal axes in feature space, representing the directions of maximum variance in the data. \n",
    "# The components are sorted by explained_variance_.\n",
    "print(pca.components_)\n",
    "print(pca.mean_)"
   ]
  },
  {
   "cell_type": "code",
   "execution_count": 19,
   "metadata": {},
   "outputs": [
    {
     "name": "stdout",
     "output_type": "stream",
     "text": [
      "[2 0 1 2 0 0 1 2 0 2 0 1 2 0 2 1 0 1 2 0 2 2 0 0 1 0 0 0 0 1 2 2 0 0 2 2 0\n",
      " 2 0 2 1 1 2 0 2 0 2 2 0 0 0 0 0 1 0 2 1 2 2 0 0 2 0 2 2 1 1 0 0 0 0 0 0 2\n",
      " 0 2 1 2 2 1 0 0 0 1 2 2 2 0 0 2 0 2 0 2 0 0 2 0 0 0]\n"
     ]
    }
   ],
   "source": [
    "# use the K = 3 recommendation I have in previous exercise to cluster customers\n",
    "print(labs[1])"
   ]
  },
  {
   "cell_type": "code",
   "execution_count": 20,
   "metadata": {},
   "outputs": [
    {
     "name": "stdout",
     "output_type": "stream",
     "text": [
      "(100, 32)\n",
      "(2, 32)\n",
      "(32,)\n"
     ]
    }
   ],
   "source": [
    "# do matrix multiplication using the 100*32 original matrix to multiply the pca.components_ (32*2) to get 100*2 matrix\n",
    "# which corresponds to 'x' and 'y' \n",
    "comp = pca.components_\n",
    "print(x_cols.shape)\n",
    "print(comp.shape)\n",
    "m = pca.mean_\n",
    "print(m.shape)"
   ]
  },
  {
   "cell_type": "code",
   "execution_count": 21,
   "metadata": {},
   "outputs": [
    {
     "data": {
      "text/plain": [
       "array([-0.1 , -0.1 , -0.06, -0.12, -0.04,  0.88, -0.19, -0.2 ,  0.9 ,\n",
       "       -0.07, -0.13, -0.05, -0.06, -0.09,  0.94, -0.05, -0.07, -0.14,\n",
       "       -0.05, -0.06, -0.04,  0.79, -0.05, -0.12, -0.06, -0.15, -0.09,\n",
       "       -0.06, -0.17, -0.22,  0.83,  0.96])"
      ]
     },
     "execution_count": 21,
     "metadata": {},
     "output_type": "execute_result"
    }
   ],
   "source": [
    "x_cols[99]-m"
   ]
  },
  {
   "cell_type": "code",
   "execution_count": 22,
   "metadata": {},
   "outputs": [
    {
     "data": {
      "text/plain": [
       "array([-1.61685077e-01, -1.30215063e-01, -1.84050593e-02, -1.75254977e-01,\n",
       "       -6.71199120e-02, -1.53633007e-01,  3.43672871e-01,  3.32419546e-01,\n",
       "       -1.36167969e-01, -5.26447239e-02, -1.61805935e-01, -2.56376321e-02,\n",
       "        1.80935307e-01, -1.33907190e-01, -1.14720579e-01, -3.22645660e-02,\n",
       "       -6.96938803e-02,  2.71425446e-01,  1.33030665e-04, -9.33371491e-02,\n",
       "       -9.54554593e-03, -2.20113686e-01, -7.94434100e-02, -1.18974084e-01,\n",
       "       -5.22674866e-02, -2.22019827e-01, -1.00333136e-01, -3.91817202e-02,\n",
       "        3.80350120e-01,  4.06842531e-01, -1.51939820e-01, -5.43808433e-02])"
      ]
     },
     "execution_count": 22,
     "metadata": {},
     "output_type": "execute_result"
    }
   ],
   "source": [
    "comp[0]"
   ]
  },
  {
   "cell_type": "code",
   "execution_count": 23,
   "metadata": {},
   "outputs": [
    {
     "data": {
      "text/plain": [
       "32"
      ]
     },
     "execution_count": 23,
     "metadata": {},
     "output_type": "execute_result"
    }
   ],
   "source": [
    "len(comp[0])"
   ]
  },
  {
   "cell_type": "code",
   "execution_count": 24,
   "metadata": {},
   "outputs": [
    {
     "data": {
      "text/plain": [
       "array([-0.08246833,  0.19301501, -0.11661923, -0.15528803, -0.00176515,\n",
       "       -0.26539207, -0.12524066, -0.11638624, -0.05101879, -0.08883743,\n",
       "       -0.09239271,  0.00706175, -0.00676689, -0.08979861, -0.0948767 ,\n",
       "        0.0072805 ,  0.27509352, -0.00953781, -0.12305143, -0.03720869,\n",
       "       -0.05835987, -0.44374008, -0.043089  ,  0.44511072, -0.02204264,\n",
       "        0.40164094, -0.09590645, -0.03822804,  0.01505404, -0.08894132,\n",
       "       -0.32620567, -0.05219467])"
      ]
     },
     "execution_count": 24,
     "metadata": {},
     "output_type": "execute_result"
    }
   ],
   "source": [
    "comp[1]"
   ]
  },
  {
   "cell_type": "code",
   "execution_count": 25,
   "metadata": {},
   "outputs": [
    {
     "data": {
      "text/plain": [
       "32"
      ]
     },
     "execution_count": 25,
     "metadata": {},
     "output_type": "execute_result"
    }
   ],
   "source": [
    "len(x_cols[0])"
   ]
  },
  {
   "cell_type": "code",
   "execution_count": 26,
   "metadata": {},
   "outputs": [
    {
     "data": {
      "text/plain": [
       "array([0., 0., 0., 0., 0., 0., 0., 0., 0., 0., 0., 0., 0., 0., 0., 0., 0.,\n",
       "       1., 0., 0., 0., 0., 0., 0., 0., 0., 0., 0., 1., 1., 0., 0.])"
      ]
     },
     "execution_count": 26,
     "metadata": {},
     "output_type": "execute_result"
    }
   ],
   "source": [
    "x_cols[0]"
   ]
  },
  {
   "cell_type": "code",
   "execution_count": 27,
   "metadata": {},
   "outputs": [
    {
     "data": {
      "text/plain": [
       "array([0., 0., 0., 0., 0., 1., 0., 0., 1., 0., 0., 0., 0., 0., 1., 0., 0.,\n",
       "       0., 0., 0., 0., 1., 0., 0., 0., 0., 0., 0., 0., 0., 1., 1.])"
      ]
     },
     "execution_count": 27,
     "metadata": {},
     "output_type": "execute_result"
    }
   ],
   "source": [
    "x_cols[99]"
   ]
  },
  {
   "cell_type": "code",
   "execution_count": 28,
   "metadata": {},
   "outputs": [
    {
     "data": {
      "text/plain": [
       "-0.8309559048619675"
      ]
     },
     "execution_count": 28,
     "metadata": {},
     "output_type": "execute_result"
    }
   ],
   "source": [
    "sum(x_cols[99]*comp[0])"
   ]
  },
  {
   "cell_type": "code",
   "execution_count": 29,
   "metadata": {},
   "outputs": [
    {
     "name": "stdout",
     "output_type": "stream",
     "text": [
      "[[ 1.00757996e+00  1.08214665e-01]\n",
      " [-2.87539237e-01  4.47145141e-02]\n",
      " [-3.92032043e-01  1.03839141e+00]\n",
      " [ 6.99477269e-01 -2.25422232e-02]\n",
      " [ 8.81832248e-02 -4.71695431e-01]\n",
      " [-4.85281909e-01 -7.25503292e-01]\n",
      " [-5.91940987e-01  1.50649994e+00]\n",
      " [ 6.61731534e-01  9.03075520e-02]\n",
      " [-1.18943267e-01 -5.77498507e-01]\n",
      " [ 1.07982739e+00 -7.48818111e-03]\n",
      " [-2.40431061e-01 -6.17026041e-01]\n",
      " [-5.22247106e-01  1.23140642e+00]\n",
      " [ 1.26076270e+00 -1.42550704e-02]\n",
      " [-5.79220584e-01 -4.20474690e-01]\n",
      " [ 1.93998464e-01  1.03057282e-02]\n",
      " [-3.92032043e-01  1.03839141e+00]\n",
      " [-4.06275667e-01 -4.57711391e-02]\n",
      " [-5.91940987e-01  1.50649994e+00]\n",
      " [ 7.36154519e-01  1.17752476e-01]\n",
      " [-3.49056937e-01 -2.67081210e-01]\n",
      " [ 1.41224694e+00 -1.23874426e-01]\n",
      " [ 1.81048277e-01 -2.06529405e-02]\n",
      " [-3.71484955e-01 -3.48006774e-01]\n",
      " [-5.09136903e-01 -6.87321373e-01]\n",
      " [-2.39706096e-01  9.11843998e-01]\n",
      " [-7.82355465e-01 -5.18475045e-01]\n",
      " [-2.99665902e-01  6.96444453e-03]\n",
      " [-4.12829546e-01 -1.21989471e-02]\n",
      " [-3.39145922e-01 -1.85584703e-01]\n",
      " [-3.30960158e-01  6.07622936e-01]\n",
      " [ 2.92634738e-01  6.63990973e-02]\n",
      " [ 3.46529129e-01 -2.88513792e-01]\n",
      " [-4.32957754e-01 -3.44493030e-01]\n",
      " [-3.56567037e-01 -1.01697896e+00]\n",
      " [ 2.90130268e-01  1.68465757e-01]\n",
      " [ 1.14058470e+00 -2.99925108e-02]\n",
      " [-4.58595386e-01 -3.37431281e-01]\n",
      " [ 1.59318224e+00 -1.30641315e-01]\n",
      " [-8.39578472e-01 -3.28823048e-01]\n",
      " [ 1.48425757e+00 -1.55233168e-01]\n",
      " [-3.92032043e-01  1.03839141e+00]\n",
      " [-4.61725924e-01  1.31348493e+00]\n",
      " [ 2.81381413e-01  7.52535099e-02]\n",
      " [-5.04328952e-01 -4.89361339e-01]\n",
      " [ 1.12534561e+00  6.51484390e-02]\n",
      " [-7.18777997e-01 -8.85306103e-01]\n",
      " [ 1.03189681e+00 -1.38928468e-01]\n",
      " [ 2.21584955e-01 -1.39057561e-01]\n",
      " [-5.96330318e-01 -1.35274398e-01]\n",
      " [-3.82240850e-01  2.54034020e-01]\n",
      " [-1.68124971e-01  1.38430829e-01]\n",
      " [-9.57440549e-01 -1.16029979e+00]\n",
      " [-3.42938272e-01  3.02186439e-01]\n",
      " [-2.39706096e-01  9.11843998e-01]\n",
      " [ 9.95008013e-02 -1.20837639e+00]\n",
      " [ 6.61731534e-01  9.03075520e-02]\n",
      " [-4.61725924e-01  1.31348493e+00]\n",
      " [ 2.66997106e-01  7.34608463e-02]\n",
      " [ 6.27229845e-01  9.31606233e-02]\n",
      " [-6.42184428e-02 -5.22859421e-01]\n",
      " [-2.02844922e-01 -2.57617348e-01]\n",
      " [ 2.81381413e-01  7.52535099e-02]\n",
      " [-1.10035482e-01 -2.41832774e-01]\n",
      " [ 6.27229845e-01  9.31606233e-02]\n",
      " [ 1.33999951e+00 -8.17157947e-03]\n",
      " [-7.97379369e-01  4.75994502e-01]\n",
      " [-2.39706096e-01  9.11843998e-01]\n",
      " [-1.18158044e-01  1.89874609e-01]\n",
      " [-1.77934185e-01 -7.49715638e-01]\n",
      " [-1.87206101e-01  1.40620965e-01]\n",
      " [-2.52065234e-01  1.00076001e-01]\n",
      " [-2.66649511e-01  9.75319674e-02]\n",
      " [-4.43189885e-01 -6.34111622e-01]\n",
      " [ 5.64060184e-01  5.68612862e-02]\n",
      " [-2.02977953e-01 -1.34565913e-01]\n",
      " [ 6.72984859e-01  8.14531393e-02]\n",
      " [-4.03273023e-01  7.86295701e-01]\n",
      " [ 3.77123023e-01 -7.91757768e-01]\n",
      " [ 2.10841768e-01  1.23742069e-01]\n",
      " [-2.73057960e-01  5.93280690e-01]\n",
      " [-1.07751145e+00 -2.29396569e-01]\n",
      " [-1.27432947e+00 -1.14295703e-01]\n",
      " [-4.18021739e-01 -2.06639915e-01]\n",
      " [-3.00227279e-01  8.29765484e-01]\n",
      " [ 1.06857406e+00  1.36623155e-03]\n",
      " [ 7.33742167e-01  5.89488096e-02]\n",
      " [ 1.35125284e+00 -1.70259921e-02]\n",
      " [-1.04187911e+00  1.22314230e-01]\n",
      " [ 1.35104377e-01  3.69175062e-02]\n",
      " [ 2.81381413e-01  7.52535099e-02]\n",
      " [-6.32199072e-01 -6.51152459e-01]\n",
      " [ 6.00737434e-01  1.97155986e-01]\n",
      " [-2.26293109e-01  3.63517243e-02]\n",
      " [ 6.72984859e-01  8.14531393e-02]\n",
      " [-5.04839644e-02 -4.52882886e-01]\n",
      " [-1.51666193e-01 -5.87843803e-01]\n",
      " [ 6.88223944e-01 -1.36878105e-02]\n",
      " [-5.51214943e-01 -3.95670272e-01]\n",
      " [-4.89804798e-01 -3.83306666e-01]\n",
      " [-8.81994037e-01 -1.04178822e+00]]\n",
      "(100, 2)\n"
     ]
    }
   ],
   "source": [
    "# do inner product of the x_cols matrix and pricipal axis direction to project down to the 2D space for \n",
    "# all of the 100 customers \n",
    "# res[:,0] column is 'x' and res[:,1] column is 'y'\n",
    "# note: checking the PCA documentation in sklearn it says the fit_transform method subtracts the mean, no scaling is done\n",
    "# so, to get the same results as fit_transform method, need to subtract the mean vector first\n",
    "res = np.zeros((100,2))\n",
    "for i in range(x_cols.shape[0]):\n",
    "    res[i,0] = sum((x_cols[i]-m)*comp[0])\n",
    "    res[i,1] = sum((x_cols[i]-m)*comp[1])\n",
    "print(res)\n",
    "print(res.shape)"
   ]
  },
  {
   "cell_type": "code",
   "execution_count": 30,
   "metadata": {},
   "outputs": [
    {
     "data": {
      "text/plain": [
       "array([[ 1.00757996e+00,  1.08214665e-01],\n",
       "       [-2.87539237e-01,  4.47145141e-02],\n",
       "       [-3.92032043e-01,  1.03839141e+00],\n",
       "       [ 6.99477269e-01, -2.25422232e-02],\n",
       "       [ 8.81832248e-02, -4.71695431e-01],\n",
       "       [-4.85281909e-01, -7.25503292e-01],\n",
       "       [-5.91940987e-01,  1.50649994e+00],\n",
       "       [ 6.61731534e-01,  9.03075520e-02],\n",
       "       [-1.18943267e-01, -5.77498507e-01],\n",
       "       [ 1.07982739e+00, -7.48818111e-03],\n",
       "       [-2.40431061e-01, -6.17026041e-01],\n",
       "       [-5.22247106e-01,  1.23140642e+00],\n",
       "       [ 1.26076270e+00, -1.42550704e-02],\n",
       "       [-5.79220584e-01, -4.20474690e-01],\n",
       "       [ 1.93998464e-01,  1.03057282e-02],\n",
       "       [-3.92032043e-01,  1.03839141e+00],\n",
       "       [-4.06275667e-01, -4.57711391e-02],\n",
       "       [-5.91940987e-01,  1.50649994e+00],\n",
       "       [ 7.36154519e-01,  1.17752476e-01],\n",
       "       [-3.49056937e-01, -2.67081210e-01],\n",
       "       [ 1.41224694e+00, -1.23874426e-01],\n",
       "       [ 1.81048277e-01, -2.06529405e-02],\n",
       "       [-3.71484955e-01, -3.48006774e-01],\n",
       "       [-5.09136903e-01, -6.87321373e-01],\n",
       "       [-2.39706096e-01,  9.11843998e-01],\n",
       "       [-7.82355465e-01, -5.18475045e-01],\n",
       "       [-2.99665902e-01,  6.96444453e-03],\n",
       "       [-4.12829546e-01, -1.21989471e-02],\n",
       "       [-3.39145922e-01, -1.85584703e-01],\n",
       "       [-3.30960158e-01,  6.07622936e-01],\n",
       "       [ 2.92634738e-01,  6.63990973e-02],\n",
       "       [ 3.46529129e-01, -2.88513792e-01],\n",
       "       [-4.32957754e-01, -3.44493030e-01],\n",
       "       [-3.56567037e-01, -1.01697896e+00],\n",
       "       [ 2.90130268e-01,  1.68465757e-01],\n",
       "       [ 1.14058470e+00, -2.99925108e-02],\n",
       "       [-4.58595386e-01, -3.37431281e-01],\n",
       "       [ 1.59318224e+00, -1.30641315e-01],\n",
       "       [-8.39578472e-01, -3.28823048e-01],\n",
       "       [ 1.48425757e+00, -1.55233168e-01],\n",
       "       [-3.92032043e-01,  1.03839141e+00],\n",
       "       [-4.61725924e-01,  1.31348493e+00],\n",
       "       [ 2.81381413e-01,  7.52535099e-02],\n",
       "       [-5.04328952e-01, -4.89361339e-01],\n",
       "       [ 1.12534561e+00,  6.51484390e-02],\n",
       "       [-7.18777997e-01, -8.85306103e-01],\n",
       "       [ 1.03189681e+00, -1.38928468e-01],\n",
       "       [ 2.21584955e-01, -1.39057561e-01],\n",
       "       [-5.96330318e-01, -1.35274398e-01],\n",
       "       [-3.82240850e-01,  2.54034020e-01],\n",
       "       [-1.68124971e-01,  1.38430829e-01],\n",
       "       [-9.57440549e-01, -1.16029979e+00],\n",
       "       [-3.42938272e-01,  3.02186439e-01],\n",
       "       [-2.39706096e-01,  9.11843998e-01],\n",
       "       [ 9.95008013e-02, -1.20837639e+00],\n",
       "       [ 6.61731534e-01,  9.03075520e-02],\n",
       "       [-4.61725924e-01,  1.31348493e+00],\n",
       "       [ 2.66997106e-01,  7.34608463e-02],\n",
       "       [ 6.27229845e-01,  9.31606233e-02],\n",
       "       [-6.42184428e-02, -5.22859421e-01],\n",
       "       [-2.02844922e-01, -2.57617348e-01],\n",
       "       [ 2.81381413e-01,  7.52535099e-02],\n",
       "       [-1.10035482e-01, -2.41832774e-01],\n",
       "       [ 6.27229845e-01,  9.31606233e-02],\n",
       "       [ 1.33999951e+00, -8.17157947e-03],\n",
       "       [-7.97379369e-01,  4.75994502e-01],\n",
       "       [-2.39706096e-01,  9.11843998e-01],\n",
       "       [-1.18158044e-01,  1.89874609e-01],\n",
       "       [-1.77934185e-01, -7.49715638e-01],\n",
       "       [-1.87206101e-01,  1.40620965e-01],\n",
       "       [-2.52065234e-01,  1.00076001e-01],\n",
       "       [-2.66649511e-01,  9.75319674e-02],\n",
       "       [-4.43189885e-01, -6.34111622e-01],\n",
       "       [ 5.64060184e-01,  5.68612862e-02],\n",
       "       [-2.02977953e-01, -1.34565913e-01],\n",
       "       [ 6.72984859e-01,  8.14531393e-02],\n",
       "       [-4.03273023e-01,  7.86295701e-01],\n",
       "       [ 3.77123023e-01, -7.91757768e-01],\n",
       "       [ 2.10841768e-01,  1.23742069e-01],\n",
       "       [-2.73057960e-01,  5.93280690e-01],\n",
       "       [-1.07751145e+00, -2.29396569e-01],\n",
       "       [-1.27432947e+00, -1.14295703e-01],\n",
       "       [-4.18021739e-01, -2.06639915e-01],\n",
       "       [-3.00227279e-01,  8.29765484e-01],\n",
       "       [ 1.06857406e+00,  1.36623155e-03],\n",
       "       [ 7.33742167e-01,  5.89488096e-02],\n",
       "       [ 1.35125284e+00, -1.70259921e-02],\n",
       "       [-1.04187911e+00,  1.22314230e-01],\n",
       "       [ 1.35104377e-01,  3.69175062e-02],\n",
       "       [ 2.81381413e-01,  7.52535099e-02],\n",
       "       [-6.32199072e-01, -6.51152459e-01],\n",
       "       [ 6.00737434e-01,  1.97155986e-01],\n",
       "       [-2.26293109e-01,  3.63517243e-02],\n",
       "       [ 6.72984859e-01,  8.14531393e-02],\n",
       "       [-5.04839644e-02, -4.52882886e-01],\n",
       "       [-1.51666193e-01, -5.87843803e-01],\n",
       "       [ 6.88223944e-01, -1.36878105e-02],\n",
       "       [-5.51214943e-01, -3.95670272e-01],\n",
       "       [-4.89804798e-01, -3.83306666e-01],\n",
       "       [-8.81994037e-01, -1.04178822e+00]])"
      ]
     },
     "execution_count": 30,
     "metadata": {},
     "output_type": "execute_result"
    }
   ],
   "source": [
    "# actually can use this fit_transform in sklearn to get the projections directly\n",
    "pca.fit_transform(x_cols)"
   ]
  },
  {
   "cell_type": "code",
   "execution_count": 31,
   "metadata": {},
   "outputs": [
    {
     "name": "stdout",
     "output_type": "stream",
     "text": [
      "(100,)\n",
      "(100, 2)\n",
      "(100, 1)\n"
     ]
    }
   ],
   "source": [
    "print(labs[1].shape)\n",
    "print(res.shape)\n",
    "custID = labs[1][np.newaxis]\n",
    "#print(custID.T)\n",
    "print(custID.T.shape)"
   ]
  },
  {
   "cell_type": "code",
   "execution_count": 32,
   "metadata": {},
   "outputs": [
    {
     "data": {
      "text/html": [
       "<div>\n",
       "<style scoped>\n",
       "    .dataframe tbody tr th:only-of-type {\n",
       "        vertical-align: middle;\n",
       "    }\n",
       "\n",
       "    .dataframe tbody tr th {\n",
       "        vertical-align: top;\n",
       "    }\n",
       "\n",
       "    .dataframe thead th {\n",
       "        text-align: right;\n",
       "    }\n",
       "</style>\n",
       "<table border=\"1\" class=\"dataframe\">\n",
       "  <thead>\n",
       "    <tr style=\"text-align: right;\">\n",
       "      <th></th>\n",
       "      <th>cluster_ID</th>\n",
       "      <th>x</th>\n",
       "      <th>y</th>\n",
       "    </tr>\n",
       "  </thead>\n",
       "  <tbody>\n",
       "    <tr>\n",
       "      <th>0</th>\n",
       "      <td>2.0</td>\n",
       "      <td>1.007580</td>\n",
       "      <td>0.108215</td>\n",
       "    </tr>\n",
       "    <tr>\n",
       "      <th>1</th>\n",
       "      <td>0.0</td>\n",
       "      <td>-0.287539</td>\n",
       "      <td>0.044715</td>\n",
       "    </tr>\n",
       "    <tr>\n",
       "      <th>2</th>\n",
       "      <td>1.0</td>\n",
       "      <td>-0.392032</td>\n",
       "      <td>1.038391</td>\n",
       "    </tr>\n",
       "    <tr>\n",
       "      <th>3</th>\n",
       "      <td>2.0</td>\n",
       "      <td>0.699477</td>\n",
       "      <td>-0.022542</td>\n",
       "    </tr>\n",
       "    <tr>\n",
       "      <th>4</th>\n",
       "      <td>0.0</td>\n",
       "      <td>0.088183</td>\n",
       "      <td>-0.471695</td>\n",
       "    </tr>\n",
       "  </tbody>\n",
       "</table>\n",
       "</div>"
      ],
      "text/plain": [
       "   cluster_ID         x         y\n",
       "0         2.0  1.007580  0.108215\n",
       "1         0.0 -0.287539  0.044715\n",
       "2         1.0 -0.392032  1.038391\n",
       "3         2.0  0.699477 -0.022542\n",
       "4         0.0  0.088183 -0.471695"
      ]
     },
     "execution_count": 32,
     "metadata": {},
     "output_type": "execute_result"
    }
   ],
   "source": [
    "# concatenate x,y columns and clusterID columns, next step is to concatenate the customer name column\n",
    "attr = np.concatenate((custID.T,res), axis=1)\n",
    "#print(attr)\n",
    "attr_df = pd.DataFrame(attr)\n",
    "attr_df.columns = ['cluster_ID','x','y']\n",
    "attr_df.head()"
   ]
  },
  {
   "cell_type": "code",
   "execution_count": 33,
   "metadata": {},
   "outputs": [
    {
     "data": {
      "text/html": [
       "<div>\n",
       "<style scoped>\n",
       "    .dataframe tbody tr th:only-of-type {\n",
       "        vertical-align: middle;\n",
       "    }\n",
       "\n",
       "    .dataframe tbody tr th {\n",
       "        vertical-align: top;\n",
       "    }\n",
       "\n",
       "    .dataframe thead th {\n",
       "        text-align: right;\n",
       "    }\n",
       "</style>\n",
       "<table border=\"1\" class=\"dataframe\">\n",
       "  <thead>\n",
       "    <tr style=\"text-align: right;\">\n",
       "      <th></th>\n",
       "      <th>customer_name</th>\n",
       "    </tr>\n",
       "  </thead>\n",
       "  <tbody>\n",
       "    <tr>\n",
       "      <th>0</th>\n",
       "      <td>Adams</td>\n",
       "    </tr>\n",
       "    <tr>\n",
       "      <th>1</th>\n",
       "      <td>Allen</td>\n",
       "    </tr>\n",
       "    <tr>\n",
       "      <th>2</th>\n",
       "      <td>Anderson</td>\n",
       "    </tr>\n",
       "    <tr>\n",
       "      <th>3</th>\n",
       "      <td>Bailey</td>\n",
       "    </tr>\n",
       "    <tr>\n",
       "      <th>4</th>\n",
       "      <td>Baker</td>\n",
       "    </tr>\n",
       "  </tbody>\n",
       "</table>\n",
       "</div>"
      ],
      "text/plain": [
       "  customer_name\n",
       "0         Adams\n",
       "1         Allen\n",
       "2      Anderson\n",
       "3        Bailey\n",
       "4         Baker"
      ]
     },
     "metadata": {},
     "output_type": "display_data"
    },
    {
     "data": {
      "text/html": [
       "<div>\n",
       "<style scoped>\n",
       "    .dataframe tbody tr th:only-of-type {\n",
       "        vertical-align: middle;\n",
       "    }\n",
       "\n",
       "    .dataframe tbody tr th {\n",
       "        vertical-align: top;\n",
       "    }\n",
       "\n",
       "    .dataframe thead th {\n",
       "        text-align: right;\n",
       "    }\n",
       "</style>\n",
       "<table border=\"1\" class=\"dataframe\">\n",
       "  <thead>\n",
       "    <tr style=\"text-align: right;\">\n",
       "      <th></th>\n",
       "      <th>customer_name</th>\n",
       "      <th>cluster_ID</th>\n",
       "      <th>x</th>\n",
       "      <th>y</th>\n",
       "    </tr>\n",
       "  </thead>\n",
       "  <tbody>\n",
       "    <tr>\n",
       "      <th>0</th>\n",
       "      <td>Adams</td>\n",
       "      <td>2.0</td>\n",
       "      <td>1.007580</td>\n",
       "      <td>0.108215</td>\n",
       "    </tr>\n",
       "    <tr>\n",
       "      <th>1</th>\n",
       "      <td>Allen</td>\n",
       "      <td>0.0</td>\n",
       "      <td>-0.287539</td>\n",
       "      <td>0.044715</td>\n",
       "    </tr>\n",
       "    <tr>\n",
       "      <th>2</th>\n",
       "      <td>Anderson</td>\n",
       "      <td>1.0</td>\n",
       "      <td>-0.392032</td>\n",
       "      <td>1.038391</td>\n",
       "    </tr>\n",
       "    <tr>\n",
       "      <th>3</th>\n",
       "      <td>Bailey</td>\n",
       "      <td>2.0</td>\n",
       "      <td>0.699477</td>\n",
       "      <td>-0.022542</td>\n",
       "    </tr>\n",
       "    <tr>\n",
       "      <th>4</th>\n",
       "      <td>Baker</td>\n",
       "      <td>0.0</td>\n",
       "      <td>0.088183</td>\n",
       "      <td>-0.471695</td>\n",
       "    </tr>\n",
       "  </tbody>\n",
       "</table>\n",
       "</div>"
      ],
      "text/plain": [
       "  customer_name  cluster_ID         x         y\n",
       "0         Adams         2.0  1.007580  0.108215\n",
       "1         Allen         0.0 -0.287539  0.044715\n",
       "2      Anderson         1.0 -0.392032  1.038391\n",
       "3        Bailey         2.0  0.699477 -0.022542\n",
       "4         Baker         0.0  0.088183 -0.471695"
      ]
     },
     "metadata": {},
     "output_type": "display_data"
    }
   ],
   "source": [
    "name_df = pd.DataFrame(df_transformed['customer_name'])\n",
    "display(name_df.head())\n",
    "type(name_df)\n",
    "frames = [name_df, attr_df]\n",
    "final_df = pd.concat(frames,sort=False,axis=1)\n",
    "display(final_df.head())"
   ]
  },
  {
   "cell_type": "code",
   "execution_count": 34,
   "metadata": {},
   "outputs": [
    {
     "data": {
      "image/png": "[encoded data removed]",
      "text/plain": [
       "<Figure size 432x288 with 1 Axes>"
      ]
     },
     "metadata": {
      "needs_background": "light"
     },
     "output_type": "display_data"
    }
   ],
   "source": [
    "plt.scatter(x=final_df['x'], y=final_df['y'], marker='.', c=final_df['cluster_ID'], \n",
    "            cmap=plt.cm.coolwarm)\n",
    "plt.title('Scatter plot of 100 customers based on\\n 2 PCA components using K=3 clusters')\n",
    "plt.show()"
   ]
  },
  {
   "cell_type": "markdown",
   "metadata": {},
   "source": [
    "## How do the clusters look? Based on what you see, what seems to be the best value for 𝐾. Moreover, which method of choosing 𝐾 seems to have produced the optimal result visually? \n",
    "## Answers:\n",
    "K=3 clusters visually looks good. The Elbow method seems to produced the optimal K"
   ]
  },
  {
   "cell_type": "markdown",
   "metadata": {},
   "source": [
    "## Exercise: Now look at both the original raw data about the offers and transactions and look at the fitted clusters. Tell a story about the clusters in context of the original data. For example, do the clusters correspond to wine variants or something else interesting?"
   ]
  },
  {
   "cell_type": "code",
   "execution_count": 35,
   "metadata": {},
   "outputs": [
    {
     "data": {
      "text/html": [
       "<div>\n",
       "<style scoped>\n",
       "    .dataframe tbody tr th:only-of-type {\n",
       "        vertical-align: middle;\n",
       "    }\n",
       "\n",
       "    .dataframe tbody tr th {\n",
       "        vertical-align: top;\n",
       "    }\n",
       "\n",
       "    .dataframe thead th {\n",
       "        text-align: right;\n",
       "    }\n",
       "</style>\n",
       "<table border=\"1\" class=\"dataframe\">\n",
       "  <thead>\n",
       "    <tr style=\"text-align: right;\">\n",
       "      <th></th>\n",
       "      <th>customer_name</th>\n",
       "      <th>offer_id</th>\n",
       "      <th>n</th>\n",
       "      <th>campaign</th>\n",
       "      <th>varietal</th>\n",
       "      <th>min_qty</th>\n",
       "      <th>discount</th>\n",
       "      <th>origin</th>\n",
       "      <th>past_peak</th>\n",
       "      <th>cluster_ID</th>\n",
       "      <th>x</th>\n",
       "      <th>y</th>\n",
       "    </tr>\n",
       "  </thead>\n",
       "  <tbody>\n",
       "    <tr>\n",
       "      <th>0</th>\n",
       "      <td>Smith</td>\n",
       "      <td>2</td>\n",
       "      <td>1</td>\n",
       "      <td>January</td>\n",
       "      <td>Pinot Noir</td>\n",
       "      <td>72</td>\n",
       "      <td>17</td>\n",
       "      <td>France</td>\n",
       "      <td>False</td>\n",
       "      <td>1.0</td>\n",
       "      <td>-0.300227</td>\n",
       "      <td>0.829765</td>\n",
       "    </tr>\n",
       "    <tr>\n",
       "      <th>1</th>\n",
       "      <td>Smith</td>\n",
       "      <td>24</td>\n",
       "      <td>1</td>\n",
       "      <td>September</td>\n",
       "      <td>Pinot Noir</td>\n",
       "      <td>6</td>\n",
       "      <td>34</td>\n",
       "      <td>Italy</td>\n",
       "      <td>False</td>\n",
       "      <td>1.0</td>\n",
       "      <td>-0.300227</td>\n",
       "      <td>0.829765</td>\n",
       "    </tr>\n",
       "    <tr>\n",
       "      <th>2</th>\n",
       "      <td>Rodriguez</td>\n",
       "      <td>2</td>\n",
       "      <td>1</td>\n",
       "      <td>January</td>\n",
       "      <td>Pinot Noir</td>\n",
       "      <td>72</td>\n",
       "      <td>17</td>\n",
       "      <td>France</td>\n",
       "      <td>False</td>\n",
       "      <td>1.0</td>\n",
       "      <td>-0.403273</td>\n",
       "      <td>0.786296</td>\n",
       "    </tr>\n",
       "    <tr>\n",
       "      <th>3</th>\n",
       "      <td>Rodriguez</td>\n",
       "      <td>26</td>\n",
       "      <td>1</td>\n",
       "      <td>October</td>\n",
       "      <td>Pinot Noir</td>\n",
       "      <td>144</td>\n",
       "      <td>83</td>\n",
       "      <td>Australia</td>\n",
       "      <td>False</td>\n",
       "      <td>1.0</td>\n",
       "      <td>-0.403273</td>\n",
       "      <td>0.786296</td>\n",
       "    </tr>\n",
       "    <tr>\n",
       "      <th>4</th>\n",
       "      <td>Martin</td>\n",
       "      <td>2</td>\n",
       "      <td>1</td>\n",
       "      <td>January</td>\n",
       "      <td>Pinot Noir</td>\n",
       "      <td>72</td>\n",
       "      <td>17</td>\n",
       "      <td>France</td>\n",
       "      <td>False</td>\n",
       "      <td>0.0</td>\n",
       "      <td>-0.382241</td>\n",
       "      <td>0.254034</td>\n",
       "    </tr>\n",
       "  </tbody>\n",
       "</table>\n",
       "</div>"
      ],
      "text/plain": [
       "  customer_name  offer_id  n   campaign    varietal  min_qty  discount  \\\n",
       "0         Smith         2  1    January  Pinot Noir       72        17   \n",
       "1         Smith        24  1  September  Pinot Noir        6        34   \n",
       "2     Rodriguez         2  1    January  Pinot Noir       72        17   \n",
       "3     Rodriguez        26  1    October  Pinot Noir      144        83   \n",
       "4        Martin         2  1    January  Pinot Noir       72        17   \n",
       "\n",
       "      origin  past_peak  cluster_ID         x         y  \n",
       "0     France      False         1.0 -0.300227  0.829765  \n",
       "1      Italy      False         1.0 -0.300227  0.829765  \n",
       "2     France      False         1.0 -0.403273  0.786296  \n",
       "3  Australia      False         1.0 -0.403273  0.786296  \n",
       "4     France      False         0.0 -0.382241  0.254034  "
      ]
     },
     "metadata": {},
     "output_type": "display_data"
    },
    {
     "name": "stdout",
     "output_type": "stream",
     "text": [
      "(324, 12)\n"
     ]
    }
   ],
   "source": [
    "# merge new_df with the final_df dataframe by customer_name\n",
    "exp_df = new_df.merge(final_df, left_on='customer_name', right_on='customer_name')\n",
    "display(exp_df.head())\n",
    "print(exp_df.shape)"
   ]
  },
  {
   "cell_type": "markdown",
   "metadata": {},
   "source": [
    "For customers in the same cluster_ID, examine each of the variables\n",
    "The clusters separates out varietal in such a way that cluster 0 are mainly Champagne,\n",
    "Cabernet Sauvignon, Prosecco and Chardonnay, whereas cluster 1 is mainly Pinot Noir, and \n",
    "cluster 2 is mainly Espumante, Prosecco, Malbec and Pinot Grigio"
   ]
  },
  {
   "cell_type": "code",
   "execution_count": 36,
   "metadata": {},
   "outputs": [
    {
     "data": {
      "text/plain": [
       "cluster_ID  varietal          \n",
       "0.0         Champagne             74\n",
       "            Cabernet Sauvignon    31\n",
       "            Prosecco              21\n",
       "            Chardonnay            14\n",
       "            Malbec                14\n",
       "            Merlot                13\n",
       "            Espumante              8\n",
       "            Pinot Noir             7\n",
       "            Pinot Grigio           1\n",
       "1.0         Pinot Noir            37\n",
       "            Prosecco               2\n",
       "            Champagne              1\n",
       "            Chardonnay             1\n",
       "            Malbec                 1\n",
       "            Merlot                 1\n",
       "2.0         Espumante             32\n",
       "            Prosecco              20\n",
       "            Malbec                17\n",
       "            Pinot Grigio          16\n",
       "            Champagne              6\n",
       "            Merlot                 6\n",
       "            Cabernet Sauvignon     1\n",
       "Name: varietal, dtype: int64"
      ]
     },
     "execution_count": 36,
     "metadata": {},
     "output_type": "execute_result"
    }
   ],
   "source": [
    "exp_df.groupby(['cluster_ID'])['varietal'].value_counts()"
   ]
  },
  {
   "cell_type": "markdown",
   "metadata": {},
   "source": [
    "The clusters don't separate out by campaign months very well. It can be seen that there's mixture of campaign months in different clusters."
   ]
  },
  {
   "cell_type": "code",
   "execution_count": 37,
   "metadata": {},
   "outputs": [
    {
     "data": {
      "text/plain": [
       "cluster_ID  campaign \n",
       "0.0         August       28\n",
       "            December     26\n",
       "            February     20\n",
       "            June         19\n",
       "            March        17\n",
       "            October      16\n",
       "            May          15\n",
       "            April        14\n",
       "            January      13\n",
       "            November      6\n",
       "            July          5\n",
       "            September     4\n",
       "1.0         October      13\n",
       "            September    13\n",
       "            January       7\n",
       "            July          7\n",
       "            April         1\n",
       "            June          1\n",
       "            May           1\n",
       "2.0         March        34\n",
       "            December     17\n",
       "            November     17\n",
       "            July         14\n",
       "            May           8\n",
       "            August        3\n",
       "            April         2\n",
       "            February      2\n",
       "            October       1\n",
       "Name: campaign, dtype: int64"
      ]
     },
     "execution_count": 37,
     "metadata": {},
     "output_type": "execute_result"
    }
   ],
   "source": [
    "exp_df.groupby(['cluster_ID'])['campaign'].value_counts()"
   ]
  },
  {
   "cell_type": "markdown",
   "metadata": {},
   "source": [
    "The clusters separates out offer_id in such a way that cluster 0 are mainly 22, 31, 4, 11, 6, 9, cluster 1 is mainly\n",
    "24, 26, 27, 2, whereas cluster 2 is mainly 8, 30, 7, 29, 18, 13. These are all non overlapping offer_id's. This is\n",
    "expected because the 3 clusters come from the KMeans using offer_1,...offer_32 attributes."
   ]
  },
  {
   "cell_type": "code",
   "execution_count": 38,
   "metadata": {},
   "outputs": [
    {
     "data": {
      "text/plain": [
       "cluster_ID  offer_id\n",
       "0.0         22          20\n",
       "            31          17\n",
       "            4           12\n",
       "            11          12\n",
       "            6           11\n",
       "            9           10\n",
       "            1            9\n",
       "            14           9\n",
       "            27           7\n",
       "            15           6\n",
       "            20           6\n",
       "            25           6\n",
       "            28           5\n",
       "            30           5\n",
       "            2            4\n",
       "            3            4\n",
       "            5            4\n",
       "            10           4\n",
       "            16           4\n",
       "            19           4\n",
       "            23           4\n",
       "            32           4\n",
       "            7            3\n",
       "            8            3\n",
       "            12           3\n",
       "            26           3\n",
       "            21           2\n",
       "            18           1\n",
       "            29           1\n",
       "1.0         24          12\n",
       "            26          12\n",
       "            17           7\n",
       "            2            6\n",
       "            1            1\n",
       "            10           1\n",
       "            12           1\n",
       "            16           1\n",
       "            23           1\n",
       "            27           1\n",
       "2.0         8           17\n",
       "            30          17\n",
       "            7           16\n",
       "            29          16\n",
       "            18          13\n",
       "            13           6\n",
       "            3            2\n",
       "            10           2\n",
       "            21           2\n",
       "            6            1\n",
       "            11           1\n",
       "            12           1\n",
       "            19           1\n",
       "            22           1\n",
       "            27           1\n",
       "            28           1\n",
       "Name: offer_id, dtype: int64"
      ]
     },
     "execution_count": 38,
     "metadata": {},
     "output_type": "execute_result"
    }
   ],
   "source": [
    "exp_df.groupby(['cluster_ID'])['offer_id'].value_counts()"
   ]
  },
  {
   "cell_type": "markdown",
   "metadata": {},
   "source": [
    "Cluster 0 has the largest quantity. cluster 2 has the lowest and cluster 1 is in between. There's not a big distinction between cluster 1 and 2."
   ]
  },
  {
   "cell_type": "code",
   "execution_count": 39,
   "metadata": {},
   "outputs": [
    {
     "data": {
      "text/plain": [
       "cluster_ID\n",
       "0.0    14682\n",
       "1.0     2820\n",
       "2.0     1422\n",
       "Name: min_qty, dtype: int64"
      ]
     },
     "execution_count": 39,
     "metadata": {},
     "output_type": "execute_result"
    }
   ],
   "source": [
    "exp_df.groupby(['cluster_ID'])['min_qty'].sum()"
   ]
  },
  {
   "cell_type": "markdown",
   "metadata": {},
   "source": [
    "Cluster 0 has the largest discount. cluster 1 has the lowest discount, cluster 2 is in between"
   ]
  },
  {
   "cell_type": "code",
   "execution_count": 40,
   "metadata": {},
   "outputs": [
    {
     "data": {
      "text/plain": [
       "cluster_ID\n",
       "0.0    11613\n",
       "1.0     2241\n",
       "2.0     5418\n",
       "Name: discount, dtype: int64"
      ]
     },
     "execution_count": 40,
     "metadata": {},
     "output_type": "execute_result"
    }
   ],
   "source": [
    "exp_df.groupby(['cluster_ID'])['discount'].sum()"
   ]
  },
  {
   "cell_type": "markdown",
   "metadata": {},
   "source": [
    "Cluster 0 are mainly coming from France and Chile, whereas cluster 1 is mainly from Australia and Italy, and \n",
    "cluster 2 is mainly from France and Australia, south africa and oregon. There's a mixed origins in each cluster,\n",
    "so cluster doesn't separate origin countries very well."
   ]
  },
  {
   "cell_type": "code",
   "execution_count": 41,
   "metadata": {},
   "outputs": [
    {
     "data": {
      "text/plain": [
       "cluster_ID  origin      \n",
       "0.0         France          85\n",
       "            Chile           30\n",
       "            Italy           12\n",
       "            New Zealand     11\n",
       "            Oregon          11\n",
       "            California      10\n",
       "            Australia        9\n",
       "            Germany          8\n",
       "            South Africa     7\n",
       "1.0         Australia       13\n",
       "            Italy           12\n",
       "            France           7\n",
       "            Germany          7\n",
       "            California       2\n",
       "            New Zealand      1\n",
       "            South Africa     1\n",
       "2.0         France          36\n",
       "            Australia       17\n",
       "            South Africa    17\n",
       "            Oregon          15\n",
       "            Chile            7\n",
       "            California       4\n",
       "            Germany          1\n",
       "            New Zealand      1\n",
       "Name: origin, dtype: int64"
      ]
     },
     "execution_count": 41,
     "metadata": {},
     "output_type": "execute_result"
    }
   ],
   "source": [
    "exp_df.groupby(['cluster_ID'])['origin'].value_counts()"
   ]
  },
  {
   "cell_type": "code",
   "execution_count": 42,
   "metadata": {},
   "outputs": [
    {
     "data": {
      "text/plain": [
       "cluster_ID  past_peak\n",
       "0.0         False        145\n",
       "            True          38\n",
       "1.0         False         43\n",
       "2.0         False         79\n",
       "            True          19\n",
       "Name: past_peak, dtype: int64"
      ]
     },
     "execution_count": 42,
     "metadata": {},
     "output_type": "execute_result"
    }
   ],
   "source": [
    "# the clusters don't separate past_peak very well. True and False are mixed in each cluster. \n",
    "# Except that cluster 1 is purely False. The other 2 clusters have mixed True and False values.\n",
    "exp_df.groupby(['cluster_ID'])['past_peak'].value_counts()"
   ]
  },
  {
   "cell_type": "code",
   "execution_count": null,
   "metadata": {},
   "outputs": [],
   "source": []
  },
  {
   "cell_type": "code",
   "execution_count": null,
   "metadata": {},
   "outputs": [],
   "source": []
  },
  {
   "cell_type": "code",
   "execution_count": null,
   "metadata": {},
   "outputs": [],
   "source": []
  },
  {
   "cell_type": "markdown",
   "metadata": {},
   "source": [
    "What we've done is we've taken those columns of 0/1 indicator variables, and we've transformed them into a 2-D dataset. We took one column and arbitrarily called it `x` and then called the other `y`. Now we can throw each point into a scatterplot. We color coded each point based on it's cluster so it's easier to see them."
   ]
  },
  {
   "cell_type": "markdown",
   "metadata": {},
   "source": [
    "<div class=\"span5 alert alert-info\">\n",
    "<h3>Exercise Set V</h3>\n",
    "\n",
    "<p>As we saw earlier, PCA has a lot of other uses. Since we wanted to visualize our data in 2 dimensions, restricted the number of dimensions to 2 in PCA. But what is the true optimal number of dimensions?</p>\n",
    "\n",
    "<p><b>Exercise:</b> Using a new PCA object shown in the next cell, plot the `explained_variance_` field and look for the elbow point, the point where the curve's rate of descent seems to slow sharply. This value is one possible value for the optimal number of dimensions. What is it?</p>\n",
    "</div>"
   ]
  },
  {
   "cell_type": "code",
   "execution_count": 43,
   "metadata": {},
   "outputs": [
    {
     "name": "stdout",
     "output_type": "stream",
     "text": [
      "    Explained_Variance\n",
      "0             0.409649\n",
      "1             0.307536\n",
      "2             0.202293\n",
      "3             0.167037\n",
      "4             0.150152\n",
      "5             0.143437\n",
      "6             0.138189\n",
      "7             0.121923\n",
      "8             0.116362\n",
      "9             0.108043\n",
      "10            0.099378\n",
      "11            0.094960\n",
      "12            0.086904\n",
      "13            0.072567\n",
      "14            0.066100\n",
      "15            0.062455\n",
      "16            0.056344\n",
      "17            0.053274\n",
      "18            0.047288\n",
      "19            0.043939\n",
      "20            0.039004\n",
      "21            0.036258\n",
      "22            0.034557\n",
      "23            0.032351\n",
      "24            0.029406\n",
      "25            0.026182\n",
      "26            0.023082\n",
      "27            0.021426\n",
      "28            0.018814\n",
      "29            0.016525\n",
      "30            0.014262\n",
      "31            0.007779\n"
     ]
    },
    {
     "data": {
      "image/png": "[encoded data removed]",
      "text/plain": [
       "<Figure size 432x288 with 1 Axes>"
      ]
     },
     "metadata": {
      "needs_background": "light"
     },
     "output_type": "display_data"
    }
   ],
   "source": [
    "# your turn\n",
    "# Initialize a new PCA model with a default number of components.\n",
    "import sklearn.decomposition\n",
    "pca = sklearn.decomposition.PCA()\n",
    "pca.fit(x_cols)\n",
    "\n",
    "# Do the rest on your own :)\n",
    "v = pca.explained_variance_\n",
    "v = pd.DataFrame(v)\n",
    "v.columns = ['Explained_Variance']\n",
    "print(v)\n",
    "ax = plt.gca()\n",
    "v.plot(kind='line', ax=ax, marker='.')\n",
    "plt.title('Explained Variance by each Principal component')\n",
    "plt.axvline(x=3,color='red')\n",
    "plt.show()\n",
    "\n",
    "# Answer:\n",
    "# The possible optimal dimension is 4 (pricipal components)"
   ]
  },
  {
   "cell_type": "markdown",
   "metadata": {},
   "source": [
    "## Other Clustering Algorithms\n",
    "\n",
    "k-means is only one of a ton of clustering algorithms. Below is a brief description of several clustering algorithms, and the table provides references to the other clustering algorithms in scikit-learn. \n",
    "\n",
    "* **Affinity Propagation** does not require the number of clusters $K$ to be known in advance! AP uses a \"message passing\" paradigm to cluster points based on their similarity. \n",
    "\n",
    "* **Spectral Clustering** uses the eigenvalues of a similarity matrix to reduce the dimensionality of the data before clustering in a lower dimensional space. This is tangentially similar to what we did to visualize k-means clusters using PCA. The number of clusters must be known a priori.\n",
    "\n",
    "* **Ward's Method** applies to hierarchical clustering. Hierarchical clustering algorithms take a set of data and successively divide the observations into more and more clusters at each layer of the hierarchy. Ward's method is used to determine when two clusters in the hierarchy should be combined into one. It is basically an extension of hierarchical clustering. Hierarchical clustering is *divisive*, that is, all observations are part of the same cluster at first, and at each successive iteration, the clusters are made smaller and smaller. With hierarchical clustering, a hierarchy is constructed, and there is not really the concept of \"number of clusters.\" The number of clusters simply determines how low or how high in the hierarchy we reference and can be determined empirically or by looking at the [dendogram](https://docs.scipy.org/doc/scipy-0.18.1/reference/generated/scipy.cluster.hierarchy.dendrogram.html).\n",
    "\n",
    "* **Agglomerative Clustering** is similar to hierarchical clustering but but is not divisive, it is *agglomerative*. That is, every observation is placed into its own cluster and at each iteration or level or the hierarchy, observations are merged into fewer and fewer clusters until convergence. Similar to hierarchical clustering, the constructed hierarchy contains all possible numbers of clusters and it is up to the analyst to pick the number by reviewing statistics or the dendogram.\n",
    "\n",
    "* **DBSCAN** is based on point density rather than distance. It groups together points with many nearby neighbors. DBSCAN is one of the most cited algorithms in the literature. It does not require knowing the number of clusters a priori, but does require specifying the neighborhood size."
   ]
  },
  {
   "cell_type": "markdown",
   "metadata": {},
   "source": [
    "### Clustering Algorithms in Scikit-learn\n",
    "<table border=\"1\">\n",
    "<colgroup>\n",
    "<col width=\"15%\" />\n",
    "<col width=\"16%\" />\n",
    "<col width=\"20%\" />\n",
    "<col width=\"27%\" />\n",
    "<col width=\"22%\" />\n",
    "</colgroup>\n",
    "<thead valign=\"bottom\">\n",
    "<tr><th>Method name</th>\n",
    "<th>Parameters</th>\n",
    "<th>Scalability</th>\n",
    "<th>Use Case</th>\n",
    "<th>Geometry (metric used)</th>\n",
    "</tr>\n",
    "</thead>\n",
    "<tbody valign=\"top\">\n",
    "<tr><td>K-Means</span></a></td>\n",
    "<td>number of clusters</td>\n",
    "<td>Very large<span class=\"pre\">n_samples</span>, medium <span class=\"pre\">n_clusters</span> with\n",
    "MiniBatch code</td>\n",
    "<td>General-purpose, even cluster size, flat geometry, not too many clusters</td>\n",
    "<td>Distances between points</td>\n",
    "</tr>\n",
    "<tr><td>Affinity propagation</td>\n",
    "<td>damping, sample preference</td>\n",
    "<td>Not scalable with n_samples</td>\n",
    "<td>Many clusters, uneven cluster size, non-flat geometry</td>\n",
    "<td>Graph distance (e.g. nearest-neighbor graph)</td>\n",
    "</tr>\n",
    "<tr><td>Mean-shift</td>\n",
    "<td>bandwidth</td>\n",
    "<td>Not scalable with <span class=\"pre\">n_samples</span></td>\n",
    "<td>Many clusters, uneven cluster size, non-flat geometry</td>\n",
    "<td>Distances between points</td>\n",
    "</tr>\n",
    "<tr><td>Spectral clustering</td>\n",
    "<td>number of clusters</td>\n",
    "<td>Medium <span class=\"pre\">n_samples</span>, small <span class=\"pre\">n_clusters</span></td>\n",
    "<td>Few clusters, even cluster size, non-flat geometry</td>\n",
    "<td>Graph distance (e.g. nearest-neighbor graph)</td>\n",
    "</tr>\n",
    "<tr><td>Ward hierarchical clustering</td>\n",
    "<td>number of clusters</td>\n",
    "<td>Large <span class=\"pre\">n_samples</span> and <span class=\"pre\">n_clusters</span></td>\n",
    "<td>Many clusters, possibly connectivity constraints</td>\n",
    "<td>Distances between points</td>\n",
    "</tr>\n",
    "<tr><td>Agglomerative clustering</td>\n",
    "<td>number of clusters, linkage type, distance</td>\n",
    "<td>Large <span class=\"pre\">n_samples</span> and <span class=\"pre\">n_clusters</span></td>\n",
    "<td>Many clusters, possibly connectivity constraints, non Euclidean\n",
    "distances</td>\n",
    "<td>Any pairwise distance</td>\n",
    "</tr>\n",
    "<tr><td>DBSCAN</td>\n",
    "<td>neighborhood size</td>\n",
    "<td>Very large <span class=\"pre\">n_samples</span>, medium <span class=\"pre\">n_clusters</span></td>\n",
    "<td>Non-flat geometry, uneven cluster sizes</td>\n",
    "<td>Distances between nearest points</td>\n",
    "</tr>\n",
    "<tr><td>Gaussian mixtures</td>\n",
    "<td>many</td>\n",
    "<td>Not scalable</td>\n",
    "<td>Flat geometry, good for density estimation</td>\n",
    "<td>Mahalanobis distances to  centers</td>\n",
    "</tr>\n",
    "<tr><td>Birch</td>\n",
    "<td>branching factor, threshold, optional global clusterer.</td>\n",
    "<td>Large <span class=\"pre\">n_clusters</span> and <span class=\"pre\">n_samples</span></td>\n",
    "<td>Large dataset, outlier removal, data reduction.</td>\n",
    "<td>Euclidean distance between points</td>\n",
    "</tr>\n",
    "</tbody>\n",
    "</table>\n",
    "Source: http://scikit-learn.org/stable/modules/clustering.html"
   ]
  },
  {
   "cell_type": "markdown",
   "metadata": {},
   "source": [
    "<div class=\"span5 alert alert-info\">\n",
    "<h3>Exercise Set VI</h3>\n",
    "\n",
    "<p><b>Exercise:</b> Try clustering using the following algorithms. </p>\n",
    "<ol>\n",
    "<li>Affinity propagation\n",
    "<li>Spectral clustering\n",
    "<li>Agglomerative clustering\n",
    "<li>DBSCAN\n",
    "</ol>\n",
    "<p>How do their results compare? Which performs the best? Tell a story why you think it performs the best.</p>\n",
    "</div>\n"
   ]
  },
  {
   "cell_type": "code",
   "execution_count": null,
   "metadata": {
    "collapsed": true
   },
   "outputs": [],
   "source": [
    "# Your turn"
   ]
  },
  {
   "cell_type": "markdown",
   "metadata": {},
   "source": [
    "### 1. Affinity propagation"
   ]
  },
  {
   "cell_type": "code",
   "execution_count": 44,
   "metadata": {},
   "outputs": [
    {
     "name": "stdout",
     "output_type": "stream",
     "text": [
      "[ 0 19 20 30 32 35 41 42 45 68 69 70 74 76]\n",
      "[ 0 10  6  3  3 12  6  7  4  2  9 13  2 12  4  6  3  6  0  1  2  7  4  9\n",
      "  6 10 11  4 12 13  3  7  4  8  0  5  4  2  4  5  6  6  7 12  0  8  2  3\n",
      " 10 13  1 12 13  6  7  7  6  3  0  7 12  7 12  0  0 13  6 11  9 10 11 10\n",
      "  8  3 12  3 13  3  3 13 11 10 11 13  2  5  0 10 10  7 12  0  7  3  1 12\n",
      "  7 12  8 12]\n",
      "[[0. 0. 0. 0. 0. 0. 0. 0. 0. 0. 0. 0. 0. 0. 0. 0. 0. 1. 0. 0. 0. 0. 0. 0.\n",
      "  0. 0. 0. 0. 1. 1. 0. 0.]\n",
      " [0. 0. 0. 0. 0. 0. 0. 0. 0. 0. 0. 1. 0. 0. 0. 0. 0. 0. 0. 0. 0. 1. 0. 0.\n",
      "  1. 0. 0. 0. 0. 0. 0. 0.]\n",
      " [0. 0. 0. 0. 0. 0. 1. 1. 0. 0. 0. 0. 0. 0. 0. 0. 0. 0. 0. 0. 0. 0. 0. 0.\n",
      "  0. 0. 0. 0. 1. 1. 0. 0.]\n",
      " [0. 0. 0. 0. 0. 0. 1. 0. 0. 0. 0. 0. 0. 0. 0. 0. 0. 0. 0. 0. 0. 0. 0. 0.\n",
      "  0. 0. 0. 0. 0. 0. 0. 0.]\n",
      " [0. 0. 0. 0. 0. 0. 0. 0. 0. 0. 1. 0. 0. 0. 0. 0. 0. 0. 0. 0. 0. 1. 0. 0.\n",
      "  0. 0. 0. 0. 0. 0. 0. 0.]\n",
      " [0. 0. 0. 0. 0. 0. 0. 1. 0. 0. 0. 0. 1. 0. 0. 0. 0. 1. 0. 0. 0. 0. 0. 0.\n",
      "  0. 0. 0. 0. 0. 1. 0. 0.]\n",
      " [0. 0. 0. 0. 0. 0. 0. 0. 0. 0. 0. 0. 0. 0. 0. 0. 1. 0. 0. 0. 0. 0. 0. 1.\n",
      "  0. 1. 0. 0. 0. 0. 0. 0.]\n",
      " [0. 0. 0. 0. 0. 0. 0. 1. 0. 0. 0. 0. 0. 0. 0. 0. 0. 0. 0. 0. 0. 0. 0. 0.\n",
      "  0. 0. 0. 0. 0. 0. 0. 0.]\n",
      " [0. 0. 1. 1. 0. 1. 0. 0. 0. 0. 0. 0. 0. 0. 0. 0. 0. 0. 0. 0. 0. 1. 0. 0.\n",
      "  0. 0. 1. 0. 0. 0. 0. 0.]\n",
      " [1. 0. 0. 0. 0. 0. 0. 0. 0. 0. 0. 0. 0. 0. 0. 0. 0. 0. 0. 0. 0. 1. 0. 0.\n",
      "  0. 0. 0. 0. 0. 1. 1. 0.]\n",
      " [0. 0. 0. 0. 0. 0. 0. 0. 1. 0. 0. 0. 0. 0. 0. 0. 0. 0. 0. 0. 0. 0. 0. 0.\n",
      "  0. 0. 0. 0. 0. 0. 0. 0.]\n",
      " [0. 0. 0. 0. 1. 0. 0. 0. 0. 0. 0. 0. 0. 1. 0. 0. 0. 0. 0. 0. 0. 0. 0. 0.\n",
      "  0. 0. 0. 0. 0. 0. 0. 0.]\n",
      " [0. 0. 0. 0. 0. 0. 0. 0. 0. 0. 0. 0. 0. 0. 0. 0. 0. 0. 0. 0. 0. 0. 0. 0.\n",
      "  0. 0. 0. 0. 0. 0. 1. 0.]\n",
      " [0. 1. 0. 0. 0. 0. 0. 0. 0. 0. 0. 0. 0. 0. 0. 0. 0. 0. 0. 0. 0. 0. 0. 0.\n",
      "  0. 1. 0. 0. 0. 0. 0. 0.]]\n",
      "[[-0. -5. -5. ... -7. -7. -9.]\n",
      " [-5. -0. -4. ... -6. -4. -6.]\n",
      " [-5. -4. -0. ... -6. -6. -8.]\n",
      " ...\n",
      " [-7. -6. -6. ... -0. -8. -8.]\n",
      " [-7. -4. -6. ... -8. -0. -8.]\n",
      " [-9. -6. -8. ... -8. -8. -0.]]\n",
      "47\n"
     ]
    }
   ],
   "source": [
    "# Affinity propagation\n",
    "# by default, this gives 14 clusters, with centers at the 0th, 19th, 20th,... customer.\n",
    "from sklearn.cluster import AffinityPropagation\n",
    "clustering = AffinityPropagation().fit(x_cols)\n",
    "print(clustering.cluster_centers_indices_)\n",
    "print(clustering.labels_)\n",
    "print(clustering.cluster_centers_)\n",
    "print(clustering.affinity_matrix_)\n",
    "print(clustering.n_iter_)"
   ]
  },
  {
   "cell_type": "code",
   "execution_count": 45,
   "metadata": {},
   "outputs": [
    {
     "name": "stdout",
     "output_type": "stream",
     "text": [
      "[ 0 11 20 30 32 35 45 68 69 70 74]\n",
      "[ 0  8  1  3  3 10  1  2  4  2  7  1  2 10  4  1  3  1  0  4  2  3  4  7\n",
      " 10  8  9  4 10  3  3  5  4  6  0  5  4  2  4  5  1  1  8 10  0  6  2  3\n",
      "  8  4  3 10  1  3 10  2  1  3  0 10 10  8 10  0  0  1 10  9  7  8  9  8\n",
      "  6  3 10  3  1  3  3 10  9  8  9  1  2  5  0  8  8  8 10  0  3  3  9 10\n",
      "  2 10  6 10]\n",
      "[[0. 0. 0. 0. 0. 0. 0. 0. 0. 0. 0. 0. 0. 0. 0. 0. 0. 1. 0. 0. 0. 0. 0. 0.\n",
      "  0. 0. 0. 0. 1. 1. 0. 0.]\n",
      " [0. 1. 0. 0. 0. 0. 0. 0. 0. 0. 0. 0. 0. 0. 0. 0. 0. 0. 0. 0. 0. 0. 0. 1.\n",
      "  0. 1. 0. 0. 0. 0. 0. 0.]\n",
      " [0. 0. 0. 0. 0. 0. 1. 1. 0. 0. 0. 0. 0. 0. 0. 0. 0. 0. 0. 0. 0. 0. 0. 0.\n",
      "  0. 0. 0. 0. 1. 1. 0. 0.]\n",
      " [0. 0. 0. 0. 0. 0. 1. 0. 0. 0. 0. 0. 0. 0. 0. 0. 0. 0. 0. 0. 0. 0. 0. 0.\n",
      "  0. 0. 0. 0. 0. 0. 0. 0.]\n",
      " [0. 0. 0. 0. 0. 0. 0. 0. 0. 0. 1. 0. 0. 0. 0. 0. 0. 0. 0. 0. 0. 1. 0. 0.\n",
      "  0. 0. 0. 0. 0. 0. 0. 0.]\n",
      " [0. 0. 0. 0. 0. 0. 0. 1. 0. 0. 0. 0. 1. 0. 0. 0. 0. 1. 0. 0. 0. 0. 0. 0.\n",
      "  0. 0. 0. 0. 0. 1. 0. 0.]\n",
      " [0. 0. 1. 1. 0. 1. 0. 0. 0. 0. 0. 0. 0. 0. 0. 0. 0. 0. 0. 0. 0. 1. 0. 0.\n",
      "  0. 0. 1. 0. 0. 0. 0. 0.]\n",
      " [1. 0. 0. 0. 0. 0. 0. 0. 0. 0. 0. 0. 0. 0. 0. 0. 0. 0. 0. 0. 0. 1. 0. 0.\n",
      "  0. 0. 0. 0. 0. 1. 1. 0.]\n",
      " [0. 0. 0. 0. 0. 0. 0. 0. 1. 0. 0. 0. 0. 0. 0. 0. 0. 0. 0. 0. 0. 0. 0. 0.\n",
      "  0. 0. 0. 0. 0. 0. 0. 0.]\n",
      " [0. 0. 0. 0. 1. 0. 0. 0. 0. 0. 0. 0. 0. 1. 0. 0. 0. 0. 0. 0. 0. 0. 0. 0.\n",
      "  0. 0. 0. 0. 0. 0. 0. 0.]\n",
      " [0. 0. 0. 0. 0. 0. 0. 0. 0. 0. 0. 0. 0. 0. 0. 0. 0. 0. 0. 0. 0. 0. 0. 0.\n",
      "  0. 0. 0. 0. 0. 0. 1. 0.]]\n",
      "[[-0. -5. -5. ... -7. -7. -9.]\n",
      " [-5. -0. -4. ... -6. -4. -6.]\n",
      " [-5. -4. -0. ... -6. -6. -8.]\n",
      " ...\n",
      " [-7. -6. -6. ... -0. -8. -8.]\n",
      " [-7. -4. -6. ... -8. -0. -8.]\n",
      " [-9. -6. -8. ... -8. -8. -0.]]\n",
      "29\n"
     ]
    }
   ],
   "source": [
    "# Affinity propagation\n",
    "# by changing the damping parameter (>=0.5 & <1), gives different number of clusters\n",
    "from sklearn.cluster import AffinityPropagation\n",
    "clustering = AffinityPropagation(damping=0.8).fit(x_cols)\n",
    "print(clustering.cluster_centers_indices_)\n",
    "lab_aff = clustering.labels_\n",
    "print(lab_aff)\n",
    "print(clustering.cluster_centers_)\n",
    "print(clustering.affinity_matrix_)\n",
    "print(clustering.n_iter_)"
   ]
  },
  {
   "cell_type": "code",
   "execution_count": 46,
   "metadata": {},
   "outputs": [
    {
     "data": {
      "text/plain": [
       "10    17\n",
       "3     16\n",
       "1     12\n",
       "8     11\n",
       "4      9\n",
       "2      9\n",
       "0      9\n",
       "9      6\n",
       "6      4\n",
       "5      4\n",
       "7      3\n",
       "dtype: int64"
      ]
     },
     "execution_count": 46,
     "metadata": {},
     "output_type": "execute_result"
    }
   ],
   "source": [
    "t = pd.Series(lab_aff)\n",
    "t.value_counts()"
   ]
  },
  {
   "cell_type": "code",
   "execution_count": 47,
   "metadata": {},
   "outputs": [
    {
     "data": {
      "text/html": [
       "<div>\n",
       "<style scoped>\n",
       "    .dataframe tbody tr th:only-of-type {\n",
       "        vertical-align: middle;\n",
       "    }\n",
       "\n",
       "    .dataframe tbody tr th {\n",
       "        vertical-align: top;\n",
       "    }\n",
       "\n",
       "    .dataframe thead th {\n",
       "        text-align: right;\n",
       "    }\n",
       "</style>\n",
       "<table border=\"1\" class=\"dataframe\">\n",
       "  <thead>\n",
       "    <tr style=\"text-align: right;\">\n",
       "      <th></th>\n",
       "      <th>customer_name</th>\n",
       "      <th>label_aff_ID</th>\n",
       "    </tr>\n",
       "  </thead>\n",
       "  <tbody>\n",
       "    <tr>\n",
       "      <th>0</th>\n",
       "      <td>Adams</td>\n",
       "      <td>0</td>\n",
       "    </tr>\n",
       "    <tr>\n",
       "      <th>1</th>\n",
       "      <td>Allen</td>\n",
       "      <td>8</td>\n",
       "    </tr>\n",
       "    <tr>\n",
       "      <th>2</th>\n",
       "      <td>Anderson</td>\n",
       "      <td>1</td>\n",
       "    </tr>\n",
       "    <tr>\n",
       "      <th>3</th>\n",
       "      <td>Bailey</td>\n",
       "      <td>3</td>\n",
       "    </tr>\n",
       "    <tr>\n",
       "      <th>4</th>\n",
       "      <td>Baker</td>\n",
       "      <td>3</td>\n",
       "    </tr>\n",
       "  </tbody>\n",
       "</table>\n",
       "</div>"
      ],
      "text/plain": [
       "  customer_name  label_aff_ID\n",
       "0         Adams             0\n",
       "1         Allen             8\n",
       "2      Anderson             1\n",
       "3        Bailey             3\n",
       "4         Baker             3"
      ]
     },
     "metadata": {},
     "output_type": "display_data"
    }
   ],
   "source": [
    "lab_aff = pd.DataFrame(lab_aff)\n",
    "lab_aff.columns = ['label_aff_ID']\n",
    "frames = [name_df, lab_aff]\n",
    "tmp_df = pd.concat(frames,sort=False,axis=1)\n",
    "display(tmp_df.head())"
   ]
  },
  {
   "cell_type": "code",
   "execution_count": 48,
   "metadata": {},
   "outputs": [
    {
     "data": {
      "text/html": [
       "<div>\n",
       "<style scoped>\n",
       "    .dataframe tbody tr th:only-of-type {\n",
       "        vertical-align: middle;\n",
       "    }\n",
       "\n",
       "    .dataframe tbody tr th {\n",
       "        vertical-align: top;\n",
       "    }\n",
       "\n",
       "    .dataframe thead th {\n",
       "        text-align: right;\n",
       "    }\n",
       "</style>\n",
       "<table border=\"1\" class=\"dataframe\">\n",
       "  <thead>\n",
       "    <tr style=\"text-align: right;\">\n",
       "      <th></th>\n",
       "      <th>customer_name</th>\n",
       "      <th>offer_id</th>\n",
       "      <th>n</th>\n",
       "      <th>campaign</th>\n",
       "      <th>varietal</th>\n",
       "      <th>min_qty</th>\n",
       "      <th>discount</th>\n",
       "      <th>origin</th>\n",
       "      <th>past_peak</th>\n",
       "      <th>label_aff_ID</th>\n",
       "    </tr>\n",
       "  </thead>\n",
       "  <tbody>\n",
       "    <tr>\n",
       "      <th>0</th>\n",
       "      <td>Smith</td>\n",
       "      <td>2</td>\n",
       "      <td>1</td>\n",
       "      <td>January</td>\n",
       "      <td>Pinot Noir</td>\n",
       "      <td>72</td>\n",
       "      <td>17</td>\n",
       "      <td>France</td>\n",
       "      <td>False</td>\n",
       "      <td>1</td>\n",
       "    </tr>\n",
       "    <tr>\n",
       "      <th>1</th>\n",
       "      <td>Smith</td>\n",
       "      <td>24</td>\n",
       "      <td>1</td>\n",
       "      <td>September</td>\n",
       "      <td>Pinot Noir</td>\n",
       "      <td>6</td>\n",
       "      <td>34</td>\n",
       "      <td>Italy</td>\n",
       "      <td>False</td>\n",
       "      <td>1</td>\n",
       "    </tr>\n",
       "    <tr>\n",
       "      <th>2</th>\n",
       "      <td>Rodriguez</td>\n",
       "      <td>2</td>\n",
       "      <td>1</td>\n",
       "      <td>January</td>\n",
       "      <td>Pinot Noir</td>\n",
       "      <td>72</td>\n",
       "      <td>17</td>\n",
       "      <td>France</td>\n",
       "      <td>False</td>\n",
       "      <td>1</td>\n",
       "    </tr>\n",
       "    <tr>\n",
       "      <th>3</th>\n",
       "      <td>Rodriguez</td>\n",
       "      <td>26</td>\n",
       "      <td>1</td>\n",
       "      <td>October</td>\n",
       "      <td>Pinot Noir</td>\n",
       "      <td>144</td>\n",
       "      <td>83</td>\n",
       "      <td>Australia</td>\n",
       "      <td>False</td>\n",
       "      <td>1</td>\n",
       "    </tr>\n",
       "    <tr>\n",
       "      <th>4</th>\n",
       "      <td>Martin</td>\n",
       "      <td>2</td>\n",
       "      <td>1</td>\n",
       "      <td>January</td>\n",
       "      <td>Pinot Noir</td>\n",
       "      <td>72</td>\n",
       "      <td>17</td>\n",
       "      <td>France</td>\n",
       "      <td>False</td>\n",
       "      <td>4</td>\n",
       "    </tr>\n",
       "  </tbody>\n",
       "</table>\n",
       "</div>"
      ],
      "text/plain": [
       "  customer_name  offer_id  n   campaign    varietal  min_qty  discount  \\\n",
       "0         Smith         2  1    January  Pinot Noir       72        17   \n",
       "1         Smith        24  1  September  Pinot Noir        6        34   \n",
       "2     Rodriguez         2  1    January  Pinot Noir       72        17   \n",
       "3     Rodriguez        26  1    October  Pinot Noir      144        83   \n",
       "4        Martin         2  1    January  Pinot Noir       72        17   \n",
       "\n",
       "      origin  past_peak  label_aff_ID  \n",
       "0     France      False             1  \n",
       "1      Italy      False             1  \n",
       "2     France      False             1  \n",
       "3  Australia      False             1  \n",
       "4     France      False             4  "
      ]
     },
     "metadata": {},
     "output_type": "display_data"
    },
    {
     "name": "stdout",
     "output_type": "stream",
     "text": [
      "(324, 10)\n"
     ]
    }
   ],
   "source": [
    "# merge new_df with the tmp_df dataframe by customer_name\n",
    "tmp1_df = new_df.merge(tmp_df, left_on='customer_name', right_on='customer_name')\n",
    "display(tmp1_df.head())\n",
    "print(tmp1_df.shape)"
   ]
  },
  {
   "cell_type": "markdown",
   "metadata": {},
   "source": [
    "For customers in the same label_aff_ID, examine each of the variables\n",
    "The varietal in such a way that cluster are quite mixed.\n",
    "cluster 1 is dominated by Pinot Noir, and \n",
    "cluster 4 and 10 are both dominated by Champagne.\n",
    "this clustering doesn't separate the varietal very well\n",
    "this clustering doesn't separate campaign very well"
   ]
  },
  {
   "cell_type": "code",
   "execution_count": 49,
   "metadata": {},
   "outputs": [
    {
     "data": {
      "text/plain": [
       "label_aff_ID  varietal          \n",
       "0             Espumante              8\n",
       "              Pinot Grigio           7\n",
       "              Malbec                 6\n",
       "              Prosecco               2\n",
       "              Cabernet Sauvignon     1\n",
       "              Merlot                 1\n",
       "1             Pinot Noir            30\n",
       "              Malbec                 2\n",
       "              Champagne              1\n",
       "              Chardonnay             1\n",
       "              Prosecco               1\n",
       "2             Espumante              7\n",
       "              Malbec                 7\n",
       "              Pinot Grigio           7\n",
       "              Prosecco               5\n",
       "              Merlot                 2\n",
       "3             Prosecco              14\n",
       "              Champagne              9\n",
       "              Espumante              6\n",
       "              Cabernet Sauvignon     4\n",
       "              Pinot Noir             3\n",
       "              Merlot                 2\n",
       "              Pinot Grigio           2\n",
       "              Malbec                 1\n",
       "4             Champagne             14\n",
       "              Cabernet Sauvignon     6\n",
       "              Espumante              2\n",
       "              Malbec                 2\n",
       "              Pinot Noir             2\n",
       "              Prosecco               2\n",
       "                                    ..\n",
       "6             Prosecco               5\n",
       "              Espumante              2\n",
       "7             Champagne              7\n",
       "              Malbec                 6\n",
       "              Cabernet Sauvignon     2\n",
       "              Pinot Noir             1\n",
       "8             Chardonnay            10\n",
       "              Champagne              8\n",
       "              Cabernet Sauvignon     5\n",
       "              Malbec                 4\n",
       "              Merlot                 4\n",
       "              Espumante              3\n",
       "              Pinot Noir             2\n",
       "              Prosecco               1\n",
       "9             Cabernet Sauvignon     7\n",
       "              Merlot                 5\n",
       "              Champagne              3\n",
       "              Chardonnay             1\n",
       "              Malbec                 1\n",
       "              Pinot Noir             1\n",
       "              Prosecco               1\n",
       "10            Champagne             28\n",
       "              Prosecco               9\n",
       "              Cabernet Sauvignon     7\n",
       "              Pinot Noir             5\n",
       "              Espumante              4\n",
       "              Chardonnay             3\n",
       "              Merlot                 3\n",
       "              Malbec                 1\n",
       "              Pinot Grigio           1\n",
       "Name: varietal, Length: 65, dtype: int64"
      ]
     },
     "metadata": {},
     "output_type": "display_data"
    },
    {
     "data": {
      "text/plain": [
       "label_aff_ID  campaign \n",
       "0             November      8\n",
       "              July          7\n",
       "              December      6\n",
       "              March         3\n",
       "              May           1\n",
       "1             October      11\n",
       "              September    10\n",
       "              January       9\n",
       "              July          4\n",
       "              April         1\n",
       "2             March        12\n",
       "              December      7\n",
       "              November      7\n",
       "              May           2\n",
       "3             March        11\n",
       "              July          5\n",
       "              August        4\n",
       "              February      4\n",
       "              December      3\n",
       "              May           3\n",
       "              November      3\n",
       "              October       3\n",
       "              April         2\n",
       "              June          2\n",
       "              September     1\n",
       "4             May           9\n",
       "              August        7\n",
       "              January       3\n",
       "              October       3\n",
       "              December      2\n",
       "                           ..\n",
       "7             May           1\n",
       "8             April         8\n",
       "              October       6\n",
       "              June          5\n",
       "              March         4\n",
       "              February      3\n",
       "              January       3\n",
       "              May           3\n",
       "              August        2\n",
       "              September     2\n",
       "              December      1\n",
       "9             June          7\n",
       "              February      4\n",
       "              August        3\n",
       "              October       2\n",
       "              December      1\n",
       "              March         1\n",
       "              September     1\n",
       "10            December     16\n",
       "              August        8\n",
       "              March         8\n",
       "              April         5\n",
       "              July          5\n",
       "              June          5\n",
       "              February      4\n",
       "              September     3\n",
       "              May           2\n",
       "              November      2\n",
       "              October       2\n",
       "              January       1\n",
       "Name: campaign, Length: 79, dtype: int64"
      ]
     },
     "metadata": {},
     "output_type": "display_data"
    },
    {
     "data": {
      "text/plain": [
       "label_aff_ID  offer_id\n",
       "0             18           7\n",
       "              29           7\n",
       "              30           6\n",
       "              7            2\n",
       "              8            1\n",
       "              13           1\n",
       "              28           1\n",
       "1             26          10\n",
       "              24           9\n",
       "              2            7\n",
       "              17           4\n",
       "              1            2\n",
       "              10           1\n",
       "              23           1\n",
       "              27           1\n",
       "2             8            7\n",
       "              29           7\n",
       "              30           7\n",
       "              7            5\n",
       "              13           2\n",
       "3             7            9\n",
       "              12           3\n",
       "              3            2\n",
       "              4            2\n",
       "              8            2\n",
       "              10           2\n",
       "              16           2\n",
       "              18           2\n",
       "              19           2\n",
       "              21           2\n",
       "                          ..\n",
       "9             23           1\n",
       "              25           1\n",
       "              26           1\n",
       "              30           1\n",
       "10            31          14\n",
       "              6            5\n",
       "              22           5\n",
       "              4            3\n",
       "              10           3\n",
       "              8            2\n",
       "              9            2\n",
       "              11           2\n",
       "              14           2\n",
       "              15           2\n",
       "              17           2\n",
       "              19           2\n",
       "              20           2\n",
       "              24           2\n",
       "              32           2\n",
       "              1            1\n",
       "              3            1\n",
       "              7            1\n",
       "              16           1\n",
       "              18           1\n",
       "              21           1\n",
       "              23           1\n",
       "              26           1\n",
       "              27           1\n",
       "              28           1\n",
       "              29           1\n",
       "Name: offer_id, Length: 133, dtype: int64"
      ]
     },
     "metadata": {},
     "output_type": "display_data"
    },
    {
     "data": {
      "text/plain": [
       "label_aff_ID\n",
       "0      156\n",
       "1     2478\n",
       "2      168\n",
       "3     1686\n",
       "4     1968\n",
       "5      300\n",
       "6     1542\n",
       "7      834\n",
       "8     3480\n",
       "9     1878\n",
       "10    4434\n",
       "Name: min_qty, dtype: int64"
      ]
     },
     "metadata": {},
     "output_type": "display_data"
    },
    {
     "data": {
      "text/plain": [
       "label_aff_ID\n",
       "0     1507\n",
       "1     1734\n",
       "2     1588\n",
       "3     2345\n",
       "4     1768\n",
       "5      795\n",
       "6     1161\n",
       "7      959\n",
       "8     2300\n",
       "9     1067\n",
       "10    4048\n",
       "Name: discount, dtype: int64"
      ]
     },
     "metadata": {},
     "output_type": "display_data"
    },
    {
     "data": {
      "text/plain": [
       "label_aff_ID  origin      \n",
       "0             France          14\n",
       "              Oregon           7\n",
       "              Australia        2\n",
       "              Chile            1\n",
       "              South Africa     1\n",
       "1             Australia       10\n",
       "              France           9\n",
       "              Italy            9\n",
       "              Germany          4\n",
       "              California       1\n",
       "              New Zealand      1\n",
       "              South Africa     1\n",
       "2             France          14\n",
       "              South Africa     7\n",
       "              Australia        5\n",
       "              Chile            2\n",
       "3             Australia       13\n",
       "              France           8\n",
       "              California       6\n",
       "              Oregon           5\n",
       "              Germany          4\n",
       "              Italy            2\n",
       "              South Africa     2\n",
       "              New Zealand      1\n",
       "4             France          18\n",
       "              Oregon           3\n",
       "              Australia        2\n",
       "              Italy            2\n",
       "              Germany          1\n",
       "              New Zealand      1\n",
       "                              ..\n",
       "6             New Zealand      3\n",
       "              Oregon           2\n",
       "              Australia        1\n",
       "              California       1\n",
       "              Germany          1\n",
       "7             France          16\n",
       "8             Chile           11\n",
       "              France          10\n",
       "              South Africa     5\n",
       "              New Zealand      3\n",
       "              Australia        2\n",
       "              California       2\n",
       "              Italy            2\n",
       "              Oregon           2\n",
       "9             Chile            6\n",
       "              France           4\n",
       "              Italy            3\n",
       "              New Zealand      3\n",
       "              Australia        1\n",
       "              Oregon           1\n",
       "              South Africa     1\n",
       "10            France          27\n",
       "              Chile            9\n",
       "              Germany          6\n",
       "              Italy            6\n",
       "              California       5\n",
       "              South Africa     3\n",
       "              Australia        2\n",
       "              Oregon           2\n",
       "              New Zealand      1\n",
       "Name: origin, Length: 69, dtype: int64"
      ]
     },
     "metadata": {},
     "output_type": "display_data"
    },
    {
     "data": {
      "text/plain": [
       "label_aff_ID  past_peak\n",
       "0             False        22\n",
       "              True          3\n",
       "1             False        35\n",
       "2             False        23\n",
       "              True          5\n",
       "3             False        25\n",
       "              True         16\n",
       "4             False        23\n",
       "              True          5\n",
       "5             False        15\n",
       "              True          1\n",
       "6             False        12\n",
       "              True          6\n",
       "7             False        13\n",
       "              True          3\n",
       "8             False        32\n",
       "              True          5\n",
       "9             False        14\n",
       "              True          5\n",
       "10            False        53\n",
       "              True          8\n",
       "Name: past_peak, dtype: int64"
      ]
     },
     "metadata": {},
     "output_type": "display_data"
    }
   ],
   "source": [
    "display(tmp1_df.groupby(['label_aff_ID'])['varietal'].value_counts())\n",
    "display(tmp1_df.groupby(['label_aff_ID'])['campaign'].value_counts())\n",
    "display(tmp1_df.groupby(['label_aff_ID'])['offer_id'].value_counts())\n",
    "display(tmp1_df.groupby(['label_aff_ID'])['min_qty'].sum())\n",
    "display(tmp1_df.groupby(['label_aff_ID'])['discount'].sum())\n",
    "display(tmp1_df.groupby(['label_aff_ID'])['origin'].value_counts())\n",
    "display(tmp1_df.groupby(['label_aff_ID'])['past_peak'].value_counts())"
   ]
  },
  {
   "cell_type": "markdown",
   "metadata": {},
   "source": [
    "### 2. Spectral clustering"
   ]
  },
  {
   "cell_type": "code",
   "execution_count": 50,
   "metadata": {},
   "outputs": [
    {
     "name": "stdout",
     "output_type": "stream",
     "text": [
      "[[1.00000000e+00 6.73794700e-03 6.73794700e-03 ... 9.11881966e-04\n",
      "  9.11881966e-04 1.23409804e-04]\n",
      " [6.73794700e-03 1.00000000e+00 1.83156389e-02 ... 2.47875218e-03\n",
      "  1.83156389e-02 2.47875218e-03]\n",
      " [6.73794700e-03 1.83156389e-02 1.00000000e+00 ... 2.47875218e-03\n",
      "  2.47875218e-03 3.35462628e-04]\n",
      " ...\n",
      " [9.11881966e-04 2.47875218e-03 2.47875218e-03 ... 1.00000000e+00\n",
      "  3.35462628e-04 3.35462628e-04]\n",
      " [9.11881966e-04 1.83156389e-02 2.47875218e-03 ... 3.35462628e-04\n",
      "  1.00000000e+00 3.35462628e-04]\n",
      " [1.23409804e-04 2.47875218e-03 3.35462628e-04 ... 3.35462628e-04\n",
      "  3.35462628e-04 1.00000000e+00]]\n",
      "[2 0 1 2 0 0 1 2 0 2 0 1 2 0 0 1 0 1 2 0 2 0 0 0 1 0 0 0 0 1 2 0 0 0 2 2 0\n",
      " 2 0 2 1 1 0 0 2 0 2 0 0 0 0 0 0 1 0 2 1 0 2 0 0 0 0 2 2 1 1 0 0 0 0 0 0 2\n",
      " 0 2 1 0 0 1 0 0 0 1 2 2 2 0 0 0 0 2 0 2 0 0 2 0 0 0]\n"
     ]
    }
   ],
   "source": [
    "# Spectral clustering: choose 3 clusters for simplicity\n",
    "from sklearn.cluster import SpectralClustering\n",
    "clustering = SpectralClustering(n_clusters=3, assign_labels=\"discretize\", random_state=123).fit(x_cols)\n",
    "print(clustering.affinity_matrix_)\n",
    "print(clustering.labels_)\n",
    "lab_spe = clustering.labels_"
   ]
  },
  {
   "cell_type": "code",
   "execution_count": 51,
   "metadata": {},
   "outputs": [
    {
     "data": {
      "text/plain": [
       "0    58\n",
       "2    26\n",
       "1    16\n",
       "dtype: int64"
      ]
     },
     "execution_count": 51,
     "metadata": {},
     "output_type": "execute_result"
    }
   ],
   "source": [
    "t = pd.Series(lab_spe)\n",
    "t.value_counts()"
   ]
  },
  {
   "cell_type": "code",
   "execution_count": 52,
   "metadata": {},
   "outputs": [
    {
     "data": {
      "text/html": [
       "<div>\n",
       "<style scoped>\n",
       "    .dataframe tbody tr th:only-of-type {\n",
       "        vertical-align: middle;\n",
       "    }\n",
       "\n",
       "    .dataframe tbody tr th {\n",
       "        vertical-align: top;\n",
       "    }\n",
       "\n",
       "    .dataframe thead th {\n",
       "        text-align: right;\n",
       "    }\n",
       "</style>\n",
       "<table border=\"1\" class=\"dataframe\">\n",
       "  <thead>\n",
       "    <tr style=\"text-align: right;\">\n",
       "      <th></th>\n",
       "      <th>customer_name</th>\n",
       "      <th>label_spe_ID</th>\n",
       "    </tr>\n",
       "  </thead>\n",
       "  <tbody>\n",
       "    <tr>\n",
       "      <th>0</th>\n",
       "      <td>Adams</td>\n",
       "      <td>2</td>\n",
       "    </tr>\n",
       "    <tr>\n",
       "      <th>1</th>\n",
       "      <td>Allen</td>\n",
       "      <td>0</td>\n",
       "    </tr>\n",
       "    <tr>\n",
       "      <th>2</th>\n",
       "      <td>Anderson</td>\n",
       "      <td>1</td>\n",
       "    </tr>\n",
       "    <tr>\n",
       "      <th>3</th>\n",
       "      <td>Bailey</td>\n",
       "      <td>2</td>\n",
       "    </tr>\n",
       "    <tr>\n",
       "      <th>4</th>\n",
       "      <td>Baker</td>\n",
       "      <td>0</td>\n",
       "    </tr>\n",
       "  </tbody>\n",
       "</table>\n",
       "</div>"
      ],
      "text/plain": [
       "  customer_name  label_spe_ID\n",
       "0         Adams             2\n",
       "1         Allen             0\n",
       "2      Anderson             1\n",
       "3        Bailey             2\n",
       "4         Baker             0"
      ]
     },
     "metadata": {},
     "output_type": "display_data"
    }
   ],
   "source": [
    "lab_spe = pd.DataFrame(lab_spe)\n",
    "lab_spe.columns = ['label_spe_ID']\n",
    "frames = [name_df, lab_spe]\n",
    "tmp_df = pd.concat(frames,sort=False,axis=1)\n",
    "display(tmp_df.head())"
   ]
  },
  {
   "cell_type": "code",
   "execution_count": 53,
   "metadata": {},
   "outputs": [
    {
     "data": {
      "text/html": [
       "<div>\n",
       "<style scoped>\n",
       "    .dataframe tbody tr th:only-of-type {\n",
       "        vertical-align: middle;\n",
       "    }\n",
       "\n",
       "    .dataframe tbody tr th {\n",
       "        vertical-align: top;\n",
       "    }\n",
       "\n",
       "    .dataframe thead th {\n",
       "        text-align: right;\n",
       "    }\n",
       "</style>\n",
       "<table border=\"1\" class=\"dataframe\">\n",
       "  <thead>\n",
       "    <tr style=\"text-align: right;\">\n",
       "      <th></th>\n",
       "      <th>customer_name</th>\n",
       "      <th>offer_id</th>\n",
       "      <th>n</th>\n",
       "      <th>campaign</th>\n",
       "      <th>varietal</th>\n",
       "      <th>min_qty</th>\n",
       "      <th>discount</th>\n",
       "      <th>origin</th>\n",
       "      <th>past_peak</th>\n",
       "      <th>label_spe_ID</th>\n",
       "    </tr>\n",
       "  </thead>\n",
       "  <tbody>\n",
       "    <tr>\n",
       "      <th>0</th>\n",
       "      <td>Smith</td>\n",
       "      <td>2</td>\n",
       "      <td>1</td>\n",
       "      <td>January</td>\n",
       "      <td>Pinot Noir</td>\n",
       "      <td>72</td>\n",
       "      <td>17</td>\n",
       "      <td>France</td>\n",
       "      <td>False</td>\n",
       "      <td>1</td>\n",
       "    </tr>\n",
       "    <tr>\n",
       "      <th>1</th>\n",
       "      <td>Smith</td>\n",
       "      <td>24</td>\n",
       "      <td>1</td>\n",
       "      <td>September</td>\n",
       "      <td>Pinot Noir</td>\n",
       "      <td>6</td>\n",
       "      <td>34</td>\n",
       "      <td>Italy</td>\n",
       "      <td>False</td>\n",
       "      <td>1</td>\n",
       "    </tr>\n",
       "    <tr>\n",
       "      <th>2</th>\n",
       "      <td>Rodriguez</td>\n",
       "      <td>2</td>\n",
       "      <td>1</td>\n",
       "      <td>January</td>\n",
       "      <td>Pinot Noir</td>\n",
       "      <td>72</td>\n",
       "      <td>17</td>\n",
       "      <td>France</td>\n",
       "      <td>False</td>\n",
       "      <td>1</td>\n",
       "    </tr>\n",
       "    <tr>\n",
       "      <th>3</th>\n",
       "      <td>Rodriguez</td>\n",
       "      <td>26</td>\n",
       "      <td>1</td>\n",
       "      <td>October</td>\n",
       "      <td>Pinot Noir</td>\n",
       "      <td>144</td>\n",
       "      <td>83</td>\n",
       "      <td>Australia</td>\n",
       "      <td>False</td>\n",
       "      <td>1</td>\n",
       "    </tr>\n",
       "    <tr>\n",
       "      <th>4</th>\n",
       "      <td>Martin</td>\n",
       "      <td>2</td>\n",
       "      <td>1</td>\n",
       "      <td>January</td>\n",
       "      <td>Pinot Noir</td>\n",
       "      <td>72</td>\n",
       "      <td>17</td>\n",
       "      <td>France</td>\n",
       "      <td>False</td>\n",
       "      <td>0</td>\n",
       "    </tr>\n",
       "  </tbody>\n",
       "</table>\n",
       "</div>"
      ],
      "text/plain": [
       "  customer_name  offer_id  n   campaign    varietal  min_qty  discount  \\\n",
       "0         Smith         2  1    January  Pinot Noir       72        17   \n",
       "1         Smith        24  1  September  Pinot Noir        6        34   \n",
       "2     Rodriguez         2  1    January  Pinot Noir       72        17   \n",
       "3     Rodriguez        26  1    October  Pinot Noir      144        83   \n",
       "4        Martin         2  1    January  Pinot Noir       72        17   \n",
       "\n",
       "      origin  past_peak  label_spe_ID  \n",
       "0     France      False             1  \n",
       "1      Italy      False             1  \n",
       "2     France      False             1  \n",
       "3  Australia      False             1  \n",
       "4     France      False             0  "
      ]
     },
     "metadata": {},
     "output_type": "display_data"
    },
    {
     "name": "stdout",
     "output_type": "stream",
     "text": [
      "(324, 10)\n"
     ]
    }
   ],
   "source": [
    "# merge new_df with the tmp_df dataframe by customer_name\n",
    "tmp2_df = new_df.merge(tmp_df, left_on='customer_name', right_on='customer_name')\n",
    "display(tmp2_df.head())\n",
    "print(tmp2_df.shape)"
   ]
  },
  {
   "cell_type": "code",
   "execution_count": 54,
   "metadata": {},
   "outputs": [
    {
     "data": {
      "text/plain": [
       "label_spe_ID  varietal          \n",
       "0             Champagne             80\n",
       "              Cabernet Sauvignon    31\n",
       "              Prosecco              28\n",
       "              Espumante             18\n",
       "              Malbec                15\n",
       "              Chardonnay            14\n",
       "              Merlot                13\n",
       "              Pinot Noir             7\n",
       "              Pinot Grigio           1\n",
       "1             Pinot Noir            37\n",
       "              Prosecco               2\n",
       "              Champagne              1\n",
       "              Chardonnay             1\n",
       "              Malbec                 1\n",
       "              Merlot                 1\n",
       "2             Espumante             22\n",
       "              Malbec                16\n",
       "              Pinot Grigio          16\n",
       "              Prosecco              13\n",
       "              Merlot                 6\n",
       "              Cabernet Sauvignon     1\n",
       "Name: varietal, dtype: int64"
      ]
     },
     "metadata": {},
     "output_type": "display_data"
    },
    {
     "data": {
      "text/plain": [
       "label_spe_ID  campaign \n",
       "0             August       31\n",
       "              December     27\n",
       "              March        27\n",
       "              February     22\n",
       "              June         19\n",
       "              May          17\n",
       "              October      17\n",
       "              April        16\n",
       "              January      13\n",
       "              July          8\n",
       "              November      6\n",
       "              September     4\n",
       "1             October      13\n",
       "              September    13\n",
       "              January       7\n",
       "              July          7\n",
       "              April         1\n",
       "              June          1\n",
       "              May           1\n",
       "2             March        24\n",
       "              November     17\n",
       "              December     16\n",
       "              July         11\n",
       "              May           6\n",
       "Name: campaign, dtype: int64"
      ]
     },
     "metadata": {},
     "output_type": "display_data"
    },
    {
     "data": {
      "text/plain": [
       "label_spe_ID  offer_id\n",
       "0             22          21\n",
       "              31          17\n",
       "              11          13\n",
       "              4           12\n",
       "              6           12\n",
       "              9           10\n",
       "              1            9\n",
       "              8            9\n",
       "              14           9\n",
       "              27           8\n",
       "              3            6\n",
       "              7            6\n",
       "              10           6\n",
       "              15           6\n",
       "              20           6\n",
       "              25           6\n",
       "              30           6\n",
       "              19           5\n",
       "              28           5\n",
       "              2            4\n",
       "              5            4\n",
       "              12           4\n",
       "              16           4\n",
       "              21           4\n",
       "              23           4\n",
       "              32           4\n",
       "              18           3\n",
       "              26           3\n",
       "              29           1\n",
       "1             24          12\n",
       "              26          12\n",
       "              17           7\n",
       "              2            6\n",
       "              1            1\n",
       "              10           1\n",
       "              12           1\n",
       "              16           1\n",
       "              23           1\n",
       "              27           1\n",
       "2             29          16\n",
       "              30          16\n",
       "              7           13\n",
       "              8           11\n",
       "              18          11\n",
       "              13           6\n",
       "              28           1\n",
       "Name: offer_id, dtype: int64"
      ]
     },
     "metadata": {},
     "output_type": "display_data"
    },
    {
     "data": {
      "text/plain": [
       "label_spe_ID\n",
       "0    15654\n",
       "1     2820\n",
       "2      450\n",
       "Name: min_qty, dtype: int64"
      ]
     },
     "metadata": {},
     "output_type": "display_data"
    },
    {
     "data": {
      "text/plain": [
       "label_spe_ID\n",
       "0    12896\n",
       "1     2241\n",
       "2     4135\n",
       "Name: discount, dtype: int64"
      ]
     },
     "metadata": {},
     "output_type": "display_data"
    },
    {
     "data": {
      "text/plain": [
       "label_spe_ID  origin      \n",
       "0             France          88\n",
       "              Chile           31\n",
       "              Oregon          15\n",
       "              California      14\n",
       "              Australia       13\n",
       "              South Africa    13\n",
       "              Italy           12\n",
       "              New Zealand     12\n",
       "              Germany          9\n",
       "1             Australia       13\n",
       "              Italy           12\n",
       "              France           7\n",
       "              Germany          7\n",
       "              California       2\n",
       "              New Zealand      1\n",
       "              South Africa     1\n",
       "2             France          33\n",
       "              Australia       13\n",
       "              Oregon          11\n",
       "              South Africa    11\n",
       "              Chile            6\n",
       "Name: origin, dtype: int64"
      ]
     },
     "metadata": {},
     "output_type": "display_data"
    },
    {
     "data": {
      "text/plain": [
       "label_spe_ID  past_peak\n",
       "0             False        164\n",
       "              True          43\n",
       "1             False         43\n",
       "2             False         60\n",
       "              True          14\n",
       "Name: past_peak, dtype: int64"
      ]
     },
     "metadata": {},
     "output_type": "display_data"
    }
   ],
   "source": [
    "display(tmp2_df.groupby(['label_spe_ID'])['varietal'].value_counts())\n",
    "display(tmp2_df.groupby(['label_spe_ID'])['campaign'].value_counts())\n",
    "display(tmp2_df.groupby(['label_spe_ID'])['offer_id'].value_counts())\n",
    "display(tmp2_df.groupby(['label_spe_ID'])['min_qty'].sum())\n",
    "display(tmp2_df.groupby(['label_spe_ID'])['discount'].sum())\n",
    "display(tmp2_df.groupby(['label_spe_ID'])['origin'].value_counts())\n",
    "display(tmp2_df.groupby(['label_spe_ID'])['past_peak'].value_counts())"
   ]
  },
  {
   "cell_type": "markdown",
   "metadata": {},
   "source": [
    "### 3. Agglomerative clustering "
   ]
  },
  {
   "cell_type": "code",
   "execution_count": 55,
   "metadata": {},
   "outputs": [
    {
     "name": "stdout",
     "output_type": "stream",
     "text": [
      "[1 0 2 1 0 0 2 1 0 1 0 2 1 0 1 2 0 2 1 0 1 1 0 0 2 0 0 0 0 2 1 1 0 0 1 1 0\n",
      " 1 0 1 2 2 1 0 1 0 1 0 0 0 0 0 2 2 0 1 2 1 1 0 0 1 0 1 1 2 2 0 0 0 0 0 0 1\n",
      " 0 1 2 0 1 2 0 0 0 2 1 1 1 0 0 1 0 1 0 1 0 0 1 0 0 0]\n"
     ]
    }
   ],
   "source": [
    "# Agglomerative clustering \n",
    "# linkage{“ward”, “complete”, “average”, “single”}, optional (default=”ward”)\n",
    "# Which linkage criterion to use. The linkage criterion determines which distance to use between sets of observation. \n",
    "# The algorithm will merge the pairs of cluster that minimize this criterion.\n",
    "\n",
    "# ward minimizes the variance of the clusters being merged.\n",
    "# average uses the average of the distances of each observation of the two sets.\n",
    "# complete or maximum linkage uses the maximum distances between all observations of the two sets.\n",
    "# single uses the minimum of the distances between all observations of the two sets.\n",
    "\n",
    "from sklearn.cluster import AgglomerativeClustering\n",
    "clustering = AgglomerativeClustering(n_clusters=3, linkage='ward').fit(x_cols)\n",
    "print(clustering.labels_)\n",
    "lab_agg = clustering.labels_\n",
    "#print(clustering.n_leaves_)\n",
    "#print(clustering.children_)"
   ]
  },
  {
   "cell_type": "code",
   "execution_count": 56,
   "metadata": {},
   "outputs": [
    {
     "data": {
      "text/plain": [
       "0    49\n",
       "1    34\n",
       "2    17\n",
       "dtype: int64"
      ]
     },
     "execution_count": 56,
     "metadata": {},
     "output_type": "execute_result"
    }
   ],
   "source": [
    "t = pd.Series(lab_agg)\n",
    "t.value_counts()"
   ]
  },
  {
   "cell_type": "code",
   "execution_count": 57,
   "metadata": {},
   "outputs": [
    {
     "data": {
      "text/html": [
       "<div>\n",
       "<style scoped>\n",
       "    .dataframe tbody tr th:only-of-type {\n",
       "        vertical-align: middle;\n",
       "    }\n",
       "\n",
       "    .dataframe tbody tr th {\n",
       "        vertical-align: top;\n",
       "    }\n",
       "\n",
       "    .dataframe thead th {\n",
       "        text-align: right;\n",
       "    }\n",
       "</style>\n",
       "<table border=\"1\" class=\"dataframe\">\n",
       "  <thead>\n",
       "    <tr style=\"text-align: right;\">\n",
       "      <th></th>\n",
       "      <th>customer_name</th>\n",
       "      <th>label_agg_ID</th>\n",
       "    </tr>\n",
       "  </thead>\n",
       "  <tbody>\n",
       "    <tr>\n",
       "      <th>0</th>\n",
       "      <td>Adams</td>\n",
       "      <td>1</td>\n",
       "    </tr>\n",
       "    <tr>\n",
       "      <th>1</th>\n",
       "      <td>Allen</td>\n",
       "      <td>0</td>\n",
       "    </tr>\n",
       "    <tr>\n",
       "      <th>2</th>\n",
       "      <td>Anderson</td>\n",
       "      <td>2</td>\n",
       "    </tr>\n",
       "    <tr>\n",
       "      <th>3</th>\n",
       "      <td>Bailey</td>\n",
       "      <td>1</td>\n",
       "    </tr>\n",
       "    <tr>\n",
       "      <th>4</th>\n",
       "      <td>Baker</td>\n",
       "      <td>0</td>\n",
       "    </tr>\n",
       "  </tbody>\n",
       "</table>\n",
       "</div>"
      ],
      "text/plain": [
       "  customer_name  label_agg_ID\n",
       "0         Adams             1\n",
       "1         Allen             0\n",
       "2      Anderson             2\n",
       "3        Bailey             1\n",
       "4         Baker             0"
      ]
     },
     "metadata": {},
     "output_type": "display_data"
    }
   ],
   "source": [
    "lab_agg = pd.DataFrame(lab_agg)\n",
    "lab_agg.columns = ['label_agg_ID']\n",
    "frames = [name_df, lab_agg]\n",
    "tmp_df = pd.concat(frames,sort=False,axis=1)\n",
    "display(tmp_df.head())"
   ]
  },
  {
   "cell_type": "code",
   "execution_count": 58,
   "metadata": {},
   "outputs": [
    {
     "data": {
      "text/html": [
       "<div>\n",
       "<style scoped>\n",
       "    .dataframe tbody tr th:only-of-type {\n",
       "        vertical-align: middle;\n",
       "    }\n",
       "\n",
       "    .dataframe tbody tr th {\n",
       "        vertical-align: top;\n",
       "    }\n",
       "\n",
       "    .dataframe thead th {\n",
       "        text-align: right;\n",
       "    }\n",
       "</style>\n",
       "<table border=\"1\" class=\"dataframe\">\n",
       "  <thead>\n",
       "    <tr style=\"text-align: right;\">\n",
       "      <th></th>\n",
       "      <th>customer_name</th>\n",
       "      <th>offer_id</th>\n",
       "      <th>n</th>\n",
       "      <th>campaign</th>\n",
       "      <th>varietal</th>\n",
       "      <th>min_qty</th>\n",
       "      <th>discount</th>\n",
       "      <th>origin</th>\n",
       "      <th>past_peak</th>\n",
       "      <th>label_agg_ID</th>\n",
       "    </tr>\n",
       "  </thead>\n",
       "  <tbody>\n",
       "    <tr>\n",
       "      <th>0</th>\n",
       "      <td>Smith</td>\n",
       "      <td>2</td>\n",
       "      <td>1</td>\n",
       "      <td>January</td>\n",
       "      <td>Pinot Noir</td>\n",
       "      <td>72</td>\n",
       "      <td>17</td>\n",
       "      <td>France</td>\n",
       "      <td>False</td>\n",
       "      <td>2</td>\n",
       "    </tr>\n",
       "    <tr>\n",
       "      <th>1</th>\n",
       "      <td>Smith</td>\n",
       "      <td>24</td>\n",
       "      <td>1</td>\n",
       "      <td>September</td>\n",
       "      <td>Pinot Noir</td>\n",
       "      <td>6</td>\n",
       "      <td>34</td>\n",
       "      <td>Italy</td>\n",
       "      <td>False</td>\n",
       "      <td>2</td>\n",
       "    </tr>\n",
       "    <tr>\n",
       "      <th>2</th>\n",
       "      <td>Rodriguez</td>\n",
       "      <td>2</td>\n",
       "      <td>1</td>\n",
       "      <td>January</td>\n",
       "      <td>Pinot Noir</td>\n",
       "      <td>72</td>\n",
       "      <td>17</td>\n",
       "      <td>France</td>\n",
       "      <td>False</td>\n",
       "      <td>2</td>\n",
       "    </tr>\n",
       "    <tr>\n",
       "      <th>3</th>\n",
       "      <td>Rodriguez</td>\n",
       "      <td>26</td>\n",
       "      <td>1</td>\n",
       "      <td>October</td>\n",
       "      <td>Pinot Noir</td>\n",
       "      <td>144</td>\n",
       "      <td>83</td>\n",
       "      <td>Australia</td>\n",
       "      <td>False</td>\n",
       "      <td>2</td>\n",
       "    </tr>\n",
       "    <tr>\n",
       "      <th>4</th>\n",
       "      <td>Martin</td>\n",
       "      <td>2</td>\n",
       "      <td>1</td>\n",
       "      <td>January</td>\n",
       "      <td>Pinot Noir</td>\n",
       "      <td>72</td>\n",
       "      <td>17</td>\n",
       "      <td>France</td>\n",
       "      <td>False</td>\n",
       "      <td>0</td>\n",
       "    </tr>\n",
       "  </tbody>\n",
       "</table>\n",
       "</div>"
      ],
      "text/plain": [
       "  customer_name  offer_id  n   campaign    varietal  min_qty  discount  \\\n",
       "0         Smith         2  1    January  Pinot Noir       72        17   \n",
       "1         Smith        24  1  September  Pinot Noir        6        34   \n",
       "2     Rodriguez         2  1    January  Pinot Noir       72        17   \n",
       "3     Rodriguez        26  1    October  Pinot Noir      144        83   \n",
       "4        Martin         2  1    January  Pinot Noir       72        17   \n",
       "\n",
       "      origin  past_peak  label_agg_ID  \n",
       "0     France      False             2  \n",
       "1      Italy      False             2  \n",
       "2     France      False             2  \n",
       "3  Australia      False             2  \n",
       "4     France      False             0  "
      ]
     },
     "metadata": {},
     "output_type": "display_data"
    },
    {
     "name": "stdout",
     "output_type": "stream",
     "text": [
      "(324, 10)\n"
     ]
    }
   ],
   "source": [
    "# merge new_df with the tmp_df dataframe by customer_name\n",
    "tmp3_df = new_df.merge(tmp_df, left_on='customer_name', right_on='customer_name')\n",
    "display(tmp3_df.head())\n",
    "print(tmp3_df.shape)"
   ]
  },
  {
   "cell_type": "code",
   "execution_count": 59,
   "metadata": {},
   "outputs": [
    {
     "data": {
      "text/plain": [
       "label_agg_ID  varietal          \n",
       "0             Champagne             77\n",
       "              Cabernet Sauvignon    31\n",
       "              Prosecco              24\n",
       "              Chardonnay            14\n",
       "              Malbec                13\n",
       "              Merlot                13\n",
       "              Espumante             11\n",
       "              Pinot Noir             6\n",
       "              Pinot Grigio           1\n",
       "1             Espumante             29\n",
       "              Malbec                17\n",
       "              Prosecco              17\n",
       "              Pinot Grigio          16\n",
       "              Merlot                 6\n",
       "              Champagne              3\n",
       "              Cabernet Sauvignon     1\n",
       "2             Pinot Noir            38\n",
       "              Malbec                 2\n",
       "              Prosecco               2\n",
       "              Champagne              1\n",
       "              Chardonnay             1\n",
       "              Merlot                 1\n",
       "Name: varietal, dtype: int64"
      ]
     },
     "metadata": {},
     "output_type": "display_data"
    },
    {
     "data": {
      "text/plain": [
       "label_agg_ID  campaign \n",
       "0             August       30\n",
       "              December     26\n",
       "              February     22\n",
       "              March        20\n",
       "              June         19\n",
       "              October      16\n",
       "              April        15\n",
       "              May          15\n",
       "              January      11\n",
       "              July          6\n",
       "              November      6\n",
       "              September     4\n",
       "1             March        31\n",
       "              December     17\n",
       "              November     17\n",
       "              July         13\n",
       "              May           8\n",
       "              April         1\n",
       "              August        1\n",
       "              October       1\n",
       "2             October      13\n",
       "              September    13\n",
       "              January       9\n",
       "              July          7\n",
       "              April         1\n",
       "              June          1\n",
       "              May           1\n",
       "Name: campaign, dtype: int64"
      ]
     },
     "metadata": {},
     "output_type": "display_data"
    },
    {
     "data": {
      "text/plain": [
       "label_agg_ID  offer_id\n",
       "0             22          21\n",
       "              31          17\n",
       "              4           12\n",
       "              11          12\n",
       "              6           11\n",
       "              9           10\n",
       "              14           9\n",
       "              1            8\n",
       "              27           7\n",
       "              3            6\n",
       "              15           6\n",
       "              20           6\n",
       "              25           6\n",
       "              7            5\n",
       "              10           5\n",
       "              19           5\n",
       "              28           5\n",
       "              30           5\n",
       "              5            4\n",
       "              8            4\n",
       "              16           4\n",
       "              23           4\n",
       "              32           4\n",
       "              2            3\n",
       "              12           3\n",
       "              21           3\n",
       "              26           3\n",
       "              18           1\n",
       "              29           1\n",
       "1             30          17\n",
       "              8           16\n",
       "              29          16\n",
       "              7           14\n",
       "              18          13\n",
       "              13           6\n",
       "              6            1\n",
       "              10           1\n",
       "              11           1\n",
       "              12           1\n",
       "              21           1\n",
       "              27           1\n",
       "              28           1\n",
       "2             24          12\n",
       "              26          12\n",
       "              2            7\n",
       "              17           7\n",
       "              1            2\n",
       "              10           1\n",
       "              12           1\n",
       "              16           1\n",
       "              23           1\n",
       "              27           1\n",
       "Name: offer_id, dtype: int64"
      ]
     },
     "metadata": {},
     "output_type": "display_data"
    },
    {
     "data": {
      "text/plain": [
       "label_agg_ID\n",
       "0    15012\n",
       "1      948\n",
       "2     2964\n",
       "Name: min_qty, dtype: int64"
      ]
     },
     "metadata": {},
     "output_type": "display_data"
    },
    {
     "data": {
      "text/plain": [
       "label_agg_ID\n",
       "0    11960\n",
       "1     4998\n",
       "2     2314\n",
       "Name: discount, dtype: int64"
      ]
     },
     "metadata": {},
     "output_type": "display_data"
    },
    {
     "data": {
      "text/plain": [
       "label_agg_ID  origin      \n",
       "0             France          84\n",
       "              Chile           30\n",
       "              Oregon          13\n",
       "              California      12\n",
       "              Italy           12\n",
       "              Australia       11\n",
       "              New Zealand     11\n",
       "              Germany          9\n",
       "              South Africa     8\n",
       "1             France          35\n",
       "              South Africa    16\n",
       "              Australia       15\n",
       "              Oregon          13\n",
       "              Chile            7\n",
       "              California       2\n",
       "              New Zealand      1\n",
       "2             Australia       13\n",
       "              Italy           12\n",
       "              France           9\n",
       "              Germany          7\n",
       "              California       2\n",
       "              New Zealand      1\n",
       "              South Africa     1\n",
       "Name: origin, dtype: int64"
      ]
     },
     "metadata": {},
     "output_type": "display_data"
    },
    {
     "data": {
      "text/plain": [
       "label_agg_ID  past_peak\n",
       "0             False        148\n",
       "              True          42\n",
       "1             False         74\n",
       "              True          15\n",
       "2             False         45\n",
       "Name: past_peak, dtype: int64"
      ]
     },
     "metadata": {},
     "output_type": "display_data"
    }
   ],
   "source": [
    "display(tmp3_df.groupby(['label_agg_ID'])['varietal'].value_counts())\n",
    "display(tmp3_df.groupby(['label_agg_ID'])['campaign'].value_counts())\n",
    "display(tmp3_df.groupby(['label_agg_ID'])['offer_id'].value_counts())\n",
    "display(tmp3_df.groupby(['label_agg_ID'])['min_qty'].sum())\n",
    "display(tmp3_df.groupby(['label_agg_ID'])['discount'].sum())\n",
    "display(tmp3_df.groupby(['label_agg_ID'])['origin'].value_counts())\n",
    "display(tmp3_df.groupby(['label_agg_ID'])['past_peak'].value_counts())"
   ]
  },
  {
   "cell_type": "markdown",
   "metadata": {},
   "source": [
    "### 4. DBSCAN "
   ]
  },
  {
   "cell_type": "code",
   "execution_count": 60,
   "metadata": {},
   "outputs": [
    {
     "name": "stdout",
     "output_type": "stream",
     "text": [
      "[ 0  2  1  0 -1 -1  1  0 -1  0 -1  1  0 -1 -1  1 -1  1  0 -1  0  0 -1 -1\n",
      "  1 -1 -1 -1  2 -1  0 -1 -1 -1 -1  3 -1  0 -1  3  1  1  0 -1 -1 -1  0 -1\n",
      " -1 -1 -1 -1 -1  1 -1  0  1  0  0 -1  2  0 -1  0  0 -1  1 -1 -1  2 -1  2\n",
      " -1  0  2  0  1 -1 -1  1 -1 -1 -1  1  0  3  0 -1 -1  0 -1  0 -1  0 -1 -1\n",
      "  0 -1 -1 -1]\n",
      "[[0. 0. 0. ... 1. 0. 0.]\n",
      " [0. 0. 0. ... 0. 0. 0.]\n",
      " [0. 0. 0. ... 1. 0. 0.]\n",
      " ...\n",
      " [0. 0. 0. ... 0. 0. 0.]\n",
      " [0. 0. 0. ... 0. 0. 0.]\n",
      " [0. 0. 0. ... 1. 0. 0.]]\n",
      "[ 0  2  3  6  7  9 11 12 15 17 18 20 21 24 28 30 35 37 40 41 42 46 53 55\n",
      " 56 58 61 63 64 66 69 74 75 76 79 84 86 89 93 96]\n"
     ]
    }
   ],
   "source": [
    "# DBSCAN \n",
    "# only eps = 1 gives non-trivial clustering\n",
    "# only min_samples < 10 are interesting\n",
    "from sklearn.cluster import DBSCAN\n",
    "clustering = DBSCAN(eps=1, min_samples=3).fit(x_cols)\n",
    "print(clustering.labels_)\n",
    "lab_dbscan = clustering.labels_\n",
    "print(clustering.components_)\n",
    "print(clustering.core_sample_indices_)"
   ]
  },
  {
   "cell_type": "code",
   "execution_count": 61,
   "metadata": {},
   "outputs": [
    {
     "data": {
      "text/plain": [
       "-1    51\n",
       " 0    26\n",
       " 1    14\n",
       " 2     6\n",
       " 3     3\n",
       "dtype: int64"
      ]
     },
     "execution_count": 61,
     "metadata": {},
     "output_type": "execute_result"
    }
   ],
   "source": [
    "t = pd.Series(lab_dbscan)\n",
    "t.value_counts()"
   ]
  },
  {
   "cell_type": "code",
   "execution_count": 62,
   "metadata": {},
   "outputs": [
    {
     "data": {
      "text/html": [
       "<div>\n",
       "<style scoped>\n",
       "    .dataframe tbody tr th:only-of-type {\n",
       "        vertical-align: middle;\n",
       "    }\n",
       "\n",
       "    .dataframe tbody tr th {\n",
       "        vertical-align: top;\n",
       "    }\n",
       "\n",
       "    .dataframe thead th {\n",
       "        text-align: right;\n",
       "    }\n",
       "</style>\n",
       "<table border=\"1\" class=\"dataframe\">\n",
       "  <thead>\n",
       "    <tr style=\"text-align: right;\">\n",
       "      <th></th>\n",
       "      <th>customer_name</th>\n",
       "      <th>lab_dbscan_ID</th>\n",
       "    </tr>\n",
       "  </thead>\n",
       "  <tbody>\n",
       "    <tr>\n",
       "      <th>0</th>\n",
       "      <td>Adams</td>\n",
       "      <td>0</td>\n",
       "    </tr>\n",
       "    <tr>\n",
       "      <th>1</th>\n",
       "      <td>Allen</td>\n",
       "      <td>2</td>\n",
       "    </tr>\n",
       "    <tr>\n",
       "      <th>2</th>\n",
       "      <td>Anderson</td>\n",
       "      <td>1</td>\n",
       "    </tr>\n",
       "    <tr>\n",
       "      <th>3</th>\n",
       "      <td>Bailey</td>\n",
       "      <td>0</td>\n",
       "    </tr>\n",
       "    <tr>\n",
       "      <th>4</th>\n",
       "      <td>Baker</td>\n",
       "      <td>-1</td>\n",
       "    </tr>\n",
       "  </tbody>\n",
       "</table>\n",
       "</div>"
      ],
      "text/plain": [
       "  customer_name  lab_dbscan_ID\n",
       "0         Adams              0\n",
       "1         Allen              2\n",
       "2      Anderson              1\n",
       "3        Bailey              0\n",
       "4         Baker             -1"
      ]
     },
     "metadata": {},
     "output_type": "display_data"
    }
   ],
   "source": [
    "lab_dbscan = pd.DataFrame(lab_dbscan)\n",
    "lab_dbscan.columns = ['lab_dbscan_ID']\n",
    "frames = [name_df, lab_dbscan]\n",
    "tmp_df = pd.concat(frames,sort=False,axis=1)\n",
    "display(tmp_df.head())"
   ]
  },
  {
   "cell_type": "code",
   "execution_count": 63,
   "metadata": {},
   "outputs": [
    {
     "data": {
      "text/html": [
       "<div>\n",
       "<style scoped>\n",
       "    .dataframe tbody tr th:only-of-type {\n",
       "        vertical-align: middle;\n",
       "    }\n",
       "\n",
       "    .dataframe tbody tr th {\n",
       "        vertical-align: top;\n",
       "    }\n",
       "\n",
       "    .dataframe thead th {\n",
       "        text-align: right;\n",
       "    }\n",
       "</style>\n",
       "<table border=\"1\" class=\"dataframe\">\n",
       "  <thead>\n",
       "    <tr style=\"text-align: right;\">\n",
       "      <th></th>\n",
       "      <th>customer_name</th>\n",
       "      <th>offer_id</th>\n",
       "      <th>n</th>\n",
       "      <th>campaign</th>\n",
       "      <th>varietal</th>\n",
       "      <th>min_qty</th>\n",
       "      <th>discount</th>\n",
       "      <th>origin</th>\n",
       "      <th>past_peak</th>\n",
       "      <th>lab_dbscan_ID</th>\n",
       "    </tr>\n",
       "  </thead>\n",
       "  <tbody>\n",
       "    <tr>\n",
       "      <th>0</th>\n",
       "      <td>Smith</td>\n",
       "      <td>2</td>\n",
       "      <td>1</td>\n",
       "      <td>January</td>\n",
       "      <td>Pinot Noir</td>\n",
       "      <td>72</td>\n",
       "      <td>17</td>\n",
       "      <td>France</td>\n",
       "      <td>False</td>\n",
       "      <td>1</td>\n",
       "    </tr>\n",
       "    <tr>\n",
       "      <th>1</th>\n",
       "      <td>Smith</td>\n",
       "      <td>24</td>\n",
       "      <td>1</td>\n",
       "      <td>September</td>\n",
       "      <td>Pinot Noir</td>\n",
       "      <td>6</td>\n",
       "      <td>34</td>\n",
       "      <td>Italy</td>\n",
       "      <td>False</td>\n",
       "      <td>1</td>\n",
       "    </tr>\n",
       "    <tr>\n",
       "      <th>2</th>\n",
       "      <td>Rodriguez</td>\n",
       "      <td>2</td>\n",
       "      <td>1</td>\n",
       "      <td>January</td>\n",
       "      <td>Pinot Noir</td>\n",
       "      <td>72</td>\n",
       "      <td>17</td>\n",
       "      <td>France</td>\n",
       "      <td>False</td>\n",
       "      <td>1</td>\n",
       "    </tr>\n",
       "    <tr>\n",
       "      <th>3</th>\n",
       "      <td>Rodriguez</td>\n",
       "      <td>26</td>\n",
       "      <td>1</td>\n",
       "      <td>October</td>\n",
       "      <td>Pinot Noir</td>\n",
       "      <td>144</td>\n",
       "      <td>83</td>\n",
       "      <td>Australia</td>\n",
       "      <td>False</td>\n",
       "      <td>1</td>\n",
       "    </tr>\n",
       "    <tr>\n",
       "      <th>4</th>\n",
       "      <td>Martin</td>\n",
       "      <td>2</td>\n",
       "      <td>1</td>\n",
       "      <td>January</td>\n",
       "      <td>Pinot Noir</td>\n",
       "      <td>72</td>\n",
       "      <td>17</td>\n",
       "      <td>France</td>\n",
       "      <td>False</td>\n",
       "      <td>-1</td>\n",
       "    </tr>\n",
       "  </tbody>\n",
       "</table>\n",
       "</div>"
      ],
      "text/plain": [
       "  customer_name  offer_id  n   campaign    varietal  min_qty  discount  \\\n",
       "0         Smith         2  1    January  Pinot Noir       72        17   \n",
       "1         Smith        24  1  September  Pinot Noir        6        34   \n",
       "2     Rodriguez         2  1    January  Pinot Noir       72        17   \n",
       "3     Rodriguez        26  1    October  Pinot Noir      144        83   \n",
       "4        Martin         2  1    January  Pinot Noir       72        17   \n",
       "\n",
       "      origin  past_peak  lab_dbscan_ID  \n",
       "0     France      False              1  \n",
       "1      Italy      False              1  \n",
       "2     France      False              1  \n",
       "3  Australia      False              1  \n",
       "4     France      False             -1  "
      ]
     },
     "metadata": {},
     "output_type": "display_data"
    },
    {
     "name": "stdout",
     "output_type": "stream",
     "text": [
      "(324, 10)\n"
     ]
    }
   ],
   "source": [
    "# merge new_df with the tmp_df dataframe by customer_name\n",
    "tmp4_df = new_df.merge(tmp_df, left_on='customer_name', right_on='customer_name')\n",
    "display(tmp4_df.head())\n",
    "print(tmp4_df.shape)"
   ]
  },
  {
   "cell_type": "code",
   "execution_count": 64,
   "metadata": {},
   "outputs": [
    {
     "data": {
      "text/plain": [
       "lab_dbscan_ID  varietal          \n",
       "-1             Champagne             75\n",
       "               Cabernet Sauvignon    32\n",
       "               Prosecco              29\n",
       "               Malbec                16\n",
       "               Espumante             15\n",
       "               Merlot                15\n",
       "               Chardonnay            10\n",
       "               Pinot Noir            10\n",
       "               Pinot Grigio           3\n",
       " 0             Espumante             19\n",
       "               Malbec                14\n",
       "               Pinot Grigio          14\n",
       "               Prosecco              13\n",
       "               Merlot                 2\n",
       "               Champagne              1\n",
       " 1             Pinot Noir            34\n",
       " 2             Champagne              5\n",
       "               Chardonnay             5\n",
       " 3             Espumante              6\n",
       "               Merlot                 3\n",
       "               Malbec                 2\n",
       "               Prosecco               1\n",
       "Name: varietal, dtype: int64"
      ]
     },
     "metadata": {},
     "output_type": "display_data"
    },
    {
     "data": {
      "text/plain": [
       "lab_dbscan_ID  campaign \n",
       "-1             August       31\n",
       "               December     24\n",
       "               March        23\n",
       "               February     22\n",
       "               June         20\n",
       "               May          18\n",
       "               October      18\n",
       "               January      15\n",
       "               April        13\n",
       "               November      9\n",
       "               July          8\n",
       "               September     4\n",
       " 0             March        24\n",
       "               December     14\n",
       "               November     14\n",
       "               July          7\n",
       "               May           3\n",
       "               October       1\n",
       " 1             September    12\n",
       "               October      10\n",
       "               July          7\n",
       "               January       5\n",
       " 2             April         4\n",
       "               December      3\n",
       "               July          1\n",
       "               October       1\n",
       "               September     1\n",
       " 3             March         4\n",
       "               July          3\n",
       "               May           3\n",
       "               December      2\n",
       "Name: campaign, dtype: int64"
      ]
     },
     "metadata": {},
     "output_type": "display_data"
    },
    {
     "data": {
      "text/plain": [
       "lab_dbscan_ID  offer_id\n",
       "-1             22          21\n",
       "               31          14\n",
       "               11          13\n",
       "               4           12\n",
       "               6           12\n",
       "               1           10\n",
       "               14           9\n",
       "               10           7\n",
       "               27           7\n",
       "               3            6\n",
       "               7            6\n",
       "               9            6\n",
       "               15           6\n",
       "               20           6\n",
       "               25           6\n",
       "               28           6\n",
       "               30           6\n",
       "               2            5\n",
       "               8            5\n",
       "               16           5\n",
       "               26           5\n",
       "               5            4\n",
       "               12           4\n",
       "               18           4\n",
       "               19           4\n",
       "               21           4\n",
       "               23           4\n",
       "               32           4\n",
       "               29           3\n",
       "               13           1\n",
       " 0             29          14\n",
       "               30          14\n",
       "               7           12\n",
       "               8           12\n",
       "               18           7\n",
       "               13           2\n",
       "               12           1\n",
       "               27           1\n",
       " 1             24          12\n",
       "               26          10\n",
       "               17           7\n",
       "               2            5\n",
       " 2             9            4\n",
       "               31           3\n",
       "               19           1\n",
       "               23           1\n",
       "               27           1\n",
       " 3             8            3\n",
       "               13           3\n",
       "               18           3\n",
       "               30           2\n",
       "               7            1\n",
       "Name: offer_id, dtype: int64"
      ]
     },
     "metadata": {},
     "output_type": "display_data"
    },
    {
     "data": {
      "text/plain": [
       "lab_dbscan_ID\n",
       "-1    15366\n",
       " 0      510\n",
       " 1     1956\n",
       " 2     1020\n",
       " 3       72\n",
       "Name: min_qty, dtype: int64"
      ]
     },
     "metadata": {},
     "output_type": "display_data"
    },
    {
     "data": {
      "text/plain": [
       "lab_dbscan_ID\n",
       "-1    12769\n",
       " 0     3601\n",
       " 1     1652\n",
       " 2      688\n",
       " 3      562\n",
       "Name: discount, dtype: int64"
      ]
     },
     "metadata": {},
     "output_type": "display_data"
    },
    {
     "data": {
      "text/plain": [
       "lab_dbscan_ID  origin      \n",
       "-1             France          90\n",
       "               Chile           28\n",
       "               California      16\n",
       "               Oregon          16\n",
       "               Australia       15\n",
       "               Italy           12\n",
       "               New Zealand     11\n",
       "               South Africa     9\n",
       "               Germany          8\n",
       " 0             France          28\n",
       "               Australia       13\n",
       "               South Africa    12\n",
       "               Oregon           7\n",
       "               Chile            2\n",
       "               New Zealand      1\n",
       " 1             Italy           12\n",
       "               Australia       10\n",
       "               Germany          7\n",
       "               France           5\n",
       " 2             Chile            4\n",
       "               France           3\n",
       "               Germany          1\n",
       "               New Zealand      1\n",
       "               South Africa     1\n",
       " 3             Chile            3\n",
       "               Oregon           3\n",
       "               South Africa     3\n",
       "               France           2\n",
       "               Australia        1\n",
       "Name: origin, dtype: int64"
      ]
     },
     "metadata": {},
     "output_type": "display_data"
    },
    {
     "data": {
      "text/plain": [
       "lab_dbscan_ID  past_peak\n",
       "-1             False        161\n",
       "               True          44\n",
       " 0             False         51\n",
       "               True          12\n",
       " 1             False         34\n",
       " 2             False         10\n",
       " 3             False         11\n",
       "               True           1\n",
       "Name: past_peak, dtype: int64"
      ]
     },
     "metadata": {},
     "output_type": "display_data"
    }
   ],
   "source": [
    "display(tmp4_df.groupby(['lab_dbscan_ID'])['varietal'].value_counts())\n",
    "display(tmp4_df.groupby(['lab_dbscan_ID'])['campaign'].value_counts())\n",
    "display(tmp4_df.groupby(['lab_dbscan_ID'])['offer_id'].value_counts())\n",
    "display(tmp4_df.groupby(['lab_dbscan_ID'])['min_qty'].sum())\n",
    "display(tmp4_df.groupby(['lab_dbscan_ID'])['discount'].sum())\n",
    "display(tmp4_df.groupby(['lab_dbscan_ID'])['origin'].value_counts())\n",
    "display(tmp4_df.groupby(['lab_dbscan_ID'])['past_peak'].value_counts())"
   ]
  },
  {
   "cell_type": "markdown",
   "metadata": {},
   "source": [
    "## Answers:\n",
    "Based on the limited explorations of these 5 clustering methods. I compared KMeans with 3 clusters, \n",
    "Affinity propagation with 8 clusters (only damping can be tuned), \n",
    "Spectral clustering with 3 clusters (can specifiy n_clusters), \n",
    "Agglomerative clustering with 3 clusters (can specifiy n_clusters), \n",
    "and DBSCAN with 5 clusters (tune eps and min_samples). \n",
    "I roughly inspected the \"purity\" of each attribute (varietal, offer_id, dicount, etc.) within each cluster produced\n",
    "by different algorithms, and use this \"purity\" as a metric to measure the performance of each algorithm. \n",
    "I found that 3 clusters are better than 5 (DBSCAN) or 8 clusters (Affinity propagation) for this small dataset (100 rows indicating 100 customers)\n",
    "and Spectral clustering with 3 clusters gives a pretty good separation of varietal, discount and min_qty.\n",
    "Agglomerative clustering and KMeans have similar performance as Spectral clustering."
   ]
  },
  {
   "cell_type": "code",
   "execution_count": null,
   "metadata": {},
   "outputs": [],
   "source": []
  },
  {
   "cell_type": "code",
   "execution_count": null,
   "metadata": {},
   "outputs": [],
   "source": []
  },
  {
   "cell_type": "code",
   "execution_count": null,
   "metadata": {},
   "outputs": [],
   "source": []
  }
 ],
 "metadata": {
  "anaconda-cloud": {},
  "kernelspec": {
   "display_name": "Python 3",
   "language": "python",
   "name": "python3"
  },
  "language_info": {
   "codemirror_mode": {
    "name": "ipython",
    "version": 3
   },
   "file_extension": ".py",
   "mimetype": "text/x-python",
   "name": "python",
   "nbconvert_exporter": "python",
   "pygments_lexer": "ipython3",
   "version": "3.7.3"
  }
 },
 "nbformat": 4,
 "nbformat_minor": 1
}
