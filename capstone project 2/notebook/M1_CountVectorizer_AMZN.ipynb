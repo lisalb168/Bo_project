{
 "cells": [
  {
   "cell_type": "markdown",
   "metadata": {},
   "source": [
    "# Table of Contents\n",
    "* [Import data and Recover the 5-Fold Validation Indices](#Import-data-and-Recover-the-5-Fold-Validation-Indices)\n",
    "* [Function to log results](#Function-to-log-results)\n",
    "* [Use CountVectorizer to create feature matrix](#Use-CountVectorizer-to-create-feature-matrix)\n",
    "* [Classification Models](#Classification-Models)\n",
    "    * [1.1 RandomForest](#1.1-RandomForest)\n",
    "    * [1.2 Multinomial Naive Bayes](#1.2-Multinomial-Naive-Bayes)\n",
    "    * [1.3 LightGBM](#1.3-LightGBM)\n",
    "    * [1.4 Logistic Regression with regularizations](#1.4-Logistic-Regression-with-regularizations)\n",
    "* [Summary of models](#Summary-of-models)"
   ]
  },
  {
   "cell_type": "code",
   "execution_count": 2,
   "metadata": {},
   "outputs": [],
   "source": [
    "import sys\n",
    "\n",
    "if not sys.warnoptions:\n",
    "    import warnings\n",
    "    warnings.simplefilter(\"ignore\")\n",
    "    \n",
    "import warnings\n",
    "warnings.filterwarnings(\"ignore\")"
   ]
  },
  {
   "cell_type": "code",
   "execution_count": 3,
   "metadata": {},
   "outputs": [],
   "source": [
    "#import sys\n",
    "#!conda install --yes --prefix {sys.prefix} -c conda-forge lightgbm\n",
    "#!pip install afinn\n",
    "import pandas as pd\n",
    "import numpy as np\n",
    "import matplotlib.pyplot as plt\n",
    "#from tensorflow.python.keras import models, layers, optimizers\n",
    "#import tensorflow\n",
    "#from tensorflow.keras.preprocessing.text import Tokenizer, text_to_word_sequence\n",
    "#from tensorflow.keras.preprocessing.sequence import pad_sequences\n",
    "import bz2\n",
    "from sklearn.metrics import f1_score, roc_auc_score, accuracy_score\n",
    "import re\n",
    "%matplotlib inline\n",
    "# Training and Testing data files are available in the \"../python notebook v1\" directory.\n",
    "# The following function finds all the .csv files in the project directory\n",
    "import os\n",
    "#def find_csv_filenames(path_to_dir, suffix=\".csv\"):\n",
    "#    filenames = os.listdir(path_to_dir)\n",
    "#    return [filename for filename in filenames if filename.endswith(suffix)]\n",
    "#filenames = find_csv_filenames(\"../python notebook v1\")\n",
    "#for name in filenames:\n",
    "#    print(name)\n",
    "\n",
    "pd.options.display.max_colwidth = 200\n",
    "import statistics\n",
    "from scipy import stats\n",
    "from scipy.stats import t\n",
    "from scipy.stats import norm\n",
    "import seaborn as sns\n",
    "import sklearn\n",
    "import sqlite3\n",
    "from sqlite3 import Error\n",
    "import csv\n",
    "import lightgbm\n",
    "\n",
    "from sklearn.ensemble import RandomForestClassifier\n",
    "from sklearn.linear_model import LogisticRegression\n",
    "from lightgbm import LGBMClassifier\n",
    "\n",
    "from sklearn.model_selection import cross_val_score\n",
    "from sklearn.model_selection import GridSearchCV\n",
    "from sklearn.model_selection import RandomizedSearchCV\n",
    "\n",
    "from sklearn.metrics import classification_report\n",
    "from sklearn.metrics import roc_auc_score\n",
    "from sklearn.metrics import average_precision_score\n",
    "from sklearn.metrics import roc_curve, auc\n",
    "from sklearn.metrics import accuracy_score\n",
    "from sklearn.metrics import confusion_matrix"
   ]
  },
  {
   "cell_type": "markdown",
   "metadata": {},
   "source": [
    "## Function to log results"
   ]
  },
  {
   "cell_type": "code",
   "execution_count": 4,
   "metadata": {},
   "outputs": [],
   "source": [
    "def model_log(cv_clf, modelname):\n",
    "    rlt_dict = {}\n",
    "\n",
    "    rlt_dict['best_estimator_'] = [cv_clf.best_estimator_]\n",
    "    rlt_dict['best_params_'] = [cv_clf.best_params_]\n",
    "    rlt_dict['best_score_'] = [cv_clf.best_score_]\n",
    "    rlt_dict['best_index_'] = [cv_clf.best_index_]\n",
    "\n",
    "    rlt_dict['candidate_params'] = [cv_clf.cv_results_['params']]\n",
    "    rlt_dict['mean_test_score'] = [cv_clf.cv_results_['mean_test_score']]\n",
    "    rlt_dict['std_test_score'] = [cv_clf.cv_results_['std_test_score']]\n",
    "    rlt_dict['mean_train_score'] = [cv_clf.cv_results_['mean_train_score']]\n",
    "    rlt_dict['std_train_score'] = [cv_clf.cv_results_['std_train_score']]\n",
    "\n",
    "    rlt_dict['split0_test_score'] = [cv_clf.cv_results_['split0_test_score']]\n",
    "    rlt_dict['split1_test_score'] = [cv_clf.cv_results_['split1_test_score']]\n",
    "    rlt_dict['split2_test_score'] = [cv_clf.cv_results_['split2_test_score']]\n",
    "    rlt_dict['split3_test_score'] = [cv_clf.cv_results_['split3_test_score']]\n",
    "    rlt_dict['split4_test_score'] = [cv_clf.cv_results_['split4_test_score']]\n",
    "\n",
    "    rlt_dict['split0_train_score'] = [cv_clf.cv_results_['split0_train_score']]\n",
    "    rlt_dict['split1_train_score'] = [cv_clf.cv_results_['split1_train_score']]\n",
    "    rlt_dict['split2_train_score'] = [cv_clf.cv_results_['split2_train_score']]\n",
    "    rlt_dict['split3_train_score'] = [cv_clf.cv_results_['split3_train_score']]\n",
    "    rlt_dict['split4_train_score'] = [cv_clf.cv_results_['split4_train_score']]\n",
    "\n",
    "    rlt_df = pd.DataFrame.from_dict(rlt_dict)\n",
    "    \n",
    "    filename = modelname + '_' + 'cv_rlt.csv'\n",
    "    rlt_df.to_csv(filename)"
   ]
  },
  {
   "cell_type": "markdown",
   "metadata": {},
   "source": [
    "## Import data and Recover the 5-Fold Validation Indices"
   ]
  },
  {
   "cell_type": "code",
   "execution_count": 5,
   "metadata": {},
   "outputs": [],
   "source": [
    "X_train = pd.read_csv(\"X_train.csv\", )\n",
    "y_train_0 = pd.read_csv(\"y_train.csv\", header=None)\n",
    "y_train = y_train_0[0]\n",
    "X_test = pd.read_csv(\"X_test.csv\", )\n",
    "y_test_0 = pd.read_csv(\"y_test.csv\", header=None)\n",
    "y_test = y_test_0[0]"
   ]
  },
  {
   "cell_type": "code",
   "execution_count": 6,
   "metadata": {},
   "outputs": [
    {
     "name": "stdout",
     "output_type": "stream",
     "text": [
      "X_train shape:  (11640, 9)\n",
      "y_train shape:  (11640,)\n",
      "X_test shape:  (2911, 9)\n",
      "y_test shape:  (2911,)\n"
     ]
    }
   ],
   "source": [
    "print(\"X_train shape: \", X_train.shape)\n",
    "print(\"y_train shape: \", y_train.shape)\n",
    "print(\"X_test shape: \", X_test.shape)\n",
    "print(\"y_test shape: \", y_test.shape)"
   ]
  },
  {
   "cell_type": "code",
   "execution_count": 7,
   "metadata": {},
   "outputs": [
    {
     "data": {
      "text/plain": [
       "5"
      ]
     },
     "execution_count": 7,
     "metadata": {},
     "output_type": "execute_result"
    }
   ],
   "source": [
    "from sklearn.model_selection import KFold\n",
    "kf = KFold(n_splits=5, random_state=123, shuffle=True)\n",
    "kf.get_n_splits(X_train)"
   ]
  },
  {
   "cell_type": "code",
   "execution_count": 8,
   "metadata": {},
   "outputs": [
    {
     "name": "stdout",
     "output_type": "stream",
     "text": [
      "Fold 1:  Train: [    0     1     2 ... 11636 11638 11639] Validation: [    3     6     7 ... 11619 11620 11637]\n",
      "Fold 2:  Train: [    1     3     5 ... 11637 11638 11639] Validation: [    0     2     4 ... 11591 11624 11629]\n",
      "Fold 3:  Train: [    0     1     2 ... 11637 11638 11639] Validation: [    8    33    35 ... 11631 11635 11636]\n",
      "Fold 4:  Train: [    0     2     3 ... 11636 11637 11638] Validation: [    1     5    18 ... 11632 11634 11639]\n",
      "Fold 5:  Train: [    0     1     2 ... 11636 11637 11639] Validation: [   13    16    17 ... 11628 11633 11638]\n"
     ]
    }
   ],
   "source": [
    "i = 1\n",
    "for train_index, val_index in kf.split(X_train):\n",
    "    print(f\"Fold {i}: \", \"Train:\", train_index, \"Validation:\", val_index)\n",
    "    i = i + 1"
   ]
  },
  {
   "cell_type": "markdown",
   "metadata": {},
   "source": [
    "## Use CountVectorizer to create feature matrix"
   ]
  },
  {
   "cell_type": "code",
   "execution_count": 9,
   "metadata": {},
   "outputs": [],
   "source": [
    "# Import CountVectorizer\n",
    "from sklearn.feature_extraction.text import CountVectorizer\n",
    "# Create CountVectoroizer object\n",
    "vectorizer = CountVectorizer()\n",
    "# Generate matrix of word vectors\n",
    "X_train_matrix = vectorizer.fit_transform(X_train.text)\n",
    "X_test_matrix = vectorizer.transform(X_test.text)"
   ]
  },
  {
   "cell_type": "code",
   "execution_count": 10,
   "metadata": {},
   "outputs": [
    {
     "name": "stdout",
     "output_type": "stream",
     "text": [
      "(11640, 7028)\n"
     ]
    },
    {
     "data": {
      "text/html": [
       "<div>\n",
       "<style scoped>\n",
       "    .dataframe tbody tr th:only-of-type {\n",
       "        vertical-align: middle;\n",
       "    }\n",
       "\n",
       "    .dataframe tbody tr th {\n",
       "        vertical-align: top;\n",
       "    }\n",
       "\n",
       "    .dataframe thead th {\n",
       "        text-align: right;\n",
       "    }\n",
       "</style>\n",
       "<table border=\"1\" class=\"dataframe\">\n",
       "  <thead>\n",
       "    <tr style=\"text-align: right;\">\n",
       "      <th></th>\n",
       "      <th>aa</th>\n",
       "      <th>aaaand</th>\n",
       "      <th>aadavantage</th>\n",
       "      <th>aadv</th>\n",
       "      <th>aadvantage</th>\n",
       "      <th>aal</th>\n",
       "      <th>aas</th>\n",
       "      <th>aback</th>\n",
       "      <th>abandon</th>\n",
       "      <th>abandonment</th>\n",
       "      <th>...</th>\n",
       "      <th>zambia</th>\n",
       "      <th>zcc</th>\n",
       "      <th>zero</th>\n",
       "      <th>zipper</th>\n",
       "      <th>zone</th>\n",
       "      <th>zoom</th>\n",
       "      <th>zuke</th>\n",
       "      <th>zurich</th>\n",
       "      <th>zz</th>\n",
       "      <th>ID</th>\n",
       "    </tr>\n",
       "  </thead>\n",
       "  <tbody>\n",
       "    <tr>\n",
       "      <th>0</th>\n",
       "      <td>0</td>\n",
       "      <td>0</td>\n",
       "      <td>0</td>\n",
       "      <td>0</td>\n",
       "      <td>0</td>\n",
       "      <td>0</td>\n",
       "      <td>0</td>\n",
       "      <td>0</td>\n",
       "      <td>0</td>\n",
       "      <td>0</td>\n",
       "      <td>...</td>\n",
       "      <td>0</td>\n",
       "      <td>0</td>\n",
       "      <td>0</td>\n",
       "      <td>0</td>\n",
       "      <td>0</td>\n",
       "      <td>0</td>\n",
       "      <td>0</td>\n",
       "      <td>0</td>\n",
       "      <td>0</td>\n",
       "      <td>7908</td>\n",
       "    </tr>\n",
       "    <tr>\n",
       "      <th>1</th>\n",
       "      <td>0</td>\n",
       "      <td>0</td>\n",
       "      <td>0</td>\n",
       "      <td>0</td>\n",
       "      <td>0</td>\n",
       "      <td>0</td>\n",
       "      <td>0</td>\n",
       "      <td>0</td>\n",
       "      <td>0</td>\n",
       "      <td>0</td>\n",
       "      <td>...</td>\n",
       "      <td>0</td>\n",
       "      <td>0</td>\n",
       "      <td>0</td>\n",
       "      <td>0</td>\n",
       "      <td>0</td>\n",
       "      <td>0</td>\n",
       "      <td>0</td>\n",
       "      <td>0</td>\n",
       "      <td>0</td>\n",
       "      <td>538</td>\n",
       "    </tr>\n",
       "    <tr>\n",
       "      <th>2</th>\n",
       "      <td>0</td>\n",
       "      <td>0</td>\n",
       "      <td>0</td>\n",
       "      <td>0</td>\n",
       "      <td>0</td>\n",
       "      <td>0</td>\n",
       "      <td>0</td>\n",
       "      <td>0</td>\n",
       "      <td>0</td>\n",
       "      <td>0</td>\n",
       "      <td>...</td>\n",
       "      <td>0</td>\n",
       "      <td>0</td>\n",
       "      <td>0</td>\n",
       "      <td>0</td>\n",
       "      <td>0</td>\n",
       "      <td>0</td>\n",
       "      <td>0</td>\n",
       "      <td>0</td>\n",
       "      <td>0</td>\n",
       "      <td>4501</td>\n",
       "    </tr>\n",
       "    <tr>\n",
       "      <th>3</th>\n",
       "      <td>0</td>\n",
       "      <td>0</td>\n",
       "      <td>0</td>\n",
       "      <td>0</td>\n",
       "      <td>0</td>\n",
       "      <td>0</td>\n",
       "      <td>0</td>\n",
       "      <td>0</td>\n",
       "      <td>0</td>\n",
       "      <td>0</td>\n",
       "      <td>...</td>\n",
       "      <td>0</td>\n",
       "      <td>0</td>\n",
       "      <td>0</td>\n",
       "      <td>0</td>\n",
       "      <td>0</td>\n",
       "      <td>0</td>\n",
       "      <td>0</td>\n",
       "      <td>0</td>\n",
       "      <td>0</td>\n",
       "      <td>13982</td>\n",
       "    </tr>\n",
       "    <tr>\n",
       "      <th>4</th>\n",
       "      <td>0</td>\n",
       "      <td>0</td>\n",
       "      <td>0</td>\n",
       "      <td>0</td>\n",
       "      <td>0</td>\n",
       "      <td>0</td>\n",
       "      <td>0</td>\n",
       "      <td>0</td>\n",
       "      <td>0</td>\n",
       "      <td>0</td>\n",
       "      <td>...</td>\n",
       "      <td>0</td>\n",
       "      <td>0</td>\n",
       "      <td>0</td>\n",
       "      <td>0</td>\n",
       "      <td>0</td>\n",
       "      <td>0</td>\n",
       "      <td>0</td>\n",
       "      <td>0</td>\n",
       "      <td>0</td>\n",
       "      <td>6048</td>\n",
       "    </tr>\n",
       "  </tbody>\n",
       "</table>\n",
       "<p>5 rows × 7028 columns</p>\n",
       "</div>"
      ],
      "text/plain": [
       "   aa  aaaand  aadavantage  aadv  aadvantage  aal  aas  aback  abandon  \\\n",
       "0   0       0            0     0           0    0    0      0        0   \n",
       "1   0       0            0     0           0    0    0      0        0   \n",
       "2   0       0            0     0           0    0    0      0        0   \n",
       "3   0       0            0     0           0    0    0      0        0   \n",
       "4   0       0            0     0           0    0    0      0        0   \n",
       "\n",
       "   abandonment  ...  zambia  zcc  zero  zipper  zone  zoom  zuke  zurich  zz  \\\n",
       "0            0  ...       0    0     0       0     0     0     0       0   0   \n",
       "1            0  ...       0    0     0       0     0     0     0       0   0   \n",
       "2            0  ...       0    0     0       0     0     0     0       0   0   \n",
       "3            0  ...       0    0     0       0     0     0     0       0   0   \n",
       "4            0  ...       0    0     0       0     0     0     0       0   0   \n",
       "\n",
       "      ID  \n",
       "0   7908  \n",
       "1    538  \n",
       "2   4501  \n",
       "3  13982  \n",
       "4   6048  \n",
       "\n",
       "[5 rows x 7028 columns]"
      ]
     },
     "metadata": {},
     "output_type": "display_data"
    }
   ],
   "source": [
    "# Convert X_train_matrix into a DataFrame\n",
    "X_train_df = pd.DataFrame(X_train_matrix.toarray())\n",
    "# Map the column names to vocabulary \n",
    "X_train_df.columns = vectorizer.get_feature_names()\n",
    "# keep the original ID column\n",
    "X_train_df['ID'] = X_train.ID.to_list()\n",
    "print(X_train_df.shape)\n",
    "display(X_train_df.head())"
   ]
  },
  {
   "cell_type": "markdown",
   "metadata": {},
   "source": [
    "Make sure after CountVectorizer, each row still corresponds to the same observation in the original train/test dataset"
   ]
  },
  {
   "cell_type": "code",
   "execution_count": 11,
   "metadata": {},
   "outputs": [
    {
     "name": "stdout",
     "output_type": "stream",
     "text": [
      "point u cancel flight flight dca airline already cancel flightle\n"
     ]
    },
    {
     "data": {
      "text/plain": [
       "airline        1\n",
       "already        1\n",
       "cancel         2\n",
       "dca            1\n",
       "flight         2\n",
       "flightle       1\n",
       "point          1\n",
       "ID          7908\n",
       "Name: 0, dtype: int64"
      ]
     },
     "execution_count": 11,
     "metadata": {},
     "output_type": "execute_result"
    }
   ],
   "source": [
    "print(X_train.text[0])\n",
    "X_train_df.iloc[0,:][X_train_df.iloc[0,:] >= 1]"
   ]
  },
  {
   "cell_type": "code",
   "execution_count": 12,
   "metadata": {},
   "outputs": [
    {
     "name": "stdout",
     "output_type": "stream",
     "text": [
      "come get point buy rapid reward shopping site\n"
     ]
    },
    {
     "data": {
      "text/plain": [
       "buy            1\n",
       "come           1\n",
       "get            1\n",
       "point          1\n",
       "rapid          1\n",
       "reward         1\n",
       "shopping       1\n",
       "site           1\n",
       "ID          4501\n",
       "Name: 2, dtype: int64"
      ]
     },
     "execution_count": 12,
     "metadata": {},
     "output_type": "execute_result"
    }
   ],
   "source": [
    "print(X_train.text[2])\n",
    "X_train_df.iloc[2,:][X_train_df.iloc[2,:] >= 1]"
   ]
  },
  {
   "cell_type": "code",
   "execution_count": 13,
   "metadata": {},
   "outputs": [
    {
     "name": "stdout",
     "output_type": "stream",
     "text": [
      "(11640, 7035)\n"
     ]
    },
    {
     "data": {
      "text/html": [
       "<div>\n",
       "<style scoped>\n",
       "    .dataframe tbody tr th:only-of-type {\n",
       "        vertical-align: middle;\n",
       "    }\n",
       "\n",
       "    .dataframe tbody tr th {\n",
       "        vertical-align: top;\n",
       "    }\n",
       "\n",
       "    .dataframe thead th {\n",
       "        text-align: right;\n",
       "    }\n",
       "</style>\n",
       "<table border=\"1\" class=\"dataframe\">\n",
       "  <thead>\n",
       "    <tr style=\"text-align: right;\">\n",
       "      <th></th>\n",
       "      <th>aa</th>\n",
       "      <th>aaaand</th>\n",
       "      <th>aadavantage</th>\n",
       "      <th>aadv</th>\n",
       "      <th>aadvantage</th>\n",
       "      <th>aal</th>\n",
       "      <th>aas</th>\n",
       "      <th>aback</th>\n",
       "      <th>abandon</th>\n",
       "      <th>abandonment</th>\n",
       "      <th>...</th>\n",
       "      <th>zurich</th>\n",
       "      <th>zz</th>\n",
       "      <th>ID</th>\n",
       "      <th>retweet_count</th>\n",
       "      <th>airline_company_American</th>\n",
       "      <th>airline_company_Delta</th>\n",
       "      <th>airline_company_Southwest</th>\n",
       "      <th>airline_company_US Airways</th>\n",
       "      <th>airline_company_United</th>\n",
       "      <th>airline_company_Virgin America</th>\n",
       "    </tr>\n",
       "  </thead>\n",
       "  <tbody>\n",
       "    <tr>\n",
       "      <th>0</th>\n",
       "      <td>0</td>\n",
       "      <td>0</td>\n",
       "      <td>0</td>\n",
       "      <td>0</td>\n",
       "      <td>0</td>\n",
       "      <td>0</td>\n",
       "      <td>0</td>\n",
       "      <td>0</td>\n",
       "      <td>0</td>\n",
       "      <td>0</td>\n",
       "      <td>...</td>\n",
       "      <td>0</td>\n",
       "      <td>0</td>\n",
       "      <td>7908</td>\n",
       "      <td>0.0</td>\n",
       "      <td>0</td>\n",
       "      <td>1</td>\n",
       "      <td>0</td>\n",
       "      <td>0</td>\n",
       "      <td>0</td>\n",
       "      <td>0</td>\n",
       "    </tr>\n",
       "    <tr>\n",
       "      <th>1</th>\n",
       "      <td>0</td>\n",
       "      <td>0</td>\n",
       "      <td>0</td>\n",
       "      <td>0</td>\n",
       "      <td>0</td>\n",
       "      <td>0</td>\n",
       "      <td>0</td>\n",
       "      <td>0</td>\n",
       "      <td>0</td>\n",
       "      <td>0</td>\n",
       "      <td>...</td>\n",
       "      <td>0</td>\n",
       "      <td>0</td>\n",
       "      <td>538</td>\n",
       "      <td>0.0</td>\n",
       "      <td>0</td>\n",
       "      <td>0</td>\n",
       "      <td>0</td>\n",
       "      <td>0</td>\n",
       "      <td>1</td>\n",
       "      <td>0</td>\n",
       "    </tr>\n",
       "    <tr>\n",
       "      <th>2</th>\n",
       "      <td>0</td>\n",
       "      <td>0</td>\n",
       "      <td>0</td>\n",
       "      <td>0</td>\n",
       "      <td>0</td>\n",
       "      <td>0</td>\n",
       "      <td>0</td>\n",
       "      <td>0</td>\n",
       "      <td>0</td>\n",
       "      <td>0</td>\n",
       "      <td>...</td>\n",
       "      <td>0</td>\n",
       "      <td>0</td>\n",
       "      <td>4501</td>\n",
       "      <td>0.0</td>\n",
       "      <td>0</td>\n",
       "      <td>0</td>\n",
       "      <td>1</td>\n",
       "      <td>0</td>\n",
       "      <td>0</td>\n",
       "      <td>0</td>\n",
       "    </tr>\n",
       "    <tr>\n",
       "      <th>3</th>\n",
       "      <td>0</td>\n",
       "      <td>0</td>\n",
       "      <td>0</td>\n",
       "      <td>0</td>\n",
       "      <td>0</td>\n",
       "      <td>0</td>\n",
       "      <td>0</td>\n",
       "      <td>0</td>\n",
       "      <td>0</td>\n",
       "      <td>0</td>\n",
       "      <td>...</td>\n",
       "      <td>0</td>\n",
       "      <td>0</td>\n",
       "      <td>13982</td>\n",
       "      <td>0.0</td>\n",
       "      <td>1</td>\n",
       "      <td>0</td>\n",
       "      <td>0</td>\n",
       "      <td>0</td>\n",
       "      <td>0</td>\n",
       "      <td>0</td>\n",
       "    </tr>\n",
       "    <tr>\n",
       "      <th>4</th>\n",
       "      <td>0</td>\n",
       "      <td>0</td>\n",
       "      <td>0</td>\n",
       "      <td>0</td>\n",
       "      <td>0</td>\n",
       "      <td>0</td>\n",
       "      <td>0</td>\n",
       "      <td>0</td>\n",
       "      <td>0</td>\n",
       "      <td>0</td>\n",
       "      <td>...</td>\n",
       "      <td>0</td>\n",
       "      <td>0</td>\n",
       "      <td>6048</td>\n",
       "      <td>0.0</td>\n",
       "      <td>0</td>\n",
       "      <td>0</td>\n",
       "      <td>1</td>\n",
       "      <td>0</td>\n",
       "      <td>0</td>\n",
       "      <td>0</td>\n",
       "    </tr>\n",
       "  </tbody>\n",
       "</table>\n",
       "<p>5 rows × 7035 columns</p>\n",
       "</div>"
      ],
      "text/plain": [
       "   aa  aaaand  aadavantage  aadv  aadvantage  aal  aas  aback  abandon  \\\n",
       "0   0       0            0     0           0    0    0      0        0   \n",
       "1   0       0            0     0           0    0    0      0        0   \n",
       "2   0       0            0     0           0    0    0      0        0   \n",
       "3   0       0            0     0           0    0    0      0        0   \n",
       "4   0       0            0     0           0    0    0      0        0   \n",
       "\n",
       "   abandonment  ...  zurich  zz     ID  retweet_count  \\\n",
       "0            0  ...       0   0   7908            0.0   \n",
       "1            0  ...       0   0    538            0.0   \n",
       "2            0  ...       0   0   4501            0.0   \n",
       "3            0  ...       0   0  13982            0.0   \n",
       "4            0  ...       0   0   6048            0.0   \n",
       "\n",
       "   airline_company_American  airline_company_Delta  airline_company_Southwest  \\\n",
       "0                         0                      1                          0   \n",
       "1                         0                      0                          0   \n",
       "2                         0                      0                          1   \n",
       "3                         1                      0                          0   \n",
       "4                         0                      0                          1   \n",
       "\n",
       "   airline_company_US Airways  airline_company_United  \\\n",
       "0                           0                       0   \n",
       "1                           0                       1   \n",
       "2                           0                       0   \n",
       "3                           0                       0   \n",
       "4                           0                       0   \n",
       "\n",
       "   airline_company_Virgin America  \n",
       "0                               0  \n",
       "1                               0  \n",
       "2                               0  \n",
       "3                               0  \n",
       "4                               0  \n",
       "\n",
       "[5 rows x 7035 columns]"
      ]
     },
     "metadata": {},
     "output_type": "display_data"
    }
   ],
   "source": [
    "X_train_leftover = X_train.drop(['text'], axis=1)\n",
    "#display(X_train_leftover.head())\n",
    "#display(X_train_df.head())\n",
    "#print(\"Check the length are equal\", len(X_train_leftover) == len(X_train_df))\n",
    "\n",
    "# Get the full features by merging the 2 dataframes\n",
    "X_train_final = pd.merge(X_train_df, X_train_leftover, how='inner', on='ID')\n",
    "print(X_train_final.shape)\n",
    "display(X_train_final.head())"
   ]
  },
  {
   "cell_type": "code",
   "execution_count": 14,
   "metadata": {},
   "outputs": [
    {
     "data": {
      "text/html": [
       "<div>\n",
       "<style scoped>\n",
       "    .dataframe tbody tr th:only-of-type {\n",
       "        vertical-align: middle;\n",
       "    }\n",
       "\n",
       "    .dataframe tbody tr th {\n",
       "        vertical-align: top;\n",
       "    }\n",
       "\n",
       "    .dataframe thead th {\n",
       "        text-align: right;\n",
       "    }\n",
       "</style>\n",
       "<table border=\"1\" class=\"dataframe\">\n",
       "  <thead>\n",
       "    <tr style=\"text-align: right;\">\n",
       "      <th></th>\n",
       "      <th>aa</th>\n",
       "      <th>aaaand</th>\n",
       "      <th>aadavantage</th>\n",
       "      <th>aadv</th>\n",
       "      <th>aadvantage</th>\n",
       "      <th>aal</th>\n",
       "      <th>aas</th>\n",
       "      <th>aback</th>\n",
       "      <th>abandon</th>\n",
       "      <th>abandonment</th>\n",
       "      <th>...</th>\n",
       "      <th>zuke</th>\n",
       "      <th>zurich</th>\n",
       "      <th>zz</th>\n",
       "      <th>retweet_count</th>\n",
       "      <th>airline_company_American</th>\n",
       "      <th>airline_company_Delta</th>\n",
       "      <th>airline_company_Southwest</th>\n",
       "      <th>airline_company_US Airways</th>\n",
       "      <th>airline_company_United</th>\n",
       "      <th>airline_company_Virgin America</th>\n",
       "    </tr>\n",
       "  </thead>\n",
       "  <tbody>\n",
       "    <tr>\n",
       "      <th>0</th>\n",
       "      <td>0</td>\n",
       "      <td>0</td>\n",
       "      <td>0</td>\n",
       "      <td>0</td>\n",
       "      <td>0</td>\n",
       "      <td>0</td>\n",
       "      <td>0</td>\n",
       "      <td>0</td>\n",
       "      <td>0</td>\n",
       "      <td>0</td>\n",
       "      <td>...</td>\n",
       "      <td>0</td>\n",
       "      <td>0</td>\n",
       "      <td>0</td>\n",
       "      <td>0.0</td>\n",
       "      <td>0</td>\n",
       "      <td>1</td>\n",
       "      <td>0</td>\n",
       "      <td>0</td>\n",
       "      <td>0</td>\n",
       "      <td>0</td>\n",
       "    </tr>\n",
       "    <tr>\n",
       "      <th>1</th>\n",
       "      <td>0</td>\n",
       "      <td>0</td>\n",
       "      <td>0</td>\n",
       "      <td>0</td>\n",
       "      <td>0</td>\n",
       "      <td>0</td>\n",
       "      <td>0</td>\n",
       "      <td>0</td>\n",
       "      <td>0</td>\n",
       "      <td>0</td>\n",
       "      <td>...</td>\n",
       "      <td>0</td>\n",
       "      <td>0</td>\n",
       "      <td>0</td>\n",
       "      <td>0.0</td>\n",
       "      <td>0</td>\n",
       "      <td>0</td>\n",
       "      <td>0</td>\n",
       "      <td>0</td>\n",
       "      <td>1</td>\n",
       "      <td>0</td>\n",
       "    </tr>\n",
       "    <tr>\n",
       "      <th>2</th>\n",
       "      <td>0</td>\n",
       "      <td>0</td>\n",
       "      <td>0</td>\n",
       "      <td>0</td>\n",
       "      <td>0</td>\n",
       "      <td>0</td>\n",
       "      <td>0</td>\n",
       "      <td>0</td>\n",
       "      <td>0</td>\n",
       "      <td>0</td>\n",
       "      <td>...</td>\n",
       "      <td>0</td>\n",
       "      <td>0</td>\n",
       "      <td>0</td>\n",
       "      <td>0.0</td>\n",
       "      <td>0</td>\n",
       "      <td>0</td>\n",
       "      <td>1</td>\n",
       "      <td>0</td>\n",
       "      <td>0</td>\n",
       "      <td>0</td>\n",
       "    </tr>\n",
       "    <tr>\n",
       "      <th>3</th>\n",
       "      <td>0</td>\n",
       "      <td>0</td>\n",
       "      <td>0</td>\n",
       "      <td>0</td>\n",
       "      <td>0</td>\n",
       "      <td>0</td>\n",
       "      <td>0</td>\n",
       "      <td>0</td>\n",
       "      <td>0</td>\n",
       "      <td>0</td>\n",
       "      <td>...</td>\n",
       "      <td>0</td>\n",
       "      <td>0</td>\n",
       "      <td>0</td>\n",
       "      <td>0.0</td>\n",
       "      <td>1</td>\n",
       "      <td>0</td>\n",
       "      <td>0</td>\n",
       "      <td>0</td>\n",
       "      <td>0</td>\n",
       "      <td>0</td>\n",
       "    </tr>\n",
       "    <tr>\n",
       "      <th>4</th>\n",
       "      <td>0</td>\n",
       "      <td>0</td>\n",
       "      <td>0</td>\n",
       "      <td>0</td>\n",
       "      <td>0</td>\n",
       "      <td>0</td>\n",
       "      <td>0</td>\n",
       "      <td>0</td>\n",
       "      <td>0</td>\n",
       "      <td>0</td>\n",
       "      <td>...</td>\n",
       "      <td>0</td>\n",
       "      <td>0</td>\n",
       "      <td>0</td>\n",
       "      <td>0.0</td>\n",
       "      <td>0</td>\n",
       "      <td>0</td>\n",
       "      <td>1</td>\n",
       "      <td>0</td>\n",
       "      <td>0</td>\n",
       "      <td>0</td>\n",
       "    </tr>\n",
       "  </tbody>\n",
       "</table>\n",
       "<p>5 rows × 7034 columns</p>\n",
       "</div>"
      ],
      "text/plain": [
       "   aa  aaaand  aadavantage  aadv  aadvantage  aal  aas  aback  abandon  \\\n",
       "0   0       0            0     0           0    0    0      0        0   \n",
       "1   0       0            0     0           0    0    0      0        0   \n",
       "2   0       0            0     0           0    0    0      0        0   \n",
       "3   0       0            0     0           0    0    0      0        0   \n",
       "4   0       0            0     0           0    0    0      0        0   \n",
       "\n",
       "   abandonment  ...  zuke  zurich  zz  retweet_count  \\\n",
       "0            0  ...     0       0   0            0.0   \n",
       "1            0  ...     0       0   0            0.0   \n",
       "2            0  ...     0       0   0            0.0   \n",
       "3            0  ...     0       0   0            0.0   \n",
       "4            0  ...     0       0   0            0.0   \n",
       "\n",
       "   airline_company_American  airline_company_Delta  airline_company_Southwest  \\\n",
       "0                         0                      1                          0   \n",
       "1                         0                      0                          0   \n",
       "2                         0                      0                          1   \n",
       "3                         1                      0                          0   \n",
       "4                         0                      0                          1   \n",
       "\n",
       "   airline_company_US Airways  airline_company_United  \\\n",
       "0                           0                       0   \n",
       "1                           0                       1   \n",
       "2                           0                       0   \n",
       "3                           0                       0   \n",
       "4                           0                       0   \n",
       "\n",
       "   airline_company_Virgin America  \n",
       "0                               0  \n",
       "1                               0  \n",
       "2                               0  \n",
       "3                               0  \n",
       "4                               0  \n",
       "\n",
       "[5 rows x 7034 columns]"
      ]
     },
     "metadata": {},
     "output_type": "display_data"
    }
   ],
   "source": [
    "# Drop the ID column to prepare for fitting models\n",
    "X_train_no_ID = X_train_final.drop(['ID'], axis=1)\n",
    "display(X_train_no_ID.head())"
   ]
  },
  {
   "cell_type": "markdown",
   "metadata": {},
   "source": [
    "## Classification Models"
   ]
  },
  {
   "cell_type": "markdown",
   "metadata": {},
   "source": [
    "### 1.1 RandomForest"
   ]
  },
  {
   "cell_type": "code",
   "execution_count": 55,
   "metadata": {},
   "outputs": [
    {
     "name": "stdout",
     "output_type": "stream",
     "text": [
      "completed in 34.726754 s\n"
     ]
    }
   ],
   "source": [
    "import time\n",
    "start = time.process_time()\n",
    "\n",
    "niter, verbose, random_state = [5, 0, 123] \n",
    "param_space = {'n_estimators': range(100,500,100), 'max_depth': range(1,20)}\n",
    "\n",
    "clf = RandomForestClassifier(random_state=random_state)\n",
    "cv_clf = RandomizedSearchCV(clf, param_space, cv=kf, n_iter=niter, return_train_score=True, \n",
    "                            verbose=verbose, n_jobs=-1) \n",
    "cv_clf.fit(X_train_no_ID, y_train)\n",
    "\n",
    "print('completed in {} s'.format(time.process_time() - start))\n",
    "\n",
    "# write out results\n",
    "model_log(cv_clf, 'RF_CountVectorizer')"
   ]
  },
  {
   "cell_type": "code",
   "execution_count": 15,
   "metadata": {},
   "outputs": [
    {
     "name": "stdout",
     "output_type": "stream",
     "text": [
      "1. Five candidate parameters are:  [{'n_estimators': 400, 'max_depth': 18}, {'n_estimators': 100, 'max_depth': 17}, {'n_estimators': 100, 'max_depth': 14}, {'n_estimators': 300, 'max_depth': 6}, {'n_estimators': 200, 'max_depth': 10}]\n",
      "2. Best number of trees and depth are: 400 and 18\n",
      "3. Best average CV validation score is:  0.638487972508591\n",
      "4. Average CV validation score:  [0.63848797 0.6371134  0.63213058 0.62989691 0.63006873]\n",
      "5. Standard Deviation of CV validation score:  [0.0054511  0.00490067 0.00816196 0.00673509 0.00683732]\n",
      "6. Average CV training score:  [0.6425043  0.64140893 0.63438574 0.62989691 0.63026203]\n",
      "7. Standard Deviation of CV training score:  [0.00151261 0.00368728 0.00216765 0.00168377 0.00146458]\n",
      "1st fold validation score:  [0.63530928 0.63445017 0.63101375 0.62843643 0.62843643]\n",
      "2nd fold validation score:  [0.63745704 0.63745704 0.62972509 0.62800687 0.62843643]\n",
      "3rd fold validation score:  [0.64690722 0.64647766 0.64561856 0.63960481 0.64003436]\n",
      "4th fold validation score:  [0.63101375 0.63316151 0.62027491 0.61941581 0.61941581]\n",
      "5th fold validation score:  [0.64175258 0.63402062 0.63402062 0.63402062 0.63402062]\n",
      "1st fold training score:  [0.64314863 0.64368557 0.6342354  0.63026203 0.63026203]\n",
      "2nd fold training score:  [0.64271907 0.64293385 0.63445017 0.63036942 0.63112113]\n",
      "3rd fold training score:  [0.64121564 0.6397122  0.63670533 0.62746993 0.62854381]\n",
      "4th fold training score:  [0.64486684 0.64561856 0.636061   0.63251718 0.63251718]\n",
      "5th fold training score:  [0.64057131 0.6350945  0.6304768  0.62886598 0.62886598]\n"
     ]
    }
   ],
   "source": [
    "import re\n",
    "import ast\n",
    "result = pd.read_csv('RF_CountVectorizer_cv_rlt.csv')\n",
    "candidate_params = ast.literal_eval(result.candidate_params.values[0])\n",
    "print(\"1. Five candidate parameters are: \", candidate_params)\n",
    "best_n = ast.literal_eval(re.search('({.+})', result.best_params_.values[0]).group(0))['n_estimators']\n",
    "best_d = ast.literal_eval(re.search('({.+})', result.best_params_.values[0]).group(0))['max_depth']\n",
    "print(\"2. Best number of trees and depth are: {} and {}\".format(best_n, best_d))\n",
    "best_score_rf = result.best_score_.values[0]\n",
    "print(\"3. Best average CV validation score is: \", best_score_rf)\n",
    "mean_test_score = result.mean_test_score.values[0]\n",
    "print(\"4. Average CV validation score: \", mean_test_score)\n",
    "std_test_score = result.std_test_score.values[0]\n",
    "print(\"5. Standard Deviation of CV validation score: \", std_test_score)\n",
    "mean_train_score = result.mean_train_score.values[0]\n",
    "print(\"6. Average CV training score: \", mean_train_score)\n",
    "std_train_score = result.std_train_score.values[0]\n",
    "print(\"7. Standard Deviation of CV training score: \", std_train_score)\n",
    "\n",
    "print(\"1st fold validation score: \", result.split0_test_score.values[0])\n",
    "print(\"2nd fold validation score: \", result.split1_test_score.values[0])\n",
    "print(\"3rd fold validation score: \", result.split2_test_score.values[0])\n",
    "print(\"4th fold validation score: \", result.split3_test_score.values[0])\n",
    "print(\"5th fold validation score: \", result.split4_test_score.values[0])\n",
    "print(\"1st fold training score: \", result.split0_train_score.values[0])\n",
    "print(\"2nd fold training score: \", result.split1_train_score.values[0])\n",
    "print(\"3rd fold training score: \", result.split2_train_score.values[0])\n",
    "print(\"4th fold training score: \", result.split3_train_score.values[0])\n",
    "print(\"5th fold training score: \", result.split4_train_score.values[0])"
   ]
  },
  {
   "cell_type": "markdown",
   "metadata": {},
   "source": [
    "Classification performance on the entire training set"
   ]
  },
  {
   "cell_type": "code",
   "execution_count": 16,
   "metadata": {},
   "outputs": [
    {
     "data": {
      "image/png": "[encoded data removed]",
      "text/plain": [
       "<Figure size 432x288 with 1 Axes>"
      ]
     },
     "metadata": {
      "needs_background": "light"
     },
     "output_type": "display_data"
    }
   ],
   "source": [
    "result = pd.read_csv('RF_CountVectorizer_cv_rlt.csv')\n",
    "best_n = ast.literal_eval(re.search('({.+})', result.best_params_.values[0]).group(0))['n_estimators']\n",
    "best_d = ast.literal_eval(re.search('({.+})', result.best_params_.values[0]).group(0))['max_depth']\n",
    "\n",
    "clf = RandomForestClassifier(n_estimators = best_n, max_depth = best_d, \n",
    "                             bootstrap=True, class_weight=None, criterion='gini',\n",
    "                             max_features='auto', max_leaf_nodes=None,\n",
    "                             min_impurity_decrease=0.0, min_impurity_split=None,\n",
    "                             min_samples_leaf=1, min_samples_split=2,\n",
    "                             min_weight_fraction_leaf=0.0, n_jobs=None,\n",
    "                             oob_score=False, random_state=123, verbose=0, warm_start=False)\n",
    "\n",
    "clf.fit(X_train_no_ID, y_train)\n",
    "\n",
    "preds = clf.predict(X_train_no_ID)\n",
    "probs = clf.predict_proba(X_train_no_ID)\n",
    "\n",
    "# plot top 10 features of the training set\n",
    "M = 10\n",
    "\n",
    "importances = clf.feature_importances_\n",
    "indices = np.argsort(importances)\n",
    "features = X_train_no_ID.columns\n",
    "\n",
    "plt.title('Feature Importances')\n",
    "plt.barh(range(M), importances[indices][-M:], color='b', align='center')\n",
    "plt.yticks(range(M), [features[i] for i in indices[-M:]])\n",
    "plt.xlabel('Relative Importance')\n",
    "plt.show()"
   ]
  },
  {
   "cell_type": "code",
   "execution_count": 17,
   "metadata": {},
   "outputs": [
    {
     "name": "stdout",
     "output_type": "stream",
     "text": [
      "1. Confusion Matrix for the training data is: \n",
      " [[ 109    0 2332]\n",
      " [   5   29 1833]\n",
      " [   9    0 7323]]\n",
      "2. Training accuracy: 0.640979\n",
      "3. Training report:                precision    recall  f1-score   support\n",
      "\n",
      "           0       0.89      0.04      0.09      2441\n",
      "           1       1.00      0.02      0.03      1867\n",
      "           2       0.64      1.00      0.78      7332\n",
      "\n",
      "   micro avg       0.64      0.64      0.64     11640\n",
      "   macro avg       0.84      0.35      0.30     11640\n",
      "weighted avg       0.75      0.64      0.51     11640\n",
      "\n"
     ]
    }
   ],
   "source": [
    "#preds = clf.predict(X_train_no_ID)\n",
    "confusion_matrix = sklearn.metrics.confusion_matrix(y_train, preds, labels=None, sample_weight=None)\n",
    "report = classification_report(y_train, preds)\n",
    "#probs = clf.predict_proba(X_train_no_ID)\n",
    "accuracy = float(np.sum(preds==y_train))/y_train.shape[0] \n",
    "\n",
    "print(\"1. Confusion Matrix for the training data is: \\n\", confusion_matrix)\n",
    "print(\"2. Training accuracy: %f\" % (accuracy))\n",
    "print(\"3. Training report: \", report)"
   ]
  },
  {
   "cell_type": "markdown",
   "metadata": {},
   "source": [
    "### 1.2 Multinomial Naive Bayes"
   ]
  },
  {
   "cell_type": "markdown",
   "metadata": {},
   "source": [
    "Average training and validation scores show slight overfitting of the Naive Bayes algorithm"
   ]
  },
  {
   "cell_type": "code",
   "execution_count": 18,
   "metadata": {},
   "outputs": [
    {
     "name": "stdout",
     "output_type": "stream",
     "text": [
      "5-Fold Training scores are:  [0.8393470790378007, 0.834729381443299, 0.8397766323024055, 0.8395618556701031, 0.8441795532646048]\n",
      "Average Training score is: 0.83952\n",
      "5-Fold Validation scores are:  [0.7628865979381443, 0.7658934707903781, 0.7598797250859106, 0.7697594501718213, 0.7439862542955327]\n",
      "Average validation score is: 0.76048\n"
     ]
    }
   ],
   "source": [
    "# Import MultinomialNB\n",
    "from sklearn.naive_bayes import MultinomialNB # Create MultinomialNB object\n",
    "clf = MultinomialNB()\n",
    "\n",
    "# Train clf on 5 fold data\n",
    "val_accuracy = []\n",
    "train_acc = []\n",
    "for train_index, val_index in kf.split(X_train):\n",
    "    X_train_5cv, X_val_5cv = X_train_no_ID.iloc[train_index,:], X_train_no_ID.iloc[val_index,:]\n",
    "    y_train_5cv, y_val_5cv = y_train[train_index], y_train[val_index]\n",
    "    clf.fit(X_train_5cv, y_train_5cv)\n",
    "    train_acc.append(clf.score(X_train_5cv, y_train_5cv))\n",
    "    val_accuracy.append(clf.score(X_val_5cv, y_val_5cv))\n",
    "print(\"5-Fold Training scores are: \", train_acc)\n",
    "mean_train_score = np.mean(train_acc)\n",
    "print(\"Average Training score is: {:.5f}\".format(mean_train_score))\n",
    "print(\"5-Fold Validation scores are: \", val_accuracy)\n",
    "mean_validation_score_NB = np.mean(val_accuracy)\n",
    "print(\"Average validation score is: {:.5f}\".format(mean_validation_score_NB))\n",
    "\n",
    "# write average validation score to csv file\n",
    "rlt_dict = {}\n",
    "rlt_dict['Average_val_score'] = [mean_validation_score_NB]\n",
    "rlt_df = pd.DataFrame.from_dict(rlt_dict)\n",
    "filename = \"NB_CountVectorizer_cv_rlt.csv\"\n",
    "rlt_df.to_csv(filename)"
   ]
  },
  {
   "cell_type": "markdown",
   "metadata": {},
   "source": [
    "Classification performance on the entire training set"
   ]
  },
  {
   "cell_type": "code",
   "execution_count": 19,
   "metadata": {},
   "outputs": [
    {
     "name": "stdout",
     "output_type": "stream",
     "text": [
      "Training accuracy: 0.838144\n",
      "Confusion Matrix for training set is: \n",
      " [[1424  122  895]\n",
      " [ 104 1378  385]\n",
      " [ 252  126 6954]]\n",
      "Classification Report for training set is: \n",
      "               precision    recall  f1-score   support\n",
      "\n",
      "           0       0.80      0.58      0.67      2441\n",
      "           1       0.85      0.74      0.79      1867\n",
      "           2       0.84      0.95      0.89      7332\n",
      "\n",
      "   micro avg       0.84      0.84      0.84     11640\n",
      "   macro avg       0.83      0.76      0.79     11640\n",
      "weighted avg       0.84      0.84      0.83     11640\n",
      "\n"
     ]
    }
   ],
   "source": [
    "clf = MultinomialNB()\n",
    "clf.fit(X_train_no_ID, y_train)\n",
    "\n",
    "# Compute accuracy on entire training set\n",
    "train_accuracy = clf.score(X_train_no_ID, y_train) \n",
    "print(\"Training accuracy: %f\" % (train_accuracy))\n",
    "\n",
    "# create confusion matrix and classification report for the training data\n",
    "preds = clf.predict(X_train_no_ID)\n",
    "confusion_matrix = sklearn.metrics.confusion_matrix(y_train, preds, labels=None, sample_weight=None)\n",
    "report = classification_report(y_train, preds)\n",
    "probs = clf.predict_proba(X_train_no_ID)\n",
    "print(\"Confusion Matrix for training set is: \\n\", confusion_matrix)\n",
    "print(\"Classification Report for training set is: \\n\", report)"
   ]
  },
  {
   "cell_type": "markdown",
   "metadata": {},
   "source": [
    "### 1.3 LightGBM"
   ]
  },
  {
   "cell_type": "code",
   "execution_count": 22,
   "metadata": {},
   "outputs": [
    {
     "name": "stdout",
     "output_type": "stream",
     "text": [
      "completed in 8.624207902999999 s\n"
     ]
    }
   ],
   "source": [
    "import time\n",
    "start = time.process_time()\n",
    "\n",
    "niter, verbose, random_state = [5, 0, 123] \n",
    "param_space = {'n_estimators': range(100,500,100), 'learning_rate': [0.01,0.1,0.5], \n",
    "               'max_depth': range(1,5)}\n",
    "\n",
    "clf = LGBMClassifier(colsample_bytree=1, subsample=1, reg_alpha=0, reg_lambda=1, verbose=verbose,\n",
    "                     random_state=random_state)\n",
    "cv_clf = RandomizedSearchCV(clf, param_space, cv=kf, n_iter=niter, return_train_score=True, scoring='accuracy', \n",
    "                            verbose=verbose, n_jobs = -1)  \n",
    "cv_clf.fit(X_train_no_ID, y_train)\n",
    "\n",
    "print('completed in {} s'.format(time.process_time() - start))\n",
    "\n",
    "# write out results\n",
    "model_log(cv_clf, 'GBM_CountVectorizer')"
   ]
  },
  {
   "cell_type": "code",
   "execution_count": 23,
   "metadata": {},
   "outputs": [
    {
     "name": "stdout",
     "output_type": "stream",
     "text": [
      "1. Five candidate parameters are:  [{'n_estimators': 300, 'max_depth': 4, 'learning_rate': 0.1}, {'n_estimators': 400, 'max_depth': 2, 'learning_rate': 0.01}, {'n_estimators': 400, 'max_depth': 3, 'learning_rate': 0.1}, {'n_estimators': 300, 'max_depth': 3, 'learning_rate': 0.1}, {'n_estimators': 400, 'max_depth': 1, 'learning_rate': 0.5}]\n",
      "2. Best number of trees, learning rate and depth are: 400, 0.5 and 1\n",
      "3. Best average CV validation score is:  0.7644329896907216\n",
      "4. Average CV validation score:  [0.76065292 0.68582474 0.75945017 0.75635739 0.76443299]\n",
      "5. Standard Deviation of CV validation score:  [0.00513599 0.00677333 0.00419997 0.00469296 0.00403506]\n",
      "6. Average CV training score:  [0.78436426 0.68651203 0.78191581 0.77300258 0.79018471]\n",
      "7. Standard Deviation of CV training score:  [0.00156507 0.00171606 0.00100372 0.00161068 0.00136919]\n",
      "1st fold validation score:  [0.75687285 0.67482818 0.75773196 0.75257732 0.7628866 ]\n",
      "2nd fold validation score:  [0.76718213 0.68685567 0.7628866  0.76116838 0.7693299 ]\n",
      "3rd fold validation score:  [0.75945017 0.69458763 0.7637457  0.76202749 0.76460481]\n",
      "4th fold validation score:  [0.75386598 0.68256014 0.75214777 0.75       0.75773196]\n",
      "5th fold validation score:  [0.76589347 0.6902921  0.76073883 0.75601375 0.76761168]\n",
      "1st fold training score:  [0.78661942 0.68846649 0.78318299 0.77255155 0.79091495]\n",
      "2nd fold training score:  [0.78232388 0.6875     0.78092784 0.7729811  0.79177405]\n",
      "3rd fold training score:  [0.78329038 0.68395619 0.78060567 0.77040378 0.78833763]\n",
      "4th fold training score:  [0.78393471 0.68760739 0.78210911 0.77373282 0.78876718]\n",
      "5th fold training score:  [0.78565292 0.68503007 0.78275344 0.77534364 0.79112973]\n"
     ]
    }
   ],
   "source": [
    "import re\n",
    "import ast\n",
    "result = pd.read_csv('GBM_CountVectorizer_cv_rlt.csv')\n",
    "candidate_params = ast.literal_eval(result.candidate_params.values[0])\n",
    "print(\"1. Five candidate parameters are: \", candidate_params)\n",
    "best_n = ast.literal_eval(re.search('({.+})', result.best_params_.values[0]).group(0))['n_estimators']\n",
    "best_d = ast.literal_eval(re.search('({.+})', result.best_params_.values[0]).group(0))['max_depth']\n",
    "best_lr = ast.literal_eval(re.search('({.+})', result.best_params_.values[0]).group(0))['learning_rate']\n",
    "print(\"2. Best number of trees, learning rate and depth are: {}, {} and {}\".format(best_n, best_lr, best_d))\n",
    "best_score_LGB = result.best_score_.values[0]\n",
    "print(\"3. Best average CV validation score is: \", best_score_LGB)\n",
    "mean_test_score = result.mean_test_score.values[0]\n",
    "print(\"4. Average CV validation score: \", mean_test_score)\n",
    "std_test_score = result.std_test_score.values[0]\n",
    "print(\"5. Standard Deviation of CV validation score: \", std_test_score)\n",
    "mean_train_score = result.mean_train_score.values[0]\n",
    "print(\"6. Average CV training score: \", mean_train_score)\n",
    "std_train_score = result.std_train_score.values[0]\n",
    "print(\"7. Standard Deviation of CV training score: \", std_train_score)\n",
    "\n",
    "print(\"1st fold validation score: \", result.split0_test_score.values[0])\n",
    "print(\"2nd fold validation score: \", result.split1_test_score.values[0])\n",
    "print(\"3rd fold validation score: \", result.split2_test_score.values[0])\n",
    "print(\"4th fold validation score: \", result.split3_test_score.values[0])\n",
    "print(\"5th fold validation score: \", result.split4_test_score.values[0])\n",
    "print(\"1st fold training score: \", result.split0_train_score.values[0])\n",
    "print(\"2nd fold training score: \", result.split1_train_score.values[0])\n",
    "print(\"3rd fold training score: \", result.split2_train_score.values[0])\n",
    "print(\"4th fold training score: \", result.split3_train_score.values[0])\n",
    "print(\"5th fold training score: \", result.split4_train_score.values[0])"
   ]
  },
  {
   "cell_type": "markdown",
   "metadata": {},
   "source": [
    "Classification performance on the entire training set"
   ]
  },
  {
   "cell_type": "code",
   "execution_count": 24,
   "metadata": {},
   "outputs": [
    {
     "data": {
      "image/png": "[encoded data removed]",
      "text/plain": [
       "<Figure size 432x288 with 1 Axes>"
      ]
     },
     "metadata": {},
     "output_type": "display_data"
    }
   ],
   "source": [
    "result = pd.read_csv('GBM_CountVectorizer_cv_rlt.csv')\n",
    "best_n = ast.literal_eval(re.search('({.+})', result.best_params_.values[0]).group(0))['n_estimators']\n",
    "best_d = ast.literal_eval(re.search('({.+})', result.best_params_.values[0]).group(0))['max_depth']\n",
    "best_lr = ast.literal_eval(re.search('({.+})', result.best_params_.values[0]).group(0))['learning_rate']\n",
    "\n",
    "clf = LGBMClassifier(n_estimators=best_n, learning_rate=best_lr, max_depth=best_d, \n",
    "                     boosting_type='gbdt', class_weight=None, colsample_bytree=1,\n",
    "                     importance_type='split', min_child_samples=20, min_child_weight=0.001, \n",
    "                     min_split_gain=0.0, n_jobs=-1, num_leaves=31, objective=None, random_state=None, \n",
    "                     reg_alpha=0, reg_lambda=1, silent=True, subsample=1, subsample_for_bin=200000, \n",
    "                     subsample_freq=0, verbose=0)\n",
    "\n",
    "clf.fit(X_train_no_ID, y_train)\n",
    "\n",
    "preds = clf.predict(X_train_no_ID)\n",
    "probs = clf.predict_proba(X_train_no_ID)\n",
    "\n",
    "# plot top 10 features of the training set\n",
    "M = 10\n",
    "importances = clf.feature_importances_\n",
    "indices = np.argsort(importances)\n",
    "features = X_train_no_ID.columns\n",
    "\n",
    "plt.title('Feature Importances')\n",
    "plt.barh(range(M), importances[indices][-M:], color='b', align='center')\n",
    "plt.yticks(range(M), [features[i] for i in indices[-M:]])\n",
    "plt.xlabel('Relative Importance')\n",
    "plt.show()"
   ]
  },
  {
   "cell_type": "code",
   "execution_count": 25,
   "metadata": {},
   "outputs": [
    {
     "name": "stdout",
     "output_type": "stream",
     "text": [
      "1. Confusion Matrix for the training data is: \n",
      " [[1128  177 1136]\n",
      " [ 201 1199  467]\n",
      " [ 310  163 6859]]\n",
      "2. Training accuracy: 0.789175\n",
      "3. Training report:                precision    recall  f1-score   support\n",
      "\n",
      "           0       0.69      0.46      0.55      2441\n",
      "           1       0.78      0.64      0.70      1867\n",
      "           2       0.81      0.94      0.87      7332\n",
      "\n",
      "   micro avg       0.79      0.79      0.79     11640\n",
      "   macro avg       0.76      0.68      0.71     11640\n",
      "weighted avg       0.78      0.79      0.78     11640\n",
      "\n"
     ]
    }
   ],
   "source": [
    "preds = clf.predict(X_train_no_ID)\n",
    "confusion_matrix = sklearn.metrics.confusion_matrix(y_train, preds, labels=None, sample_weight=None)\n",
    "report = classification_report(y_train, preds)\n",
    "probs = clf.predict_proba(X_train_no_ID)\n",
    "accuracy = float(np.sum(preds==y_train))/y_train.shape[0] \n",
    "\n",
    "print(\"1. Confusion Matrix for the training data is: \\n\", confusion_matrix)\n",
    "print(\"2. Training accuracy: %f\" % (accuracy))\n",
    "print(\"3. Training report: \", report)"
   ]
  },
  {
   "cell_type": "markdown",
   "metadata": {},
   "source": [
    "### 1.4 Logistic Regression with regularizations"
   ]
  },
  {
   "cell_type": "code",
   "execution_count": 26,
   "metadata": {},
   "outputs": [
    {
     "name": "stdout",
     "output_type": "stream",
     "text": [
      "completed in 360.88216224999996 s\n"
     ]
    },
    {
     "name": "stderr",
     "output_type": "stream",
     "text": [
      "/home/ec2-user/anaconda3/envs/amazonei_mxnet_p36/lib/python3.6/site-packages/sklearn/linear_model/sag.py:334: ConvergenceWarning: The max_iter was reached which means the coef_ did not converge\n",
      "  \"the coef_ did not converge\", ConvergenceWarning)\n"
     ]
    }
   ],
   "source": [
    "import time\n",
    "start = time.process_time()\n",
    "\n",
    "niter, verbose, random_state = [5, 0, 123] \n",
    "param_space = {'penalty': ['l1','l2'], 'C': [0.005, 0.01, 0.1, 1, 10, 100, 200]}\n",
    "        \n",
    "clf = LogisticRegression(random_state=random_state, solver='saga', multi_class='multinomial')\n",
    "cv_clf = RandomizedSearchCV(clf, param_space, cv=kf, n_iter=niter, return_train_score=True, scoring='accuracy', \n",
    "                            verbose=verbose, n_jobs = -1) \n",
    "cv_clf.fit(X_train_no_ID, y_train)\n",
    "\n",
    "print('completed in {} s'.format(time.process_time() - start))\n",
    "\n",
    "# write out results\n",
    "model_log(cv_clf, 'logistic_CountVectorizer')"
   ]
  },
  {
   "cell_type": "code",
   "execution_count": 27,
   "metadata": {},
   "outputs": [
    {
     "name": "stdout",
     "output_type": "stream",
     "text": [
      "1. Five candidate parameters are:  [{'penalty': 'l2', 'C': 200}, {'penalty': 'l1', 'C': 10}, {'penalty': 'l2', 'C': 1}, {'penalty': 'l2', 'C': 0.005}, {'penalty': 'l2', 'C': 10}]\n",
      "2. Best C and penalty are: 10 and l1\n",
      "3. Best average CV validation score is:  0.7879725085910653\n",
      "4. Average CV validation score:  [0.78453608 0.78797251 0.78402062 0.6967354  0.78462199]\n",
      "5. Standard Deviation of CV validation score:  [0.0049097  0.00619272 0.00480178 0.00520451 0.00491721]\n",
      "6. Average CV training score:  [0.84748711 0.86793385 0.8455756  0.70165378 0.84735825]\n",
      "7. Standard Deviation of CV training score:  [0.00980554 0.01057814 0.00894951 0.00178717 0.00976433]\n",
      "1st fold validation score:  [0.78479381 0.78694158 0.78608247 0.69501718 0.78522337]\n",
      "2nd fold validation score:  [0.79209622 0.7959622  0.79166667 0.69630584 0.79209622]\n",
      "3rd fold validation score:  [0.78522337 0.78994845 0.7830756  0.70274914 0.78522337]\n",
      "4th fold validation score:  [0.78393471 0.78994845 0.78221649 0.68814433 0.78393471]\n",
      "5th fold validation score:  [0.7766323  0.77706186 0.77706186 0.70146048 0.7766323 ]\n",
      "1st fold training score:  [0.8667311  0.88896048 0.86318729 0.70317869 0.86651632]\n",
      "2nd fold training score:  [0.84149485 0.86265034 0.83945447 0.69866838 0.84106529]\n",
      "3rd fold training score:  [0.84160223 0.86189863 0.84117268 0.70339347 0.84160223]\n",
      "4th fold training score:  [0.84128007 0.86136168 0.83999141 0.70060137 0.84138746]\n",
      "5th fold training score:  [0.84632732 0.86479811 0.84407216 0.70242698 0.84621993]\n"
     ]
    }
   ],
   "source": [
    "import re\n",
    "import ast\n",
    "result = pd.read_csv('logistic_CountVectorizer_cv_rlt.csv')\n",
    "candidate_params = ast.literal_eval(result.candidate_params.values[0])\n",
    "print(\"1. Five candidate parameters are: \", candidate_params)\n",
    "best_c = ast.literal_eval(re.search('({.+})', result.best_params_.values[0]).group(0))['C']\n",
    "best_penalty = ast.literal_eval(re.search('({.+})', result.best_params_.values[0]).group(0))['penalty']\n",
    "print(\"2. Best C and penalty are: {} and {}\".format(best_c, best_penalty))\n",
    "best_score_Logistic = result.best_score_.values[0]\n",
    "print(\"3. Best average CV validation score is: \", best_score_Logistic)\n",
    "mean_test_score = result.mean_test_score.values[0]\n",
    "print(\"4. Average CV validation score: \", mean_test_score)\n",
    "std_test_score = result.std_test_score.values[0]\n",
    "print(\"5. Standard Deviation of CV validation score: \", std_test_score)\n",
    "mean_train_score = result.mean_train_score.values[0]\n",
    "print(\"6. Average CV training score: \", mean_train_score)\n",
    "std_train_score = result.std_train_score.values[0]\n",
    "print(\"7. Standard Deviation of CV training score: \", std_train_score)\n",
    "\n",
    "print(\"1st fold validation score: \", result.split0_test_score.values[0])\n",
    "print(\"2nd fold validation score: \", result.split1_test_score.values[0])\n",
    "print(\"3rd fold validation score: \", result.split2_test_score.values[0])\n",
    "print(\"4th fold validation score: \", result.split3_test_score.values[0])\n",
    "print(\"5th fold validation score: \", result.split4_test_score.values[0])\n",
    "print(\"1st fold training score: \", result.split0_train_score.values[0])\n",
    "print(\"2nd fold training score: \", result.split1_train_score.values[0])\n",
    "print(\"3rd fold training score: \", result.split2_train_score.values[0])\n",
    "print(\"4th fold training score: \", result.split3_train_score.values[0])\n",
    "print(\"5th fold training score: \", result.split4_train_score.values[0])"
   ]
  },
  {
   "cell_type": "markdown",
   "metadata": {},
   "source": [
    "Classification performance on the entire training set, looks like there is overfitting"
   ]
  },
  {
   "cell_type": "code",
   "execution_count": 29,
   "metadata": {},
   "outputs": [
    {
     "name": "stderr",
     "output_type": "stream",
     "text": [
      "/home/ec2-user/anaconda3/envs/amazonei_mxnet_p36/lib/python3.6/site-packages/sklearn/linear_model/sag.py:334: ConvergenceWarning: The max_iter was reached which means the coef_ did not converge\n",
      "  \"the coef_ did not converge\", ConvergenceWarning)\n"
     ]
    },
    {
     "name": "stdout",
     "output_type": "stream",
     "text": [
      "1. Confusion Matrix for the training data is: \n",
      " [[1680  142  619]\n",
      " [ 189 1423  255]\n",
      " [ 302  114 6916]]\n",
      "2. Training accuracy: 0.860739\n",
      "3. Training report:                precision    recall  f1-score   support\n",
      "\n",
      "           0       0.77      0.69      0.73      2441\n",
      "           1       0.85      0.76      0.80      1867\n",
      "           2       0.89      0.94      0.91      7332\n",
      "\n",
      "   micro avg       0.86      0.86      0.86     11640\n",
      "   macro avg       0.84      0.80      0.82     11640\n",
      "weighted avg       0.86      0.86      0.86     11640\n",
      "\n"
     ]
    }
   ],
   "source": [
    "result = pd.read_csv('logistic_CountVectorizer_cv_rlt.csv')\n",
    "best_c = ast.literal_eval(re.search('({.+})', result.best_params_.values[0]).group(0))['C']\n",
    "best_penalty = ast.literal_eval(re.search('({.+})', result.best_params_.values[0]).group(0))['penalty']\n",
    "\n",
    "clf = LogisticRegression(C=best_c, class_weight=None, dual=False, fit_intercept=True,\n",
    "                         intercept_scaling=1, max_iter=100, solver='saga', multi_class='multinomial',\n",
    "                         n_jobs=None, penalty=best_penalty, random_state=123, \n",
    "                         tol=0.0001, verbose=0, warm_start=False)\n",
    "clf.fit(X_train_no_ID, y_train)\n",
    "\n",
    "preds = clf.predict(X_train_no_ID)\n",
    "confusion_matrix = sklearn.metrics.confusion_matrix(y_train, preds, labels=None, sample_weight=None)\n",
    "report = classification_report(y_train, preds)\n",
    "probs = clf.predict_proba(X_train_no_ID)\n",
    "accuracy = float(np.sum(preds==y_train))/y_train.shape[0] \n",
    "\n",
    "print(\"1. Confusion Matrix for the training data is: \\n\", confusion_matrix)\n",
    "print(\"2. Training accuracy: %f\" % (accuracy))\n",
    "print(\"3. Training report: \", report)"
   ]
  },
  {
   "cell_type": "markdown",
   "metadata": {},
   "source": [
    "## Summary of models"
   ]
  },
  {
   "cell_type": "markdown",
   "metadata": {},
   "source": [
    "The best model selected based on average validation score"
   ]
  },
  {
   "cell_type": "code",
   "execution_count": 30,
   "metadata": {},
   "outputs": [
    {
     "name": "stdout",
     "output_type": "stream",
     "text": [
      "{'RandomForest': 0.638487972508591, 'Naive Bayes': 0.7604810996563574, 'LightGBM': 0.7644329896907216, 'Logistic Regression': 0.7879725085910653}\n"
     ]
    }
   ],
   "source": [
    "result = pd.read_csv('RF_CountVectorizer_cv_rlt.csv')\n",
    "best_score_rf = result.best_score_.values[0]\n",
    "\n",
    "result = pd.read_csv('NB_CountVectorizer_cv_rlt.csv')\n",
    "mean_validation_score_NB = result.Average_val_score[0]\n",
    "\n",
    "result = pd.read_csv('GBM_CountVectorizer_cv_rlt.csv')\n",
    "best_score_LGB = result.best_score_.values[0]\n",
    "\n",
    "result = pd.read_csv('logistic_CountVectorizer_cv_rlt.csv')\n",
    "best_score_Logistic = result.best_score_.values[0]\n",
    "\n",
    "validation_scores = {'RandomForest': best_score_rf, 'Naive Bayes': mean_validation_score_NB, \n",
    "                     'LightGBM': best_score_LGB, 'Logistic Regression': best_score_Logistic}\n",
    "print(validation_scores)"
   ]
  }
 ],
 "metadata": {
  "kernelspec": {
   "display_name": "Python 3",
   "language": "python",
   "name": "python3"
  },
  "language_info": {
   "codemirror_mode": {
    "name": "ipython",
    "version": 3
   },
   "file_extension": ".py",
   "mimetype": "text/x-python",
   "name": "python",
   "nbconvert_exporter": "python",
   "pygments_lexer": "ipython3",
   "version": "3.7.3"
  }
 },
 "nbformat": 4,
 "nbformat_minor": 2
}
