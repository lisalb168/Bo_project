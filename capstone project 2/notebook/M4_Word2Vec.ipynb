{
 "cells": [
  {
   "cell_type": "markdown",
   "metadata": {},
   "source": [
    "# Table of Contents\n",
    "* [Function to log results](#Function-to-log-results)\n",
    "* [Import data and Recover the 5-Fold Validation Indices](#Import-data-and-Recover-the-5-Fold-Validation-Indices)\n",
    "* [Word2Vec Embeddings](#Word2Vec-Embeddings)\n",
    "* [Classification Models](#Classification-Models)\n",
    "    * [1.1 RandomForest](#1.1-RandomForest)\n",
    "    * [1.2 LightGBM](#1.2-LightGBM)\n",
    "    * [1.3 Logistic Regression with regularizations](#1.3-Logistic-Regression-with-regularizations)\n",
    "* [Summary of models](#Summary-of-models)\n",
    "* [Assign ID column to prepare for merging with other datasets](#Assign-ID-column-to-prepare-for-merging-with-other-datasets)\n",
    "* [Appendix Neural Network Model](#Appendix-Neural-Network-Model)\n",
    "    * [2 hidden layers](#2-hidden-layers)\n",
    "    * [3 hidden layers](#3-hidden-layers)\n",
    "    * [2 hidden layers with more nodes](#2-hidden-layers-with-more-nodes)"
   ]
  },
  {
   "cell_type": "code",
   "execution_count": 2,
   "metadata": {},
   "outputs": [],
   "source": [
    "import sys\n",
    "\n",
    "if not sys.warnoptions:\n",
    "    import warnings\n",
    "    warnings.simplefilter(\"ignore\")\n",
    "    \n",
    "import warnings\n",
    "warnings.filterwarnings(\"ignore\")"
   ]
  },
  {
   "cell_type": "code",
   "execution_count": 3,
   "metadata": {},
   "outputs": [],
   "source": [
    "#import sys\n",
    "#!conda install --yes --prefix {sys.prefix} -c conda-forge lightgbm\n",
    "#!pip install afinn\n",
    "import pandas as pd\n",
    "import numpy as np\n",
    "import matplotlib.pyplot as plt\n",
    "#from tensorflow.python.keras import models, layers, optimizers\n",
    "#import tensorflow\n",
    "#from tensorflow.keras.preprocessing.text import Tokenizer, text_to_word_sequence\n",
    "#from tensorflow.keras.preprocessing.sequence import pad_sequences\n",
    "import bz2\n",
    "from sklearn.metrics import f1_score, roc_auc_score, accuracy_score\n",
    "import re\n",
    "%matplotlib inline\n",
    "# Training and Testing data files are available in the \"../python notebook v1\" directory.\n",
    "# The following function finds all the .csv files in the project directory\n",
    "import os\n",
    "#def find_csv_filenames(path_to_dir, suffix=\".csv\"):\n",
    "#    filenames = os.listdir(path_to_dir)\n",
    "#    return [filename for filename in filenames if filename.endswith(suffix)]\n",
    "#filenames = find_csv_filenames(\"../python notebook v1\")\n",
    "#for name in filenames:\n",
    "#    print(name)\n",
    "\n",
    "pd.options.display.max_colwidth = 200\n",
    "import statistics\n",
    "from scipy import stats\n",
    "from scipy.stats import t\n",
    "from scipy.stats import norm\n",
    "import seaborn as sns\n",
    "import sklearn\n",
    "import sqlite3\n",
    "from sqlite3 import Error\n",
    "import csv\n",
    "import lightgbm\n",
    "\n",
    "from sklearn.ensemble import RandomForestClassifier\n",
    "from sklearn.linear_model import LogisticRegression\n",
    "from lightgbm import LGBMClassifier\n",
    "\n",
    "from sklearn.model_selection import cross_val_score\n",
    "from sklearn.model_selection import GridSearchCV\n",
    "from sklearn.model_selection import RandomizedSearchCV\n",
    "\n",
    "from sklearn.metrics import classification_report\n",
    "from sklearn.metrics import roc_auc_score\n",
    "from sklearn.metrics import average_precision_score\n",
    "from sklearn.metrics import roc_curve, auc\n",
    "from sklearn.metrics import accuracy_score\n",
    "from sklearn.metrics import confusion_matrix"
   ]
  },
  {
   "cell_type": "markdown",
   "metadata": {},
   "source": [
    "## Function to log results"
   ]
  },
  {
   "cell_type": "code",
   "execution_count": 4,
   "metadata": {},
   "outputs": [],
   "source": [
    "def model_log(cv_clf, modelname):\n",
    "    rlt_dict = {}\n",
    "\n",
    "    rlt_dict['best_estimator_'] = [cv_clf.best_estimator_]\n",
    "    rlt_dict['best_params_'] = [cv_clf.best_params_]\n",
    "    rlt_dict['best_score_'] = [cv_clf.best_score_]\n",
    "    rlt_dict['best_index_'] = [cv_clf.best_index_]\n",
    "\n",
    "    rlt_dict['candidate_params'] = [cv_clf.cv_results_['params']]\n",
    "    rlt_dict['mean_test_score'] = [cv_clf.cv_results_['mean_test_score']]\n",
    "    rlt_dict['std_test_score'] = [cv_clf.cv_results_['std_test_score']]\n",
    "    rlt_dict['mean_train_score'] = [cv_clf.cv_results_['mean_train_score']]\n",
    "    rlt_dict['std_train_score'] = [cv_clf.cv_results_['std_train_score']]\n",
    "\n",
    "    rlt_dict['split0_test_score'] = [cv_clf.cv_results_['split0_test_score']]\n",
    "    rlt_dict['split1_test_score'] = [cv_clf.cv_results_['split1_test_score']]\n",
    "    rlt_dict['split2_test_score'] = [cv_clf.cv_results_['split2_test_score']]\n",
    "    rlt_dict['split3_test_score'] = [cv_clf.cv_results_['split3_test_score']]\n",
    "    rlt_dict['split4_test_score'] = [cv_clf.cv_results_['split4_test_score']]\n",
    "\n",
    "    rlt_dict['split0_train_score'] = [cv_clf.cv_results_['split0_train_score']]\n",
    "    rlt_dict['split1_train_score'] = [cv_clf.cv_results_['split1_train_score']]\n",
    "    rlt_dict['split2_train_score'] = [cv_clf.cv_results_['split2_train_score']]\n",
    "    rlt_dict['split3_train_score'] = [cv_clf.cv_results_['split3_train_score']]\n",
    "    rlt_dict['split4_train_score'] = [cv_clf.cv_results_['split4_train_score']]\n",
    "\n",
    "    rlt_df = pd.DataFrame.from_dict(rlt_dict)\n",
    "    \n",
    "    filename = modelname + '_' + 'cv_rlt.csv'\n",
    "    rlt_df.to_csv(filename)"
   ]
  },
  {
   "cell_type": "markdown",
   "metadata": {},
   "source": [
    "## Import data and Recover the 5-Fold Validation Indices"
   ]
  },
  {
   "cell_type": "code",
   "execution_count": 5,
   "metadata": {},
   "outputs": [],
   "source": [
    "X_train = pd.read_csv(\"X_train.csv\", )\n",
    "y_train_0 = pd.read_csv(\"y_train.csv\", header=None)\n",
    "y_train = y_train_0[0]\n",
    "X_test = pd.read_csv(\"X_test.csv\", )\n",
    "y_test_0 = pd.read_csv(\"y_test.csv\", header=None)\n",
    "y_test = y_test_0[0]"
   ]
  },
  {
   "cell_type": "code",
   "execution_count": 6,
   "metadata": {},
   "outputs": [
    {
     "name": "stdout",
     "output_type": "stream",
     "text": [
      "X_train shape:  (11640, 9)\n",
      "y_train shape:  (11640,)\n",
      "X_test shape:  (2911, 9)\n",
      "y_test shape:  (2911,)\n"
     ]
    }
   ],
   "source": [
    "print(\"X_train shape: \", X_train.shape)\n",
    "print(\"y_train shape: \", y_train.shape)\n",
    "print(\"X_test shape: \", X_test.shape)\n",
    "print(\"y_test shape: \", y_test.shape)"
   ]
  },
  {
   "cell_type": "code",
   "execution_count": 7,
   "metadata": {},
   "outputs": [
    {
     "data": {
      "text/plain": [
       "5"
      ]
     },
     "execution_count": 7,
     "metadata": {},
     "output_type": "execute_result"
    }
   ],
   "source": [
    "from sklearn.model_selection import KFold\n",
    "kf = KFold(n_splits=5, random_state=123, shuffle=True)\n",
    "kf.get_n_splits(X_train)"
   ]
  },
  {
   "cell_type": "code",
   "execution_count": 8,
   "metadata": {},
   "outputs": [
    {
     "name": "stdout",
     "output_type": "stream",
     "text": [
      "Fold 1:  Train: [    0     1     2 ... 11636 11638 11639] Validation: [    3     6     7 ... 11619 11620 11637]\n",
      "Fold 2:  Train: [    1     3     5 ... 11637 11638 11639] Validation: [    0     2     4 ... 11591 11624 11629]\n",
      "Fold 3:  Train: [    0     1     2 ... 11637 11638 11639] Validation: [    8    33    35 ... 11631 11635 11636]\n",
      "Fold 4:  Train: [    0     2     3 ... 11636 11637 11638] Validation: [    1     5    18 ... 11632 11634 11639]\n",
      "Fold 5:  Train: [    0     1     2 ... 11636 11637 11639] Validation: [   13    16    17 ... 11628 11633 11638]\n"
     ]
    }
   ],
   "source": [
    "i = 1\n",
    "for train_index, val_index in kf.split(X_train):\n",
    "    print(f\"Fold {i}: \", \"Train:\", train_index, \"Validation:\", val_index)\n",
    "    i = i + 1"
   ]
  },
  {
   "cell_type": "markdown",
   "metadata": {},
   "source": [
    "## Word2Vec Embeddings"
   ]
  },
  {
   "cell_type": "code",
   "execution_count": 9,
   "metadata": {},
   "outputs": [
    {
     "name": "stdout",
     "output_type": "stream",
     "text": [
      "[['point', 'u', 'cancel', 'flight', 'flight', 'dca', 'airline', 'already', 'cancel', 'flightle'], ['submit', 'response', 'link', 'send']]\n",
      "[['yes', 'take', 'two', 'day', 'get', 'bag', 'deliver', 'miss', 'full', 'day', 'skiing'], ['would', 'fly', 'airline', 'actually', 'give', 'crap', 'flier', 'outside', 'generic', 'apology', 'jet', 'blue', 'terrible']]\n"
     ]
    }
   ],
   "source": [
    "from nltk.tokenize import word_tokenize\n",
    "token_text_train = []\n",
    "for t in X_train.text:\n",
    "    token_text_train.append(word_tokenize(t))\n",
    "print(token_text_train[:2])\n",
    "\n",
    "token_text_test = []\n",
    "for t in X_test.text:\n",
    "    token_text_test.append(word_tokenize(t))\n",
    "print(token_text_test[:2])"
   ]
  },
  {
   "cell_type": "code",
   "execution_count": 10,
   "metadata": {},
   "outputs": [
    {
     "data": {
      "text/plain": [
       "array([-0.07969166, -0.13359378, -0.06282508,  0.01713425, -0.17109342,\n",
       "        0.3710323 , -0.10559011, -0.33518222, -0.03893487,  0.3210081 ,\n",
       "       -0.13439968, -0.11388889, -0.2771691 , -0.1334348 ,  0.00568711,\n",
       "       -0.28211975,  0.14367965, -0.01098808,  0.07992469,  0.02051907,\n",
       "        0.15365668, -0.06151427,  0.05184138,  0.09210832, -0.04540148,\n",
       "       -0.10569192,  0.37084153,  0.20984976,  0.13007884,  0.08138811,\n",
       "       -0.02335849,  0.23138835, -0.10772855, -0.15329947, -0.03943898,\n",
       "       -0.04400023,  0.2724749 ,  0.05353895, -0.18415712,  0.04487668,\n",
       "        0.10497601, -0.26177943,  0.13738775,  0.2557617 , -0.08450399,\n",
       "       -0.1258028 ,  0.09023808, -0.10918764,  0.04676205,  0.0440051 ,\n",
       "        0.04311101, -0.21648487,  0.05951409,  0.03516252,  0.08925147,\n",
       "        0.07213113,  0.07786454, -0.19244693, -0.09314907, -0.08922146,\n",
       "       -0.21694201,  0.00446629, -0.50172275,  0.09796652,  0.00733995,\n",
       "       -0.05047787, -0.25997037, -0.19093569, -0.08836737,  0.0777638 ,\n",
       "       -0.349955  , -0.13843308, -0.42752373, -0.06557194,  0.03288671,\n",
       "        0.17492084,  0.2956655 ,  0.0251998 , -0.31715432,  0.013771  ,\n",
       "        0.23254396,  0.0255187 ,  0.29648483, -0.27111545,  0.42953008,\n",
       "       -0.09809063, -0.35580477,  0.15419902,  0.33103582,  0.06193526,\n",
       "       -0.18514995,  0.1990162 ,  0.1254114 , -0.12511253, -0.07180897,\n",
       "       -0.14609812,  0.21189079, -0.01333129,  0.04789825,  0.41220748],\n",
       "      dtype=float32)"
      ]
     },
     "execution_count": 10,
     "metadata": {},
     "output_type": "execute_result"
    }
   ],
   "source": [
    "from gensim.models import Word2Vec\n",
    "sentences = token_text_train\n",
    "model = Word2Vec(sentences, min_count=1, size=100, workers=3, window=3, sg=1)\n",
    "model['point']"
   ]
  },
  {
   "cell_type": "markdown",
   "metadata": {},
   "source": [
    "Average out the word embeddings for each word in a review (row)."
   ]
  },
  {
   "cell_type": "code",
   "execution_count": 11,
   "metadata": {},
   "outputs": [],
   "source": [
    "def average_word_vectors(words, model, vocabulary, num_features):\n",
    "    \n",
    "    feature_vector = np.zeros((num_features,),dtype=\"float64\")\n",
    "    nwords = 0.\n",
    "    \n",
    "    for word in words:\n",
    "        if word in vocabulary: \n",
    "            nwords = nwords + 1.\n",
    "            feature_vector = np.add(feature_vector, model[word])\n",
    "    \n",
    "    if nwords:\n",
    "        feature_vector = np.divide(feature_vector, nwords)\n",
    "        \n",
    "    return feature_vector"
   ]
  },
  {
   "cell_type": "code",
   "execution_count": 12,
   "metadata": {},
   "outputs": [],
   "source": [
    "def averaged_word_vectorizer(corpus, model, num_features):\n",
    "    vocabulary = set(model.wv.index2word)\n",
    "    features = [average_word_vectors(tokenized_sentence, model, vocabulary, num_features)\n",
    "                for tokenized_sentence in corpus]\n",
    "    return np.array(features)"
   ]
  },
  {
   "cell_type": "code",
   "execution_count": 13,
   "metadata": {},
   "outputs": [],
   "source": [
    "# get row level embeddings\n",
    "feature_size = 100\n",
    "feature_array = averaged_word_vectorizer(corpus=sentences, model=model, num_features=feature_size)\n",
    "wv_features = pd.DataFrame(feature_array)\n",
    "\n",
    "name = []\n",
    "for i in range(1,101):\n",
    "    name.append('feature_' + str(i))\n",
    "    \n",
    "wv_features.columns = name\n",
    "#wv_features.head()"
   ]
  },
  {
   "cell_type": "markdown",
   "metadata": {},
   "source": [
    "## Classification Models"
   ]
  },
  {
   "cell_type": "markdown",
   "metadata": {},
   "source": [
    "### 1.1 RandomForest"
   ]
  },
  {
   "cell_type": "code",
   "execution_count": 13,
   "metadata": {},
   "outputs": [
    {
     "name": "stdout",
     "output_type": "stream",
     "text": [
      "completed in 53.19143199999999 s\n"
     ]
    }
   ],
   "source": [
    "import time\n",
    "start = time.process_time()\n",
    "\n",
    "niter, verbose, random_state = [5, 0, 123] \n",
    "param_space = {'n_estimators': range(100,500,100), 'max_depth': range(1,10)}\n",
    "\n",
    "clf = RandomForestClassifier(random_state=random_state)\n",
    "cv_clf = RandomizedSearchCV(clf, param_space, cv=kf, n_iter=niter, return_train_score=True, \n",
    "                            verbose=verbose, n_jobs=-1) \n",
    "cv_clf.fit(wv_features, y_train)\n",
    "\n",
    "print('completed in {} s'.format(time.process_time() - start))\n",
    "\n",
    "# write out results\n",
    "model_log(cv_clf, 'w2v_rf')"
   ]
  },
  {
   "cell_type": "code",
   "execution_count": 14,
   "metadata": {},
   "outputs": [
    {
     "name": "stdout",
     "output_type": "stream",
     "text": [
      "1. Five candidate parameters are:  [{'n_estimators': 300, 'max_depth': 8}, {'n_estimators': 200, 'max_depth': 5}, {'n_estimators': 200, 'max_depth': 8}, {'n_estimators': 400, 'max_depth': 1}, {'n_estimators': 400, 'max_depth': 9}]\n",
      "2. Best number of trees and depth are: 400 and 9\n",
      "3. Best average CV validation score is:  0.7060137457044674\n",
      "4. Average CV validation score:  [0.70223368 0.68823024 0.70197595 0.62989691 0.70601375]\n",
      "5. Standard Deviation of CV validation score:  [0.00713834 0.00450028 0.00738732 0.00673509 0.00635739]\n",
      "6. Average CV training score:  [0.76273625 0.70189003 0.76273625 0.62989691 0.792311  ]\n",
      "7. Standard Deviation of CV training score:  [0.00216019 0.00204094 0.00208853 0.00168377 0.00286467]\n",
      "1st fold validation score:  [0.71262887 0.69372852 0.71262887 0.62843643 0.7169244 ]\n",
      "2nd fold validation score:  [0.69974227 0.68943299 0.70231959 0.62800687 0.70360825]\n",
      "3rd fold validation score:  [0.70747423 0.69201031 0.70704467 0.63960481 0.70833333]\n",
      "4th fold validation score:  [0.69201031 0.68341924 0.69243986 0.61941581 0.69802405]\n",
      "5th fold validation score:  [0.69931271 0.68256014 0.69544674 0.63402062 0.70317869]\n",
      "1st fold training score:  [0.76202749 0.69920533 0.76202749 0.63026203 0.79188144]\n",
      "2nd fold training score:  [0.76181271 0.7012457  0.76310137 0.63036942 0.79220361]\n",
      "3rd fold training score:  [0.76052405 0.70049399 0.75987973 0.62746993 0.78865979]\n",
      "4th fold training score:  [0.76685997 0.7040378  0.76632302 0.63251718 0.79746564]\n",
      "5th fold training score:  [0.76245704 0.70446735 0.76234966 0.62886598 0.7913445 ]\n"
     ]
    }
   ],
   "source": [
    "import re\n",
    "import ast\n",
    "result = pd.read_csv('w2v_rf_cv_rlt.csv')\n",
    "candidate_params = ast.literal_eval(result.candidate_params.values[0])\n",
    "print(\"1. Five candidate parameters are: \", candidate_params)\n",
    "best_n = ast.literal_eval(re.search('({.+})', result.best_params_.values[0]).group(0))['n_estimators']\n",
    "best_d = ast.literal_eval(re.search('({.+})', result.best_params_.values[0]).group(0))['max_depth']\n",
    "print(\"2. Best number of trees and depth are: {} and {}\".format(best_n, best_d))\n",
    "best_score_rf = result.best_score_.values[0]\n",
    "print(\"3. Best average CV validation score is: \", best_score_rf)\n",
    "mean_test_score = result.mean_test_score.values[0]\n",
    "print(\"4. Average CV validation score: \", mean_test_score)\n",
    "std_test_score = result.std_test_score.values[0]\n",
    "print(\"5. Standard Deviation of CV validation score: \", std_test_score)\n",
    "mean_train_score = result.mean_train_score.values[0]\n",
    "print(\"6. Average CV training score: \", mean_train_score)\n",
    "std_train_score = result.std_train_score.values[0]\n",
    "print(\"7. Standard Deviation of CV training score: \", std_train_score)\n",
    "\n",
    "print(\"1st fold validation score: \", result.split0_test_score.values[0])\n",
    "print(\"2nd fold validation score: \", result.split1_test_score.values[0])\n",
    "print(\"3rd fold validation score: \", result.split2_test_score.values[0])\n",
    "print(\"4th fold validation score: \", result.split3_test_score.values[0])\n",
    "print(\"5th fold validation score: \", result.split4_test_score.values[0])\n",
    "print(\"1st fold training score: \", result.split0_train_score.values[0])\n",
    "print(\"2nd fold training score: \", result.split1_train_score.values[0])\n",
    "print(\"3rd fold training score: \", result.split2_train_score.values[0])\n",
    "print(\"4th fold training score: \", result.split3_train_score.values[0])\n",
    "print(\"5th fold training score: \", result.split4_train_score.values[0])"
   ]
  },
  {
   "cell_type": "markdown",
   "metadata": {},
   "source": [
    "Classification performance on the entire training set, shows slight overfitting"
   ]
  },
  {
   "cell_type": "code",
   "execution_count": 15,
   "metadata": {},
   "outputs": [
    {
     "name": "stdout",
     "output_type": "stream",
     "text": [
      "1. Confusion Matrix for the training data is: \n",
      " [[1106   72 1263]\n",
      " [ 127  825  915]\n",
      " [ 155   29 7148]]\n",
      "2. Training accuracy: 0.779983\n",
      "3. Training report:                precision    recall  f1-score   support\n",
      "\n",
      "           0       0.80      0.45      0.58      2441\n",
      "           1       0.89      0.44      0.59      1867\n",
      "           2       0.77      0.97      0.86      7332\n",
      "\n",
      "   micro avg       0.78      0.78      0.78     11640\n",
      "   macro avg       0.82      0.62      0.68     11640\n",
      "weighted avg       0.79      0.78      0.76     11640\n",
      "\n"
     ]
    }
   ],
   "source": [
    "result = pd.read_csv('w2v_rf_cv_rlt.csv')\n",
    "best_n = ast.literal_eval(re.search('({.+})', result.best_params_.values[0]).group(0))['n_estimators']\n",
    "best_d = ast.literal_eval(re.search('({.+})', result.best_params_.values[0]).group(0))['max_depth']\n",
    "\n",
    "clf = RandomForestClassifier(n_estimators = best_n, max_depth = best_d, \n",
    "                             bootstrap=True, class_weight=None, criterion='gini',\n",
    "                             max_features='auto', max_leaf_nodes=None,\n",
    "                             min_impurity_decrease=0.0, min_impurity_split=None,\n",
    "                             min_samples_leaf=1, min_samples_split=2,\n",
    "                             min_weight_fraction_leaf=0.0, n_jobs=None,\n",
    "                             oob_score=False, random_state=123, verbose=0, warm_start=False)\n",
    "\n",
    "clf.fit(wv_features, y_train)\n",
    "\n",
    "preds = clf.predict(wv_features)\n",
    "probs = clf.predict_proba(wv_features)\n",
    "confusion_matrix = sklearn.metrics.confusion_matrix(y_train, preds, labels=None, sample_weight=None)\n",
    "report = classification_report(y_train, preds)\n",
    "accuracy = float(np.sum(preds==y_train))/y_train.shape[0] \n",
    "\n",
    "print(\"1. Confusion Matrix for the training data is: \\n\", confusion_matrix)\n",
    "print(\"2. Training accuracy: %f\" % (accuracy))\n",
    "print(\"3. Training report: \", report)"
   ]
  },
  {
   "cell_type": "markdown",
   "metadata": {},
   "source": [
    "### 1.2 LightGBM"
   ]
  },
  {
   "cell_type": "code",
   "execution_count": 16,
   "metadata": {},
   "outputs": [
    {
     "name": "stdout",
     "output_type": "stream",
     "text": [
      "completed in 16.129211999999995 s\n"
     ]
    }
   ],
   "source": [
    "import time\n",
    "start = time.process_time()\n",
    "\n",
    "niter, verbose, random_state = [5, 0, 123] \n",
    "param_space = {'n_estimators': range(100,500,100), 'learning_rate': [0.01,0.1,0.5], \n",
    "               'max_depth': range(1,5)}\n",
    "\n",
    "clf = LGBMClassifier(colsample_bytree=1, subsample=1, reg_alpha=0, reg_lambda=1, verbose=verbose,\n",
    "                     random_state=random_state)\n",
    "cv_clf = RandomizedSearchCV(clf, param_space, cv=kf, n_iter=niter, return_train_score=True, scoring='accuracy', \n",
    "                            verbose=verbose, n_jobs = -1)  \n",
    "cv_clf.fit(wv_features, y_train)\n",
    "\n",
    "print('completed in {} s'.format(time.process_time() - start))\n",
    "\n",
    "# write out results\n",
    "model_log(cv_clf, 'w2v_GBM')"
   ]
  },
  {
   "cell_type": "code",
   "execution_count": 17,
   "metadata": {},
   "outputs": [
    {
     "name": "stdout",
     "output_type": "stream",
     "text": [
      "1. Five candidate parameters are:  [{'n_estimators': 200, 'max_depth': 2, 'learning_rate': 0.1}, {'n_estimators': 400, 'max_depth': 2, 'learning_rate': 0.5}, {'n_estimators': 300, 'max_depth': 1, 'learning_rate': 0.1}, {'n_estimators': 300, 'max_depth': 2, 'learning_rate': 0.1}, {'n_estimators': 400, 'max_depth': 3, 'learning_rate': 0.5}]\n",
      "2. Best number of trees, learning rate and depth are: 300, 0.1 and 2\n",
      "3. Best average CV validation score is:  0.7082474226804124\n",
      "4. Average CV validation score:  [0.70635739 0.70721649 0.70128866 0.70824742 0.7056701 ]\n",
      "5. Standard Deviation of CV validation score:  [0.00659669 0.00616884 0.00495459 0.0032646  0.01035713]\n",
      "6. Average CV training score:  [0.73142182 0.87815722 0.71189863 0.74293385 0.99123711]\n",
      "7. Standard Deviation of CV training score:  [0.00212943 0.00234156 0.00215356 0.00167663 0.00035681]\n",
      "1st fold validation score:  [0.7169244  0.70446735 0.70661512 0.71305842 0.68986254]\n",
      "2nd fold validation score:  [0.71005155 0.7169244  0.69974227 0.70919244 0.71950172]\n",
      "3rd fold validation score:  [0.70317869 0.71176976 0.70446735 0.70661512 0.70060137]\n",
      "4th fold validation score:  [0.6975945  0.70231959 0.69243986 0.70317869 0.71391753]\n",
      "5th fold validation score:  [0.7040378  0.70060137 0.70317869 0.70919244 0.70446735]\n",
      "1st fold training score:  [0.73335481 0.8804768  0.70919244 0.74366409 0.99140893]\n",
      "2nd fold training score:  [0.72777062 0.87414089 0.71080326 0.73969072 0.99108677]\n",
      "3rd fold training score:  [0.73024055 0.88015464 0.71520619 0.74323454 0.99130155]\n",
      "4th fold training score:  [0.73292526 0.87704038 0.71348797 0.7435567  0.99065722]\n",
      "5th fold training score:  [0.73281787 0.87897337 0.71080326 0.7445232  0.9917311 ]\n"
     ]
    }
   ],
   "source": [
    "import re\n",
    "import ast\n",
    "result = pd.read_csv('w2v_GBM_cv_rlt.csv')\n",
    "candidate_params = ast.literal_eval(result.candidate_params.values[0])\n",
    "print(\"1. Five candidate parameters are: \", candidate_params)\n",
    "best_n = ast.literal_eval(re.search('({.+})', result.best_params_.values[0]).group(0))['n_estimators']\n",
    "best_d = ast.literal_eval(re.search('({.+})', result.best_params_.values[0]).group(0))['max_depth']\n",
    "best_lr = ast.literal_eval(re.search('({.+})', result.best_params_.values[0]).group(0))['learning_rate']\n",
    "print(\"2. Best number of trees, learning rate and depth are: {}, {} and {}\".format(best_n, best_lr, best_d))\n",
    "best_score_LGB = result.best_score_.values[0]\n",
    "print(\"3. Best average CV validation score is: \", best_score_LGB)\n",
    "mean_test_score = result.mean_test_score.values[0]\n",
    "print(\"4. Average CV validation score: \", mean_test_score)\n",
    "std_test_score = result.std_test_score.values[0]\n",
    "print(\"5. Standard Deviation of CV validation score: \", std_test_score)\n",
    "mean_train_score = result.mean_train_score.values[0]\n",
    "print(\"6. Average CV training score: \", mean_train_score)\n",
    "std_train_score = result.std_train_score.values[0]\n",
    "print(\"7. Standard Deviation of CV training score: \", std_train_score)\n",
    "\n",
    "print(\"1st fold validation score: \", result.split0_test_score.values[0])\n",
    "print(\"2nd fold validation score: \", result.split1_test_score.values[0])\n",
    "print(\"3rd fold validation score: \", result.split2_test_score.values[0])\n",
    "print(\"4th fold validation score: \", result.split3_test_score.values[0])\n",
    "print(\"5th fold validation score: \", result.split4_test_score.values[0])\n",
    "print(\"1st fold training score: \", result.split0_train_score.values[0])\n",
    "print(\"2nd fold training score: \", result.split1_train_score.values[0])\n",
    "print(\"3rd fold training score: \", result.split2_train_score.values[0])\n",
    "print(\"4th fold training score: \", result.split3_train_score.values[0])\n",
    "print(\"5th fold training score: \", result.split4_train_score.values[0])"
   ]
  },
  {
   "cell_type": "markdown",
   "metadata": {},
   "source": [
    "Classification performance on the entire training set, shows slight overfitting"
   ]
  },
  {
   "cell_type": "code",
   "execution_count": 18,
   "metadata": {},
   "outputs": [
    {
     "name": "stdout",
     "output_type": "stream",
     "text": [
      "1. Confusion Matrix for the training data is: \n",
      " [[ 932  156 1353]\n",
      " [ 200  778  889]\n",
      " [ 313  148 6871]]\n",
      "2. Training accuracy: 0.737199\n",
      "3. Training report:                precision    recall  f1-score   support\n",
      "\n",
      "           0       0.64      0.38      0.48      2441\n",
      "           1       0.72      0.42      0.53      1867\n",
      "           2       0.75      0.94      0.84      7332\n",
      "\n",
      "   micro avg       0.74      0.74      0.74     11640\n",
      "   macro avg       0.71      0.58      0.61     11640\n",
      "weighted avg       0.73      0.74      0.71     11640\n",
      "\n"
     ]
    }
   ],
   "source": [
    "result = pd.read_csv('w2v_GBM_cv_rlt.csv')\n",
    "best_n = ast.literal_eval(re.search('({.+})', result.best_params_.values[0]).group(0))['n_estimators']\n",
    "best_d = ast.literal_eval(re.search('({.+})', result.best_params_.values[0]).group(0))['max_depth']\n",
    "best_lr = ast.literal_eval(re.search('({.+})', result.best_params_.values[0]).group(0))['learning_rate']\n",
    "\n",
    "clf = LGBMClassifier(n_estimators=best_n, learning_rate=best_lr, max_depth=best_d, \n",
    "                     boosting_type='gbdt', class_weight=None, colsample_bytree=1,\n",
    "                     importance_type='split', min_child_samples=20, min_child_weight=0.001, \n",
    "                     min_split_gain=0.0, n_jobs=-1, num_leaves=31, objective=None, random_state=None, \n",
    "                     reg_alpha=0, reg_lambda=1, silent=True, subsample=1, subsample_for_bin=200000, \n",
    "                     subsample_freq=0, verbose=0)\n",
    "\n",
    "clf.fit(wv_features, y_train)\n",
    "\n",
    "preds = clf.predict(wv_features)\n",
    "probs = clf.predict_proba(wv_features)\n",
    "confusion_matrix = sklearn.metrics.confusion_matrix(y_train, preds, labels=None, sample_weight=None)\n",
    "report = classification_report(y_train, preds)\n",
    "accuracy = float(np.sum(preds==y_train))/y_train.shape[0] \n",
    "\n",
    "print(\"1. Confusion Matrix for the training data is: \\n\", confusion_matrix)\n",
    "print(\"2. Training accuracy: %f\" % (accuracy))\n",
    "print(\"3. Training report: \", report)"
   ]
  },
  {
   "cell_type": "markdown",
   "metadata": {},
   "source": [
    "### 1.3 Logistic Regression with regularizations"
   ]
  },
  {
   "cell_type": "code",
   "execution_count": 19,
   "metadata": {},
   "outputs": [
    {
     "name": "stdout",
     "output_type": "stream",
     "text": [
      "completed in 9.51227800000001 s\n"
     ]
    },
    {
     "name": "stderr",
     "output_type": "stream",
     "text": [
      "/Users/lisalb168/anaconda3/lib/python3.7/site-packages/sklearn/linear_model/sag.py:334: ConvergenceWarning: The max_iter was reached which means the coef_ did not converge\n",
      "  \"the coef_ did not converge\", ConvergenceWarning)\n"
     ]
    }
   ],
   "source": [
    "import time\n",
    "start = time.process_time()\n",
    "\n",
    "niter, verbose, random_state = [5, 0, 123] \n",
    "param_space = {'penalty': ['l1','l2'], 'C': [0.005, 0.01, 0.1, 1, 10, 50, 100]}\n",
    "        \n",
    "clf = LogisticRegression(random_state=random_state, solver='saga', multi_class='multinomial')\n",
    "cv_clf = RandomizedSearchCV(clf, param_space, cv=kf, n_iter=niter, return_train_score=True, scoring='accuracy', \n",
    "                            verbose=verbose, n_jobs = -1) \n",
    "cv_clf.fit(wv_features, y_train)\n",
    "\n",
    "print('completed in {} s'.format(time.process_time() - start))\n",
    "\n",
    "# write out results\n",
    "model_log(cv_clf, 'w2v_logistic')"
   ]
  },
  {
   "cell_type": "code",
   "execution_count": 20,
   "metadata": {},
   "outputs": [
    {
     "name": "stdout",
     "output_type": "stream",
     "text": [
      "1. Five candidate parameters are:  [{'penalty': 'l2', 'C': 0.01}, {'penalty': 'l2', 'C': 50}, {'penalty': 'l2', 'C': 1}, {'penalty': 'l1', 'C': 0.01}, {'penalty': 'l1', 'C': 10}]\n",
      "2. Best C and penalty are: 10 and l1\n",
      "3. Best average CV validation score is:  0.7285223367697594\n",
      "4. Average CV validation score:  [0.6564433  0.72405498 0.70068729 0.63273196 0.72852234]\n",
      "5. Standard Deviation of CV validation score:  [0.00613164 0.00544432 0.00610147 0.00819085 0.00733015]\n",
      "6. Average CV training score:  [0.65627148 0.72719072 0.70193299 0.63348368 0.7310567 ]\n",
      "7. Standard Deviation of CV training score:  [0.00043701 0.00160667 0.00150129 0.00128687 0.00220353]\n",
      "1st fold validation score:  [0.65034364 0.72594502 0.70489691 0.63015464 0.72938144]\n",
      "2nd fold validation score:  [0.65549828 0.72594502 0.69931271 0.63230241 0.73109966]\n",
      "3rd fold validation score:  [0.66709622 0.73024055 0.70919244 0.64390034 0.73969072]\n",
      "4th fold validation score:  [0.6507732  0.71391753 0.6911512  0.61941581 0.71735395]\n",
      "5th fold validation score:  [0.65850515 0.7242268  0.69888316 0.6378866  0.72508591]\n",
      "1st fold training score:  [0.65678694 0.72820017 0.70049399 0.63520189 0.73174399]\n",
      "2nd fold training score:  [0.65667955 0.72433419 0.70006443 0.63466495 0.72895189]\n",
      "3rd fold training score:  [0.65571306 0.72658935 0.70189003 0.63176546 0.72820017]\n",
      "4th fold training score:  [0.65635739 0.7279854  0.70382302 0.63251718 0.73217354]\n",
      "5th fold training score:  [0.65582045 0.7288445  0.70339347 0.6332689  0.73421392]\n"
     ]
    }
   ],
   "source": [
    "import re\n",
    "import ast\n",
    "result = pd.read_csv('w2v_logistic_cv_rlt.csv')\n",
    "candidate_params = ast.literal_eval(result.candidate_params.values[0])\n",
    "print(\"1. Five candidate parameters are: \", candidate_params)\n",
    "best_c = ast.literal_eval(re.search('({.+})', result.best_params_.values[0]).group(0))['C']\n",
    "best_penalty = ast.literal_eval(re.search('({.+})', result.best_params_.values[0]).group(0))['penalty']\n",
    "print(\"2. Best C and penalty are: {} and {}\".format(best_c, best_penalty))\n",
    "best_score_Logistic = result.best_score_.values[0]\n",
    "print(\"3. Best average CV validation score is: \", best_score_Logistic)\n",
    "mean_test_score = result.mean_test_score.values[0]\n",
    "print(\"4. Average CV validation score: \", mean_test_score)\n",
    "std_test_score = result.std_test_score.values[0]\n",
    "print(\"5. Standard Deviation of CV validation score: \", std_test_score)\n",
    "mean_train_score = result.mean_train_score.values[0]\n",
    "print(\"6. Average CV training score: \", mean_train_score)\n",
    "std_train_score = result.std_train_score.values[0]\n",
    "print(\"7. Standard Deviation of CV training score: \", std_train_score)\n",
    "\n",
    "print(\"1st fold validation score: \", result.split0_test_score.values[0])\n",
    "print(\"2nd fold validation score: \", result.split1_test_score.values[0])\n",
    "print(\"3rd fold validation score: \", result.split2_test_score.values[0])\n",
    "print(\"4th fold validation score: \", result.split3_test_score.values[0])\n",
    "print(\"5th fold validation score: \", result.split4_test_score.values[0])\n",
    "print(\"1st fold training score: \", result.split0_train_score.values[0])\n",
    "print(\"2nd fold training score: \", result.split1_train_score.values[0])\n",
    "print(\"3rd fold training score: \", result.split2_train_score.values[0])\n",
    "print(\"4th fold training score: \", result.split3_train_score.values[0])\n",
    "print(\"5th fold training score: \", result.split4_train_score.values[0])"
   ]
  },
  {
   "cell_type": "markdown",
   "metadata": {},
   "source": [
    "Classification performance on the entire training set"
   ]
  },
  {
   "cell_type": "code",
   "execution_count": 21,
   "metadata": {},
   "outputs": [
    {
     "name": "stdout",
     "output_type": "stream",
     "text": [
      "1. Confusion Matrix for the training data is: \n",
      " [[ 844  136 1461]\n",
      " [ 237  806  824]\n",
      " [ 309  142 6881]]\n",
      "2. Training accuracy: 0.732904\n",
      "3. Training report:                precision    recall  f1-score   support\n",
      "\n",
      "           0       0.61      0.35      0.44      2441\n",
      "           1       0.74      0.43      0.55      1867\n",
      "           2       0.75      0.94      0.83      7332\n",
      "\n",
      "   micro avg       0.73      0.73      0.73     11640\n",
      "   macro avg       0.70      0.57      0.61     11640\n",
      "weighted avg       0.72      0.73      0.71     11640\n",
      "\n"
     ]
    },
    {
     "name": "stderr",
     "output_type": "stream",
     "text": [
      "/Users/lisalb168/anaconda3/lib/python3.7/site-packages/sklearn/linear_model/sag.py:334: ConvergenceWarning: The max_iter was reached which means the coef_ did not converge\n",
      "  \"the coef_ did not converge\", ConvergenceWarning)\n"
     ]
    }
   ],
   "source": [
    "result = pd.read_csv('w2v_logistic_cv_rlt.csv')\n",
    "best_c = ast.literal_eval(re.search('({.+})', result.best_params_.values[0]).group(0))['C']\n",
    "best_penalty = ast.literal_eval(re.search('({.+})', result.best_params_.values[0]).group(0))['penalty']\n",
    "\n",
    "clf = LogisticRegression(C=best_c, class_weight=None, dual=False, fit_intercept=True,\n",
    "                         intercept_scaling=1, max_iter=100, solver='saga', multi_class='multinomial',\n",
    "                         n_jobs=None, penalty=best_penalty, random_state=123, \n",
    "                         tol=0.0001, verbose=0, warm_start=False)\n",
    "clf.fit(wv_features, y_train)\n",
    "\n",
    "preds = clf.predict(wv_features)\n",
    "probs = clf.predict_proba(wv_features)\n",
    "confusion_matrix = sklearn.metrics.confusion_matrix(y_train, preds, labels=None, sample_weight=None)\n",
    "report = classification_report(y_train, preds)\n",
    "accuracy = float(np.sum(preds==y_train))/y_train.shape[0] \n",
    "\n",
    "print(\"1. Confusion Matrix for the training data is: \\n\", confusion_matrix)\n",
    "print(\"2. Training accuracy: %f\" % (accuracy))\n",
    "print(\"3. Training report: \", report)"
   ]
  },
  {
   "cell_type": "markdown",
   "metadata": {},
   "source": [
    "## Summary of models"
   ]
  },
  {
   "cell_type": "markdown",
   "metadata": {},
   "source": [
    "The best model selected based on average validation score"
   ]
  },
  {
   "cell_type": "code",
   "execution_count": 22,
   "metadata": {},
   "outputs": [
    {
     "name": "stdout",
     "output_type": "stream",
     "text": [
      "{'RandomForest': 0.7060137457044674, 'LightGBM': 0.7082474226804124, 'Logistic Regression': 0.7285223367697594}\n"
     ]
    }
   ],
   "source": [
    "result = pd.read_csv('w2v_rf_cv_rlt.csv')\n",
    "best_score_rf = result.best_score_.values[0]\n",
    "\n",
    "result = pd.read_csv('w2v_GBM_cv_rlt.csv')\n",
    "best_score_LGB = result.best_score_.values[0]\n",
    "\n",
    "result = pd.read_csv('w2v_logistic_cv_rlt.csv')\n",
    "best_score_Logistic = result.best_score_.values[0]\n",
    "\n",
    "validation_scores = {'RandomForest': best_score_rf, 'LightGBM': best_score_LGB, \n",
    "                     'Logistic Regression': best_score_Logistic}\n",
    "print(validation_scores)"
   ]
  },
  {
   "cell_type": "markdown",
   "metadata": {},
   "source": [
    "## Assign ID column to prepare for merging with other datasets"
   ]
  },
  {
   "cell_type": "code",
   "execution_count": 23,
   "metadata": {},
   "outputs": [
    {
     "data": {
      "text/html": [
       "<div>\n",
       "<style scoped>\n",
       "    .dataframe tbody tr th:only-of-type {\n",
       "        vertical-align: middle;\n",
       "    }\n",
       "\n",
       "    .dataframe tbody tr th {\n",
       "        vertical-align: top;\n",
       "    }\n",
       "\n",
       "    .dataframe thead th {\n",
       "        text-align: right;\n",
       "    }\n",
       "</style>\n",
       "<table border=\"1\" class=\"dataframe\">\n",
       "  <thead>\n",
       "    <tr style=\"text-align: right;\">\n",
       "      <th></th>\n",
       "      <th>feature_1</th>\n",
       "      <th>feature_2</th>\n",
       "      <th>feature_3</th>\n",
       "      <th>feature_4</th>\n",
       "      <th>feature_5</th>\n",
       "      <th>feature_6</th>\n",
       "      <th>feature_7</th>\n",
       "      <th>feature_8</th>\n",
       "      <th>feature_9</th>\n",
       "      <th>feature_10</th>\n",
       "      <th>...</th>\n",
       "      <th>feature_92</th>\n",
       "      <th>feature_93</th>\n",
       "      <th>feature_94</th>\n",
       "      <th>feature_95</th>\n",
       "      <th>feature_96</th>\n",
       "      <th>feature_97</th>\n",
       "      <th>feature_98</th>\n",
       "      <th>feature_99</th>\n",
       "      <th>feature_100</th>\n",
       "      <th>ID</th>\n",
       "    </tr>\n",
       "  </thead>\n",
       "  <tbody>\n",
       "    <tr>\n",
       "      <th>0</th>\n",
       "      <td>-0.174159</td>\n",
       "      <td>-0.376847</td>\n",
       "      <td>0.225733</td>\n",
       "      <td>0.042696</td>\n",
       "      <td>0.134311</td>\n",
       "      <td>-0.060276</td>\n",
       "      <td>-0.012189</td>\n",
       "      <td>0.332817</td>\n",
       "      <td>0.109808</td>\n",
       "      <td>-0.035154</td>\n",
       "      <td>...</td>\n",
       "      <td>0.006819</td>\n",
       "      <td>-0.125875</td>\n",
       "      <td>0.159198</td>\n",
       "      <td>-0.316078</td>\n",
       "      <td>-0.197206</td>\n",
       "      <td>0.233572</td>\n",
       "      <td>0.221987</td>\n",
       "      <td>-0.244346</td>\n",
       "      <td>-0.137475</td>\n",
       "      <td>7908</td>\n",
       "    </tr>\n",
       "    <tr>\n",
       "      <th>1</th>\n",
       "      <td>-0.217392</td>\n",
       "      <td>-0.261179</td>\n",
       "      <td>0.162572</td>\n",
       "      <td>-0.014102</td>\n",
       "      <td>0.105449</td>\n",
       "      <td>-0.059530</td>\n",
       "      <td>-0.074041</td>\n",
       "      <td>0.217289</td>\n",
       "      <td>0.127911</td>\n",
       "      <td>-0.280071</td>\n",
       "      <td>...</td>\n",
       "      <td>-0.026931</td>\n",
       "      <td>-0.212833</td>\n",
       "      <td>-0.024392</td>\n",
       "      <td>-0.331016</td>\n",
       "      <td>-0.223917</td>\n",
       "      <td>0.172291</td>\n",
       "      <td>0.092887</td>\n",
       "      <td>-0.018210</td>\n",
       "      <td>-0.151401</td>\n",
       "      <td>538</td>\n",
       "    </tr>\n",
       "    <tr>\n",
       "      <th>2</th>\n",
       "      <td>-0.151161</td>\n",
       "      <td>-0.228381</td>\n",
       "      <td>0.137544</td>\n",
       "      <td>-0.004065</td>\n",
       "      <td>0.106829</td>\n",
       "      <td>-0.065577</td>\n",
       "      <td>-0.015647</td>\n",
       "      <td>0.226998</td>\n",
       "      <td>0.102929</td>\n",
       "      <td>-0.170607</td>\n",
       "      <td>...</td>\n",
       "      <td>-0.011838</td>\n",
       "      <td>-0.183797</td>\n",
       "      <td>0.032689</td>\n",
       "      <td>-0.261934</td>\n",
       "      <td>-0.173341</td>\n",
       "      <td>0.207240</td>\n",
       "      <td>0.130469</td>\n",
       "      <td>-0.038150</td>\n",
       "      <td>-0.132023</td>\n",
       "      <td>4501</td>\n",
       "    </tr>\n",
       "    <tr>\n",
       "      <th>3</th>\n",
       "      <td>-0.168207</td>\n",
       "      <td>-0.293769</td>\n",
       "      <td>0.148806</td>\n",
       "      <td>0.054308</td>\n",
       "      <td>0.196257</td>\n",
       "      <td>-0.059498</td>\n",
       "      <td>0.059665</td>\n",
       "      <td>0.317779</td>\n",
       "      <td>0.076680</td>\n",
       "      <td>-0.101811</td>\n",
       "      <td>...</td>\n",
       "      <td>-0.047585</td>\n",
       "      <td>-0.187783</td>\n",
       "      <td>0.085278</td>\n",
       "      <td>-0.292194</td>\n",
       "      <td>-0.156288</td>\n",
       "      <td>0.231119</td>\n",
       "      <td>0.220019</td>\n",
       "      <td>-0.126156</td>\n",
       "      <td>-0.098265</td>\n",
       "      <td>13982</td>\n",
       "    </tr>\n",
       "    <tr>\n",
       "      <th>4</th>\n",
       "      <td>-0.115914</td>\n",
       "      <td>-0.154277</td>\n",
       "      <td>0.052429</td>\n",
       "      <td>0.038035</td>\n",
       "      <td>0.218828</td>\n",
       "      <td>-0.015134</td>\n",
       "      <td>-0.059788</td>\n",
       "      <td>0.259140</td>\n",
       "      <td>0.187588</td>\n",
       "      <td>-0.194972</td>\n",
       "      <td>...</td>\n",
       "      <td>-0.096516</td>\n",
       "      <td>-0.245784</td>\n",
       "      <td>-0.089559</td>\n",
       "      <td>-0.378685</td>\n",
       "      <td>-0.212268</td>\n",
       "      <td>0.275687</td>\n",
       "      <td>0.117452</td>\n",
       "      <td>-0.141598</td>\n",
       "      <td>-0.191248</td>\n",
       "      <td>6048</td>\n",
       "    </tr>\n",
       "  </tbody>\n",
       "</table>\n",
       "<p>5 rows × 101 columns</p>\n",
       "</div>"
      ],
      "text/plain": [
       "   feature_1  feature_2  feature_3  feature_4  feature_5  feature_6  \\\n",
       "0  -0.174159  -0.376847   0.225733   0.042696   0.134311  -0.060276   \n",
       "1  -0.217392  -0.261179   0.162572  -0.014102   0.105449  -0.059530   \n",
       "2  -0.151161  -0.228381   0.137544  -0.004065   0.106829  -0.065577   \n",
       "3  -0.168207  -0.293769   0.148806   0.054308   0.196257  -0.059498   \n",
       "4  -0.115914  -0.154277   0.052429   0.038035   0.218828  -0.015134   \n",
       "\n",
       "   feature_7  feature_8  feature_9  feature_10  ...  feature_92  feature_93  \\\n",
       "0  -0.012189   0.332817   0.109808   -0.035154  ...    0.006819   -0.125875   \n",
       "1  -0.074041   0.217289   0.127911   -0.280071  ...   -0.026931   -0.212833   \n",
       "2  -0.015647   0.226998   0.102929   -0.170607  ...   -0.011838   -0.183797   \n",
       "3   0.059665   0.317779   0.076680   -0.101811  ...   -0.047585   -0.187783   \n",
       "4  -0.059788   0.259140   0.187588   -0.194972  ...   -0.096516   -0.245784   \n",
       "\n",
       "   feature_94  feature_95  feature_96  feature_97  feature_98  feature_99  \\\n",
       "0    0.159198   -0.316078   -0.197206    0.233572    0.221987   -0.244346   \n",
       "1   -0.024392   -0.331016   -0.223917    0.172291    0.092887   -0.018210   \n",
       "2    0.032689   -0.261934   -0.173341    0.207240    0.130469   -0.038150   \n",
       "3    0.085278   -0.292194   -0.156288    0.231119    0.220019   -0.126156   \n",
       "4   -0.089559   -0.378685   -0.212268    0.275687    0.117452   -0.141598   \n",
       "\n",
       "   feature_100     ID  \n",
       "0    -0.137475   7908  \n",
       "1    -0.151401    538  \n",
       "2    -0.132023   4501  \n",
       "3    -0.098265  13982  \n",
       "4    -0.191248   6048  \n",
       "\n",
       "[5 rows x 101 columns]"
      ]
     },
     "metadata": {},
     "output_type": "display_data"
    }
   ],
   "source": [
    "wv_features['ID'] = X_train.ID.to_list()\n",
    "display(wv_features.head())"
   ]
  },
  {
   "cell_type": "code",
   "execution_count": 24,
   "metadata": {},
   "outputs": [
    {
     "data": {
      "text/html": [
       "<div>\n",
       "<style scoped>\n",
       "    .dataframe tbody tr th:only-of-type {\n",
       "        vertical-align: middle;\n",
       "    }\n",
       "\n",
       "    .dataframe tbody tr th {\n",
       "        vertical-align: top;\n",
       "    }\n",
       "\n",
       "    .dataframe thead th {\n",
       "        text-align: right;\n",
       "    }\n",
       "</style>\n",
       "<table border=\"1\" class=\"dataframe\">\n",
       "  <thead>\n",
       "    <tr style=\"text-align: right;\">\n",
       "      <th></th>\n",
       "      <th>feature_1</th>\n",
       "      <th>feature_2</th>\n",
       "      <th>feature_3</th>\n",
       "      <th>feature_4</th>\n",
       "      <th>feature_5</th>\n",
       "      <th>feature_6</th>\n",
       "      <th>feature_7</th>\n",
       "      <th>feature_8</th>\n",
       "      <th>feature_9</th>\n",
       "      <th>feature_10</th>\n",
       "      <th>...</th>\n",
       "      <th>feature_92</th>\n",
       "      <th>feature_93</th>\n",
       "      <th>feature_94</th>\n",
       "      <th>feature_95</th>\n",
       "      <th>feature_96</th>\n",
       "      <th>feature_97</th>\n",
       "      <th>feature_98</th>\n",
       "      <th>feature_99</th>\n",
       "      <th>feature_100</th>\n",
       "      <th>ID</th>\n",
       "    </tr>\n",
       "  </thead>\n",
       "  <tbody>\n",
       "    <tr>\n",
       "      <th>0</th>\n",
       "      <td>-0.174159</td>\n",
       "      <td>-0.376847</td>\n",
       "      <td>0.225733</td>\n",
       "      <td>0.042696</td>\n",
       "      <td>0.134311</td>\n",
       "      <td>-0.060276</td>\n",
       "      <td>-0.012189</td>\n",
       "      <td>0.332817</td>\n",
       "      <td>0.109808</td>\n",
       "      <td>-0.035154</td>\n",
       "      <td>...</td>\n",
       "      <td>0.006819</td>\n",
       "      <td>-0.125875</td>\n",
       "      <td>0.159198</td>\n",
       "      <td>-0.316078</td>\n",
       "      <td>-0.197206</td>\n",
       "      <td>0.233572</td>\n",
       "      <td>0.221987</td>\n",
       "      <td>-0.244346</td>\n",
       "      <td>-0.137475</td>\n",
       "      <td>7908</td>\n",
       "    </tr>\n",
       "    <tr>\n",
       "      <th>1</th>\n",
       "      <td>-0.217392</td>\n",
       "      <td>-0.261179</td>\n",
       "      <td>0.162572</td>\n",
       "      <td>-0.014102</td>\n",
       "      <td>0.105449</td>\n",
       "      <td>-0.059530</td>\n",
       "      <td>-0.074041</td>\n",
       "      <td>0.217289</td>\n",
       "      <td>0.127911</td>\n",
       "      <td>-0.280071</td>\n",
       "      <td>...</td>\n",
       "      <td>-0.026931</td>\n",
       "      <td>-0.212833</td>\n",
       "      <td>-0.024392</td>\n",
       "      <td>-0.331016</td>\n",
       "      <td>-0.223917</td>\n",
       "      <td>0.172291</td>\n",
       "      <td>0.092887</td>\n",
       "      <td>-0.018210</td>\n",
       "      <td>-0.151401</td>\n",
       "      <td>538</td>\n",
       "    </tr>\n",
       "    <tr>\n",
       "      <th>2</th>\n",
       "      <td>-0.151161</td>\n",
       "      <td>-0.228381</td>\n",
       "      <td>0.137544</td>\n",
       "      <td>-0.004065</td>\n",
       "      <td>0.106829</td>\n",
       "      <td>-0.065577</td>\n",
       "      <td>-0.015647</td>\n",
       "      <td>0.226998</td>\n",
       "      <td>0.102929</td>\n",
       "      <td>-0.170607</td>\n",
       "      <td>...</td>\n",
       "      <td>-0.011838</td>\n",
       "      <td>-0.183797</td>\n",
       "      <td>0.032689</td>\n",
       "      <td>-0.261934</td>\n",
       "      <td>-0.173341</td>\n",
       "      <td>0.207240</td>\n",
       "      <td>0.130469</td>\n",
       "      <td>-0.038150</td>\n",
       "      <td>-0.132023</td>\n",
       "      <td>4501</td>\n",
       "    </tr>\n",
       "    <tr>\n",
       "      <th>3</th>\n",
       "      <td>-0.168207</td>\n",
       "      <td>-0.293769</td>\n",
       "      <td>0.148806</td>\n",
       "      <td>0.054308</td>\n",
       "      <td>0.196257</td>\n",
       "      <td>-0.059498</td>\n",
       "      <td>0.059665</td>\n",
       "      <td>0.317779</td>\n",
       "      <td>0.076680</td>\n",
       "      <td>-0.101811</td>\n",
       "      <td>...</td>\n",
       "      <td>-0.047585</td>\n",
       "      <td>-0.187783</td>\n",
       "      <td>0.085278</td>\n",
       "      <td>-0.292194</td>\n",
       "      <td>-0.156288</td>\n",
       "      <td>0.231119</td>\n",
       "      <td>0.220019</td>\n",
       "      <td>-0.126156</td>\n",
       "      <td>-0.098265</td>\n",
       "      <td>13982</td>\n",
       "    </tr>\n",
       "    <tr>\n",
       "      <th>4</th>\n",
       "      <td>-0.115914</td>\n",
       "      <td>-0.154277</td>\n",
       "      <td>0.052429</td>\n",
       "      <td>0.038035</td>\n",
       "      <td>0.218828</td>\n",
       "      <td>-0.015134</td>\n",
       "      <td>-0.059788</td>\n",
       "      <td>0.259140</td>\n",
       "      <td>0.187588</td>\n",
       "      <td>-0.194972</td>\n",
       "      <td>...</td>\n",
       "      <td>-0.096516</td>\n",
       "      <td>-0.245784</td>\n",
       "      <td>-0.089559</td>\n",
       "      <td>-0.378685</td>\n",
       "      <td>-0.212268</td>\n",
       "      <td>0.275687</td>\n",
       "      <td>0.117452</td>\n",
       "      <td>-0.141598</td>\n",
       "      <td>-0.191248</td>\n",
       "      <td>6048</td>\n",
       "    </tr>\n",
       "  </tbody>\n",
       "</table>\n",
       "<p>5 rows × 101 columns</p>\n",
       "</div>"
      ],
      "text/plain": [
       "   feature_1  feature_2  feature_3  feature_4  feature_5  feature_6  \\\n",
       "0  -0.174159  -0.376847   0.225733   0.042696   0.134311  -0.060276   \n",
       "1  -0.217392  -0.261179   0.162572  -0.014102   0.105449  -0.059530   \n",
       "2  -0.151161  -0.228381   0.137544  -0.004065   0.106829  -0.065577   \n",
       "3  -0.168207  -0.293769   0.148806   0.054308   0.196257  -0.059498   \n",
       "4  -0.115914  -0.154277   0.052429   0.038035   0.218828  -0.015134   \n",
       "\n",
       "   feature_7  feature_8  feature_9  feature_10  ...  feature_92  feature_93  \\\n",
       "0  -0.012189   0.332817   0.109808   -0.035154  ...    0.006819   -0.125875   \n",
       "1  -0.074041   0.217289   0.127911   -0.280071  ...   -0.026931   -0.212833   \n",
       "2  -0.015647   0.226998   0.102929   -0.170607  ...   -0.011838   -0.183797   \n",
       "3   0.059665   0.317779   0.076680   -0.101811  ...   -0.047585   -0.187783   \n",
       "4  -0.059788   0.259140   0.187588   -0.194972  ...   -0.096516   -0.245784   \n",
       "\n",
       "   feature_94  feature_95  feature_96  feature_97  feature_98  feature_99  \\\n",
       "0    0.159198   -0.316078   -0.197206    0.233572    0.221987   -0.244346   \n",
       "1   -0.024392   -0.331016   -0.223917    0.172291    0.092887   -0.018210   \n",
       "2    0.032689   -0.261934   -0.173341    0.207240    0.130469   -0.038150   \n",
       "3    0.085278   -0.292194   -0.156288    0.231119    0.220019   -0.126156   \n",
       "4   -0.089559   -0.378685   -0.212268    0.275687    0.117452   -0.141598   \n",
       "\n",
       "   feature_100     ID  \n",
       "0    -0.137475   7908  \n",
       "1    -0.151401    538  \n",
       "2    -0.132023   4501  \n",
       "3    -0.098265  13982  \n",
       "4    -0.191248   6048  \n",
       "\n",
       "[5 rows x 101 columns]"
      ]
     },
     "metadata": {},
     "output_type": "display_data"
    },
    {
     "name": "stdout",
     "output_type": "stream",
     "text": [
      "(11640, 101)\n"
     ]
    }
   ],
   "source": [
    "wv_features.to_csv(\"wv_features.csv\", index=False)\n",
    "wv = pd.read_csv(\"wv_features.csv\")\n",
    "display(wv.head())\n",
    "print(wv.shape)"
   ]
  },
  {
   "cell_type": "markdown",
   "metadata": {},
   "source": [
    "## Appendix Neural Network Model"
   ]
  },
  {
   "cell_type": "code",
   "execution_count": 14,
   "metadata": {},
   "outputs": [],
   "source": [
    "wv_features = pd.read_csv(\"wv_features.csv\")"
   ]
  },
  {
   "cell_type": "code",
   "execution_count": 15,
   "metadata": {},
   "outputs": [],
   "source": [
    "# Change pandas dataframe to numpy array to satisfy format requirement to train NN\n",
    "X = wv_features.iloc[:,:100].values\n",
    "y = y_train.values\n",
    "y = y.reshape(-1, 1)\n",
    "from sklearn.preprocessing import OneHotEncoder\n",
    "ohe = OneHotEncoder()\n",
    "y = ohe.fit_transform(y).toarray()"
   ]
  },
  {
   "cell_type": "markdown",
   "metadata": {},
   "source": [
    "### 2 hidden layers"
   ]
  },
  {
   "cell_type": "code",
   "execution_count": 16,
   "metadata": {},
   "outputs": [
    {
     "name": "stderr",
     "output_type": "stream",
     "text": [
      "Using TensorFlow backend.\n"
     ]
    },
    {
     "name": "stdout",
     "output_type": "stream",
     "text": [
      "WARNING:tensorflow:From /Users/lisalb168/anaconda3/lib/python3.7/site-packages/tensorflow_core/python/ops/resource_variable_ops.py:1630: calling BaseResourceVariable.__init__ (from tensorflow.python.ops.resource_variable_ops) with constraint is deprecated and will be removed in a future version.\n",
      "Instructions for updating:\n",
      "If using Keras pass *_constraint arguments to layers.\n"
     ]
    }
   ],
   "source": [
    "import keras\n",
    "from keras.models import Sequential\n",
    "from keras.layers import Dense\n",
    "model = Sequential()\n",
    "model.add(Dense(10, input_dim=100, activation='relu'))\n",
    "model.add(Dense(5, activation='relu'))\n",
    "model.add(Dense(3, activation='softmax'))\n",
    "model.compile(loss='categorical_crossentropy', optimizer='adam', metrics=['accuracy'])"
   ]
  },
  {
   "cell_type": "code",
   "execution_count": 17,
   "metadata": {},
   "outputs": [
    {
     "name": "stdout",
     "output_type": "stream",
     "text": [
      "Model: \"sequential_1\"\n",
      "_________________________________________________________________\n",
      "Layer (type)                 Output Shape              Param #   \n",
      "=================================================================\n",
      "dense_1 (Dense)              (None, 10)                1010      \n",
      "_________________________________________________________________\n",
      "dense_2 (Dense)              (None, 5)                 55        \n",
      "_________________________________________________________________\n",
      "dense_3 (Dense)              (None, 3)                 18        \n",
      "=================================================================\n",
      "Total params: 1,083\n",
      "Trainable params: 1,083\n",
      "Non-trainable params: 0\n",
      "_________________________________________________________________\n"
     ]
    }
   ],
   "source": [
    "model.summary()"
   ]
  },
  {
   "cell_type": "code",
   "execution_count": 18,
   "metadata": {},
   "outputs": [
    {
     "name": "stdout",
     "output_type": "stream",
     "text": [
      "WARNING:tensorflow:From /Users/lisalb168/anaconda3/lib/python3.7/site-packages/keras/backend/tensorflow_backend.py:422: The name tf.global_variables is deprecated. Please use tf.compat.v1.global_variables instead.\n",
      "\n"
     ]
    }
   ],
   "source": [
    "history = model.fit(X, y, epochs=1000, validation_split=0.2, batch_size=100, verbose=0)"
   ]
  },
  {
   "cell_type": "markdown",
   "metadata": {},
   "source": [
    "With 1000 epochs, the model is still not showing overfitting"
   ]
  },
  {
   "cell_type": "code",
   "execution_count": 19,
   "metadata": {},
   "outputs": [
    {
     "name": "stdout",
     "output_type": "stream",
     "text": [
      "Validation accuracy:  0.730240523815155\n",
      "Training accuracy:  0.74130154\n"
     ]
    }
   ],
   "source": [
    "print(\"Validation accuracy: \",history.history['val_accuracy'][999])\n",
    "print(\"Training accuracy: \",history.history['accuracy'][999])"
   ]
  },
  {
   "cell_type": "code",
   "execution_count": 20,
   "metadata": {},
   "outputs": [
    {
     "name": "stdout",
     "output_type": "stream",
     "text": [
      "dict_keys(['val_loss', 'val_accuracy', 'loss', 'accuracy'])\n"
     ]
    },
    {
     "data": {
      "image/png": "[encoded data removed]",
      "text/plain": [
       "<Figure size 432x288 with 1 Axes>"
      ]
     },
     "metadata": {
      "needs_background": "light"
     },
     "output_type": "display_data"
    },
    {
     "data": {
      "image/png": "[encoded data removed]",
      "text/plain": [
       "<Figure size 432x288 with 1 Axes>"
      ]
     },
     "metadata": {
      "needs_background": "light"
     },
     "output_type": "display_data"
    }
   ],
   "source": [
    "# list all data in history\n",
    "print(history.history.keys())\n",
    "# summarize history for accuracy\n",
    "plt.plot(history.history['accuracy'])\n",
    "plt.plot(history.history['val_accuracy'])\n",
    "plt.title('model accuracy')\n",
    "plt.ylabel('accuracy')\n",
    "plt.xlabel('epoch')\n",
    "plt.legend(['train', 'test'], loc='upper left')\n",
    "plt.show()\n",
    "# summarize history for loss\n",
    "plt.plot(history.history['loss'])\n",
    "plt.plot(history.history['val_loss'])\n",
    "plt.title('model loss')\n",
    "plt.ylabel('loss')\n",
    "plt.xlabel('epoch')\n",
    "plt.legend(['train', 'test'], loc='upper left')\n",
    "plt.show()"
   ]
  },
  {
   "cell_type": "code",
   "execution_count": 43,
   "metadata": {},
   "outputs": [
    {
     "data": {
      "text/plain": [
       "'Min, Max, Mean, Std of validation accuracy are: '"
      ]
     },
     "metadata": {},
     "output_type": "display_data"
    },
    {
     "data": {
      "text/plain": [
       "0.6477663516998291"
      ]
     },
     "metadata": {},
     "output_type": "display_data"
    },
    {
     "data": {
      "text/plain": [
       "0.7474226951599121"
      ]
     },
     "metadata": {},
     "output_type": "display_data"
    },
    {
     "data": {
      "text/plain": [
       "0.7306176977753639"
      ]
     },
     "metadata": {},
     "output_type": "display_data"
    },
    {
     "data": {
      "text/plain": [
       "0.01246376166718841"
      ]
     },
     "metadata": {},
     "output_type": "display_data"
    }
   ],
   "source": [
    "display(\"Min, Max, Mean, Std of validation accuracy are: \", \n",
    "      np.min(history.history['val_accuracy']), \n",
    "      np.max(history.history['val_accuracy']), \n",
    "      np.mean(history.history['val_accuracy']),\n",
    "      np.std(history.history['val_accuracy']))"
   ]
  },
  {
   "cell_type": "markdown",
   "metadata": {},
   "source": [
    "### 3 hidden layers"
   ]
  },
  {
   "cell_type": "code",
   "execution_count": 21,
   "metadata": {},
   "outputs": [],
   "source": [
    "# add 1 more layer\n",
    "import keras\n",
    "from keras.models import Sequential\n",
    "from keras.layers import Dense\n",
    "model = Sequential()\n",
    "model.add(Dense(10, input_dim=100, activation='relu'))\n",
    "model.add(Dense(8, activation='relu'))\n",
    "model.add(Dense(5, activation='relu'))\n",
    "model.add(Dense(3, activation='softmax'))\n",
    "model.compile(loss='categorical_crossentropy', optimizer='adam', metrics=['accuracy'])"
   ]
  },
  {
   "cell_type": "code",
   "execution_count": 22,
   "metadata": {},
   "outputs": [
    {
     "name": "stdout",
     "output_type": "stream",
     "text": [
      "Model: \"sequential_2\"\n",
      "_________________________________________________________________\n",
      "Layer (type)                 Output Shape              Param #   \n",
      "=================================================================\n",
      "dense_4 (Dense)              (None, 10)                1010      \n",
      "_________________________________________________________________\n",
      "dense_5 (Dense)              (None, 8)                 88        \n",
      "_________________________________________________________________\n",
      "dense_6 (Dense)              (None, 5)                 45        \n",
      "_________________________________________________________________\n",
      "dense_7 (Dense)              (None, 3)                 18        \n",
      "=================================================================\n",
      "Total params: 1,161\n",
      "Trainable params: 1,161\n",
      "Non-trainable params: 0\n",
      "_________________________________________________________________\n"
     ]
    }
   ],
   "source": [
    "model.summary()"
   ]
  },
  {
   "cell_type": "code",
   "execution_count": 23,
   "metadata": {},
   "outputs": [],
   "source": [
    "history2 = model.fit(X, y, epochs=1000, validation_split=0.2, batch_size=100, verbose=0)"
   ]
  },
  {
   "cell_type": "code",
   "execution_count": 24,
   "metadata": {},
   "outputs": [
    {
     "name": "stdout",
     "output_type": "stream",
     "text": [
      "Validation accuracy:  0.7401202917098999\n",
      "Training accuracy:  0.7425902\n"
     ]
    }
   ],
   "source": [
    "print(\"Validation accuracy: \",history2.history['val_accuracy'][999])\n",
    "print(\"Training accuracy: \",history2.history['accuracy'][999])"
   ]
  },
  {
   "cell_type": "code",
   "execution_count": 25,
   "metadata": {},
   "outputs": [
    {
     "data": {
      "image/png": "[encoded data removed]",
      "text/plain": [
       "<Figure size 432x288 with 1 Axes>"
      ]
     },
     "metadata": {
      "needs_background": "light"
     },
     "output_type": "display_data"
    },
    {
     "data": {
      "image/png": "[encoded data removed]",
      "text/plain": [
       "<Figure size 432x288 with 1 Axes>"
      ]
     },
     "metadata": {
      "needs_background": "light"
     },
     "output_type": "display_data"
    }
   ],
   "source": [
    "# summarize history for accuracy\n",
    "plt.plot(history2.history['accuracy'])\n",
    "plt.plot(history2.history['val_accuracy'])\n",
    "plt.title('model accuracy')\n",
    "plt.ylabel('accuracy')\n",
    "plt.xlabel('epoch')\n",
    "plt.legend(['train', 'test'], loc='upper left')\n",
    "plt.show()\n",
    "# summarize history for loss\n",
    "plt.plot(history2.history['loss'])\n",
    "plt.plot(history2.history['val_loss'])\n",
    "plt.title('model loss')\n",
    "plt.ylabel('loss')\n",
    "plt.xlabel('epoch')\n",
    "plt.legend(['train', 'test'], loc='upper left')\n",
    "plt.show()"
   ]
  },
  {
   "cell_type": "code",
   "execution_count": 44,
   "metadata": {},
   "outputs": [
    {
     "data": {
      "text/plain": [
       "'Min, Max, Mean, Std of validation accuracy are: '"
      ]
     },
     "metadata": {},
     "output_type": "display_data"
    },
    {
     "data": {
      "text/plain": [
       "0.636168360710144"
      ]
     },
     "metadata": {},
     "output_type": "display_data"
    },
    {
     "data": {
      "text/plain": [
       "0.7478522062301636"
      ]
     },
     "metadata": {},
     "output_type": "display_data"
    },
    {
     "data": {
      "text/plain": [
       "0.7319072166085243"
      ]
     },
     "metadata": {},
     "output_type": "display_data"
    },
    {
     "data": {
      "text/plain": [
       "0.011387907023583763"
      ]
     },
     "metadata": {},
     "output_type": "display_data"
    }
   ],
   "source": [
    "display(\"Min, Max, Mean, Std of validation accuracy are: \", \n",
    "      np.min(history2.history['val_accuracy']), \n",
    "      np.max(history2.history['val_accuracy']), \n",
    "      np.mean(history2.history['val_accuracy']),\n",
    "      np.std(history2.history['val_accuracy']))"
   ]
  },
  {
   "cell_type": "markdown",
   "metadata": {},
   "source": [
    "### 2 hidden layers with more nodes"
   ]
  },
  {
   "cell_type": "code",
   "execution_count": 26,
   "metadata": {},
   "outputs": [],
   "source": [
    "# add more nodes\n",
    "import keras\n",
    "from keras.models import Sequential\n",
    "from keras.layers import Dense\n",
    "model = Sequential()\n",
    "model.add(Dense(12, input_dim=100, activation='relu'))\n",
    "model.add(Dense(8, activation='relu'))\n",
    "model.add(Dense(3, activation='softmax'))\n",
    "model.compile(loss='categorical_crossentropy', optimizer='adam', metrics=['accuracy'])"
   ]
  },
  {
   "cell_type": "code",
   "execution_count": 27,
   "metadata": {},
   "outputs": [
    {
     "name": "stdout",
     "output_type": "stream",
     "text": [
      "Model: \"sequential_3\"\n",
      "_________________________________________________________________\n",
      "Layer (type)                 Output Shape              Param #   \n",
      "=================================================================\n",
      "dense_8 (Dense)              (None, 12)                1212      \n",
      "_________________________________________________________________\n",
      "dense_9 (Dense)              (None, 8)                 104       \n",
      "_________________________________________________________________\n",
      "dense_10 (Dense)             (None, 3)                 27        \n",
      "=================================================================\n",
      "Total params: 1,343\n",
      "Trainable params: 1,343\n",
      "Non-trainable params: 0\n",
      "_________________________________________________________________\n"
     ]
    }
   ],
   "source": [
    "model.summary()"
   ]
  },
  {
   "cell_type": "code",
   "execution_count": 28,
   "metadata": {},
   "outputs": [],
   "source": [
    "history3 = model.fit(X, y, epochs=1000, validation_split=0.2, batch_size=100, verbose=0)"
   ]
  },
  {
   "cell_type": "code",
   "execution_count": 29,
   "metadata": {},
   "outputs": [
    {
     "name": "stdout",
     "output_type": "stream",
     "text": [
      "Validation accuracy:  0.7366838455200195\n",
      "Training accuracy:  0.7452749\n"
     ]
    }
   ],
   "source": [
    "print(\"Validation accuracy: \",history3.history['val_accuracy'][999])\n",
    "print(\"Training accuracy: \",history3.history['accuracy'][999])"
   ]
  },
  {
   "cell_type": "code",
   "execution_count": 30,
   "metadata": {},
   "outputs": [
    {
     "data": {
      "image/png": "[encoded data removed]",
      "text/plain": [
       "<Figure size 432x288 with 1 Axes>"
      ]
     },
     "metadata": {
      "needs_background": "light"
     },
     "output_type": "display_data"
    },
    {
     "data": {
      "image/png": "[encoded data removed]",
      "text/plain": [
       "<Figure size 432x288 with 1 Axes>"
      ]
     },
     "metadata": {
      "needs_background": "light"
     },
     "output_type": "display_data"
    }
   ],
   "source": [
    "# summarize history for accuracy\n",
    "plt.plot(history3.history['accuracy'])\n",
    "plt.plot(history3.history['val_accuracy'])\n",
    "plt.title('model accuracy')\n",
    "plt.ylabel('accuracy')\n",
    "plt.xlabel('epoch')\n",
    "plt.legend(['train', 'test'], loc='upper left')\n",
    "plt.show()\n",
    "# summarize history for loss\n",
    "plt.plot(history3.history['loss'])\n",
    "plt.plot(history3.history['val_loss'])\n",
    "plt.title('model loss')\n",
    "plt.ylabel('loss')\n",
    "plt.xlabel('epoch')\n",
    "plt.legend(['train', 'test'], loc='upper left')\n",
    "plt.show()"
   ]
  },
  {
   "cell_type": "code",
   "execution_count": 45,
   "metadata": {},
   "outputs": [
    {
     "data": {
      "text/plain": [
       "'Min, Max, Mean, Std of validation accuracy are: '"
      ]
     },
     "metadata": {},
     "output_type": "display_data"
    },
    {
     "data": {
      "text/plain": [
       "0.649055004119873"
      ]
     },
     "metadata": {},
     "output_type": "display_data"
    },
    {
     "data": {
      "text/plain": [
       "0.7482817769050598"
      ]
     },
     "metadata": {},
     "output_type": "display_data"
    },
    {
     "data": {
      "text/plain": [
       "0.7286589344739914"
      ]
     },
     "metadata": {},
     "output_type": "display_data"
    },
    {
     "data": {
      "text/plain": [
       "0.010900085652868593"
      ]
     },
     "metadata": {},
     "output_type": "display_data"
    }
   ],
   "source": [
    "display(\"Min, Max, Mean, Std of validation accuracy are: \", \n",
    "      np.min(history3.history['val_accuracy']), \n",
    "      np.max(history3.history['val_accuracy']), \n",
    "      np.mean(history3.history['val_accuracy']),\n",
    "      np.std(history3.history['val_accuracy']))"
   ]
  },
  {
   "cell_type": "code",
   "execution_count": null,
   "metadata": {},
   "outputs": [],
   "source": []
  }
 ],
 "metadata": {
  "kernelspec": {
   "display_name": "Python 3",
   "language": "python",
   "name": "python3"
  },
  "language_info": {
   "codemirror_mode": {
    "name": "ipython",
    "version": 3
   },
   "file_extension": ".py",
   "mimetype": "text/x-python",
   "name": "python",
   "nbconvert_exporter": "python",
   "pygments_lexer": "ipython3",
   "version": "3.7.3"
  }
 },
 "nbformat": 4,
 "nbformat_minor": 2
}
