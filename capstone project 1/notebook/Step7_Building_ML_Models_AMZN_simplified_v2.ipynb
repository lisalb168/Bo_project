{
 "cells": [
  {
   "cell_type": "markdown",
   "metadata": {},
   "source": [
    "# Table of Contents\n",
    "\n",
    "* [Import and downsampling data](#Import-and-downsampling-data)\n",
    "* [Modeling](#Modeling)\n",
    "    * [1. Random Forest](#1.-Random-Forest)\n",
    "    * [2. XGboost](#2.-XGboost )\n",
    "    * [3. LightGBM](#3.-LightGBM)\n",
    "    * [4. Logistic Regression with regularizations](#4.-Logistic-Regression-with-regularizations)\n",
    "    * [5. KNN](#5.-KNN)      \n",
    "    * [6. SVM](#6.-SVM)\n",
    "* [Conclusion](#Conclusion)"
   ]
  },
  {
   "cell_type": "markdown",
   "metadata": {},
   "source": [
    "## Import and downsampling data"
   ]
  },
  {
   "cell_type": "code",
   "execution_count": 1,
   "metadata": {},
   "outputs": [],
   "source": [
    "import sys\n",
    "\n",
    "if not sys.warnoptions:\n",
    "    import warnings\n",
    "    warnings.simplefilter(\"ignore\")\n",
    "    \n",
    "import warnings\n",
    "warnings.filterwarnings(\"ignore\")"
   ]
  },
  {
   "cell_type": "code",
   "execution_count": 2,
   "metadata": {},
   "outputs": [],
   "source": [
    "#import sys\n",
    "#!conda install --yes --prefix {sys.prefix} -c conda-forge lightgbm\n",
    "#!pip install xgboost\n",
    "import pandas as pd\n",
    "import numpy as np\n",
    "from numpy.random import seed\n",
    "import matplotlib.pyplot as plt\n",
    "%matplotlib inline  \n",
    "import statistics\n",
    "from scipy import stats\n",
    "from scipy.stats import t\n",
    "from scipy.stats import norm\n",
    "import seaborn as sns\n",
    "import sklearn\n",
    "import sqlite3\n",
    "from sqlite3 import Error\n",
    "import csv\n",
    "import lightgbm\n",
    "\n",
    "from sklearn.ensemble import RandomForestClassifier\n",
    "from sklearn.linear_model import LogisticRegression\n",
    "from sklearn.neighbors import KNeighborsClassifier\n",
    "from sklearn import svm\n",
    "from sklearn.svm import LinearSVC\n",
    "from xgboost.sklearn import XGBClassifier\n",
    "from lightgbm import LGBMClassifier\n",
    "\n",
    "from sklearn.model_selection import cross_val_score\n",
    "from sklearn.model_selection import GridSearchCV\n",
    "from sklearn.model_selection import RandomizedSearchCV\n",
    "\n",
    "from sklearn.preprocessing import MinMaxScaler\n",
    "from sklearn.preprocessing import PowerTransformer\n",
    "\n",
    "from sklearn.metrics import classification_report\n",
    "from sklearn.metrics import roc_auc_score\n",
    "from sklearn.metrics import average_precision_score\n",
    "from sklearn.metrics import roc_curve, auc\n",
    "from sklearn.metrics import precision_recall_curve\n",
    "#from sklearn.metrics import plot_precision_recall_curve"
   ]
  },
  {
   "cell_type": "markdown",
   "metadata": {},
   "source": [
    "Use the code below to create a balanced training dataset to be used by all ML models that we build shortly. Test sets are still imbalanced."
   ]
  },
  {
   "cell_type": "code",
   "execution_count": 3,
   "metadata": {},
   "outputs": [],
   "source": [
    "from sklearn.model_selection import train_test_split\n",
    "\n",
    "data_all = pd.read_csv('sm_data.csv')\n",
    "X = data_all.iloc[:,1:]\n",
    "y = data_all['TARGET']\n",
    "\n",
    "# train test split using test_size = 0.2 \n",
    "X_train, X_test, y_train, y_test= train_test_split(X, y, test_size=0.2, random_state=123)\n",
    "\n",
    "X_train_0 = X_train.loc[y_train == 0,:].copy().sample(frac = 0.09)\n",
    "X_train_1 = X_train.loc[y_train == 1,:].copy()\n",
    "\n",
    "X_train_0['target'] = 0\n",
    "X_train_1['target'] = 1\n",
    "\n",
    "# use frac = 1 to randomize the rows\n",
    "X_train_new = X_train_0.append(X_train_1).sample(frac = 1)\n",
    "\n",
    "X_train_new_x = X_train_new.drop(columns='target')\n",
    "y_train_new = X_train_new['target']"
   ]
  },
  {
   "cell_type": "markdown",
   "metadata": {},
   "source": [
    "## Modeling"
   ]
  },
  {
   "cell_type": "markdown",
   "metadata": {},
   "source": [
    "The first 3 models we build are tree based. Since tree based models are robust regardless of the skewed distributions of the features, we do not need to scale the features. Later on when we train other classification models that are more sensitive to the scale of features, such as logistic regression, KNN and SVM, we first transform some of the features before fitting the models."
   ]
  },
  {
   "cell_type": "markdown",
   "metadata": {},
   "source": [
    "## 1. Random Forest"
   ]
  },
  {
   "cell_type": "code",
   "execution_count": 4,
   "metadata": {},
   "outputs": [
    {
     "name": "stdout",
     "output_type": "stream",
     "text": [
      "Best number of trees and depth are:  300 18\n",
      "completed in 58.68000000000001 s\n"
     ]
    }
   ],
   "source": [
    "import time\n",
    "start = time.clock()\n",
    "\n",
    "Kfold, niter, verbose, random_state = [5, 5, 0, 123] \n",
    "param_space = {'n_estimators': range(100,500,100), 'max_depth': range(1,20)}\n",
    "\n",
    "clf = RandomForestClassifier(random_state=random_state)\n",
    "cv_clf = RandomizedSearchCV(clf, param_space, cv=Kfold, n_iter=niter, verbose=verbose, n_jobs=-1) \n",
    "cv_clf.fit(X_train_new_x, y_train_new)\n",
    "\n",
    "best_n = cv_clf.best_params_['n_estimators']\n",
    "best_d = cv_clf.best_params_['max_depth']\n",
    "print(\"Best number of trees and depth are: \", best_n, best_d)\n",
    "\n",
    "print('completed in {} s'.format(time.clock() - start))\n",
    "\n",
    "# write out results\n",
    "rlt_dict = {}\n",
    "rlt_dict['best_n'] = [best_n]\n",
    "rlt_dict['best_d'] = [best_d]\n",
    "\n",
    "rlt_df = pd.DataFrame.from_dict(rlt_dict)\n",
    "rlt_df.to_csv('randomforest_cv_rlt.csv')"
   ]
  },
  {
   "cell_type": "code",
   "execution_count": 5,
   "metadata": {},
   "outputs": [
    {
     "name": "stdout",
     "output_type": "stream",
     "text": [
      "Confusion Matrix is: \n",
      " [[40022 16511]\n",
      " [ 1612  3356]]\n",
      "Classification Report: \n",
      "               precision    recall  f1-score   support\n",
      "\n",
      "           0       0.96      0.71      0.82     56533\n",
      "           1       0.17      0.68      0.27      4968\n",
      "\n",
      "   micro avg       0.71      0.71      0.71     61501\n",
      "   macro avg       0.57      0.69      0.54     61501\n",
      "weighted avg       0.90      0.71      0.77     61501\n",
      "\n",
      "accuracy: 0.705322\n",
      "AUC:  0.7548815167678986\n"
     ]
    }
   ],
   "source": [
    "preds = cv_clf.predict(X_test)\n",
    "confusion_matrix = sklearn.metrics.confusion_matrix(y_test, preds, labels=None, sample_weight=None)\n",
    "report = classification_report(y_test, preds)\n",
    "probs = cv_clf.predict_proba(X_test)\n",
    "auc = roc_auc_score(y_test, probs[:,1])\n",
    "accuracy = float(np.sum(preds==y_test))/y_test.shape[0] \n",
    "\n",
    "print(\"Confusion Matrix is: \\n\", confusion_matrix)\n",
    "print(\"Classification Report: \\n\", report)\n",
    "print(\"accuracy: %f\" % (accuracy))\n",
    "print(\"AUC: \", auc)"
   ]
  },
  {
   "cell_type": "code",
   "execution_count": 6,
   "metadata": {},
   "outputs": [
    {
     "data": {
      "image/png": "[encoded data removed]",
      "text/plain": [
       "<Figure size 432x288 with 1 Axes>"
      ]
     },
     "metadata": {},
     "output_type": "display_data"
    }
   ],
   "source": [
    "# plot ROC curve\n",
    "y_score = probs[:,1]\n",
    "fpr, tpr, thresholds = roc_curve(y_test, y_score)\n",
    "\n",
    "plt.figure()\n",
    "lw = 2\n",
    "plt.plot(fpr, tpr, color='darkorange', lw=lw, label='ROC curve (area = %0.2f)' % auc)\n",
    "plt.plot([0, 1], [0, 1], color='navy', lw=lw, linestyle='--')\n",
    "plt.xlim([0.0, 1.0])\n",
    "plt.ylim([0.0, 1.05])\n",
    "plt.xlabel('False Positive Rate')\n",
    "plt.ylabel('True Positive Rate')\n",
    "plt.title('Receiver Operating Characteristic')\n",
    "plt.legend(loc=\"lower right\")\n",
    "plt.show()"
   ]
  },
  {
   "cell_type": "markdown",
   "metadata": {},
   "source": [
    "## 2. XGboost "
   ]
  },
  {
   "cell_type": "code",
   "execution_count": 7,
   "metadata": {},
   "outputs": [],
   "source": [
    "import sys\n",
    "\n",
    "if not sys.warnoptions:\n",
    "    import warnings\n",
    "    warnings.simplefilter(\"ignore\")\n",
    "    \n",
    "import warnings\n",
    "warnings.filterwarnings(\"ignore\")"
   ]
  },
  {
   "cell_type": "code",
   "execution_count": 8,
   "metadata": {},
   "outputs": [
    {
     "name": "stdout",
     "output_type": "stream",
     "text": [
      "Best number of trees, learning rate, depth and gamma are:  300 0.1 3 0.01\n",
      "completed in 96.67 s\n"
     ]
    }
   ],
   "source": [
    "import time\n",
    "start = time.clock()\n",
    "\n",
    "Kfold, niter, verbose, random_state = [5, 5, 0, 123] \n",
    "param_space = {'n_estimators': range(100,500,100), 'learning_rate': [0.01,0.1,0.5], \n",
    "               'max_depth': range(1,20), 'gamma': [0.001,0.01,1,10]}\n",
    "               \n",
    "clf = XGBClassifier(objective='binary:logistic', verbosity=verbose, booster='gbtree', tree_method='auto', \n",
    "                            subsample=1, colsample_bytree=1, colsample_bylevel=1, colsample_bynode=1, \n",
    "                            reg_alpha=0, reg_lambda=1, scale_pos_weight=1, base_score=0.5, random_state=random_state)\n",
    "cv_clf = RandomizedSearchCV(clf, param_space, cv=Kfold, n_iter=niter, verbose=verbose, n_jobs=-1)\n",
    "cv_clf.fit(X_train_new_x, y_train_new)\n",
    "\n",
    "best_n = cv_clf.best_params_['n_estimators']\n",
    "best_lr = cv_clf.best_params_['learning_rate']\n",
    "best_d = cv_clf.best_params_['max_depth']\n",
    "best_gamma = cv_clf.best_params_['gamma']\n",
    "print(\"Best number of trees, learning rate, depth and gamma are: \", best_n, best_lr, best_d, best_gamma)\n",
    "\n",
    "print('completed in {} s'.format(time.clock() - start))\n",
    "\n",
    "# write out results\n",
    "rlt_dict = {}\n",
    "rlt_dict['best_n'] = [best_n]\n",
    "rlt_dict['best_lr'] = [best_lr]\n",
    "rlt_dict['best_d'] = [best_d]\n",
    "rlt_dict['best_gamma'] = [best_gamma]\n",
    "\n",
    "rlt_df = pd.DataFrame.from_dict(rlt_dict)\n",
    "rlt_df.to_csv('xgboost_cv_rlt.csv')"
   ]
  },
  {
   "cell_type": "code",
   "execution_count": 9,
   "metadata": {},
   "outputs": [
    {
     "name": "stdout",
     "output_type": "stream",
     "text": [
      "Confusion Matrix is: \n",
      " [[40378 16155]\n",
      " [ 1524  3444]]\n",
      "Classification Report: \n",
      "               precision    recall  f1-score   support\n",
      "\n",
      "           0       0.96      0.71      0.82     56533\n",
      "           1       0.18      0.69      0.28      4968\n",
      "\n",
      "   micro avg       0.71      0.71      0.71     61501\n",
      "   macro avg       0.57      0.70      0.55     61501\n",
      "weighted avg       0.90      0.71      0.78     61501\n",
      "\n",
      "accuracy: 0.712541\n",
      "AUC:  0.7747674800858052\n"
     ]
    }
   ],
   "source": [
    "preds = cv_clf.predict(X_test)\n",
    "confusion_matrix = sklearn.metrics.confusion_matrix(y_test, preds, labels=None, sample_weight=None)\n",
    "report = classification_report(y_test, preds)\n",
    "probs = cv_clf.predict_proba(X_test)\n",
    "auc = roc_auc_score(y_test, probs[:,1])\n",
    "accuracy = float(np.sum(preds==y_test))/y_test.shape[0] \n",
    "\n",
    "print(\"Confusion Matrix is: \\n\", confusion_matrix)\n",
    "print(\"Classification Report: \\n\", report)\n",
    "print(\"accuracy: %f\" % (accuracy))\n",
    "print(\"AUC: \", auc)"
   ]
  },
  {
   "cell_type": "code",
   "execution_count": 10,
   "metadata": {},
   "outputs": [
    {
     "data": {
      "image/png": "[encoded data removed]",
      "text/plain": [
       "<Figure size 432x288 with 1 Axes>"
      ]
     },
     "metadata": {},
     "output_type": "display_data"
    }
   ],
   "source": [
    "# plot ROC curve\n",
    "y_score = probs[:,1]\n",
    "fpr, tpr, thresholds = roc_curve(y_test, y_score)\n",
    "\n",
    "plt.figure()\n",
    "lw = 2\n",
    "plt.plot(fpr, tpr, color='darkorange', lw=lw, label='ROC curve (area = %0.2f)' % auc)\n",
    "plt.plot([0, 1], [0, 1], color='navy', lw=lw, linestyle='--')\n",
    "plt.xlim([0.0, 1.0])\n",
    "plt.ylim([0.0, 1.05])\n",
    "plt.xlabel('False Positive Rate')\n",
    "plt.ylabel('True Positive Rate')\n",
    "plt.title('Receiver Operating Characteristic')\n",
    "plt.legend(loc=\"lower right\")\n",
    "plt.show()"
   ]
  },
  {
   "cell_type": "markdown",
   "metadata": {},
   "source": [
    "## 3. LightGBM"
   ]
  },
  {
   "cell_type": "code",
   "execution_count": 4,
   "metadata": {},
   "outputs": [
    {
     "name": "stdout",
     "output_type": "stream",
     "text": [
      "Best number of trees, learning rate, depth are:  200 0.1 19\n",
      "completed in 20.459999999999997 s\n"
     ]
    }
   ],
   "source": [
    "import time\n",
    "start = time.clock()\n",
    "\n",
    "Kfold, niter, verbose, random_state = [5, 5, 0, 123] \n",
    "param_space = {'n_estimators': range(100,500,100), 'learning_rate': [0.01,0.1,0.5], \n",
    "               'max_depth': range(1,20)}\n",
    "\n",
    "clf = LGBMClassifier(colsample_bytree=1, subsample=1, reg_alpha=0, reg_lambda=1, verbose=verbose)\n",
    "cv_clf = RandomizedSearchCV(clf, param_space, cv=Kfold, n_iter=niter, verbose=verbose, n_jobs = -1)  \n",
    "cv_clf.fit(X_train_new_x, y_train_new)\n",
    "        \n",
    "best_n = cv_clf.best_params_['n_estimators']\n",
    "best_lr = cv_clf.best_params_['learning_rate'] \n",
    "best_d = cv_clf.best_params_['max_depth']\n",
    "print(\"Best number of trees, learning rate, depth are: \", best_n, best_lr, best_d)\n",
    "\n",
    "print('completed in {} s'.format(time.clock() - start))\n",
    "\n",
    "# write out results\n",
    "rlt_dict = {}\n",
    "rlt_dict['best_n'] = [best_n]\n",
    "rlt_dict['best_lr'] = [best_lr]\n",
    "rlt_dict['best_d'] = [best_d]\n",
    "\n",
    "rlt_df = pd.DataFrame.from_dict(rlt_dict)\n",
    "rlt_df.to_csv('lightgbm_cv_rlt.csv')"
   ]
  },
  {
   "cell_type": "code",
   "execution_count": 5,
   "metadata": {},
   "outputs": [
    {
     "name": "stdout",
     "output_type": "stream",
     "text": [
      "Confusion Matrix is: \n",
      " [[40114 16419]\n",
      " [ 1515  3453]]\n",
      "Classification Report: \n",
      "               precision    recall  f1-score   support\n",
      "\n",
      "           0       0.96      0.71      0.82     56533\n",
      "           1       0.17      0.70      0.28      4968\n",
      "\n",
      "   micro avg       0.71      0.71      0.71     61501\n",
      "   macro avg       0.57      0.70      0.55     61501\n",
      "weighted avg       0.90      0.71      0.77     61501\n",
      "\n",
      "accuracy: 0.708395\n",
      "AUC:  0.7740336412463465\n"
     ]
    }
   ],
   "source": [
    "preds = cv_clf.predict(X_test)\n",
    "confusion_matrix = sklearn.metrics.confusion_matrix(y_test, preds, labels=None, sample_weight=None)\n",
    "report = classification_report(y_test, preds)\n",
    "probs = cv_clf.predict_proba(X_test)\n",
    "auc = roc_auc_score(y_test, probs[:,1])\n",
    "accuracy = float(np.sum(preds==y_test))/y_test.shape[0] \n",
    "\n",
    "print(\"Confusion Matrix is: \\n\", confusion_matrix)\n",
    "print(\"Classification Report: \\n\", report)\n",
    "print(\"accuracy: %f\" % (accuracy))\n",
    "print(\"AUC: \", auc)"
   ]
  },
  {
   "cell_type": "code",
   "execution_count": 6,
   "metadata": {},
   "outputs": [
    {
     "data": {
      "image/png": "[encoded data removed]",
      "text/plain": [
       "<Figure size 432x288 with 1 Axes>"
      ]
     },
     "metadata": {},
     "output_type": "display_data"
    }
   ],
   "source": [
    "# plot ROC curve\n",
    "y_score = probs[:,1]\n",
    "fpr, tpr, thresholds = roc_curve(y_test, y_score)\n",
    "\n",
    "plt.figure()\n",
    "lw = 2\n",
    "plt.plot(fpr, tpr, color='darkorange', lw=lw, label='ROC curve (area = %0.2f)' % auc)\n",
    "plt.plot([0, 1], [0, 1], color='navy', lw=lw, linestyle='--')\n",
    "plt.xlim([0.0, 1.0])\n",
    "plt.ylim([0.0, 1.05])\n",
    "plt.xlabel('False Positive Rate')\n",
    "plt.ylabel('True Positive Rate')\n",
    "plt.title('Receiver Operating Characteristic')\n",
    "plt.legend(loc=\"lower right\")\n",
    "plt.show()"
   ]
  },
  {
   "cell_type": "markdown",
   "metadata": {},
   "source": [
    "## 4. Logistic Regression with regularizations"
   ]
  },
  {
   "cell_type": "code",
   "execution_count": 7,
   "metadata": {},
   "outputs": [],
   "source": [
    "import sys\n",
    "\n",
    "if not sys.warnoptions:\n",
    "    import warnings\n",
    "    warnings.simplefilter(\"ignore\")\n",
    "    \n",
    "import warnings\n",
    "warnings.filterwarnings(\"ignore\")"
   ]
  },
  {
   "cell_type": "code",
   "execution_count": 8,
   "metadata": {},
   "outputs": [
    {
     "name": "stdout",
     "output_type": "stream",
     "text": [
      "Best C and penalty are:  10 l1\n",
      "completed in 418.29 s\n"
     ]
    }
   ],
   "source": [
    "import time\n",
    "start = time.clock()\n",
    "\n",
    "Kfold, niter, verbose, random_state = [5, 5, 0, 123] \n",
    "param_space = {'penalty': ['l1','l2'], 'C': [0.0001, 0.0005, 0.001, 0.005, 0.01, 0.1, 1, 10, 100]}\n",
    "        \n",
    "clf = LogisticRegression(random_state=random_state)\n",
    "cv_clf = RandomizedSearchCV(clf, param_space, cv=Kfold, n_iter=niter, verbose=verbose, n_jobs = -1) \n",
    "cv_clf.fit(X_train_new_x, y_train_new)\n",
    "        \n",
    "best_c = cv_clf.best_params_['C']\n",
    "best_penalty = cv_clf.best_params_['penalty']\n",
    "print(\"Best C and penalty are: \", best_c, best_penalty)\n",
    "\n",
    "print('completed in {} s'.format(time.clock() - start))\n",
    "\n",
    "# write out results\n",
    "rlt_dict = {}\n",
    "rlt_dict['best_c'] = [best_c]\n",
    "rlt_dict['best_penalty'] = [best_penalty]\n",
    "\n",
    "rlt_df = pd.DataFrame.from_dict(rlt_dict)\n",
    "rlt_df.to_csv('logistic_cv_rlt.csv')"
   ]
  },
  {
   "cell_type": "code",
   "execution_count": 9,
   "metadata": {},
   "outputs": [
    {
     "name": "stdout",
     "output_type": "stream",
     "text": [
      "Confusion Matrix is: \n",
      " [[39675 16858]\n",
      " [ 1553  3415]]\n",
      "Classification Report: \n",
      "               precision    recall  f1-score   support\n",
      "\n",
      "           0       0.96      0.70      0.81     56533\n",
      "           1       0.17      0.69      0.27      4968\n",
      "\n",
      "   micro avg       0.70      0.70      0.70     61501\n",
      "   macro avg       0.57      0.69      0.54     61501\n",
      "weighted avg       0.90      0.70      0.77     61501\n",
      "\n",
      "accuracy: 0.700639\n",
      "AUC:  0.76184991477339\n"
     ]
    }
   ],
   "source": [
    "preds = cv_clf.predict(X_test)\n",
    "confusion_matrix = sklearn.metrics.confusion_matrix(y_test, preds, labels=None, sample_weight=None)\n",
    "report = classification_report(y_test, preds)\n",
    "probs = cv_clf.predict_proba(X_test)\n",
    "auc = roc_auc_score(y_test, probs[:,1])\n",
    "accuracy = float(np.sum(preds==y_test))/y_test.shape[0] \n",
    "\n",
    "print(\"Confusion Matrix is: \\n\", confusion_matrix)\n",
    "print(\"Classification Report: \\n\", report)\n",
    "print(\"accuracy: %f\" % (accuracy))\n",
    "print(\"AUC: \", auc)"
   ]
  },
  {
   "cell_type": "code",
   "execution_count": 10,
   "metadata": {},
   "outputs": [
    {
     "data": {
      "image/png": "[encoded data removed]",
      "text/plain": [
       "<Figure size 432x288 with 1 Axes>"
      ]
     },
     "metadata": {},
     "output_type": "display_data"
    }
   ],
   "source": [
    "# plot ROC curve\n",
    "y_score = probs[:,1]\n",
    "fpr, tpr, thresholds = roc_curve(y_test, y_score)\n",
    "\n",
    "plt.figure()\n",
    "lw = 2\n",
    "plt.plot(fpr, tpr, color='darkorange', lw=lw, label='ROC curve (area = %0.2f)' % auc)\n",
    "plt.plot([0, 1], [0, 1], color='navy', lw=lw, linestyle='--')\n",
    "plt.xlim([0.0, 1.0])\n",
    "plt.ylim([0.0, 1.05])\n",
    "plt.xlabel('False Positive Rate')\n",
    "plt.ylabel('True Positive Rate')\n",
    "plt.title('Receiver Operating Characteristic')\n",
    "plt.legend(loc=\"lower right\")\n",
    "plt.show()"
   ]
  },
  {
   "cell_type": "markdown",
   "metadata": {},
   "source": [
    "## 5. KNN"
   ]
  },
  {
   "cell_type": "code",
   "execution_count": 11,
   "metadata": {},
   "outputs": [
    {
     "name": "stdout",
     "output_type": "stream",
     "text": [
      "Best number of neighbors is:  19\n",
      "completed in 3.0399999999999636 s\n"
     ]
    }
   ],
   "source": [
    "import time\n",
    "start = time.clock()\n",
    "\n",
    "Kfold, niter, verbose, random_state = [5, 5, 0, 123] \n",
    "param_space = {'n_neighbors': range(1,20)}\n",
    "\n",
    "clf = KNeighborsClassifier()\n",
    "cv_clf = RandomizedSearchCV(clf, param_space, cv=Kfold, n_iter=niter, verbose=verbose, n_jobs = -1)\n",
    "cv_clf.fit(X_train_new_x, y_train_new)\n",
    "best_k = cv_clf.best_params_['n_neighbors']\n",
    "print(\"Best number of neighbors is: \", best_k)\n",
    "\n",
    "print('completed in {} s'.format(time.clock() - start))\n",
    "\n",
    "# write out results\n",
    "rlt_dict = {}\n",
    "rlt_dict['best_k'] = [best_k]\n",
    "\n",
    "rlt_df = pd.DataFrame.from_dict(rlt_dict)\n",
    "rlt_df.to_csv('knn_cv_rlt.csv')"
   ]
  },
  {
   "cell_type": "code",
   "execution_count": 12,
   "metadata": {},
   "outputs": [
    {
     "name": "stdout",
     "output_type": "stream",
     "text": [
      "Confusion Matrix is: \n",
      " [[32527 24006]\n",
      " [ 2203  2765]]\n",
      "Classification Report: \n",
      "               precision    recall  f1-score   support\n",
      "\n",
      "           0       0.94      0.58      0.71     56533\n",
      "           1       0.10      0.56      0.17      4968\n",
      "\n",
      "   micro avg       0.57      0.57      0.57     61501\n",
      "   macro avg       0.52      0.57      0.44     61501\n",
      "weighted avg       0.87      0.57      0.67     61501\n",
      "\n",
      "accuracy: 0.573844\n",
      "AUC:  0.5861651640885336\n"
     ]
    }
   ],
   "source": [
    "preds = cv_clf.predict(X_test)\n",
    "confusion_matrix = sklearn.metrics.confusion_matrix(y_test, preds, labels=None, sample_weight=None)\n",
    "report = classification_report(y_test, preds)\n",
    "probs = cv_clf.predict_proba(X_test)\n",
    "auc = roc_auc_score(y_test, probs[:,1])\n",
    "accuracy = float(np.sum(preds==y_test))/y_test.shape[0] \n",
    "\n",
    "print(\"Confusion Matrix is: \\n\", confusion_matrix)\n",
    "print(\"Classification Report: \\n\", report)\n",
    "print(\"accuracy: %f\" % (accuracy))\n",
    "print(\"AUC: \", auc)"
   ]
  },
  {
   "cell_type": "code",
   "execution_count": 13,
   "metadata": {},
   "outputs": [
    {
     "data": {
      "image/png": "[encoded data removed]",
      "text/plain": [
       "<Figure size 432x288 with 1 Axes>"
      ]
     },
     "metadata": {},
     "output_type": "display_data"
    }
   ],
   "source": [
    "# plot ROC curve\n",
    "y_score = probs[:,1]\n",
    "fpr, tpr, thresholds = roc_curve(y_test, y_score)\n",
    "\n",
    "plt.figure()\n",
    "lw = 2\n",
    "plt.plot(fpr, tpr, color='darkorange', lw=lw, label='ROC curve (area = %0.2f)' % auc)\n",
    "plt.plot([0, 1], [0, 1], color='navy', lw=lw, linestyle='--')\n",
    "plt.xlim([0.0, 1.0])\n",
    "plt.ylim([0.0, 1.05])\n",
    "plt.xlabel('False Positive Rate')\n",
    "plt.ylabel('True Positive Rate')\n",
    "plt.title('Receiver Operating Characteristic')\n",
    "plt.legend(loc=\"lower right\")\n",
    "plt.show()"
   ]
  },
  {
   "cell_type": "markdown",
   "metadata": {},
   "source": [
    "## 6. SVM"
   ]
  },
  {
   "cell_type": "code",
   "execution_count": 4,
   "metadata": {},
   "outputs": [],
   "source": [
    "import sys\n",
    "\n",
    "if not sys.warnoptions:\n",
    "    import warnings\n",
    "    warnings.simplefilter(\"ignore\")\n",
    "    \n",
    "import warnings\n",
    "warnings.filterwarnings(\"ignore\")"
   ]
  },
  {
   "cell_type": "code",
   "execution_count": 5,
   "metadata": {},
   "outputs": [],
   "source": [
    "scaling = MinMaxScaler(feature_range=(-1,1)).fit(X_train_new_x)\n",
    "X_train_new = scaling.transform(X_train_new_x)\n",
    "X_test_new = scaling.transform(X_test)\n",
    "X_train_new = pd.DataFrame(X_train_new)\n",
    "X_train_new.columns = X_train_new_x.columns"
   ]
  },
  {
   "cell_type": "code",
   "execution_count": 6,
   "metadata": {},
   "outputs": [
    {
     "name": "stdout",
     "output_type": "stream",
     "text": [
      "Best C, kernel and gamma are:  71 rbf 0.0001\n",
      "completed in 704.76 s\n"
     ]
    }
   ],
   "source": [
    "import time\n",
    "start = time.clock()\n",
    "\n",
    "#param_space = {'C': [10], 'kernel': ['rbf'], 'gamma': [0.001]}\n",
    "Kfold, niter, verbose, random_state = [2, 3, 0, 123] \n",
    "param_space = {'C': range(1,101), 'kernel': ['linear','rbf','poly'], 'gamma': [0.001, 0.0001]}\n",
    "\n",
    "clf = svm.SVC(random_state=random_state)\n",
    "cv_clf = RandomizedSearchCV(clf, param_space, cv=Kfold, n_iter=niter, verbose=verbose, n_jobs = -1) \n",
    "cv_clf.fit(X_train_new.values, y_train_new.values)\n",
    "\n",
    "best_c = cv_clf.best_params_['C']\n",
    "best_kernel = cv_clf.best_params_['kernel']  \n",
    "best_gamma = cv_clf.best_params_['gamma']\n",
    "print(\"Best C, kernel and gamma are: \", best_c, best_kernel, best_gamma) \n",
    "\n",
    "print('completed in {} s'.format(time.clock() - start))\n",
    "\n",
    "# write out results\n",
    "rlt_dict = {}\n",
    "rlt_dict['best_c'] = [best_c]# bracket is necessary as each key will be treated as col name\n",
    "rlt_dict['best_kernel'] = [best_kernel]\n",
    "rlt_dict['best_gamma'] = [best_gamma]\n",
    "\n",
    "rlt_df = pd.DataFrame.from_dict(rlt_dict)\n",
    "rlt_df.to_csv('kernelsvm_cv_rlt.csv')"
   ]
  },
  {
   "cell_type": "code",
   "execution_count": 7,
   "metadata": {},
   "outputs": [
    {
     "name": "stdout",
     "output_type": "stream",
     "text": [
      "Confusion Matrix is: \n",
      " [[39563 16970]\n",
      " [ 1566  3402]]\n",
      "Classification Report: \n",
      "               precision    recall  f1-score   support\n",
      "\n",
      "           0       0.96      0.70      0.81     56533\n",
      "           1       0.17      0.68      0.27      4968\n",
      "\n",
      "   micro avg       0.70      0.70      0.70     61501\n",
      "   macro avg       0.56      0.69      0.54     61501\n",
      "weighted avg       0.90      0.70      0.77     61501\n",
      "\n",
      "accuracy: 0.698607\n",
      "AUC:  0.757809651342113\n",
      "completed in 2296.17 s\n"
     ]
    }
   ],
   "source": [
    "import time\n",
    "start = time.clock()\n",
    "\n",
    "preds = cv_clf.predict(X_test_new)\n",
    "confusion_matrix = sklearn.metrics.confusion_matrix(y_test, preds, labels=None, sample_weight=None)\n",
    "report = classification_report(y_test, preds)\n",
    "\n",
    "# cv_clf does not have predict_proba attribute in SVM\n",
    "# fit the model with the best parameters and use the decision_function attribute of the model to calculate auc\n",
    "clf = svm.SVC(C = best_c, kernel = best_kernel, gamma = best_gamma, random_state = random_state)\n",
    "clf.fit(X_train_new.values, y_train_new.values)\n",
    "\n",
    "probs = clf.decision_function(X_test_new)\n",
    "auc = roc_auc_score(y_test, probs)\n",
    "accuracy = float(np.sum(preds==y_test))/y_test.shape[0]\n",
    "\n",
    "print(\"Confusion Matrix is: \\n\", confusion_matrix)\n",
    "print(\"Classification Report: \\n\", report)\n",
    "print(\"accuracy: %f\" % (accuracy))\n",
    "print(\"AUC: \", auc)\n",
    "\n",
    "print('completed in {} s'.format(time.clock() - start))"
   ]
  },
  {
   "cell_type": "code",
   "execution_count": 8,
   "metadata": {},
   "outputs": [
    {
     "data": {
      "image/png": "[encoded data removed]",
      "text/plain": [
       "<Figure size 432x288 with 1 Axes>"
      ]
     },
     "metadata": {},
     "output_type": "display_data"
    }
   ],
   "source": [
    "# plot ROC curve\n",
    "y_score = probs\n",
    "fpr, tpr, thresholds = roc_curve(y_test, y_score)\n",
    "\n",
    "plt.figure()\n",
    "lw = 2\n",
    "plt.plot(fpr, tpr, color='darkorange', lw=lw, label='ROC curve (area = %0.2f)' % auc)\n",
    "plt.plot([0, 1], [0, 1], color='navy', lw=lw, linestyle='--')\n",
    "plt.xlim([0.0, 1.0])\n",
    "plt.ylim([0.0, 1.05])\n",
    "plt.xlabel('False Positive Rate')\n",
    "plt.ylabel('True Positive Rate')\n",
    "plt.title('Receiver Operating Characteristic')\n",
    "plt.legend(loc=\"lower right\")\n",
    "plt.show()"
   ]
  },
  {
   "cell_type": "markdown",
   "metadata": {},
   "source": [
    "## Conclusion"
   ]
  },
  {
   "cell_type": "markdown",
   "metadata": {},
   "source": [
    "Table below summarizes the performance metrics for each of the models we built. Using AUC as criteria, the best model is XGboost. "
   ]
  },
  {
   "cell_type": "code",
   "execution_count": 9,
   "metadata": {},
   "outputs": [
    {
     "data": {
      "text/html": [
       "<div>\n",
       "<style scoped>\n",
       "    .dataframe tbody tr th:only-of-type {\n",
       "        vertical-align: middle;\n",
       "    }\n",
       "\n",
       "    .dataframe tbody tr th {\n",
       "        vertical-align: top;\n",
       "    }\n",
       "\n",
       "    .dataframe thead th {\n",
       "        text-align: right;\n",
       "    }\n",
       "</style>\n",
       "<table border=\"1\" class=\"dataframe\">\n",
       "  <thead>\n",
       "    <tr style=\"text-align: right;\">\n",
       "      <th></th>\n",
       "      <th>RandomForest</th>\n",
       "      <th>XGboost</th>\n",
       "      <th>LightGBM</th>\n",
       "      <th>Logistic</th>\n",
       "      <th>KNN</th>\n",
       "      <th>SVM</th>\n",
       "    </tr>\n",
       "  </thead>\n",
       "  <tbody>\n",
       "    <tr>\n",
       "      <th>AUC</th>\n",
       "      <td>0.7549</td>\n",
       "      <td>0.7748</td>\n",
       "      <td>0.7740</td>\n",
       "      <td>0.7618</td>\n",
       "      <td>0.5862</td>\n",
       "      <td>0.7578</td>\n",
       "    </tr>\n",
       "    <tr>\n",
       "      <th>Accuracy</th>\n",
       "      <td>0.7053</td>\n",
       "      <td>0.7125</td>\n",
       "      <td>0.7084</td>\n",
       "      <td>0.7006</td>\n",
       "      <td>0.5738</td>\n",
       "      <td>0.6986</td>\n",
       "    </tr>\n",
       "    <tr>\n",
       "      <th>F1-0</th>\n",
       "      <td>0.8200</td>\n",
       "      <td>0.8200</td>\n",
       "      <td>0.8200</td>\n",
       "      <td>0.8100</td>\n",
       "      <td>0.7100</td>\n",
       "      <td>0.8100</td>\n",
       "    </tr>\n",
       "    <tr>\n",
       "      <th>F1-1</th>\n",
       "      <td>0.2700</td>\n",
       "      <td>0.2800</td>\n",
       "      <td>0.2800</td>\n",
       "      <td>0.2700</td>\n",
       "      <td>0.1700</td>\n",
       "      <td>0.2700</td>\n",
       "    </tr>\n",
       "  </tbody>\n",
       "</table>\n",
       "</div>"
      ],
      "text/plain": [
       "          RandomForest  XGboost  LightGBM  Logistic     KNN     SVM\n",
       "AUC             0.7549   0.7748    0.7740    0.7618  0.5862  0.7578\n",
       "Accuracy        0.7053   0.7125    0.7084    0.7006  0.5738  0.6986\n",
       "F1-0            0.8200   0.8200    0.8200    0.8100  0.7100  0.8100\n",
       "F1-1            0.2700   0.2800    0.2800    0.2700  0.1700  0.2700"
      ]
     },
     "metadata": {},
     "output_type": "display_data"
    }
   ],
   "source": [
    "model_summary = {'RandomForest': {'Accuracy': 0.7053, 'AUC': 0.7549, 'F1-0': 0.82, 'F1-1': 0.27}, \n",
    "                 'XGboost': {'Accuracy': 0.7125, 'AUC': 0.7748, 'F1-0': 0.82, 'F1-1': 0.28},\n",
    "                 'LightGBM': {'Accuracy': 0.7084, 'AUC': 0.7740, 'F1-0': 0.82, 'F1-1': 0.28},\n",
    "                 'Logistic': {'Accuracy': 0.7006, 'AUC': 0.7618, 'F1-0': 0.81, 'F1-1': 0.27},\n",
    "                 'KNN': {'Accuracy': 0.5738, 'AUC': 0.5862, 'F1-0': 0.71, 'F1-1': 0.17},\n",
    "                 'SVM': {'Accuracy': 0.6986, 'AUC': 0.7578, 'F1-0': 0.81, 'F1-1': 0.27}\n",
    "                }\n",
    "model_summary = pd.DataFrame(model_summary)\n",
    "display(model_summary)"
   ]
  },
  {
   "cell_type": "markdown",
   "metadata": {},
   "source": [
    "Plot the top 10 features selected by XGboost."
   ]
  },
  {
   "cell_type": "code",
   "execution_count": 20,
   "metadata": {},
   "outputs": [
    {
     "data": {
      "text/plain": [
       "XGBClassifier(base_score=0.5, booster='gbtree', colsample_bylevel=1,\n",
       "       colsample_bynode=1, colsample_bytree=1, gamma=0.01,\n",
       "       learning_rate=0.1, max_delta_step=0, max_depth=3,\n",
       "       min_child_weight=1, missing=None, n_estimators=300, n_jobs=1,\n",
       "       nthread=None, objective='binary:logistic', random_state=123,\n",
       "       reg_alpha=0, reg_lambda=1, scale_pos_weight=1, seed=None,\n",
       "       silent=None, subsample=1, tree_method='auto', verbosity=1)"
      ]
     },
     "execution_count": 20,
     "metadata": {},
     "output_type": "execute_result"
    }
   ],
   "source": [
    "best = pd.read_csv('xgboost_cv_rlt.csv')\n",
    "best_n = best.best_n.values[0]\n",
    "best_lr = best.best_lr.values[0]\n",
    "best_d = best.best_d.values[0]\n",
    "best_gamma = best.best_gamma.values[0]\n",
    "\n",
    "clf = XGBClassifier(n_estimators = best_n, learning_rate = best_lr, max_depth = best_d, \n",
    "                            gamma = best_gamma, objective='binary:logistic', booster='gbtree', tree_method='auto', \n",
    "                            subsample=1, colsample_bytree=1, colsample_bylevel=1, colsample_bynode=1, \n",
    "                            reg_alpha=0, reg_lambda=1, scale_pos_weight=1, base_score=0.5, \n",
    "                            random_state = 123)\n",
    "clf.fit(X_train_new_x, y_train_new)"
   ]
  },
  {
   "cell_type": "code",
   "execution_count": 21,
   "metadata": {},
   "outputs": [
    {
     "data": {
      "image/png": "[encoded data removed]",
      "text/plain": [
       "<Figure size 432x288 with 1 Axes>"
      ]
     },
     "metadata": {
      "needs_background": "light"
     },
     "output_type": "display_data"
    }
   ],
   "source": [
    "M = 10\n",
    "importances = clf.feature_importances_\n",
    "indices = np.argsort(importances)\n",
    "features = X_train_new_x.columns\n",
    "\n",
    "plt.title('Feature Importances')\n",
    "plt.barh(range(M), importances[indices][-M:], color='b', align='center')\n",
    "plt.yticks(range(M), [features[i] for i in indices[-M:]])\n",
    "plt.xlabel('Relative Importance')\n",
    "plt.show()"
   ]
  },
  {
   "cell_type": "code",
   "execution_count": null,
   "metadata": {},
   "outputs": [],
   "source": []
  }
 ],
 "metadata": {
  "kernelspec": {
   "display_name": "Python 3",
   "language": "python",
   "name": "python3"
  },
  "language_info": {
   "codemirror_mode": {
    "name": "ipython",
    "version": 3
   },
   "file_extension": ".py",
   "mimetype": "text/x-python",
   "name": "python",
   "nbconvert_exporter": "python",
   "pygments_lexer": "ipython3",
   "version": "3.7.3"
  }
 },
 "nbformat": 4,
 "nbformat_minor": 2
}
